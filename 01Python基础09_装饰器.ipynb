{
 "cells": [
  {
   "cell_type": "markdown",
   "id": "7fd044d1",
   "metadata": {},
   "source": [
    "# 01Python基础09——装饰器"
   ]
  },
  {
   "cell_type": "markdown",
   "id": "75d6ffd6",
   "metadata": {},
   "source": [
    "## 09.01 装饰器概述"
   ]
  },
  {
   "cell_type": "code",
   "execution_count": null,
   "id": "380a9bbb",
   "metadata": {},
   "outputs": [],
   "source": [
    "## 装饰器：对已有的函数进行功能修改的函数。\n",
    "    ## 装饰器是输入为函数，输出为函数的函数\n",
    "    ## 对原函数的功能优化，进行重新包装\n",
    "    ## 单个或多个装饰器应用在同一个函数上"
   ]
  },
  {
   "cell_type": "markdown",
   "id": "bdb2a51e",
   "metadata": {},
   "source": [
    "## 09.02 装饰器实现"
   ]
  },
  {
   "cell_type": "code",
   "execution_count": null,
   "id": "f122db8c",
   "metadata": {},
   "outputs": [],
   "source": [
    "## 01 定义换函数"
   ]
  },
  {
   "cell_type": "code",
   "execution_count": null,
   "id": "659862de",
   "metadata": {},
   "outputs": [],
   "source": [
    "def frame():\n",
    "    print('公路车车架')"
   ]
  },
  {
   "cell_type": "code",
   "execution_count": null,
   "id": "b0b75f29",
   "metadata": {},
   "outputs": [],
   "source": [
    "frame()"
   ]
  },
  {
   "cell_type": "code",
   "execution_count": null,
   "id": "409ed5a7",
   "metadata": {},
   "outputs": [],
   "source": [
    "## 闭包函数  在嵌套函数中，内函数因为外函数的非本地变量，外函数的返回是内函数\n",
    "def bike(descript):\n",
    "    def frame():\n",
    "        print(descript)\n",
    "    return frame"
   ]
  },
  {
   "cell_type": "code",
   "execution_count": null,
   "id": "6b794844",
   "metadata": {},
   "outputs": [],
   "source": [
    "mybike1=bike('公路车车架')"
   ]
  },
  {
   "cell_type": "code",
   "execution_count": null,
   "id": "fd204f96",
   "metadata": {},
   "outputs": [],
   "source": [
    "print(mybike1())"
   ]
  },
  {
   "cell_type": "code",
   "execution_count": null,
   "id": "608983bf",
   "metadata": {},
   "outputs": [],
   "source": [
    "## 在外函数上使用decorator()来替换\n",
    "## 在内函数上用wrapper()来替换"
   ]
  },
  {
   "cell_type": "code",
   "execution_count": null,
   "id": "247529cb",
   "metadata": {},
   "outputs": [],
   "source": [
    "# 02 准装饰器的定义\n",
    "def decorator(descript):\n",
    "    def wrapper():\n",
    "        print(descript)\n",
    "    return wrapper"
   ]
  },
  {
   "cell_type": "code",
   "execution_count": null,
   "id": "84ac390a",
   "metadata": {},
   "outputs": [],
   "source": [
    "## 完整的装饰器的参数是函数:装饰器是一个高阶函数，输入和输出均为函数"
   ]
  },
  {
   "cell_type": "code",
   "execution_count": null,
   "id": "ca15949e",
   "metadata": {},
   "outputs": [],
   "source": [
    "def decorator(func):\n",
    "    def wrapper():\n",
    "        return func()\n",
    "    return wrapper"
   ]
  },
  {
   "cell_type": "code",
   "execution_count": null,
   "id": "557270bb",
   "metadata": {},
   "outputs": [],
   "source": [
    "frame()"
   ]
  },
  {
   "cell_type": "code",
   "execution_count": null,
   "id": "48a0376c",
   "metadata": {},
   "outputs": [],
   "source": [
    "# 03 定义简单的装饰器\n",
    "def decorator(func):\n",
    "    def wrapper():\n",
    "        print(f\"光有车架是不完整的！'{func.__name__}'\")\n",
    "        func()\n",
    "        print('光有车架是不完整的！')\n",
    "    return wrapper"
   ]
  },
  {
   "cell_type": "code",
   "execution_count": null,
   "id": "d030d631",
   "metadata": {},
   "outputs": [],
   "source": [
    "debike=decorator(frame)"
   ]
  },
  {
   "cell_type": "code",
   "execution_count": null,
   "id": "876f2688",
   "metadata": {},
   "outputs": [],
   "source": [
    "debike()"
   ]
  },
  {
   "cell_type": "code",
   "execution_count": null,
   "id": "2fc20f8a",
   "metadata": {},
   "outputs": [],
   "source": [
    "def wheel(func):\n",
    "    def wrapper():\n",
    "        print('⭕前轮')\n",
    "        func()\n",
    "        print('后轮⭕')\n",
    "    return wrapper"
   ]
  },
  {
   "cell_type": "code",
   "execution_count": null,
   "id": "98c64069",
   "metadata": {},
   "outputs": [],
   "source": [
    "def bike(func):\n",
    "    def wrapper():\n",
    "        print('车把')\n",
    "        func()\n",
    "        print('脚撑')\n",
    "    return wrapper"
   ]
  },
  {
   "cell_type": "code",
   "execution_count": null,
   "id": "c084b387",
   "metadata": {},
   "outputs": [],
   "source": [
    "# 04 装饰器的调用\n",
    "mybike=bike(wheel(frame))"
   ]
  },
  {
   "cell_type": "code",
   "execution_count": null,
   "id": "5f09d7a0",
   "metadata": {},
   "outputs": [],
   "source": [
    "mybike()"
   ]
  },
  {
   "cell_type": "code",
   "execution_count": null,
   "id": "1b081802",
   "metadata": {},
   "outputs": [],
   "source": [
    "mybike"
   ]
  },
  {
   "cell_type": "code",
   "execution_count": null,
   "id": "38c79807",
   "metadata": {},
   "outputs": [],
   "source": [
    "def mtframe():\n",
    "    print('山地车车架')"
   ]
  },
  {
   "cell_type": "code",
   "execution_count": null,
   "id": "997409c5",
   "metadata": {},
   "outputs": [],
   "source": [
    "@bike\n",
    "@wheel\n",
    "def mtframe():\n",
    "    print('山地车车架')"
   ]
  },
  {
   "cell_type": "code",
   "execution_count": null,
   "id": "44c79be3",
   "metadata": {},
   "outputs": [],
   "source": [
    "mtframe()"
   ]
  },
  {
   "cell_type": "code",
   "execution_count": null,
   "id": "5d9241dc",
   "metadata": {},
   "outputs": [],
   "source": [
    "mybike2=wheel(bike(mtframe))"
   ]
  },
  {
   "cell_type": "code",
   "execution_count": null,
   "id": "ec29874e",
   "metadata": {},
   "outputs": [],
   "source": [
    "mybike2()"
   ]
  },
  {
   "cell_type": "code",
   "execution_count": null,
   "id": "8937a83c",
   "metadata": {},
   "outputs": [],
   "source": [
    "# 05 多个装饰器\n",
    "data='Fuzhou University will offer 130 thousand Chinese Yuan (before tax) as the yearly salary for full-time postdoctoral researchers of science, and 110 thousands Chinese Yuan (before tax) for full-time postdoctoral researchers of management.'"
   ]
  },
  {
   "cell_type": "code",
   "execution_count": null,
   "id": "380135b0",
   "metadata": {},
   "outputs": [],
   "source": [
    "# 将所有英文字符都转换为小写\n",
    "def mylower(func):\n",
    "    def wrapper():\n",
    "        return func().lower()\n",
    "    return wrapper"
   ]
  },
  {
   "cell_type": "code",
   "execution_count": null,
   "id": "d494d5a4",
   "metadata": {},
   "outputs": [],
   "source": [
    "# 将所有英文字符基于空格下的分割\n",
    "def mysplit(func):  # 装饰器\n",
    "    def wrapper():  # 装饰函数\n",
    "        return func().split()\n",
    "    return wrapper"
   ]
  },
  {
   "cell_type": "code",
   "execution_count": null,
   "id": "12cc5984",
   "metadata": {},
   "outputs": [],
   "source": [
    "# 基础函数定义\n",
    "def mydescript():\n",
    "    return data"
   ]
  },
  {
   "cell_type": "code",
   "execution_count": null,
   "id": "99615194",
   "metadata": {},
   "outputs": [],
   "source": [
    "mydescript()"
   ]
  },
  {
   "cell_type": "code",
   "execution_count": null,
   "id": "aa3032b3",
   "metadata": {},
   "outputs": [],
   "source": [
    "newdescript=mylower(mysplit(mydescript()))"
   ]
  },
  {
   "cell_type": "code",
   "execution_count": null,
   "id": "741e6644",
   "metadata": {},
   "outputs": [],
   "source": [
    "newdescript()"
   ]
  },
  {
   "cell_type": "code",
   "execution_count": null,
   "id": "637a59b6",
   "metadata": {},
   "outputs": [],
   "source": [
    "mylower(mydescript())"
   ]
  },
  {
   "cell_type": "code",
   "execution_count": null,
   "id": "57fb0228",
   "metadata": {},
   "outputs": [],
   "source": [
    "mylowerout()"
   ]
  },
  {
   "cell_type": "code",
   "execution_count": null,
   "id": "f3c429c4",
   "metadata": {},
   "outputs": [],
   "source": [
    "mysplitout=mysplit(mydescript())"
   ]
  },
  {
   "cell_type": "code",
   "execution_count": null,
   "id": "4f6b6848",
   "metadata": {},
   "outputs": [],
   "source": [
    "mysplitout()"
   ]
  },
  {
   "cell_type": "code",
   "execution_count": null,
   "id": "f5b4ae93",
   "metadata": {},
   "outputs": [],
   "source": [
    "data.lower().split()"
   ]
  },
  {
   "cell_type": "code",
   "execution_count": null,
   "id": "c7fd22a9",
   "metadata": {},
   "outputs": [],
   "source": [
    "@mysplit\n",
    "@mylower\n",
    "\n",
    "def mydescript():\n",
    "    return 'Fuzhou University will offer 130 thousand Chinese Yuan (before tax) as the yearly salary for full-time postdoctoral researchers of science, and 110 thousands Chinese Yuan (before tax) for full-time postdoctoral researchers of management.'"
   ]
  },
  {
   "cell_type": "code",
   "execution_count": null,
   "id": "0c73532b",
   "metadata": {},
   "outputs": [],
   "source": [
    "data"
   ]
  },
  {
   "cell_type": "code",
   "execution_count": null,
   "id": "d019450a",
   "metadata": {},
   "outputs": [],
   "source": [
    "mydescript()"
   ]
  },
  {
   "cell_type": "code",
   "execution_count": null,
   "id": "00994d39",
   "metadata": {},
   "outputs": [],
   "source": [
    "data.split()"
   ]
  },
  {
   "cell_type": "code",
   "execution_count": 69,
   "id": "62afbe1d",
   "metadata": {},
   "outputs": [],
   "source": [
    "# 06 装饰函数接收参数  *args  **kwargs  *.args位置参数会打包成为元组  **kwargs关键字参数会被打包成为字典，在进行func原函数调用时，会重新被打散"
   ]
  },
  {
   "cell_type": "code",
   "execution_count": 83,
   "id": "b83238c3",
   "metadata": {},
   "outputs": [],
   "source": [
    "def decorator(func):\n",
    "    def wrapper(x,y):\n",
    "        print(f\"光有车架是不完整的！'{func.__name__}'\")\n",
    "        func(x,y)\n",
    "        print('光有车架是不完整的！')\n",
    "    return wrapper"
   ]
  },
  {
   "cell_type": "code",
   "execution_count": 72,
   "id": "ed2c950b",
   "metadata": {},
   "outputs": [],
   "source": [
    "@decorator\n",
    "def frame():\n",
    "    print('车架')"
   ]
  },
  {
   "cell_type": "code",
   "execution_count": 73,
   "id": "eb6f4e79",
   "metadata": {},
   "outputs": [
    {
     "name": "stdout",
     "output_type": "stream",
     "text": [
      "光有车架是不完整的！'frame'\n",
      "车架\n",
      "光有车架是不完整的！\n"
     ]
    }
   ],
   "source": [
    "frame()"
   ]
  },
  {
   "cell_type": "code",
   "execution_count": 79,
   "id": "a3a11998",
   "metadata": {},
   "outputs": [],
   "source": [
    "@decorator\n",
    "def frame(x):\n",
    "    print(x+'车架')"
   ]
  },
  {
   "cell_type": "code",
   "execution_count": 80,
   "id": "75f5b0b7",
   "metadata": {},
   "outputs": [
    {
     "name": "stdout",
     "output_type": "stream",
     "text": [
      "光有车架是不完整的！'frame'\n",
      "公路车车架\n",
      "光有车架是不完整的！\n"
     ]
    }
   ],
   "source": [
    "frame('公路车')"
   ]
  },
  {
   "cell_type": "code",
   "execution_count": 87,
   "id": "a7fcf99b",
   "metadata": {},
   "outputs": [],
   "source": [
    "@decorator\n",
    "def frame(x,y):\n",
    "    print(f'{x}车架、{y}坐垫')"
   ]
  },
  {
   "cell_type": "code",
   "execution_count": 88,
   "id": "8456dfc3",
   "metadata": {},
   "outputs": [
    {
     "name": "stdout",
     "output_type": "stream",
     "text": [
      "光有车架是不完整的！'frame'\n",
      "山地车车架、美利达坐垫\n",
      "光有车架是不完整的！\n"
     ]
    }
   ],
   "source": [
    "frame('山地车','美利达')"
   ]
  },
  {
   "cell_type": "code",
   "execution_count": 89,
   "id": "c6900391",
   "metadata": {},
   "outputs": [],
   "source": [
    "def decorator(func):\n",
    "    def wrapper(*args,**kwargs):\n",
    "        print(f\"光有车架是不完整的！'{func.__name__}'\")\n",
    "        func(*args,**kwargs)\n",
    "        print('光有车架是不完整的！')\n",
    "    return wrapper"
   ]
  },
  {
   "cell_type": "code",
   "execution_count": 90,
   "id": "8dd2e279",
   "metadata": {},
   "outputs": [],
   "source": [
    "@decorator\n",
    "def frame(x,y,z):\n",
    "    print(f'{x}车架、{y}坐垫、{z}驼包')"
   ]
  },
  {
   "cell_type": "code",
   "execution_count": 91,
   "id": "0f721a28",
   "metadata": {},
   "outputs": [
    {
     "name": "stdout",
     "output_type": "stream",
     "text": [
      "光有车架是不完整的！'frame'\n",
      "山地车车架、美利达坐垫、topeak驼包\n",
      "光有车架是不完整的！\n"
     ]
    }
   ],
   "source": [
    "frame('山地车','美利达','topeak')"
   ]
  },
  {
   "cell_type": "code",
   "execution_count": 92,
   "id": "01631d6c",
   "metadata": {},
   "outputs": [],
   "source": [
    "# 函数名称的返回"
   ]
  },
  {
   "cell_type": "code",
   "execution_count": 93,
   "id": "5939fc1e",
   "metadata": {},
   "outputs": [
    {
     "data": {
      "text/plain": [
       "'wrapper'"
      ]
     },
     "execution_count": 93,
     "metadata": {},
     "output_type": "execute_result"
    }
   ],
   "source": [
    "frame.__name__"
   ]
  },
  {
   "cell_type": "code",
   "execution_count": 98,
   "id": "6fa57add",
   "metadata": {},
   "outputs": [],
   "source": [
    "import functools\n",
    "def decorator(func):\n",
    "    @functools.wraps(func)\n",
    "    def wrapper(*args,**kwargs):\n",
    "        print(f\"光有车架是不完整的！'{func.__name__}'\")\n",
    "        func(*args,**kwargs)\n",
    "        print('光有车架是不完整的！')\n",
    "    return wrapper"
   ]
  },
  {
   "cell_type": "code",
   "execution_count": 99,
   "id": "bc2777fa",
   "metadata": {},
   "outputs": [
    {
     "name": "stdout",
     "output_type": "stream",
     "text": [
      "光有车架是不完整的！'frame'\n",
      "山地车车架、美利达坐垫、topeak驼包\n",
      "光有车架是不完整的！\n"
     ]
    }
   ],
   "source": [
    "@decorator\n",
    "def frame(x,y,z):\n",
    "    print(f'{x}车架、{y}坐垫、{z}驼包')\n",
    "frame('山地车','美利达','topeak')"
   ]
  },
  {
   "cell_type": "code",
   "execution_count": 100,
   "id": "d33a364e",
   "metadata": {},
   "outputs": [
    {
     "name": "stdout",
     "output_type": "stream",
     "text": [
      "frame\n"
     ]
    }
   ],
   "source": [
    "print(frame.__name__)"
   ]
  },
  {
   "cell_type": "code",
   "execution_count": null,
   "id": "b8bcf1b7",
   "metadata": {},
   "outputs": [],
   "source": [
    "# 07 装饰器接收参数\n",
    "import functools\n",
    "def decorator(func):\n",
    "    @functools.wraps(func)\n",
    "    def wrapper(*args,**kwargs):\n",
    "        print(f\"光有车架是不完整的！'{func.__name__}'\")\n",
    "        func(*args,**kwargs)\n",
    "        print('光有车架是不完整的！')\n",
    "    return wrapper"
   ]
  },
  {
   "cell_type": "code",
   "execution_count": 109,
   "id": "1077e2ae",
   "metadata": {},
   "outputs": [],
   "source": [
    "import functools\n",
    "def decorator(price):\n",
    "    def bikeprice(func):\n",
    "        @functools.wraps(func)\n",
    "        def wrapper(*args,**kwargs):\n",
    "            print(f\"光有车架是不完整的！'{func.__name__}'\")\n",
    "            return f'{func(*args,**kwargs)}、价格是{price}'\n",
    "            print('光有车架是不完整的！')\n",
    "        return wrapper\n",
    "    return bikeprice"
   ]
  },
  {
   "cell_type": "code",
   "execution_count": 110,
   "id": "8b77bc56",
   "metadata": {},
   "outputs": [
    {
     "name": "stdout",
     "output_type": "stream",
     "text": [
      "光有车架是不完整的！'frame'\n"
     ]
    },
    {
     "data": {
      "text/plain": [
       "'山地车车架、美利达坐垫、topeak驼包、价格是10000'"
      ]
     },
     "execution_count": 110,
     "metadata": {},
     "output_type": "execute_result"
    }
   ],
   "source": [
    "@decorator(10000)\n",
    "def frame(x,y,z):\n",
    "    return (f'{x}车架、{y}坐垫、{z}驼包')\n",
    "frame('山地车','美利达','topeak')"
   ]
  },
  {
   "cell_type": "markdown",
   "id": "1be975cc",
   "metadata": {},
   "source": [
    "## 09.03 装饰器应用实例"
   ]
  },
  {
   "cell_type": "code",
   "execution_count": 111,
   "id": "2b74f054",
   "metadata": {},
   "outputs": [],
   "source": [
    "## 计时"
   ]
  },
  {
   "cell_type": "code",
   "execution_count": 115,
   "id": "7da018ec",
   "metadata": {},
   "outputs": [
    {
     "name": "stdout",
     "output_type": "stream",
     "text": [
      "Wall time: 4.02 s\n"
     ]
    }
   ],
   "source": [
    "%%time\n",
    "for _ in range(1100):\n",
    "    sum([i**2 for i in range(10000)])"
   ]
  },
  {
   "cell_type": "code",
   "execution_count": 119,
   "id": "a841ecce",
   "metadata": {},
   "outputs": [],
   "source": [
    "import functools\n",
    "import time\n",
    "\n",
    "def mytimer(func):\n",
    "    @functools.wraps(func)\n",
    "    def wrapper(*args,**kwargs):\n",
    "        start_time=time.time()\n",
    "        value=func(*args,**kwargs)\n",
    "        run_time=time.time()-start_time\n",
    "        print(f'所耗费的时间是{run_time}秒')\n",
    "        return value\n",
    "    return wrapper"
   ]
  },
  {
   "cell_type": "code",
   "execution_count": 120,
   "id": "31117712",
   "metadata": {},
   "outputs": [],
   "source": [
    "@mytimer\n",
    "def myruntime(numtimes=1):\n",
    "    for _ in range(numtimes):\n",
    "        sum([i**2 for i in range(10000)])"
   ]
  },
  {
   "cell_type": "code",
   "execution_count": 121,
   "id": "6114978f",
   "metadata": {},
   "outputs": [
    {
     "name": "stdout",
     "output_type": "stream",
     "text": [
      "所耗费的时间是0.0019941329956054688秒\n"
     ]
    }
   ],
   "source": [
    "myruntime()"
   ]
  },
  {
   "cell_type": "code",
   "execution_count": 122,
   "id": "eecca9eb",
   "metadata": {},
   "outputs": [
    {
     "name": "stdout",
     "output_type": "stream",
     "text": [
      "所耗费的时间是2.159593343734741秒\n"
     ]
    }
   ],
   "source": [
    "myruntime(1000)"
   ]
  }
 ],
 "metadata": {
  "kernelspec": {
   "display_name": "Python 3 (ipykernel)",
   "language": "python",
   "name": "python3"
  },
  "language_info": {
   "codemirror_mode": {
    "name": "ipython",
    "version": 3
   },
   "file_extension": ".py",
   "mimetype": "text/x-python",
   "name": "python",
   "nbconvert_exporter": "python",
   "pygments_lexer": "ipython3",
   "version": "3.9.7"
  }
 },
 "nbformat": 4,
 "nbformat_minor": 5
}
