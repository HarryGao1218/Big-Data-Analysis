{
 "cells": [
  {
   "cell_type": "markdown",
   "id": "1f937ee4",
   "metadata": {},
   "source": [
    "# 01Python基础05——函数进阶"
   ]
  },
  {
   "cell_type": "markdown",
   "id": "8eae411a",
   "metadata": {},
   "source": [
    "## 01 函数式编程"
   ]
  },
  {
   "cell_type": "markdown",
   "id": "87336538",
   "metadata": {},
   "source": [
    "- functional programming 将计算机中的有机代码视为函数运算的编程范式。\n",
    "- 把函数赋值给变量\n",
    "- 把函数存储到容器中\n",
    "- 把函数传递给函数\n",
    "- 在函数里返回函数"
   ]
  },
  {
   "cell_type": "code",
   "execution_count": 2,
   "id": "826f7a90",
   "metadata": {},
   "outputs": [
    {
     "data": {
      "text/plain": [
       "'ABC'"
      ]
     },
     "execution_count": 2,
     "metadata": {},
     "output_type": "execute_result"
    }
   ],
   "source": [
    "'abc'.upper()"
   ]
  },
  {
   "cell_type": "code",
   "execution_count": 30,
   "id": "90e956ad",
   "metadata": {},
   "outputs": [],
   "source": [
    "##01.01 把函数赋值给变量\n",
    "def riding(text='riding bicycle!'):\n",
    "    return text.upper()+'!'"
   ]
  },
  {
   "cell_type": "code",
   "execution_count": 4,
   "id": "22b80dcd",
   "metadata": {},
   "outputs": [
    {
     "name": "stdout",
     "output_type": "stream",
     "text": [
      "<class 'function'>\n"
     ]
    }
   ],
   "source": [
    "ride=riding\n",
    "print(type(ride))"
   ]
  },
  {
   "cell_type": "code",
   "execution_count": 5,
   "id": "7c654bd2",
   "metadata": {},
   "outputs": [
    {
     "data": {
      "text/plain": [
       "'RIDING BICYCLE!!'"
      ]
     },
     "execution_count": 5,
     "metadata": {},
     "output_type": "execute_result"
    }
   ],
   "source": [
    "ride()"
   ]
  },
  {
   "cell_type": "code",
   "execution_count": 7,
   "id": "35f2fad6",
   "metadata": {},
   "outputs": [
    {
     "data": {
      "text/plain": [
       "'riding'"
      ]
     },
     "execution_count": 7,
     "metadata": {},
     "output_type": "execute_result"
    }
   ],
   "source": [
    "ride.__name__"
   ]
  },
  {
   "cell_type": "code",
   "execution_count": 8,
   "id": "a9da2605",
   "metadata": {},
   "outputs": [],
   "source": [
    "##01.02 将函数储存到容器中"
   ]
  },
  {
   "cell_type": "code",
   "execution_count": 9,
   "id": "85793d5b",
   "metadata": {},
   "outputs": [],
   "source": [
    "funclist=[riding,str.lower,str.capitalize,str.title]"
   ]
  },
  {
   "cell_type": "code",
   "execution_count": 11,
   "id": "23863dfc",
   "metadata": {},
   "outputs": [
    {
     "name": "stdout",
     "output_type": "stream",
     "text": [
      "<class 'list'>\n"
     ]
    }
   ],
   "source": [
    "print(type(funclist))"
   ]
  },
  {
   "cell_type": "code",
   "execution_count": 13,
   "id": "2bf23b47",
   "metadata": {},
   "outputs": [
    {
     "name": "stdout",
     "output_type": "stream",
     "text": [
      "RIDING OUTDOOR!!\n",
      "riding outdoor!\n",
      "Riding outdoor!\n",
      "Riding Outdoor!\n"
     ]
    }
   ],
   "source": [
    "for f in funclist:\n",
    "    print(f(\"Riding Outdoor!\"))"
   ]
  },
  {
   "cell_type": "code",
   "execution_count": 15,
   "id": "fdce49d6",
   "metadata": {},
   "outputs": [
    {
     "data": {
      "text/plain": [
       "'Outdoor!'"
      ]
     },
     "execution_count": 15,
     "metadata": {},
     "output_type": "execute_result"
    }
   ],
   "source": [
    "funclist[2](\"outdoor!\")"
   ]
  },
  {
   "cell_type": "code",
   "execution_count": 16,
   "id": "7657a5e3",
   "metadata": {},
   "outputs": [],
   "source": [
    "##01.03 把函数传递给函数"
   ]
  },
  {
   "cell_type": "code",
   "execution_count": 28,
   "id": "a211efae",
   "metadata": {},
   "outputs": [
    {
     "data": {
      "text/plain": [
       "'RIDING BICYCLE!!'"
      ]
     },
     "execution_count": 28,
     "metadata": {},
     "output_type": "execute_result"
    }
   ],
   "source": [
    "riding()"
   ]
  },
  {
   "cell_type": "code",
   "execution_count": 24,
   "id": "3005760a",
   "metadata": {},
   "outputs": [],
   "source": [
    "def pushing(text='pushing bycycle!'):\n",
    "    return text.upper()+':('"
   ]
  },
  {
   "cell_type": "code",
   "execution_count": 25,
   "id": "1e9eb8be",
   "metadata": {},
   "outputs": [
    {
     "data": {
      "text/plain": [
       "'PUSHING BYCYCLE!:('"
      ]
     },
     "execution_count": 25,
     "metadata": {},
     "output_type": "execute_result"
    }
   ],
   "source": [
    "pushing()"
   ]
  },
  {
   "cell_type": "code",
   "execution_count": 34,
   "id": "60c8ef91",
   "metadata": {},
   "outputs": [],
   "source": [
    "def outdoor(func):\n",
    "    lift=func(\"let's outdoor!\")\n",
    "    print(lift)"
   ]
  },
  {
   "cell_type": "code",
   "execution_count": 35,
   "id": "62d9ccc4",
   "metadata": {},
   "outputs": [
    {
     "name": "stdout",
     "output_type": "stream",
     "text": [
      "LET'S OUTDOOR!!\n"
     ]
    }
   ],
   "source": [
    "outdoor(riding)"
   ]
  },
  {
   "cell_type": "code",
   "execution_count": 36,
   "id": "8a539817",
   "metadata": {},
   "outputs": [
    {
     "name": "stdout",
     "output_type": "stream",
     "text": [
      "LET'S OUTDOOR!:(\n"
     ]
    }
   ],
   "source": [
    "outdoor(pushing)"
   ]
  },
  {
   "cell_type": "code",
   "execution_count": 37,
   "id": "3f5e8383",
   "metadata": {},
   "outputs": [],
   "source": [
    "## outdoor函数不变，其参数是另外的函数。outdoor()就成为高阶函数，其他被当作参数的函数就称为低阶函数"
   ]
  },
  {
   "cell_type": "code",
   "execution_count": 40,
   "id": "49572e54",
   "metadata": {},
   "outputs": [],
   "source": [
    "##01.04 在函数里返回函数\n",
    "def outdoor():\n",
    "    def riding(text='riding bicycle!'):\n",
    "        return text.upper()+':)'\n",
    "    return riding"
   ]
  },
  {
   "cell_type": "code",
   "execution_count": 41,
   "id": "2cc587bf",
   "metadata": {},
   "outputs": [
    {
     "data": {
      "text/plain": [
       "<function __main__.outdoor.<locals>.riding(text='riding bicycle!')>"
      ]
     },
     "execution_count": 41,
     "metadata": {},
     "output_type": "execute_result"
    }
   ],
   "source": [
    "outdoor()"
   ]
  },
  {
   "cell_type": "code",
   "execution_count": 42,
   "id": "7c14ec81",
   "metadata": {},
   "outputs": [],
   "source": [
    "myoutdoor=outdoor()"
   ]
  },
  {
   "cell_type": "code",
   "execution_count": 44,
   "id": "3d4f64a2",
   "metadata": {},
   "outputs": [
    {
     "data": {
      "text/plain": [
       "'RIDING BICYCLE!:)'"
      ]
     },
     "execution_count": 44,
     "metadata": {},
     "output_type": "execute_result"
    }
   ],
   "source": [
    "myoutdoor()"
   ]
  },
  {
   "cell_type": "code",
   "execution_count": 46,
   "id": "3f8fe83c",
   "metadata": {},
   "outputs": [
    {
     "data": {
      "text/plain": [
       "'PUSHING BICYCLE!:)'"
      ]
     },
     "execution_count": 46,
     "metadata": {},
     "output_type": "execute_result"
    }
   ],
   "source": [
    "myoutdoor(\"pushing bicycle!\")"
   ]
  },
  {
   "cell_type": "code",
   "execution_count": 47,
   "id": "edf3217a",
   "metadata": {},
   "outputs": [],
   "source": [
    "def riding(speed):\n",
    "    def flying(text='flying!'):\n",
    "        return text.upper()+'!:()'\n",
    "    \n",
    "    def crawling(text='crawling!'):\n",
    "        return text.lower()+':(...'\n",
    "    \n",
    "    if speed>40:\n",
    "        return flying\n",
    "    else:\n",
    "        return crawling"
   ]
  },
  {
   "cell_type": "code",
   "execution_count": 48,
   "id": "e96bc524",
   "metadata": {},
   "outputs": [
    {
     "data": {
      "text/plain": [
       "'crawling!:(...'"
      ]
     },
     "execution_count": 48,
     "metadata": {},
     "output_type": "execute_result"
    }
   ],
   "source": [
    "myriding=riding(11)\n",
    "myriding()"
   ]
  },
  {
   "cell_type": "code",
   "execution_count": 49,
   "id": "f3317a7a",
   "metadata": {},
   "outputs": [
    {
     "data": {
      "text/plain": [
       "'FLYING!!:()'"
      ]
     },
     "execution_count": 49,
     "metadata": {},
     "output_type": "execute_result"
    }
   ],
   "source": [
    "yourriding=riding(50)\n",
    "yourriding()"
   ]
  },
  {
   "cell_type": "code",
   "execution_count": 50,
   "id": "e7d3cab9",
   "metadata": {},
   "outputs": [
    {
     "data": {
      "text/plain": [
       "'crawling like a snail...:(...'"
      ]
     },
     "execution_count": 50,
     "metadata": {},
     "output_type": "execute_result"
    }
   ],
   "source": [
    "myriding=riding(11)\n",
    "myriding('crawling like a snail...')"
   ]
  },
  {
   "cell_type": "code",
   "execution_count": 51,
   "id": "03b05d1a",
   "metadata": {},
   "outputs": [
    {
     "data": {
      "text/plain": [
       "'FLYING LIKE A BIRD!!:()'"
      ]
     },
     "execution_count": 51,
     "metadata": {},
     "output_type": "execute_result"
    }
   ],
   "source": [
    "yourriding=riding(50)\n",
    "yourriding('flying like a bird!')"
   ]
  },
  {
   "cell_type": "code",
   "execution_count": 52,
   "id": "c1f5952c",
   "metadata": {},
   "outputs": [],
   "source": [
    "## 函数可以接受函数作为参数，而且能够返回函数\n",
    "## 内嵌函数能够继承高阶函数的状态。"
   ]
  },
  {
   "cell_type": "code",
   "execution_count": 54,
   "id": "93df331f",
   "metadata": {},
   "outputs": [],
   "source": [
    "def riding(speed,text):\n",
    "    def flying(text='flying!'):\n",
    "        return text.upper()+'!:()'\n",
    "    \n",
    "    def crawling(text='crawling!'):\n",
    "        return text.lower()+':(...'\n",
    "    \n",
    "    if speed>40:\n",
    "        return flying\n",
    "    else:\n",
    "        return crawling"
   ]
  },
  {
   "cell_type": "code",
   "execution_count": 57,
   "id": "fcd2f422",
   "metadata": {},
   "outputs": [
    {
     "data": {
      "text/plain": [
       "'FLYING!!:()'"
      ]
     },
     "execution_count": 57,
     "metadata": {},
     "output_type": "execute_result"
    }
   ],
   "source": [
    "riding(50,'flying like a brid')()"
   ]
  },
  {
   "cell_type": "code",
   "execution_count": 59,
   "id": "c32f3c67",
   "metadata": {},
   "outputs": [],
   "source": [
    "def riding(speed,text):\n",
    "    def flying():\n",
    "        return text.upper()+'!:()'\n",
    "    \n",
    "    def crawling():\n",
    "        return text.lower()+':(...'\n",
    "    \n",
    "    if speed>40:\n",
    "        return flying\n",
    "    else:\n",
    "        return crawling"
   ]
  },
  {
   "cell_type": "code",
   "execution_count": 60,
   "id": "44c16393",
   "metadata": {},
   "outputs": [
    {
     "data": {
      "text/plain": [
       "'FLYING LIKE A BRID!:()'"
      ]
     },
     "execution_count": 60,
     "metadata": {},
     "output_type": "execute_result"
    }
   ],
   "source": [
    "riding(50,'flying like a brid')()"
   ]
  },
  {
   "cell_type": "code",
   "execution_count": 67,
   "id": "76c99a87",
   "metadata": {},
   "outputs": [],
   "source": [
    "def riding(speed,text):\n",
    "    def flying():\n",
    "        return text[0:6]+'!:()'\n",
    "    \n",
    "    def crawling():\n",
    "        return text[-8:]+':(...'\n",
    "    \n",
    "    if speed>40:\n",
    "        return flying\n",
    "    else:\n",
    "        return crawling"
   ]
  },
  {
   "cell_type": "code",
   "execution_count": 70,
   "id": "5fa3f380",
   "metadata": {},
   "outputs": [
    {
     "data": {
      "text/plain": [
       "'crawling:(...'"
      ]
     },
     "execution_count": 70,
     "metadata": {},
     "output_type": "execute_result"
    }
   ],
   "source": [
    "riding(11,'flying or crawling')()"
   ]
  },
  {
   "cell_type": "code",
   "execution_count": 71,
   "id": "34ea917c",
   "metadata": {},
   "outputs": [],
   "source": [
    "def riding(speed,lstext):\n",
    "    def flying():\n",
    "        return lstext[0]+'!:()'\n",
    "    \n",
    "    def crawling():\n",
    "        return lstext[1]+':(...'\n",
    "    \n",
    "    if speed>40:\n",
    "        return flying\n",
    "    else:\n",
    "        return crawling"
   ]
  },
  {
   "cell_type": "code",
   "execution_count": 74,
   "id": "de3655d5",
   "metadata": {},
   "outputs": [
    {
     "data": {
      "text/plain": [
       "'crawling:(...'"
      ]
     },
     "execution_count": 74,
     "metadata": {},
     "output_type": "execute_result"
    }
   ],
   "source": [
    "riding(11,['flying','crawling'])()"
   ]
  },
  {
   "cell_type": "code",
   "execution_count": 76,
   "id": "19d22a4d",
   "metadata": {},
   "outputs": [
    {
     "data": {
      "text/plain": [
       "'crawling:(...'"
      ]
     },
     "execution_count": 76,
     "metadata": {},
     "output_type": "execute_result"
    }
   ],
   "source": [
    "riding(11,('flying','crawling'))()"
   ]
  },
  {
   "cell_type": "code",
   "execution_count": 77,
   "id": "795d1d67",
   "metadata": {},
   "outputs": [],
   "source": [
    "## 内嵌函数本身没有指定的参数，但是可以使用高阶函数所传入的参数，这种方法称为闭包。closure。"
   ]
  },
  {
   "cell_type": "markdown",
   "id": "572f77ad",
   "metadata": {},
   "source": [
    "## 02 高阶函数"
   ]
  },
  {
   "cell_type": "code",
   "execution_count": 78,
   "id": "dc070f48",
   "metadata": {},
   "outputs": [],
   "source": [
    "#高阶函数的两种形式\n",
    "    ##闭包：函数作为返回\n",
    "    ##函数作为参数，调用map、fliter、reduce、partial函数。"
   ]
  },
  {
   "cell_type": "code",
   "execution_count": 79,
   "id": "c812f7a6",
   "metadata": {},
   "outputs": [],
   "source": [
    "##02.01 闭包(函数作为返回)\n",
    "    ## 嵌套结构\n",
    "    ## 外函数内嵌着内函数\n",
    "    ## 内函数必须要引用非本地变量(即外函数的参数变量)\n",
    "    ## 外函数必须返回内函数"
   ]
  },
  {
   "cell_type": "code",
   "execution_count": 80,
   "id": "949972da",
   "metadata": {},
   "outputs": [],
   "source": [
    "def mycounter():\n",
    "    counter=0\n",
    "    counter+=1\n",
    "    return counter"
   ]
  },
  {
   "cell_type": "code",
   "execution_count": 81,
   "id": "7a16b3d6",
   "metadata": {},
   "outputs": [
    {
     "data": {
      "text/plain": [
       "1"
      ]
     },
     "execution_count": 81,
     "metadata": {},
     "output_type": "execute_result"
    }
   ],
   "source": [
    "mycounter()"
   ]
  },
  {
   "cell_type": "code",
   "execution_count": 87,
   "id": "179b77b2",
   "metadata": {},
   "outputs": [],
   "source": [
    "def mycounter(init):\n",
    "    counter=[init]\n",
    "    def addv1():counter[0]+=1\n",
    "    def removev1():counter[0]-=1\n",
    "    def get():return counter[0]\n",
    "    def reset():counter[0]=init\n",
    "    return addv1,removev1,get,reset"
   ]
  },
  {
   "cell_type": "code",
   "execution_count": 88,
   "id": "823f5804",
   "metadata": {},
   "outputs": [],
   "source": [
    "addv1,removev1,get,reset=mycounter(0)"
   ]
  },
  {
   "cell_type": "code",
   "execution_count": 91,
   "id": "2039eafd",
   "metadata": {},
   "outputs": [
    {
     "data": {
      "text/plain": [
       "0"
      ]
     },
     "execution_count": 91,
     "metadata": {},
     "output_type": "execute_result"
    }
   ],
   "source": [
    "addv1()\n",
    "removev1()\n",
    "get()\n",
    "# reset()"
   ]
  },
  {
   "cell_type": "code",
   "execution_count": 92,
   "id": "ac87870f",
   "metadata": {},
   "outputs": [],
   "source": [
    "addv1()\n",
    "addv1()\n",
    "addv1()"
   ]
  },
  {
   "cell_type": "code",
   "execution_count": 93,
   "id": "24f0bc1e",
   "metadata": {},
   "outputs": [
    {
     "data": {
      "text/plain": [
       "3"
      ]
     },
     "execution_count": 93,
     "metadata": {},
     "output_type": "execute_result"
    }
   ],
   "source": [
    "get()"
   ]
  },
  {
   "cell_type": "code",
   "execution_count": 94,
   "id": "5b68b589",
   "metadata": {},
   "outputs": [],
   "source": [
    "removev1()"
   ]
  },
  {
   "cell_type": "code",
   "execution_count": 95,
   "id": "6ad6ae84",
   "metadata": {},
   "outputs": [
    {
     "data": {
      "text/plain": [
       "2"
      ]
     },
     "execution_count": 95,
     "metadata": {},
     "output_type": "execute_result"
    }
   ],
   "source": [
    "get()"
   ]
  },
  {
   "cell_type": "code",
   "execution_count": 96,
   "id": "de0979f8",
   "metadata": {},
   "outputs": [],
   "source": [
    "#累加函数\n",
    "def mysum(*args):\n",
    "    sum=0\n",
    "    for i in args:\n",
    "        sum=sum+i\n",
    "    return sum"
   ]
  },
  {
   "cell_type": "code",
   "execution_count": 97,
   "id": "7d008e61",
   "metadata": {},
   "outputs": [
    {
     "data": {
      "text/plain": [
       "6"
      ]
     },
     "execution_count": 97,
     "metadata": {},
     "output_type": "execute_result"
    }
   ],
   "source": [
    "mysum(1,2,3)"
   ]
  },
  {
   "cell_type": "code",
   "execution_count": 124,
   "id": "b08eccd5",
   "metadata": {},
   "outputs": [],
   "source": [
    "def yoursum(*args):\n",
    "    def mysum():\n",
    "        sum=0\n",
    "        for i in args:\n",
    "            sum=sum+i\n",
    "        return sum\n",
    "    return mysum"
   ]
  },
  {
   "cell_type": "code",
   "execution_count": 110,
   "id": "acb63103",
   "metadata": {},
   "outputs": [
    {
     "data": {
      "text/plain": [
       "<function __main__.yoursum.<locals>.mysum()>"
      ]
     },
     "execution_count": 110,
     "metadata": {},
     "output_type": "execute_result"
    }
   ],
   "source": [
    "sum1=yoursum(1,2,3,4)\n",
    "sum1"
   ]
  },
  {
   "cell_type": "code",
   "execution_count": 111,
   "id": "bdba79f7",
   "metadata": {},
   "outputs": [
    {
     "data": {
      "text/plain": [
       "4"
      ]
     },
     "execution_count": 111,
     "metadata": {},
     "output_type": "execute_result"
    }
   ],
   "source": [
    "sum1()"
   ]
  },
  {
   "cell_type": "code",
   "execution_count": 112,
   "id": "36690fd9",
   "metadata": {},
   "outputs": [
    {
     "data": {
      "text/plain": [
       "10"
      ]
     },
     "execution_count": 112,
     "metadata": {},
     "output_type": "execute_result"
    }
   ],
   "source": [
    "mysum(1,2,3,4)"
   ]
  },
  {
   "cell_type": "code",
   "execution_count": 114,
   "id": "00cc9e2b",
   "metadata": {},
   "outputs": [
    {
     "data": {
      "text/plain": [
       "<function __main__.yoursum.<locals>.mysum()>"
      ]
     },
     "execution_count": 114,
     "metadata": {},
     "output_type": "execute_result"
    }
   ],
   "source": [
    "yoursum(1,2,3,4)"
   ]
  },
  {
   "cell_type": "code",
   "execution_count": 126,
   "id": "eedc6c8c",
   "metadata": {},
   "outputs": [],
   "source": [
    "sum2=yoursum(1,2,3,4)"
   ]
  },
  {
   "cell_type": "code",
   "execution_count": 117,
   "id": "e9269c9e",
   "metadata": {},
   "outputs": [
    {
     "data": {
      "text/plain": [
       "False"
      ]
     },
     "execution_count": 117,
     "metadata": {},
     "output_type": "execute_result"
    }
   ],
   "source": [
    "sum1==sum2"
   ]
  },
  {
   "cell_type": "code",
   "execution_count": 118,
   "id": "05264972",
   "metadata": {},
   "outputs": [
    {
     "data": {
      "text/plain": [
       "1928259695376"
      ]
     },
     "execution_count": 118,
     "metadata": {},
     "output_type": "execute_result"
    }
   ],
   "source": [
    "id(sum1)"
   ]
  },
  {
   "cell_type": "code",
   "execution_count": null,
   "id": "a525fa5f",
   "metadata": {},
   "outputs": [],
   "source": [
    "id(sum2)"
   ]
  },
  {
   "cell_type": "code",
   "execution_count": 127,
   "id": "e36cb405",
   "metadata": {},
   "outputs": [
    {
     "data": {
      "text/plain": [
       "10"
      ]
     },
     "execution_count": 127,
     "metadata": {},
     "output_type": "execute_result"
    }
   ],
   "source": [
    "sum2()"
   ]
  },
  {
   "cell_type": "code",
   "execution_count": 128,
   "id": "e56c0316",
   "metadata": {},
   "outputs": [],
   "source": [
    "def mycount():\n",
    "    f=[]\n",
    "    for i  in range(1,5):\n",
    "        def fp():\n",
    "            return i*i\n",
    "        f.append(fp)\n",
    "    return f"
   ]
  },
  {
   "cell_type": "code",
   "execution_count": 129,
   "id": "14e45b9b",
   "metadata": {},
   "outputs": [],
   "source": [
    "f1,f2,f3,f4=mycount()"
   ]
  },
  {
   "cell_type": "code",
   "execution_count": 131,
   "id": "c1b0d5fc",
   "metadata": {},
   "outputs": [
    {
     "data": {
      "text/plain": [
       "16"
      ]
     },
     "execution_count": 131,
     "metadata": {},
     "output_type": "execute_result"
    }
   ],
   "source": [
    "f1()"
   ]
  },
  {
   "cell_type": "code",
   "execution_count": 133,
   "id": "091ecf39",
   "metadata": {},
   "outputs": [
    {
     "data": {
      "text/plain": [
       "16"
      ]
     },
     "execution_count": 133,
     "metadata": {},
     "output_type": "execute_result"
    }
   ],
   "source": [
    "f2()"
   ]
  },
  {
   "cell_type": "code",
   "execution_count": 134,
   "id": "6e6f37e9",
   "metadata": {},
   "outputs": [
    {
     "data": {
      "text/plain": [
       "16"
      ]
     },
     "execution_count": 134,
     "metadata": {},
     "output_type": "execute_result"
    }
   ],
   "source": [
    "f3()"
   ]
  },
  {
   "cell_type": "code",
   "execution_count": 136,
   "id": "1cb02c14",
   "metadata": {},
   "outputs": [
    {
     "data": {
      "text/plain": [
       "16"
      ]
     },
     "execution_count": 136,
     "metadata": {},
     "output_type": "execute_result"
    }
   ],
   "source": [
    "f4()"
   ]
  },
  {
   "cell_type": "code",
   "execution_count": 137,
   "id": "f7750ee1",
   "metadata": {},
   "outputs": [
    {
     "data": {
      "text/plain": [
       "False"
      ]
     },
     "execution_count": 137,
     "metadata": {},
     "output_type": "execute_result"
    }
   ],
   "source": [
    "f1==f4"
   ]
  },
  {
   "cell_type": "code",
   "execution_count": 140,
   "id": "cd80e187",
   "metadata": {},
   "outputs": [],
   "source": [
    "def mycount():\n",
    "    def f(j):\n",
    "        def g():\n",
    "            return j*j\n",
    "        return g\n",
    "    fls=[]\n",
    "    for i  in range(1,5):\n",
    "        fls.append(f(i))\n",
    "    return fls"
   ]
  },
  {
   "cell_type": "code",
   "execution_count": 142,
   "id": "78aa8488",
   "metadata": {},
   "outputs": [
    {
     "name": "stdout",
     "output_type": "stream",
     "text": [
      "1\n",
      "4\n",
      "9\n",
      "16\n"
     ]
    }
   ],
   "source": [
    "f1,f2,f3,f4=mycount()\n",
    "print(f1())\n",
    "print(f2())\n",
    "print(f3())\n",
    "print(f4())"
   ]
  },
  {
   "cell_type": "code",
   "execution_count": 143,
   "id": "97d31df3",
   "metadata": {},
   "outputs": [],
   "source": [
    "#02.02 函数作为参数\n",
    "    ## map(f,序列x):对x中的每个元素依次执行f操作，将f(x)组成以一个映射对象返回，可使用list进行转换\n",
    "    ## filter(f,序列x):对x中的每个元素依次执行f操作，将f(x)为True的结果组成以一个过滤对象返回，可使用list进行转换\n",
    "    ## map(f,序列x):对x中的第一个和第二个元素执行f操作，得到的结果和序列x的下一个元素进行f操作，一直将列表的所有元素遍历完成\n",
    "    ## partial(f,参数):按需对f进行参数设置，形成定制化别名函数"
   ]
  },
  {
   "cell_type": "code",
   "execution_count": 144,
   "id": "424f782e",
   "metadata": {},
   "outputs": [],
   "source": [
    "##map 映射函数 map(f,x)"
   ]
  },
  {
   "cell_type": "code",
   "execution_count": 145,
   "id": "09bdfc08",
   "metadata": {},
   "outputs": [],
   "source": [
    "mymap01=map(lambda x:x**2,[1,2,3,4])"
   ]
  },
  {
   "cell_type": "code",
   "execution_count": 146,
   "id": "25b11101",
   "metadata": {},
   "outputs": [
    {
     "data": {
      "text/plain": [
       "[1, 4, 9, 16]"
      ]
     },
     "execution_count": 146,
     "metadata": {},
     "output_type": "execute_result"
    }
   ],
   "source": [
    "list(mymap01)"
   ]
  },
  {
   "cell_type": "code",
   "execution_count": 147,
   "id": "81cb2be0",
   "metadata": {},
   "outputs": [],
   "source": [
    "def mymap02(tool):\n",
    "    if tool=='bike':\n",
    "        return ('riding!')\n",
    "    elif tool=='car':\n",
    "        return ('driving!')\n",
    "    else:\n",
    "        return('flying!')"
   ]
  },
  {
   "cell_type": "code",
   "execution_count": 148,
   "id": "58421dfc",
   "metadata": {},
   "outputs": [
    {
     "data": {
      "text/plain": [
       "'riding!'"
      ]
     },
     "execution_count": 148,
     "metadata": {},
     "output_type": "execute_result"
    }
   ],
   "source": [
    "mymap02('bike')"
   ]
  },
  {
   "cell_type": "code",
   "execution_count": 149,
   "id": "8493fd55",
   "metadata": {},
   "outputs": [],
   "source": [
    "mymap02_iter=map(mymap02,['bike','car','plane'])"
   ]
  },
  {
   "cell_type": "code",
   "execution_count": 150,
   "id": "9e733f82",
   "metadata": {},
   "outputs": [
    {
     "data": {
      "text/plain": [
       "['riding!', 'driving!', 'flying!']"
      ]
     },
     "execution_count": 150,
     "metadata": {},
     "output_type": "execute_result"
    }
   ],
   "source": [
    "list(mymap02_iter)"
   ]
  },
  {
   "cell_type": "code",
   "execution_count": 151,
   "id": "6d6ad7de",
   "metadata": {},
   "outputs": [],
   "source": [
    "mymap02_iter=map(mymap02,['bike','car',''])"
   ]
  },
  {
   "cell_type": "code",
   "execution_count": 152,
   "id": "c0c83dd0",
   "metadata": {},
   "outputs": [],
   "source": [
    "## filter 筛选函数"
   ]
  },
  {
   "cell_type": "code",
   "execution_count": 153,
   "id": "0ba55b48",
   "metadata": {},
   "outputs": [],
   "source": [
    "def myfilter01(tool):\n",
    "    if tool=='bike':\n",
    "        return True\n",
    "    else:\n",
    "        return False"
   ]
  },
  {
   "cell_type": "code",
   "execution_count": 155,
   "id": "776bd3ba",
   "metadata": {},
   "outputs": [
    {
     "data": {
      "text/plain": [
       "['bike']"
      ]
     },
     "execution_count": 155,
     "metadata": {},
     "output_type": "execute_result"
    }
   ],
   "source": [
    "myfilter=filter(myfilter01,['bike','car','plane'])\n",
    "list(myfilter)"
   ]
  },
  {
   "cell_type": "code",
   "execution_count": 156,
   "id": "99729134",
   "metadata": {},
   "outputs": [],
   "source": [
    "## reduce 累计函数 合成"
   ]
  },
  {
   "cell_type": "code",
   "execution_count": 157,
   "id": "9616abd4",
   "metadata": {},
   "outputs": [],
   "source": [
    "from functools import reduce"
   ]
  },
  {
   "cell_type": "code",
   "execution_count": 159,
   "id": "e9077b29",
   "metadata": {},
   "outputs": [
    {
     "data": {
      "text/plain": [
       "110"
      ]
     },
     "execution_count": 159,
     "metadata": {},
     "output_type": "execute_result"
    }
   ],
   "source": [
    "reduce(lambda x,y:x+y,[1,2,3,4],100)"
   ]
  },
  {
   "cell_type": "code",
   "execution_count": 160,
   "id": "5d916466",
   "metadata": {},
   "outputs": [
    {
     "data": {
      "text/plain": [
       "[1, 2, 3, 4, 12, 3, 4]"
      ]
     },
     "execution_count": 160,
     "metadata": {},
     "output_type": "execute_result"
    }
   ],
   "source": [
    "reduce(lambda x,y:x+y,[[1,2,3,4],[12,3,4]])"
   ]
  },
  {
   "cell_type": "code",
   "execution_count": 161,
   "id": "53982770",
   "metadata": {},
   "outputs": [],
   "source": [
    "def myadd(x,y):\n",
    "    return x+y\n",
    "sum1=reduce(myadd,[1,2,3,4])"
   ]
  },
  {
   "cell_type": "code",
   "execution_count": 162,
   "id": "5dc6bf70",
   "metadata": {},
   "outputs": [
    {
     "data": {
      "text/plain": [
       "10"
      ]
     },
     "execution_count": 162,
     "metadata": {},
     "output_type": "execute_result"
    }
   ],
   "source": [
    "sum1"
   ]
  },
  {
   "cell_type": "code",
   "execution_count": 168,
   "id": "3cb8c96f",
   "metadata": {},
   "outputs": [],
   "source": [
    "def myreduce(*args):\n",
    "    if ['running','riding','swimming'] in args:\n",
    "        return '你已经完成了铁人三项赛！'\n",
    "    else:\n",
    "        return False"
   ]
  },
  {
   "cell_type": "code",
   "execution_count": 169,
   "id": "65e807f7",
   "metadata": {},
   "outputs": [
    {
     "data": {
      "text/plain": [
       "'你已经完成了铁人三项赛！'"
      ]
     },
     "execution_count": 169,
     "metadata": {},
     "output_type": "execute_result"
    }
   ],
   "source": [
    "myreduce(['running','riding','swimming'])"
   ]
  },
  {
   "cell_type": "code",
   "execution_count": 171,
   "id": "86c7ba6d",
   "metadata": {},
   "outputs": [
    {
     "data": {
      "text/plain": [
       "['running', 'riding', 'swimming']"
      ]
     },
     "execution_count": 171,
     "metadata": {},
     "output_type": "execute_result"
    }
   ],
   "source": [
    "reduce(myreduce,[['running','riding','swimming']])"
   ]
  },
  {
   "cell_type": "code",
   "execution_count": 172,
   "id": "8fef1bb6",
   "metadata": {},
   "outputs": [],
   "source": [
    "##02.04 partial 偏函数 分部"
   ]
  },
  {
   "cell_type": "code",
   "execution_count": 1,
   "id": "4e9bb784",
   "metadata": {},
   "outputs": [],
   "source": [
    "from functools import partial"
   ]
  },
  {
   "cell_type": "code",
   "execution_count": 2,
   "id": "be7d4136",
   "metadata": {},
   "outputs": [
    {
     "data": {
      "text/plain": [
       "[1, 2, 3, 4, 5]"
      ]
     },
     "execution_count": 2,
     "metadata": {},
     "output_type": "execute_result"
    }
   ],
   "source": [
    "l=[4,2,1,3,5]\n",
    "sorted(l)"
   ]
  },
  {
   "cell_type": "code",
   "execution_count": 3,
   "id": "12037440",
   "metadata": {},
   "outputs": [
    {
     "data": {
      "text/plain": [
       "[5, 4, 3, 2, 1]"
      ]
     },
     "execution_count": 3,
     "metadata": {},
     "output_type": "execute_result"
    }
   ],
   "source": [
    "sorted(l,reverse=True)"
   ]
  },
  {
   "cell_type": "code",
   "execution_count": 6,
   "id": "defbeaa3",
   "metadata": {},
   "outputs": [],
   "source": [
    "mysortedr=partial(sorted,reverse=True)"
   ]
  },
  {
   "cell_type": "code",
   "execution_count": 7,
   "id": "f4f6fb2d",
   "metadata": {},
   "outputs": [
    {
     "data": {
      "text/plain": [
       "[5, 4, 3, 2, 1]"
      ]
     },
     "execution_count": 7,
     "metadata": {},
     "output_type": "execute_result"
    }
   ],
   "source": [
    "mysortedr(l)"
   ]
  },
  {
   "cell_type": "code",
   "execution_count": 4,
   "id": "603fe2b5",
   "metadata": {},
   "outputs": [],
   "source": [
    "sorted=partial(sorted,reverse=True)"
   ]
  },
  {
   "cell_type": "code",
   "execution_count": 5,
   "id": "77fa3895",
   "metadata": {},
   "outputs": [
    {
     "data": {
      "text/plain": [
       "[5, 4, 3, 2, 1]"
      ]
     },
     "execution_count": 5,
     "metadata": {},
     "output_type": "execute_result"
    }
   ],
   "source": [
    "sorted(l)"
   ]
  },
  {
   "cell_type": "code",
   "execution_count": 8,
   "id": "30aea844",
   "metadata": {},
   "outputs": [
    {
     "data": {
      "text/plain": [
       "[3, 2, 1]"
      ]
     },
     "execution_count": 8,
     "metadata": {},
     "output_type": "execute_result"
    }
   ],
   "source": [
    "sorted([1,2,3])"
   ]
  },
  {
   "cell_type": "code",
   "execution_count": 9,
   "id": "f07a926b",
   "metadata": {},
   "outputs": [],
   "source": [
    "del sorted"
   ]
  },
  {
   "cell_type": "code",
   "execution_count": 10,
   "id": "36917f68",
   "metadata": {},
   "outputs": [],
   "source": [
    "##02.05 柯里化 Currying 把可接收多个参数的函数变换成接受一个单一参数的函数。并接受余下参数返回结果函数应用技术。若使用多参数的函数，每次都要调用所有的参数，会影响到相应的效率。使用闭包、偏函数的技术来实现currying"
   ]
  },
  {
   "cell_type": "code",
   "execution_count": 12,
   "id": "1e7df8ec",
   "metadata": {},
   "outputs": [],
   "source": [
    "# f(x1,x2,x3,x4)==>f(x1),f(x1,x2),f(x1,x2,x3)"
   ]
  },
  {
   "cell_type": "code",
   "execution_count": 13,
   "id": "942be097",
   "metadata": {},
   "outputs": [],
   "source": [
    "def f(x,y):\n",
    "    return x+y"
   ]
  },
  {
   "cell_type": "code",
   "execution_count": 14,
   "id": "aa72bfb9",
   "metadata": {},
   "outputs": [],
   "source": [
    "def g_y(x):\n",
    "    def f(y):\n",
    "        return x+y\n",
    "    return f"
   ]
  },
  {
   "cell_type": "code",
   "execution_count": 15,
   "id": "1d283d8b",
   "metadata": {},
   "outputs": [
    {
     "data": {
      "text/plain": [
       "<function __main__.f(x, y)>"
      ]
     },
     "execution_count": 15,
     "metadata": {},
     "output_type": "execute_result"
    }
   ],
   "source": [
    "f"
   ]
  },
  {
   "cell_type": "code",
   "execution_count": 16,
   "id": "56c14f6c",
   "metadata": {},
   "outputs": [
    {
     "data": {
      "text/plain": [
       "<function __main__.g_y(x)>"
      ]
     },
     "execution_count": 16,
     "metadata": {},
     "output_type": "execute_result"
    }
   ],
   "source": [
    "g_y"
   ]
  },
  {
   "cell_type": "code",
   "execution_count": 21,
   "id": "5e4068e9",
   "metadata": {},
   "outputs": [],
   "source": [
    "g=g_y(2)"
   ]
  },
  {
   "cell_type": "code",
   "execution_count": 22,
   "id": "6db93869",
   "metadata": {},
   "outputs": [
    {
     "data": {
      "text/plain": [
       "5"
      ]
     },
     "execution_count": 22,
     "metadata": {},
     "output_type": "execute_result"
    }
   ],
   "source": [
    "g(3)"
   ]
  },
  {
   "cell_type": "code",
   "execution_count": 23,
   "id": "d40d3099",
   "metadata": {},
   "outputs": [
    {
     "data": {
      "text/plain": [
       "5"
      ]
     },
     "execution_count": 23,
     "metadata": {},
     "output_type": "execute_result"
    }
   ],
   "source": [
    "f(2,3)"
   ]
  },
  {
   "cell_type": "code",
   "execution_count": 24,
   "id": "4a7009ba",
   "metadata": {},
   "outputs": [
    {
     "data": {
      "text/plain": [
       "5"
      ]
     },
     "execution_count": 24,
     "metadata": {},
     "output_type": "execute_result"
    }
   ],
   "source": [
    "g(3)"
   ]
  },
  {
   "cell_type": "code",
   "execution_count": 25,
   "id": "57af11bd",
   "metadata": {},
   "outputs": [],
   "source": [
    "g=partial(f,2)"
   ]
  },
  {
   "cell_type": "code",
   "execution_count": 26,
   "id": "1a3b3519",
   "metadata": {},
   "outputs": [
    {
     "data": {
      "text/plain": [
       "functools.partial(<function f at 0x0000025855F17AF0>, 2)"
      ]
     },
     "execution_count": 26,
     "metadata": {},
     "output_type": "execute_result"
    }
   ],
   "source": [
    "g"
   ]
  },
  {
   "cell_type": "code",
   "execution_count": 27,
   "id": "5b18acd6",
   "metadata": {},
   "outputs": [
    {
     "data": {
      "text/plain": [
       "<function __main__.f(x, y)>"
      ]
     },
     "execution_count": 27,
     "metadata": {},
     "output_type": "execute_result"
    }
   ],
   "source": [
    "f"
   ]
  },
  {
   "cell_type": "code",
   "execution_count": 28,
   "id": "6b9462b2",
   "metadata": {},
   "outputs": [
    {
     "data": {
      "text/plain": [
       "5"
      ]
     },
     "execution_count": 28,
     "metadata": {},
     "output_type": "execute_result"
    }
   ],
   "source": [
    "g(3)"
   ]
  }
 ],
 "metadata": {
  "kernelspec": {
   "display_name": "Python 3 (ipykernel)",
   "language": "python",
   "name": "python3"
  },
  "language_info": {
   "codemirror_mode": {
    "name": "ipython",
    "version": 3
   },
   "file_extension": ".py",
   "mimetype": "text/x-python",
   "name": "python",
   "nbconvert_exporter": "python",
   "pygments_lexer": "ipython3",
   "version": "3.9.7"
  }
 },
 "nbformat": 4,
 "nbformat_minor": 5
}
