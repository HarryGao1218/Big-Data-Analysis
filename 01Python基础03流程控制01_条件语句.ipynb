{
 "cells": [
  {
   "cell_type": "markdown",
   "id": "4931916c",
   "metadata": {},
   "source": [
    "# 01Python基础03流程控制01——条件语句"
   ]
  },
  {
   "cell_type": "markdown",
   "id": "ce6b6415",
   "metadata": {},
   "source": [
    "## 01 概述"
   ]
  },
  {
   "cell_type": "markdown",
   "id": "055a80f7",
   "metadata": {},
   "source": [
    "- if <表达式1>:\n",
    "-   <正常语句1>\n",
    "-    if <表达式2>\n",
    "-       <正常语句2>\n",
    "-    else:\n",
    "-        <正常语句3>\n",
    "-        \n",
    "-条件表达式:<正常语句1> if <表达式> else <正常语句2>"
   ]
  },
  {
   "cell_type": "markdown",
   "id": "5c3b830b",
   "metadata": {},
   "source": [
    "## 02 单支if"
   ]
  },
  {
   "cell_type": "code",
   "execution_count": null,
   "id": "de448612",
   "metadata": {},
   "outputs": [],
   "source": [
    "score=0\n",
    "if(score):\n",
    "    print('优秀')"
   ]
  },
  {
   "cell_type": "markdown",
   "id": "9b693ebe",
   "metadata": {},
   "source": [
    "## 03 双支 if……elif"
   ]
  },
  {
   "cell_type": "code",
   "execution_count": 2,
   "id": "614ed8e9",
   "metadata": {},
   "outputs": [
    {
     "name": "stdout",
     "output_type": "stream",
     "text": [
      "请输入成绩:80\n",
      "不及格\n"
     ]
    }
   ],
   "source": [
    "score=int(input('请输入成绩:'))\n",
    "if(score>90):\n",
    "    print('优秀')\n",
    "else:\n",
    "    print('不及格！')"
   ]
  },
  {
   "cell_type": "markdown",
   "id": "fb02ee48",
   "metadata": {},
   "source": [
    "## 04 多支 if……elif……else"
   ]
  },
  {
   "cell_type": "code",
   "execution_count": null,
   "id": "697909c3",
   "metadata": {},
   "outputs": [],
   "source": [
    "score=int(input('请输入成绩:'))\n",
    "if(score>90):\n",
    "    print('优秀')\n",
    "elif(score>80):\n",
    "    print('良好')\n",
    "elif(score>70):\n",
    "    print('中等')\n",
    "elif(score>60):\n",
    "    print('及格')\n",
    "else:\n",
    "    print('不及格！')"
   ]
  },
  {
   "cell_type": "markdown",
   "id": "93100437",
   "metadata": {},
   "source": [
    "## 05 嵌套 if"
   ]
  },
  {
   "cell_type": "code",
   "execution_count": 4,
   "id": "cb4dd5b6",
   "metadata": {},
   "outputs": [
    {
     "name": "stdout",
     "output_type": "stream",
     "text": [
      "请输入成绩:65\n",
      "及格\n"
     ]
    }
   ],
   "source": [
    "score=int(input('请输入成绩:'))\n",
    "if(score>90):\n",
    "    print('优秀')\n",
    "else:\n",
    "    if(score>80):\n",
    "        print('良好')\n",
    "    else:\n",
    "        if(score>70):\n",
    "            print('中等')\n",
    "        else:\n",
    "            if(score>=60):\n",
    "                print('及格')\n",
    "            else:\n",
    "                print('不及格！')"
   ]
  },
  {
   "cell_type": "markdown",
   "id": "7a9683ac",
   "metadata": {},
   "source": [
    "## 06 条件表达式"
   ]
  },
  {
   "cell_type": "code",
   "execution_count": 5,
   "id": "fbccb431",
   "metadata": {},
   "outputs": [
    {
     "name": "stdout",
     "output_type": "stream",
     "text": [
      "请输入成绩:50\n",
      "50\n"
     ]
    }
   ],
   "source": [
    "score=int(input('请输入成绩:'))\n",
    "print(5+score if score>=90 else score)"
   ]
  },
  {
   "cell_type": "code",
   "execution_count": null,
   "id": "bfe30c85",
   "metadata": {},
   "outputs": [],
   "source": [
    "score1=int(input('请输入卷面成绩:'))\n",
    "score2=int(input('请输入作业成绩:'))\n",
    "print(5+score1+score2 if score1>=90 and score2>80 else score1+score2)"
   ]
  },
  {
   "cell_type": "code",
   "execution_count": 7,
   "id": "683b2e94",
   "metadata": {},
   "outputs": [
    {
     "name": "stdout",
     "output_type": "stream",
     "text": [
      "请输入卷面成绩:90\n",
      "请输入作业成绩:60\n",
      "155\n"
     ]
    }
   ],
   "source": [
    "score1=int(input('请输入卷面成绩:'))\n",
    "score2=int(input('请输入作业成绩:'))\n",
    "print(5+score1+score2 if score1>score2 else score1+score2+2)"
   ]
  },
  {
   "cell_type": "code",
   "execution_count": null,
   "id": "a13e9262",
   "metadata": {},
   "outputs": [],
   "source": [
    "score1=int(input('请输入卷面成绩:'))\n",
    "score2=int(input('请输入作业成绩:'))\n",
    "print(5+(score1 if score1>score2 else score2))"
   ]
  },
  {
   "cell_type": "code",
   "execution_count": null,
   "id": "7fd56f81",
   "metadata": {},
   "outputs": [],
   "source": [
    "score1=int(input('请输入卷面成绩:'))\n",
    "print('优秀' if score1 in [90,91,92,93,94,95,96,97,98,99,100] else '非优秀')"
   ]
  },
  {
   "cell_type": "markdown",
   "id": "40e7dafd",
   "metadata": {},
   "source": [
    "## 07 pass语句"
   ]
  },
  {
   "cell_type": "code",
   "execution_count": 2,
   "id": "24d90a4d",
   "metadata": {},
   "outputs": [
    {
     "ename": "IndentationError",
     "evalue": "expected an indented block (Temp/ipykernel_12592/3230188991.py, line 2)",
     "output_type": "error",
     "traceback": [
      "\u001b[1;36m  File \u001b[1;32m\"C:\\Users\\Harry\\AppData\\Local\\Temp/ipykernel_12592/3230188991.py\"\u001b[1;36m, line \u001b[1;32m2\u001b[0m\n\u001b[1;33m    print('条件为真的结果')\u001b[0m\n\u001b[1;37m    ^\u001b[0m\n\u001b[1;31mIndentationError\u001b[0m\u001b[1;31m:\u001b[0m expected an indented block\n"
     ]
    }
   ],
   "source": [
    "if True:\n",
    "print('条件为真的结果')"
   ]
  },
  {
   "cell_type": "code",
   "execution_count": 3,
   "id": "f1883c93",
   "metadata": {},
   "outputs": [
    {
     "name": "stdout",
     "output_type": "stream",
     "text": [
      "条件为真的结果\n"
     ]
    }
   ],
   "source": [
    "if True:\n",
    "    pass\n",
    "print('条件为真的结果')"
   ]
  }
 ],
 "metadata": {
  "kernelspec": {
   "display_name": "Python 3 (ipykernel)",
   "language": "python",
   "name": "python3"
  },
  "language_info": {
   "codemirror_mode": {
    "name": "ipython",
    "version": 3
   },
   "file_extension": ".py",
   "mimetype": "text/x-python",
   "name": "python",
   "nbconvert_exporter": "python",
   "pygments_lexer": "ipython3",
   "version": "3.9.7"
  }
 },
 "nbformat": 4,
 "nbformat_minor": 5
}
