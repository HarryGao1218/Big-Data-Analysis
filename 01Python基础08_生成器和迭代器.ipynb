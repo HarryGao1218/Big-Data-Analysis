{
 "cells": [
  {
   "cell_type": "markdown",
   "id": "9e74b4d9",
   "metadata": {},
   "source": [
    "# 01 Python基础08——生成器和迭代器"
   ]
  },
  {
   "cell_type": "markdown",
   "id": "b6f8546e",
   "metadata": {},
   "source": [
    "## 08.01 生成器"
   ]
  },
  {
   "cell_type": "code",
   "execution_count": 2,
   "id": "47d5825b",
   "metadata": {},
   "outputs": [],
   "source": [
    "#generator"
   ]
  },
  {
   "cell_type": "code",
   "execution_count": 1,
   "id": "74bd49ac",
   "metadata": {},
   "outputs": [
    {
     "name": "stdout",
     "output_type": "stream",
     "text": [
      "0\n",
      "1\n",
      "2\n",
      "3\n",
      "4\n",
      "5\n",
      "6\n",
      "7\n",
      "8\n",
      "9\n"
     ]
    }
   ],
   "source": [
    "for i in range(10):\n",
    "    print(i)"
   ]
  },
  {
   "cell_type": "code",
   "execution_count": 2,
   "id": "e5b84a2c",
   "metadata": {},
   "outputs": [
    {
     "name": "stdout",
     "output_type": "stream",
     "text": [
      "1\n",
      "2\n",
      "3\n",
      "4\n",
      "5\n"
     ]
    }
   ],
   "source": [
    "l=[1,2,3,4,5]\n",
    "for i in l:\n",
    "    print(i)"
   ]
  },
  {
   "cell_type": "code",
   "execution_count": 7,
   "id": "64bd8db4",
   "metadata": {},
   "outputs": [],
   "source": [
    "### 01 生成函数"
   ]
  },
  {
   "cell_type": "code",
   "execution_count": 3,
   "id": "d5fd53fa",
   "metadata": {},
   "outputs": [],
   "source": [
    "def square(ls):\n",
    "    results=[]\n",
    "    for n in ls:\n",
    "        results.append(n*n)\n",
    "    return results"
   ]
  },
  {
   "cell_type": "code",
   "execution_count": 4,
   "id": "f74c4d0c",
   "metadata": {},
   "outputs": [
    {
     "data": {
      "text/plain": [
       "[1, 4, 9, 16, 25]"
      ]
     },
     "execution_count": 4,
     "metadata": {},
     "output_type": "execute_result"
    }
   ],
   "source": [
    "l=square([1,2,3,4,5])\n",
    "l"
   ]
  },
  {
   "cell_type": "code",
   "execution_count": 5,
   "id": "bc9fbdba",
   "metadata": {},
   "outputs": [
    {
     "data": {
      "text/plain": [
       "<function __main__.square(ls)>"
      ]
     },
     "execution_count": 5,
     "metadata": {},
     "output_type": "execute_result"
    }
   ],
   "source": [
    "square"
   ]
  },
  {
   "cell_type": "code",
   "execution_count": 9,
   "id": "3ba741e5",
   "metadata": {},
   "outputs": [],
   "source": [
    "def square(ls):\n",
    "    for n in ls:\n",
    "        yield n*n"
   ]
  },
  {
   "cell_type": "code",
   "execution_count": 10,
   "id": "74937bea",
   "metadata": {},
   "outputs": [
    {
     "data": {
      "text/plain": [
       "<generator object square at 0x00000219A59662E0>"
      ]
     },
     "execution_count": 10,
     "metadata": {},
     "output_type": "execute_result"
    }
   ],
   "source": [
    "l=square([1,2,3,4,5])\n",
    "l"
   ]
  },
  {
   "cell_type": "code",
   "execution_count": 7,
   "id": "04767848",
   "metadata": {},
   "outputs": [
    {
     "data": {
      "text/plain": [
       "[1, 4, 9, 16, 25]"
      ]
     },
     "execution_count": 7,
     "metadata": {},
     "output_type": "execute_result"
    }
   ],
   "source": [
    "list(l)"
   ]
  },
  {
   "cell_type": "code",
   "execution_count": 14,
   "id": "7a2386e5",
   "metadata": {},
   "outputs": [
    {
     "name": "stdout",
     "output_type": "stream",
     "text": [
      "1\n"
     ]
    }
   ],
   "source": [
    "l=square([1,2,3,4,5])\n",
    "l\n",
    "print(next(l))"
   ]
  },
  {
   "cell_type": "code",
   "execution_count": 15,
   "id": "14b126f6",
   "metadata": {},
   "outputs": [
    {
     "name": "stdout",
     "output_type": "stream",
     "text": [
      "4\n",
      "9\n",
      "16\n",
      "25\n"
     ]
    }
   ],
   "source": [
    "print(next(l))\n",
    "print(next(l))\n",
    "print(next(l))\n",
    "print(next(l))"
   ]
  },
  {
   "cell_type": "code",
   "execution_count": null,
   "id": "9b934592",
   "metadata": {},
   "outputs": [],
   "source": [
    "print(next(l))"
   ]
  },
  {
   "cell_type": "code",
   "execution_count": null,
   "id": "d4ffa132",
   "metadata": {},
   "outputs": [],
   "source": [
    "l=square([1,2,3,4,5])\n",
    "l"
   ]
  },
  {
   "cell_type": "code",
   "execution_count": null,
   "id": "39e3bffc",
   "metadata": {},
   "outputs": [],
   "source": [
    "print(len(l))"
   ]
  },
  {
   "cell_type": "code",
   "execution_count": 16,
   "id": "7528660b",
   "metadata": {},
   "outputs": [],
   "source": [
    "### 02 生成表达式"
   ]
  },
  {
   "cell_type": "code",
   "execution_count": 17,
   "id": "0a31656e",
   "metadata": {},
   "outputs": [
    {
     "data": {
      "text/plain": [
       "list"
      ]
     },
     "execution_count": 17,
     "metadata": {},
     "output_type": "execute_result"
    }
   ],
   "source": [
    "l=[x*x for x in [1,2,3,4,5]]\n",
    "type(l)"
   ]
  },
  {
   "cell_type": "code",
   "execution_count": 19,
   "id": "fc4af398",
   "metadata": {},
   "outputs": [],
   "source": [
    "g=(x*x for x in [1,2,3,4,5]) #将列表表达式的定界符转换为小括号即成为生成表达式，而非元组解析表达式！"
   ]
  },
  {
   "cell_type": "code",
   "execution_count": 20,
   "id": "f18da966",
   "metadata": {},
   "outputs": [
    {
     "data": {
      "text/plain": [
       "<generator object <genexpr> at 0x00000219A5966DD0>"
      ]
     },
     "execution_count": 20,
     "metadata": {},
     "output_type": "execute_result"
    }
   ],
   "source": [
    "g"
   ]
  },
  {
   "cell_type": "code",
   "execution_count": 21,
   "id": "4d3672c8",
   "metadata": {},
   "outputs": [
    {
     "name": "stdout",
     "output_type": "stream",
     "text": [
      "1\n"
     ]
    }
   ],
   "source": [
    "print(next(g))"
   ]
  },
  {
   "cell_type": "code",
   "execution_count": 22,
   "id": "d347f8ef",
   "metadata": {},
   "outputs": [],
   "source": [
    "### 03 生成器特点"
   ]
  },
  {
   "cell_type": "code",
   "execution_count": null,
   "id": "37bf1eec",
   "metadata": {},
   "outputs": [],
   "source": [
    "# 01 没有长度，不变索引"
   ]
  },
  {
   "cell_type": "code",
   "execution_count": 23,
   "id": "2973bdb4",
   "metadata": {},
   "outputs": [
    {
     "data": {
      "text/plain": [
       "<generator object <genexpr> at 0x00000219A596E510>"
      ]
     },
     "execution_count": 23,
     "metadata": {},
     "output_type": "execute_result"
    }
   ],
   "source": [
    "g=(x*x for x in [1,2,3,4,5]) \n",
    "g"
   ]
  },
  {
   "cell_type": "code",
   "execution_count": null,
   "id": "efe6ccf2",
   "metadata": {},
   "outputs": [],
   "source": [
    "len(g)"
   ]
  },
  {
   "cell_type": "code",
   "execution_count": null,
   "id": "3a14641b",
   "metadata": {},
   "outputs": [],
   "source": [
    "g[0]"
   ]
  },
  {
   "cell_type": "code",
   "execution_count": 24,
   "id": "fddcfdbf",
   "metadata": {},
   "outputs": [
    {
     "name": "stdout",
     "output_type": "stream",
     "text": [
      "1\n"
     ]
    }
   ],
   "source": [
    "# lazy 要使用next函数逐个调用 list可以一次性呈现\n",
    "print(next(g))"
   ]
  },
  {
   "cell_type": "code",
   "execution_count": 25,
   "id": "7bce3ca7",
   "metadata": {},
   "outputs": [
    {
     "name": "stdout",
     "output_type": "stream",
     "text": [
      "4\n",
      "9\n",
      "16\n"
     ]
    }
   ],
   "source": [
    "print(next(g))\n",
    "print(next(g))\n",
    "print(next(g))"
   ]
  },
  {
   "cell_type": "code",
   "execution_count": 27,
   "id": "402aec73",
   "metadata": {},
   "outputs": [
    {
     "name": "stdout",
     "output_type": "stream",
     "text": [
      "1 4 9 16 A\n",
      "B\n",
      "C\n",
      "25 "
     ]
    }
   ],
   "source": [
    "# 有记忆特性，可记录上次操作的步骤\n",
    "g=(x*x for x in [1,2,3,4,5]) \n",
    "for i in g:\n",
    "    print(i,end=' ')\n",
    "    if i >10:break\n",
    "for j in ['A','B','C']:\n",
    "    print(j)\n",
    "    \n",
    "for i in g:\n",
    "    print(i,end=' ')"
   ]
  },
  {
   "cell_type": "code",
   "execution_count": 29,
   "id": "13ae0cc9",
   "metadata": {},
   "outputs": [],
   "source": [
    "# 生成器比较高效\n",
    "import time\n",
    "import sys"
   ]
  },
  {
   "cell_type": "code",
   "execution_count": 30,
   "id": "4b8f43b2",
   "metadata": {},
   "outputs": [
    {
     "name": "stdout",
     "output_type": "stream",
     "text": [
      "Wall time: 66.9 ms\n",
      "8448728\n",
      "Wall time: 0 ns\n",
      "112\n"
     ]
    }
   ],
   "source": [
    "%time l=[x*x for x in range(1000000)]\n",
    "print(sys.getsizeof(l))\n",
    "\n",
    "%time g=(x*x for x in range(1000000))\n",
    "print(sys.getsizeof(g))"
   ]
  },
  {
   "cell_type": "markdown",
   "id": "ea6d2d57",
   "metadata": {},
   "source": [
    "## 08.02 迭代器"
   ]
  },
  {
   "cell_type": "code",
   "execution_count": 31,
   "id": "a3303d54",
   "metadata": {},
   "outputs": [],
   "source": [
    "# 使用迭代器的目的是对集合元素进行访问。"
   ]
  },
  {
   "cell_type": "code",
   "execution_count": 32,
   "id": "8074df6b",
   "metadata": {},
   "outputs": [],
   "source": [
    "## 01 可迭代对象\n",
    "# 任何可以循环的东西都可以成为可迭代对象。str、tuple、list、dict、set等都可以使用for循环进行遍历。"
   ]
  },
  {
   "cell_type": "code",
   "execution_count": 33,
   "id": "81fb96ea",
   "metadata": {},
   "outputs": [],
   "source": [
    "## 可迭代对象与迭代器的区别\n",
    "    # 迭代器可迭代对象，但可迭代对象不一定是迭代器\n",
    "    # 迭代器一般具有_tier_()和_next_()方法"
   ]
  },
  {
   "cell_type": "code",
   "execution_count": 34,
   "id": "8c2ba6be",
   "metadata": {},
   "outputs": [],
   "source": [
    "## 如何判断对象的可迭代性\n",
    "from collections import abc"
   ]
  },
  {
   "cell_type": "code",
   "execution_count": 37,
   "id": "1713dc7f",
   "metadata": {},
   "outputs": [
    {
     "name": "stdout",
     "output_type": "stream",
     "text": [
      "True\n",
      "True\n",
      "True\n",
      "True\n",
      "True\n",
      "False\n",
      "False\n",
      "False\n",
      "False\n"
     ]
    }
   ],
   "source": [
    "print(isinstance([1,2,3],abc.Iterable))\n",
    "print(isinstance((1,2,3),abc.Iterable))\n",
    "print(isinstance({'A':100},abc.Iterable))\n",
    "print(isinstance({1,2,3},abc.Iterable))\n",
    "print(isinstance('123',abc.Iterable))\n",
    "print(isinstance(123,abc.Iterable))\n",
    "print(isinstance(123.0,abc.Iterable))\n",
    "print(isinstance(False,abc.Iterable))\n",
    "print(isinstance(None,abc.Iterable))"
   ]
  },
  {
   "cell_type": "code",
   "execution_count": 38,
   "id": "ae519ff3",
   "metadata": {},
   "outputs": [
    {
     "name": "stdout",
     "output_type": "stream",
     "text": [
      "['__add__', '__class__', '__class_getitem__', '__contains__', '__delattr__', '__delitem__', '__dir__', '__doc__', '__eq__', '__format__', '__ge__', '__getattribute__', '__getitem__', '__gt__', '__hash__', '__iadd__', '__imul__', '__init__', '__init_subclass__', '__iter__', '__le__', '__len__', '__lt__', '__mul__', '__ne__', '__new__', '__reduce__', '__reduce_ex__', '__repr__', '__reversed__', '__rmul__', '__setattr__', '__setitem__', '__sizeof__', '__str__', '__subclasshook__', 'append', 'clear', 'copy', 'count', 'extend', 'index', 'insert', 'pop', 'remove', 'reverse', 'sort']\n"
     ]
    }
   ],
   "source": [
    "print(dir([1,2,3]))"
   ]
  },
  {
   "cell_type": "code",
   "execution_count": 40,
   "id": "95c92328",
   "metadata": {},
   "outputs": [
    {
     "name": "stdout",
     "output_type": "stream",
     "text": [
      "['__abs__', '__add__', '__and__', '__bool__', '__ceil__', '__class__', '__delattr__', '__dir__', '__divmod__', '__doc__', '__eq__', '__float__', '__floor__', '__floordiv__', '__format__', '__ge__', '__getattribute__', '__getnewargs__', '__gt__', '__hash__', '__index__', '__init__', '__init_subclass__', '__int__', '__invert__', '__le__', '__lshift__', '__lt__', '__mod__', '__mul__', '__ne__', '__neg__', '__new__', '__or__', '__pos__', '__pow__', '__radd__', '__rand__', '__rdivmod__', '__reduce__', '__reduce_ex__', '__repr__', '__rfloordiv__', '__rlshift__', '__rmod__', '__rmul__', '__ror__', '__round__', '__rpow__', '__rrshift__', '__rshift__', '__rsub__', '__rtruediv__', '__rxor__', '__setattr__', '__sizeof__', '__str__', '__sub__', '__subclasshook__', '__truediv__', '__trunc__', '__xor__', 'as_integer_ratio', 'bit_length', 'conjugate', 'denominator', 'from_bytes', 'imag', 'numerator', 'real', 'to_bytes']\n"
     ]
    }
   ],
   "source": [
    "print(dir(123))"
   ]
  },
  {
   "cell_type": "code",
   "execution_count": null,
   "id": "cc0b636c",
   "metadata": {},
   "outputs": [],
   "source": [
    "## 02 迭代器判断"
   ]
  },
  {
   "cell_type": "code",
   "execution_count": 42,
   "id": "e785e561",
   "metadata": {},
   "outputs": [
    {
     "name": "stdout",
     "output_type": "stream",
     "text": [
      "False\n",
      "False\n",
      "False\n",
      "False\n",
      "False\n",
      "True\n"
     ]
    }
   ],
   "source": [
    "print(isinstance([1,2,3],abc.Iterator))\n",
    "print(isinstance((1,2,3),abc.Iterator))\n",
    "print(isinstance({'A':100},abc.Iterator))\n",
    "print(isinstance({1,2,3},abc.Iterator))\n",
    "print(isinstance('123',abc.Iterator))\n",
    "print(isinstance(iter('123'),abc.Iterator))"
   ]
  },
  {
   "cell_type": "code",
   "execution_count": 45,
   "id": "e8b05130",
   "metadata": {},
   "outputs": [
    {
     "name": "stdout",
     "output_type": "stream",
     "text": [
      "['__add__', '__class__', '__class_getitem__', '__contains__', '__delattr__', '__delitem__', '__dir__', '__doc__', '__eq__', '__format__', '__ge__', '__getattribute__', '__getitem__', '__gt__', '__hash__', '__iadd__', '__imul__', '__init__', '__init_subclass__', '__iter__', '__le__', '__len__', '__lt__', '__mul__', '__ne__', '__new__', '__reduce__', '__reduce_ex__', '__repr__', '__reversed__', '__rmul__', '__setattr__', '__setitem__', '__sizeof__', '__str__', '__subclasshook__', 'append', 'clear', 'copy', 'count', 'extend', 'index', 'insert', 'pop', 'remove', 'reverse', 'sort']\n",
      "['__class__', '__delattr__', '__dir__', '__doc__', '__eq__', '__format__', '__ge__', '__getattribute__', '__gt__', '__hash__', '__init__', '__init_subclass__', '__iter__', '__le__', '__length_hint__', '__lt__', '__ne__', '__new__', '__next__', '__reduce__', '__reduce_ex__', '__repr__', '__setattr__', '__setstate__', '__sizeof__', '__str__', '__subclasshook__']\n",
      "False\n",
      "True\n"
     ]
    }
   ],
   "source": [
    "l=[1,2,3]\n",
    "print(dir(l))\n",
    "print(dir(iter(l)))\n",
    "print('__next__' in dir(l))\n",
    "print('__next__' in dir(iter(l)))"
   ]
  },
  {
   "cell_type": "code",
   "execution_count": 46,
   "id": "d7bb57b1",
   "metadata": {},
   "outputs": [],
   "source": [
    "l=[1,2,3]"
   ]
  },
  {
   "cell_type": "code",
   "execution_count": 47,
   "id": "0386404a",
   "metadata": {},
   "outputs": [],
   "source": [
    "iterl=iter(l)"
   ]
  },
  {
   "cell_type": "code",
   "execution_count": 49,
   "id": "77cb49fc",
   "metadata": {},
   "outputs": [
    {
     "name": "stdout",
     "output_type": "stream",
     "text": [
      "1\n"
     ]
    }
   ],
   "source": [
    "print(next(iterl))"
   ]
  },
  {
   "cell_type": "code",
   "execution_count": 50,
   "id": "331d63c3",
   "metadata": {},
   "outputs": [
    {
     "name": "stdout",
     "output_type": "stream",
     "text": [
      "1\n",
      "2\n",
      "3\n"
     ]
    }
   ],
   "source": [
    "l=[1,2,3]\n",
    "iterl=iter(l)\n",
    "for i in l:\n",
    "    print(i)"
   ]
  },
  {
   "cell_type": "code",
   "execution_count": 51,
   "id": "56cd0f2a",
   "metadata": {},
   "outputs": [
    {
     "name": "stdout",
     "output_type": "stream",
     "text": [
      "1\n",
      "2\n",
      "3\n"
     ]
    }
   ],
   "source": [
    "l=[1,2,3]\n",
    "iterl=iter(l)\n",
    "while True:\n",
    "    try:\n",
    "        print(next(iterl))\n",
    "    except StopIteration:\n",
    "        break"
   ]
  },
  {
   "cell_type": "code",
   "execution_count": null,
   "id": "9a478d86",
   "metadata": {},
   "outputs": [],
   "source": [
    "## 03 自建迭代器"
   ]
  },
  {
   "cell_type": "code",
   "execution_count": 60,
   "id": "87fba301",
   "metadata": {},
   "outputs": [],
   "source": [
    "# 使用类方法自建迭代器\n",
    "class MyRange:\n",
    "    def __init__(self,start,end):\n",
    "        self.value=start\n",
    "        self.end=end\n",
    "        \n",
    "    def __iter__(self):\n",
    "        return self\n",
    "    \n",
    "    def __next__(self):\n",
    "        if self.value>self.end:\n",
    "            raise StopIteration\n",
    "        current=self.value\n",
    "        self.value+=1\n",
    "        return current"
   ]
  },
  {
   "cell_type": "code",
   "execution_count": 61,
   "id": "025a8cdc",
   "metadata": {},
   "outputs": [
    {
     "data": {
      "text/plain": [
       "True"
      ]
     },
     "execution_count": 61,
     "metadata": {},
     "output_type": "execute_result"
    }
   ],
   "source": [
    "myrange=MyRange(1,5)\n",
    "isinstance(myrange,abc.Iterable)"
   ]
  },
  {
   "cell_type": "code",
   "execution_count": 62,
   "id": "05f6bd8b",
   "metadata": {},
   "outputs": [
    {
     "data": {
      "text/plain": [
       "True"
      ]
     },
     "execution_count": 62,
     "metadata": {},
     "output_type": "execute_result"
    }
   ],
   "source": [
    "isinstance(myrange,abc.Iterable)"
   ]
  },
  {
   "cell_type": "code",
   "execution_count": 63,
   "id": "2c7881d3",
   "metadata": {},
   "outputs": [
    {
     "name": "stdout",
     "output_type": "stream",
     "text": [
      "1\n"
     ]
    }
   ],
   "source": [
    "print(next(myrange))"
   ]
  },
  {
   "cell_type": "code",
   "execution_count": 64,
   "id": "824d460e",
   "metadata": {},
   "outputs": [
    {
     "name": "stdout",
     "output_type": "stream",
     "text": [
      "2\n",
      "3\n",
      "4\n"
     ]
    }
   ],
   "source": [
    "print(next(myrange))\n",
    "print(next(myrange))\n",
    "print(next(myrange))"
   ]
  },
  {
   "cell_type": "code",
   "execution_count": 65,
   "id": "653ab38e",
   "metadata": {},
   "outputs": [
    {
     "name": "stdout",
     "output_type": "stream",
     "text": [
      "5\n"
     ]
    }
   ],
   "source": [
    "print(next(myrange))"
   ]
  },
  {
   "cell_type": "code",
   "execution_count": 66,
   "id": "1746770a",
   "metadata": {},
   "outputs": [
    {
     "ename": "StopIteration",
     "evalue": "",
     "output_type": "error",
     "traceback": [
      "\u001b[1;31m---------------------------------------------------------------------------\u001b[0m",
      "\u001b[1;31mStopIteration\u001b[0m                             Traceback (most recent call last)",
      "\u001b[1;32m~\\AppData\\Local\\Temp/ipykernel_4180/2435459306.py\u001b[0m in \u001b[0;36m<module>\u001b[1;34m\u001b[0m\n\u001b[1;32m----> 1\u001b[1;33m \u001b[0mprint\u001b[0m\u001b[1;33m(\u001b[0m\u001b[0mnext\u001b[0m\u001b[1;33m(\u001b[0m\u001b[0mmyrange\u001b[0m\u001b[1;33m)\u001b[0m\u001b[1;33m)\u001b[0m\u001b[1;33m\u001b[0m\u001b[1;33m\u001b[0m\u001b[0m\n\u001b[0m",
      "\u001b[1;32m~\\AppData\\Local\\Temp/ipykernel_4180/3344784426.py\u001b[0m in \u001b[0;36m__next__\u001b[1;34m(self)\u001b[0m\n\u001b[0;32m      9\u001b[0m     \u001b[1;32mdef\u001b[0m \u001b[0m__next__\u001b[0m\u001b[1;33m(\u001b[0m\u001b[0mself\u001b[0m\u001b[1;33m)\u001b[0m\u001b[1;33m:\u001b[0m\u001b[1;33m\u001b[0m\u001b[1;33m\u001b[0m\u001b[0m\n\u001b[0;32m     10\u001b[0m         \u001b[1;32mif\u001b[0m \u001b[0mself\u001b[0m\u001b[1;33m.\u001b[0m\u001b[0mvalue\u001b[0m\u001b[1;33m>\u001b[0m\u001b[0mself\u001b[0m\u001b[1;33m.\u001b[0m\u001b[0mend\u001b[0m\u001b[1;33m:\u001b[0m\u001b[1;33m\u001b[0m\u001b[1;33m\u001b[0m\u001b[0m\n\u001b[1;32m---> 11\u001b[1;33m             \u001b[1;32mraise\u001b[0m \u001b[0mStopIteration\u001b[0m\u001b[1;33m\u001b[0m\u001b[1;33m\u001b[0m\u001b[0m\n\u001b[0m\u001b[0;32m     12\u001b[0m         \u001b[0mcurrent\u001b[0m\u001b[1;33m=\u001b[0m\u001b[0mself\u001b[0m\u001b[1;33m.\u001b[0m\u001b[0mvalue\u001b[0m\u001b[1;33m\u001b[0m\u001b[1;33m\u001b[0m\u001b[0m\n\u001b[0;32m     13\u001b[0m         \u001b[0mself\u001b[0m\u001b[1;33m.\u001b[0m\u001b[0mvalue\u001b[0m\u001b[1;33m+=\u001b[0m\u001b[1;36m1\u001b[0m\u001b[1;33m\u001b[0m\u001b[1;33m\u001b[0m\u001b[0m\n",
      "\u001b[1;31mStopIteration\u001b[0m: "
     ]
    }
   ],
   "source": [
    "print(next(myrange))"
   ]
  },
  {
   "cell_type": "code",
   "execution_count": 67,
   "id": "f0938a33",
   "metadata": {},
   "outputs": [],
   "source": [
    "# 使用生成器来创建迭代器\n",
    "def rng_gen(start,end):\n",
    "    current=start\n",
    "    while current<=end:\n",
    "        yield current\n",
    "        current+=1"
   ]
  },
  {
   "cell_type": "code",
   "execution_count": 68,
   "id": "480fe56f",
   "metadata": {},
   "outputs": [],
   "source": [
    "myrange=rng_gen(1,5)"
   ]
  },
  {
   "cell_type": "code",
   "execution_count": 69,
   "id": "3f6f93a0",
   "metadata": {},
   "outputs": [
    {
     "data": {
      "text/plain": [
       "True"
      ]
     },
     "execution_count": 69,
     "metadata": {},
     "output_type": "execute_result"
    }
   ],
   "source": [
    "isinstance(myrange,abc.Iterable)"
   ]
  },
  {
   "cell_type": "code",
   "execution_count": 70,
   "id": "9b46769b",
   "metadata": {},
   "outputs": [
    {
     "name": "stdout",
     "output_type": "stream",
     "text": [
      "1\n",
      "2\n",
      "3\n",
      "4\n",
      "5\n"
     ]
    }
   ],
   "source": [
    "for i in myrange:\n",
    "    print(i)"
   ]
  },
  {
   "cell_type": "code",
   "execution_count": 71,
   "id": "13cfaa80",
   "metadata": {},
   "outputs": [
    {
     "ename": "StopIteration",
     "evalue": "",
     "output_type": "error",
     "traceback": [
      "\u001b[1;31m---------------------------------------------------------------------------\u001b[0m",
      "\u001b[1;31mStopIteration\u001b[0m                             Traceback (most recent call last)",
      "\u001b[1;32m~\\AppData\\Local\\Temp/ipykernel_4180/2903752958.py\u001b[0m in \u001b[0;36m<module>\u001b[1;34m\u001b[0m\n\u001b[1;32m----> 1\u001b[1;33m \u001b[0mprint\u001b[0m\u001b[1;33m(\u001b[0m\u001b[0mnext\u001b[0m\u001b[1;33m(\u001b[0m\u001b[0mmyrange\u001b[0m\u001b[1;33m)\u001b[0m\u001b[1;33m)\u001b[0m\u001b[1;33m\u001b[0m\u001b[1;33m\u001b[0m\u001b[0m\n\u001b[0m\u001b[0;32m      2\u001b[0m \u001b[0mprint\u001b[0m\u001b[1;33m(\u001b[0m\u001b[0mnext\u001b[0m\u001b[1;33m(\u001b[0m\u001b[0mmyrange\u001b[0m\u001b[1;33m)\u001b[0m\u001b[1;33m)\u001b[0m\u001b[1;33m\u001b[0m\u001b[1;33m\u001b[0m\u001b[0m\n\u001b[0;32m      3\u001b[0m \u001b[0mprint\u001b[0m\u001b[1;33m(\u001b[0m\u001b[0mnext\u001b[0m\u001b[1;33m(\u001b[0m\u001b[0mmyrange\u001b[0m\u001b[1;33m)\u001b[0m\u001b[1;33m)\u001b[0m\u001b[1;33m\u001b[0m\u001b[1;33m\u001b[0m\u001b[0m\n",
      "\u001b[1;31mStopIteration\u001b[0m: "
     ]
    }
   ],
   "source": [
    "print(next(myrange))\n",
    "print(next(myrange))\n",
    "print(next(myrange))"
   ]
  },
  {
   "cell_type": "code",
   "execution_count": 77,
   "id": "eefc6002",
   "metadata": {},
   "outputs": [
    {
     "data": {
      "text/plain": [
       "106"
      ]
     },
     "execution_count": 77,
     "metadata": {},
     "output_type": "execute_result"
    }
   ],
   "source": [
    "## 04 内置迭代器  enumerate、zip、map、filter、reduce？\n",
    "reduce(lambda x,y:x+y,l,100)"
   ]
  },
  {
   "cell_type": "code",
   "execution_count": 78,
   "id": "b23594ad",
   "metadata": {},
   "outputs": [
    {
     "name": "stdout",
     "output_type": "stream",
     "text": [
      "True\n",
      "True\n",
      "True\n",
      "True\n",
      "False\n"
     ]
    }
   ],
   "source": [
    "from functools import reduce\n",
    "l=[1,2,3]\n",
    "r=[4,5,6]\n",
    "print(isinstance(enumerate(r),abc.Iterator))\n",
    "print(isinstance(zip(r),abc.Iterator))\n",
    "print(isinstance(map(lambda x:x*x,r),abc.Iterator))\n",
    "print(isinstance(filter(lambda x:x>2,r),abc.Iterator))\n",
    "print(isinstance(reduce(lambda x,y:x+y,l,100),abc.Iterator))"
   ]
  },
  {
   "cell_type": "code",
   "execution_count": 80,
   "id": "b04a04e9",
   "metadata": {},
   "outputs": [
    {
     "name": "stdout",
     "output_type": "stream",
     "text": [
      "False\n",
      "True\n",
      "True\n"
     ]
    }
   ],
   "source": [
    "print(isinstance(range(10),abc.Iterator))\n",
    "print(isinstance(range(10),abc.Iterable))\n",
    "print(isinstance(iter(range(10)),abc.Iterator))"
   ]
  },
  {
   "cell_type": "markdown",
   "id": "06a5ed1f",
   "metadata": {},
   "source": [
    "### 08.03 专用迭代器"
   ]
  },
  {
   "cell_type": "code",
   "execution_count": 82,
   "id": "92bb89a8",
   "metadata": {},
   "outputs": [
    {
     "name": "stdout",
     "output_type": "stream",
     "text": [
      "['__doc__', '__loader__', '__name__', '__package__', '__spec__', '_grouper', '_tee', '_tee_dataobject', 'accumulate', 'chain', 'combinations', 'combinations_with_replacement', 'compress', 'count', 'cycle', 'dropwhile', 'filterfalse', 'groupby', 'islice', 'permutations', 'product', 'repeat', 'starmap', 'takewhile', 'tee', 'zip_longest']\n"
     ]
    }
   ],
   "source": [
    "import itertools\n",
    "print(dir(itertools))"
   ]
  },
  {
   "cell_type": "code",
   "execution_count": 83,
   "id": "5f4e7bfc",
   "metadata": {},
   "outputs": [],
   "source": [
    "# 专用迭代器的分类\n",
    "    # 无穷迭代器 ： count、cycle、repeat\n",
    "    # 有限迭代器 ： accumulate、compress、dropwhile、filterfalse、islice、starmap、takewhile\n",
    "    # 排列组合迭代器 ： permudations、combinations、product、combinations_with_replacement"
   ]
  },
  {
   "cell_type": "code",
   "execution_count": 84,
   "id": "63b7a33a",
   "metadata": {},
   "outputs": [],
   "source": [
    "# 01 无穷迭代器\n",
    "## count函数(start=n,step=1)"
   ]
  },
  {
   "cell_type": "code",
   "execution_count": 89,
   "id": "2a342aea",
   "metadata": {},
   "outputs": [
    {
     "name": "stdout",
     "output_type": "stream",
     "text": [
      "True\n"
     ]
    }
   ],
   "source": [
    "counter=itertools.count()\n",
    "print(isinstance(counter,abc.Iterator))"
   ]
  },
  {
   "cell_type": "code",
   "execution_count": 90,
   "id": "be1dab12",
   "metadata": {},
   "outputs": [
    {
     "name": "stdout",
     "output_type": "stream",
     "text": [
      "0\n",
      "1\n",
      "2\n",
      "3\n",
      "4\n"
     ]
    }
   ],
   "source": [
    "print(next(counter))\n",
    "print(next(counter))\n",
    "print(next(counter))\n",
    "print(next(counter))\n",
    "print(next(counter))"
   ]
  },
  {
   "cell_type": "code",
   "execution_count": 91,
   "id": "35c77dd4",
   "metadata": {},
   "outputs": [],
   "source": [
    "data=[91,90,89,99]"
   ]
  },
  {
   "cell_type": "code",
   "execution_count": 98,
   "id": "d900dd1f",
   "metadata": {},
   "outputs": [
    {
     "name": "stdout",
     "output_type": "stream",
     "text": [
      "<zip object at 0x00000219AA194A80>\n"
     ]
    }
   ],
   "source": [
    "scorels=zip(itertools.count(start=1),data)\n",
    "print(scorels)"
   ]
  },
  {
   "cell_type": "code",
   "execution_count": 99,
   "id": "91b69d93",
   "metadata": {},
   "outputs": [
    {
     "name": "stdout",
     "output_type": "stream",
     "text": [
      "[(1, 91), (2, 90), (3, 89), (4, 99)]\n"
     ]
    }
   ],
   "source": [
    "print(list(scorels))"
   ]
  },
  {
   "cell_type": "code",
   "execution_count": 100,
   "id": "6203ea5e",
   "metadata": {},
   "outputs": [
    {
     "name": "stdout",
     "output_type": "stream",
     "text": [
      "30\n",
      "32\n",
      "34\n",
      "36\n",
      "38\n"
     ]
    }
   ],
   "source": [
    "counter=itertools.count(start=30,step=2)\n",
    "print(next(counter))\n",
    "print(next(counter))\n",
    "print(next(counter))\n",
    "print(next(counter))\n",
    "print(next(counter))"
   ]
  },
  {
   "cell_type": "code",
   "execution_count": 101,
   "id": "5503bd17",
   "metadata": {},
   "outputs": [
    {
     "name": "stdout",
     "output_type": "stream",
     "text": [
      "30\n",
      "25\n",
      "20\n",
      "15\n",
      "10\n"
     ]
    }
   ],
   "source": [
    "counter=itertools.count(start=30,step=-5)\n",
    "print(next(counter))\n",
    "print(next(counter))\n",
    "print(next(counter))\n",
    "print(next(counter))\n",
    "print(next(counter))"
   ]
  },
  {
   "cell_type": "code",
   "execution_count": 102,
   "id": "2ec76f3a",
   "metadata": {},
   "outputs": [],
   "source": [
    "## cycle 将有限序列转换为无穷序列"
   ]
  },
  {
   "cell_type": "code",
   "execution_count": 103,
   "id": "18e1cfca",
   "metadata": {},
   "outputs": [
    {
     "name": "stdout",
     "output_type": "stream",
     "text": [
      "Mon\n",
      "Tues\n",
      "Wedns\n",
      "Thurs\n",
      "Fri\n",
      "Sat\n",
      "Sun\n",
      "Mon\n",
      "Tues\n"
     ]
    }
   ],
   "source": [
    "cyclewk=itertools.cycle(('Mon','Tues','Wedns','Thurs','Fri','Sat','Sun'))\n",
    "print(next(cyclewk))\n",
    "print(next(cyclewk))\n",
    "print(next(cyclewk))\n",
    "print(next(cyclewk))\n",
    "print(next(cyclewk))\n",
    "print(next(cyclewk))\n",
    "print(next(cyclewk))\n",
    "print(next(cyclewk))\n",
    "print(next(cyclewk))"
   ]
  },
  {
   "cell_type": "code",
   "execution_count": 106,
   "id": "097f6e77",
   "metadata": {},
   "outputs": [],
   "source": [
    "## repeat \n",
    "repeatmon=itertools.repeat('Mon',times=3)"
   ]
  },
  {
   "cell_type": "code",
   "execution_count": 107,
   "id": "706f0b8b",
   "metadata": {},
   "outputs": [
    {
     "name": "stdout",
     "output_type": "stream",
     "text": [
      "Mon\n",
      "Mon\n",
      "Mon\n"
     ]
    },
    {
     "ename": "StopIteration",
     "evalue": "",
     "output_type": "error",
     "traceback": [
      "\u001b[1;31m---------------------------------------------------------------------------\u001b[0m",
      "\u001b[1;31mStopIteration\u001b[0m                             Traceback (most recent call last)",
      "\u001b[1;32m~\\AppData\\Local\\Temp/ipykernel_4180/3528482666.py\u001b[0m in \u001b[0;36m<module>\u001b[1;34m\u001b[0m\n\u001b[0;32m      2\u001b[0m \u001b[0mprint\u001b[0m\u001b[1;33m(\u001b[0m\u001b[0mnext\u001b[0m\u001b[1;33m(\u001b[0m\u001b[0mrepeatmon\u001b[0m\u001b[1;33m)\u001b[0m\u001b[1;33m)\u001b[0m\u001b[1;33m\u001b[0m\u001b[1;33m\u001b[0m\u001b[0m\n\u001b[0;32m      3\u001b[0m \u001b[0mprint\u001b[0m\u001b[1;33m(\u001b[0m\u001b[0mnext\u001b[0m\u001b[1;33m(\u001b[0m\u001b[0mrepeatmon\u001b[0m\u001b[1;33m)\u001b[0m\u001b[1;33m)\u001b[0m\u001b[1;33m\u001b[0m\u001b[1;33m\u001b[0m\u001b[0m\n\u001b[1;32m----> 4\u001b[1;33m \u001b[0mprint\u001b[0m\u001b[1;33m(\u001b[0m\u001b[0mnext\u001b[0m\u001b[1;33m(\u001b[0m\u001b[0mrepeatmon\u001b[0m\u001b[1;33m)\u001b[0m\u001b[1;33m)\u001b[0m\u001b[1;33m\u001b[0m\u001b[1;33m\u001b[0m\u001b[0m\n\u001b[0m",
      "\u001b[1;31mStopIteration\u001b[0m: "
     ]
    }
   ],
   "source": [
    "print(next(repeatmon))\n",
    "print(next(repeatmon))\n",
    "print(next(repeatmon))\n",
    "print(next(repeatmon))"
   ]
  },
  {
   "cell_type": "code",
   "execution_count": 108,
   "id": "3c79c740",
   "metadata": {},
   "outputs": [
    {
     "data": {
      "text/plain": [
       "[0, 1, 4, 9, 16]"
      ]
     },
     "execution_count": 108,
     "metadata": {},
     "output_type": "execute_result"
    }
   ],
   "source": [
    "square=map(pow,range(5),itertools.repeat(2))\n",
    "list(square)"
   ]
  },
  {
   "cell_type": "code",
   "execution_count": 109,
   "id": "6d3f0406",
   "metadata": {},
   "outputs": [
    {
     "name": "stdout",
     "output_type": "stream",
     "text": [
      "2\n",
      "2\n"
     ]
    }
   ],
   "source": [
    "myls=itertools.repeat(2)\n",
    "print(next(myls))\n",
    "print(next(myls))"
   ]
  },
  {
   "cell_type": "code",
   "execution_count": 110,
   "id": "5a287d8a",
   "metadata": {},
   "outputs": [
    {
     "data": {
      "text/plain": [
       "[1, 2, 4, 8, 16]"
      ]
     },
     "execution_count": 110,
     "metadata": {},
     "output_type": "execute_result"
    }
   ],
   "source": [
    "square=map(pow,itertools.repeat(2),range(5))\n",
    "list(square)"
   ]
  },
  {
   "cell_type": "code",
   "execution_count": 112,
   "id": "c04239ba",
   "metadata": {},
   "outputs": [
    {
     "data": {
      "text/plain": [
       "[1, 2, 4]"
      ]
     },
     "execution_count": 112,
     "metadata": {},
     "output_type": "execute_result"
    }
   ],
   "source": [
    "square=map(pow,itertools.repeat(2,times=3),range(5))\n",
    "list(square)"
   ]
  },
  {
   "cell_type": "code",
   "execution_count": null,
   "id": "805de297",
   "metadata": {},
   "outputs": [],
   "source": [
    "# 02 有限迭代器\n",
    "## accumulate、compress、dropwhile、filterfalse、islice、starmap、takewhile"
   ]
  },
  {
   "cell_type": "code",
   "execution_count": 113,
   "id": "da3c9b89",
   "metadata": {},
   "outputs": [],
   "source": [
    "## accumulate(iterable,func)"
   ]
  },
  {
   "cell_type": "code",
   "execution_count": 114,
   "id": "a1f1f447",
   "metadata": {},
   "outputs": [],
   "source": [
    "data=[1,2,3,4,5]"
   ]
  },
  {
   "cell_type": "code",
   "execution_count": 115,
   "id": "fb09bd5d",
   "metadata": {},
   "outputs": [
    {
     "data": {
      "text/plain": [
       "[1, 3, 6, 10, 15]"
      ]
     },
     "execution_count": 115,
     "metadata": {},
     "output_type": "execute_result"
    }
   ],
   "source": [
    "list(itertools.accumulate(data))"
   ]
  },
  {
   "cell_type": "code",
   "execution_count": 117,
   "id": "d119bb8e",
   "metadata": {},
   "outputs": [
    {
     "data": {
      "text/plain": [
       "[1, 2, 6, 24, 120]"
      ]
     },
     "execution_count": 117,
     "metadata": {},
     "output_type": "execute_result"
    }
   ],
   "source": [
    "import operator\n",
    "list(itertools.accumulate(data,func=operator.mul))"
   ]
  },
  {
   "cell_type": "code",
   "execution_count": 119,
   "id": "9826abc0",
   "metadata": {},
   "outputs": [
    {
     "data": {
      "text/plain": [
       "[1, 2, 3, 4, 5]"
      ]
     },
     "execution_count": 119,
     "metadata": {},
     "output_type": "execute_result"
    }
   ],
   "source": [
    "list(itertools.accumulate(data,max))"
   ]
  },
  {
   "cell_type": "code",
   "execution_count": 120,
   "id": "94353509",
   "metadata": {},
   "outputs": [
    {
     "data": {
      "text/plain": [
       "[5, 7, 8, 15, 21]"
      ]
     },
     "execution_count": 120,
     "metadata": {},
     "output_type": "execute_result"
    }
   ],
   "source": [
    "data=[5,2,1,7,6]\n",
    "list(itertools.accumulate(data))"
   ]
  },
  {
   "cell_type": "code",
   "execution_count": 122,
   "id": "28c2b530",
   "metadata": {},
   "outputs": [
    {
     "data": {
      "text/plain": [
       "[5, 5, 5, 7, 7]"
      ]
     },
     "execution_count": 122,
     "metadata": {},
     "output_type": "execute_result"
    }
   ],
   "source": [
    "list(itertools.accumulate(data,max))"
   ]
  },
  {
   "cell_type": "code",
   "execution_count": 125,
   "id": "e11d412c",
   "metadata": {},
   "outputs": [
    {
     "data": {
      "text/plain": [
       "['A', 'C', 'D']"
      ]
     },
     "execution_count": 125,
     "metadata": {},
     "output_type": "execute_result"
    }
   ],
   "source": [
    "## compress(itrable,selectors)"
   ]
  },
  {
   "cell_type": "code",
   "execution_count": 124,
   "id": "5666b288",
   "metadata": {},
   "outputs": [
    {
     "name": "stdout",
     "output_type": "stream",
     "text": [
      "<map object at 0x00000219AAD3C970>\n",
      "['A', '', 'C', 'D', '']\n"
     ]
    }
   ],
   "source": [
    "l1=['A','B','C','D','E']\n",
    "l2=[1,0,1,1,0]\n",
    "mapiter=map(lambda x,y:x*y,l1,l2)\n",
    "print(mapiter)\n",
    "print(list(mapiter))"
   ]
  },
  {
   "cell_type": "code",
   "execution_count": 126,
   "id": "70bb1e33",
   "metadata": {},
   "outputs": [
    {
     "data": {
      "text/plain": [
       "['A', 'C', 'D']"
      ]
     },
     "execution_count": 126,
     "metadata": {},
     "output_type": "execute_result"
    }
   ],
   "source": [
    "list(itertools.compress('ABCDE',l2)) #试卷中标准答案与答题纸答案的对比？"
   ]
  },
  {
   "cell_type": "code",
   "execution_count": 127,
   "id": "15415a96",
   "metadata": {},
   "outputs": [
    {
     "data": {
      "text/plain": [
       "['A', 'C', 'D']"
      ]
     },
     "execution_count": 127,
     "metadata": {},
     "output_type": "execute_result"
    }
   ],
   "source": [
    "list(itertools.compress('ABCDEFGH',l2))"
   ]
  },
  {
   "cell_type": "code",
   "execution_count": 128,
   "id": "6db4a079",
   "metadata": {},
   "outputs": [
    {
     "data": {
      "text/plain": [
       "['A', 'C', 'D']"
      ]
     },
     "execution_count": 128,
     "metadata": {},
     "output_type": "execute_result"
    }
   ],
   "source": [
    "list(itertools.compress('ABCD',l2)) #迭代器在较短的序列长度处停止"
   ]
  },
  {
   "cell_type": "code",
   "execution_count": 130,
   "id": "569812e0",
   "metadata": {},
   "outputs": [],
   "source": [
    "## dropwhile(predicate,iterable) 只要predicate不为True，就一直丢弃元素，之后则将其他全部元素返回\n",
    "l=[1,4,5,2,7,5,6]"
   ]
  },
  {
   "cell_type": "code",
   "execution_count": 132,
   "id": "5dd7089a",
   "metadata": {},
   "outputs": [
    {
     "data": {
      "text/plain": [
       "[5, 2, 7, 5, 6]"
      ]
     },
     "execution_count": 132,
     "metadata": {},
     "output_type": "execute_result"
    }
   ],
   "source": [
    "list(itertools.dropwhile(lambda x:x<5,l))"
   ]
  },
  {
   "cell_type": "code",
   "execution_count": 133,
   "id": "2c5fc10c",
   "metadata": {},
   "outputs": [
    {
     "data": {
      "text/plain": [
       "[1, 4, 5, 2, 7, 5, 6]"
      ]
     },
     "execution_count": 133,
     "metadata": {},
     "output_type": "execute_result"
    }
   ],
   "source": [
    "## takewhile(predicate,iterable) 只要predicate不为True，则返回之前的全部元素\n",
    "l"
   ]
  },
  {
   "cell_type": "code",
   "execution_count": 134,
   "id": "102ece12",
   "metadata": {},
   "outputs": [
    {
     "data": {
      "text/plain": [
       "[1, 4]"
      ]
     },
     "execution_count": 134,
     "metadata": {},
     "output_type": "execute_result"
    }
   ],
   "source": [
    "list(itertools.takewhile(lambda x:x<5,l))"
   ]
  },
  {
   "cell_type": "code",
   "execution_count": 135,
   "id": "9166f983",
   "metadata": {},
   "outputs": [
    {
     "data": {
      "text/plain": [
       "[5, 7, 5, 6]"
      ]
     },
     "execution_count": 135,
     "metadata": {},
     "output_type": "execute_result"
    }
   ],
   "source": [
    "## filterfalse(predicate,iterable) 只返回iterable中predicate为True的元素\n",
    "list(itertools.filterfalse(lambda x:x<5,l))"
   ]
  },
  {
   "cell_type": "code",
   "execution_count": 136,
   "id": "0d14d83c",
   "metadata": {},
   "outputs": [
    {
     "data": {
      "text/plain": [
       "[1, 4, 5, 2, 7, 5, 6]"
      ]
     },
     "execution_count": 136,
     "metadata": {},
     "output_type": "execute_result"
    }
   ],
   "source": [
    "## islice(iterable,start,stop,step)\n",
    "l"
   ]
  },
  {
   "cell_type": "code",
   "execution_count": 137,
   "id": "1ae13162",
   "metadata": {},
   "outputs": [
    {
     "data": {
      "text/plain": [
       "[1, 4, 5]"
      ]
     },
     "execution_count": 137,
     "metadata": {},
     "output_type": "execute_result"
    }
   ],
   "source": [
    "list(itertools.islice(l,3))"
   ]
  },
  {
   "cell_type": "code",
   "execution_count": 138,
   "id": "28d0da94",
   "metadata": {},
   "outputs": [
    {
     "data": {
      "text/plain": [
       "[5, 2]"
      ]
     },
     "execution_count": 138,
     "metadata": {},
     "output_type": "execute_result"
    }
   ],
   "source": [
    "list(itertools.islice(l,2,4))"
   ]
  },
  {
   "cell_type": "code",
   "execution_count": 140,
   "id": "b3cf4060",
   "metadata": {},
   "outputs": [
    {
     "data": {
      "text/plain": [
       "[1, 5, 7, 6]"
      ]
     },
     "execution_count": 140,
     "metadata": {},
     "output_type": "execute_result"
    }
   ],
   "source": [
    "list(itertools.islice(l,0,9,2))"
   ]
  },
  {
   "cell_type": "code",
   "execution_count": 141,
   "id": "dbbea010",
   "metadata": {},
   "outputs": [
    {
     "data": {
      "text/plain": [
       "[1, 5, 7, 6]"
      ]
     },
     "execution_count": 141,
     "metadata": {},
     "output_type": "execute_result"
    }
   ],
   "source": [
    "list(itertools.islice(l,0,None,2))"
   ]
  },
  {
   "cell_type": "code",
   "execution_count": 143,
   "id": "93839947",
   "metadata": {},
   "outputs": [
    {
     "data": {
      "text/plain": [
       "[1, 81, 15625]"
      ]
     },
     "execution_count": 143,
     "metadata": {},
     "output_type": "execute_result"
    }
   ],
   "source": [
    "## starmap(func,iterable)  *args\n",
    "list(itertools.starmap(pow,[(1,2),(3,4),(5,6)]))"
   ]
  },
  {
   "cell_type": "code",
   "execution_count": 144,
   "id": "839ab5d9",
   "metadata": {},
   "outputs": [
    {
     "data": {
      "text/plain": [
       "[1, 81, 15625]"
      ]
     },
     "execution_count": 144,
     "metadata": {},
     "output_type": "execute_result"
    }
   ],
   "source": [
    "list(map(pow,(1,3,5),(2,4,6)))"
   ]
  },
  {
   "cell_type": "code",
   "execution_count": 145,
   "id": "143d4ef6",
   "metadata": {},
   "outputs": [
    {
     "data": {
      "text/plain": [
       "[1, 81, 15625]"
      ]
     },
     "execution_count": 145,
     "metadata": {},
     "output_type": "execute_result"
    }
   ],
   "source": [
    "a,b=zip((1,2),(3,4),(5,6))\n",
    "list(map(pow,a,b))"
   ]
  },
  {
   "cell_type": "code",
   "execution_count": null,
   "id": "ac31ac1e",
   "metadata": {},
   "outputs": [],
   "source": [
    "## chain(*iterable)"
   ]
  },
  {
   "cell_type": "code",
   "execution_count": 146,
   "id": "e6cb0aba",
   "metadata": {},
   "outputs": [],
   "source": [
    "filmnames=['长津湖之水门桥','这个杀手不太冷静','奇迹·笨小孩','穿过寒冬拥抱你','熊出没·重返地球','反贪风暴5：最终章','四海','李茂扮太子','狙击手','误杀2']\n",
    "filmtypes=['战争','喜剧','剧情','剧情','动画','动作','剧情','喜剧','剧情','剧情']\n",
    "filmboos=['264,508','147,373','71,614','66,520','60,996','48,126','47,970','46,230','28,504','28,270']"
   ]
  },
  {
   "cell_type": "code",
   "execution_count": 147,
   "id": "daada3b0",
   "metadata": {},
   "outputs": [],
   "source": [
    "chnboo=itertools.chain(filmnames,filmtypes,filmboos)"
   ]
  },
  {
   "cell_type": "code",
   "execution_count": 148,
   "id": "309e6f6a",
   "metadata": {},
   "outputs": [
    {
     "name": "stdout",
     "output_type": "stream",
     "text": [
      "长津湖之水门桥\n",
      "这个杀手不太冷静\n",
      "奇迹·笨小孩\n",
      "穿过寒冬拥抱你\n",
      "熊出没·重返地球\n",
      "反贪风暴5：最终章\n",
      "四海\n",
      "李茂扮太子\n",
      "狙击手\n",
      "误杀2\n",
      "战争\n",
      "喜剧\n",
      "剧情\n",
      "剧情\n",
      "动画\n",
      "动作\n",
      "剧情\n",
      "喜剧\n",
      "剧情\n",
      "剧情\n",
      "264,508\n",
      "147,373\n",
      "71,614\n",
      "66,520\n",
      "60,996\n",
      "48,126\n",
      "47,970\n",
      "46,230\n",
      "28,504\n",
      "28,270\n"
     ]
    }
   ],
   "source": [
    "for film in chnboo:\n",
    "    print(film)"
   ]
  },
  {
   "cell_type": "code",
   "execution_count": 149,
   "id": "0c8fec9e",
   "metadata": {},
   "outputs": [
    {
     "data": {
      "text/plain": [
       "'28,270'"
      ]
     },
     "execution_count": 149,
     "metadata": {},
     "output_type": "execute_result"
    }
   ],
   "source": [
    "film"
   ]
  },
  {
   "cell_type": "code",
   "execution_count": 150,
   "id": "bffb50c1",
   "metadata": {},
   "outputs": [],
   "source": [
    "chnboo2=zip(filmnames,filmtypes,filmboos)"
   ]
  },
  {
   "cell_type": "code",
   "execution_count": 151,
   "id": "2f7e79f6",
   "metadata": {},
   "outputs": [
    {
     "name": "stdout",
     "output_type": "stream",
     "text": [
      "('长津湖之水门桥', '战争', '264,508')\n",
      "('这个杀手不太冷静', '喜剧', '147,373')\n",
      "('奇迹·笨小孩', '剧情', '71,614')\n",
      "('穿过寒冬拥抱你', '剧情', '66,520')\n",
      "('熊出没·重返地球', '动画', '60,996')\n",
      "('反贪风暴5：最终章', '动作', '48,126')\n",
      "('四海', '剧情', '47,970')\n",
      "('李茂扮太子', '喜剧', '46,230')\n",
      "('狙击手', '剧情', '28,504')\n",
      "('误杀2', '剧情', '28,270')\n"
     ]
    }
   ],
   "source": [
    "for film in chnboo2:\n",
    "    print(film)"
   ]
  },
  {
   "cell_type": "code",
   "execution_count": 152,
   "id": "c0bb3c54",
   "metadata": {},
   "outputs": [],
   "source": [
    "## 03 排列组合迭代器\n",
    "## permudations、combinations、product、combinations_with_replacement"
   ]
  },
  {
   "cell_type": "code",
   "execution_count": null,
   "id": "1c508ff1",
   "metadata": {},
   "outputs": [],
   "source": [
    "## permudations 无序，无重复元素"
   ]
  },
  {
   "cell_type": "code",
   "execution_count": 153,
   "id": "c462dd67",
   "metadata": {},
   "outputs": [],
   "source": [
    "l=[1,2,3,4]"
   ]
  },
  {
   "cell_type": "code",
   "execution_count": 154,
   "id": "d3c04ab9",
   "metadata": {},
   "outputs": [
    {
     "name": "stdout",
     "output_type": "stream",
     "text": [
      "(1, 2, 3, 4)\n",
      "(1, 2, 4, 3)\n",
      "(1, 3, 2, 4)\n",
      "(1, 3, 4, 2)\n",
      "(1, 4, 2, 3)\n",
      "(1, 4, 3, 2)\n",
      "(2, 1, 3, 4)\n",
      "(2, 1, 4, 3)\n",
      "(2, 3, 1, 4)\n",
      "(2, 3, 4, 1)\n",
      "(2, 4, 1, 3)\n",
      "(2, 4, 3, 1)\n",
      "(3, 1, 2, 4)\n",
      "(3, 1, 4, 2)\n",
      "(3, 2, 1, 4)\n",
      "(3, 2, 4, 1)\n",
      "(3, 4, 1, 2)\n",
      "(3, 4, 2, 1)\n",
      "(4, 1, 2, 3)\n",
      "(4, 1, 3, 2)\n",
      "(4, 2, 1, 3)\n",
      "(4, 2, 3, 1)\n",
      "(4, 3, 1, 2)\n",
      "(4, 3, 2, 1)\n"
     ]
    }
   ],
   "source": [
    "result=itertools.permutations(l)\n",
    "for items in result:\n",
    "    print(items)"
   ]
  },
  {
   "cell_type": "code",
   "execution_count": 155,
   "id": "82110080",
   "metadata": {},
   "outputs": [
    {
     "name": "stdout",
     "output_type": "stream",
     "text": [
      "(1, 2)\n",
      "(1, 3)\n",
      "(1, 4)\n",
      "(2, 1)\n",
      "(2, 3)\n",
      "(2, 4)\n",
      "(3, 1)\n",
      "(3, 2)\n",
      "(3, 4)\n",
      "(4, 1)\n",
      "(4, 2)\n",
      "(4, 3)\n"
     ]
    }
   ],
   "source": [
    "result=itertools.permutations(l,2)\n",
    "for items in result:\n",
    "    print(items)"
   ]
  },
  {
   "cell_type": "code",
   "execution_count": 157,
   "id": "001c68b7",
   "metadata": {},
   "outputs": [
    {
     "name": "stdout",
     "output_type": "stream",
     "text": [
      "(1, 2)\n",
      "(1, 3)\n",
      "(1, 4)\n",
      "(2, 3)\n",
      "(2, 4)\n",
      "(3, 4)\n"
     ]
    }
   ],
   "source": [
    "# combinations (iterable,r=None)  有序\n",
    "result=itertools.combinations(l,r=2)\n",
    "for items in result:\n",
    "    print(items)"
   ]
  },
  {
   "cell_type": "code",
   "execution_count": 159,
   "id": "12d32142",
   "metadata": {},
   "outputs": [
    {
     "name": "stdout",
     "output_type": "stream",
     "text": [
      "(1, 1)\n",
      "(1, 2)\n",
      "(1, 3)\n",
      "(1, 4)\n",
      "(2, 1)\n",
      "(2, 2)\n",
      "(2, 3)\n",
      "(2, 4)\n",
      "(3, 1)\n",
      "(3, 2)\n",
      "(3, 3)\n",
      "(3, 4)\n",
      "(4, 1)\n",
      "(4, 2)\n",
      "(4, 3)\n",
      "(4, 4)\n"
     ]
    }
   ],
   "source": [
    "# product (iterable,repeat=None)  不同位置元素可以重复\n",
    "result=itertools.product(l,repeat=2)\n",
    "for items in result:\n",
    "    print(items)"
   ]
  },
  {
   "cell_type": "code",
   "execution_count": 161,
   "id": "35df78d7",
   "metadata": {},
   "outputs": [
    {
     "name": "stdout",
     "output_type": "stream",
     "text": [
      "(1, 1)\n",
      "(1, 2)\n",
      "(1, 3)\n",
      "(1, 4)\n",
      "(2, 2)\n",
      "(2, 3)\n",
      "(2, 4)\n",
      "(3, 3)\n",
      "(3, 4)\n",
      "(4, 4)\n"
     ]
    }
   ],
   "source": [
    "# combinations_with_replacement(iterable,r)\n",
    "result=itertools.combinations_with_replacement(l,2)\n",
    "for items in result:\n",
    "    print(items)"
   ]
  },
  {
   "cell_type": "code",
   "execution_count": 165,
   "id": "f4840ce4",
   "metadata": {},
   "outputs": [],
   "source": [
    "# 小结：\n",
    "l=[1,2,3,4]\n",
    "r=2\n",
    "\n",
    "def myiteranaly(iterable,r):\n",
    "    n=len(l)\n",
    "    i=0\n",
    "    \n",
    "    print('\\n穷举：product\\n')\n",
    "    for items in itertools.product(l,repeat=r):\n",
    "        i+=1\n",
    "        print(items)\n",
    "    print(f'\\n{n}选{r}的穷举有{i}种情况')\n",
    "    \n",
    "    i=0\n",
    "    print('\\n排列：permutations\\n')\n",
    "    for items in itertools.permutations(l,r):\n",
    "        i+=1\n",
    "        print(items)\n",
    "    print(f'\\n{n}选{r}的排列有{i}种情况')\n",
    "    \n",
    "    i=0\n",
    "    print('\\n置换组合：combinations_with_replacement\\n')\n",
    "    for items in itertools.combinations_with_replacement(l,r):\n",
    "        i+=1\n",
    "        print(items)\n",
    "    print(f'\\n{n}选{r}的置换组合有{i}种情况')\n",
    "    \n",
    "    i=0\n",
    "    print('\\n组合：combinations\\n')\n",
    "    for items in itertools.combinations(l,r):\n",
    "        i+=1\n",
    "        print(items)\n",
    "    print(f'\\n{n}选{r}的组合有{i}种情况')"
   ]
  },
  {
   "cell_type": "code",
   "execution_count": 166,
   "id": "a0031f33",
   "metadata": {},
   "outputs": [
    {
     "name": "stdout",
     "output_type": "stream",
     "text": [
      "\n",
      "穷举：product\n",
      "\n",
      "(1, 1)\n",
      "(1, 2)\n",
      "(1, 3)\n",
      "(1, 4)\n",
      "(2, 1)\n",
      "(2, 2)\n",
      "(2, 3)\n",
      "(2, 4)\n",
      "(3, 1)\n",
      "(3, 2)\n",
      "(3, 3)\n",
      "(3, 4)\n",
      "(4, 1)\n",
      "(4, 2)\n",
      "(4, 3)\n",
      "(4, 4)\n",
      "\n",
      "4选2的穷举有16种情况\n",
      "\n",
      "排列：permutations\n",
      "\n",
      "(1, 2)\n",
      "(1, 3)\n",
      "(1, 4)\n",
      "(2, 1)\n",
      "(2, 3)\n",
      "(2, 4)\n",
      "(3, 1)\n",
      "(3, 2)\n",
      "(3, 4)\n",
      "(4, 1)\n",
      "(4, 2)\n",
      "(4, 3)\n",
      "\n",
      "4选2的排列有12种情况\n",
      "\n",
      "置换组合：combinations_with_replacement\n",
      "\n",
      "(1, 1)\n",
      "(1, 2)\n",
      "(1, 3)\n",
      "(1, 4)\n",
      "(2, 2)\n",
      "(2, 3)\n",
      "(2, 4)\n",
      "(3, 3)\n",
      "(3, 4)\n",
      "(4, 4)\n",
      "\n",
      "4选2的置换组合有10种情况\n",
      "\n",
      "组合：combinations\n",
      "\n",
      "(1, 2)\n",
      "(1, 3)\n",
      "(1, 4)\n",
      "(2, 3)\n",
      "(2, 4)\n",
      "(3, 4)\n",
      "\n",
      "4选2的组合有6种情况\n"
     ]
    }
   ],
   "source": [
    "myiteranaly(l,r)"
   ]
  }
 ],
 "metadata": {
  "kernelspec": {
   "display_name": "Python 3 (ipykernel)",
   "language": "python",
   "name": "python3"
  },
  "language_info": {
   "codemirror_mode": {
    "name": "ipython",
    "version": 3
   },
   "file_extension": ".py",
   "mimetype": "text/x-python",
   "name": "python",
   "nbconvert_exporter": "python",
   "pygments_lexer": "ipython3",
   "version": "3.9.7"
  }
 },
 "nbformat": 4,
 "nbformat_minor": 5
}
