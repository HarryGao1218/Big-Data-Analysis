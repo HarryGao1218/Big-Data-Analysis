{
 "cells": [
  {
   "cell_type": "markdown",
   "id": "bfa0d87c",
   "metadata": {},
   "source": [
    "# 01Python基础04——函数基础"
   ]
  },
  {
   "cell_type": "markdown",
   "id": "a2c7deaa",
   "metadata": {},
   "source": [
    "## 01 函数概述"
   ]
  },
  {
   "cell_type": "code",
   "execution_count": null,
   "id": "86d0d1d4",
   "metadata": {},
   "outputs": [],
   "source": [
    "# y=ax+b x-映射->y\n",
    "def myfun(x):\n",
    "    return 2*x+3"
   ]
  },
  {
   "cell_type": "code",
   "execution_count": null,
   "id": "7c3afa83",
   "metadata": {},
   "outputs": [],
   "source": [
    "x=int(input())\n",
    "y=myfun(x)\n",
    "print(\"你输入的数据是\",str(x),\"其结果是\",str(y))"
   ]
  },
  {
   "cell_type": "code",
   "execution_count": 6,
   "id": "8f8e3844",
   "metadata": {},
   "outputs": [],
   "source": [
    "#为什么要使用函数？\n",
    "    ##可以重复使用\n",
    "    ##模块化\n",
    "    ##可以对参数进行作用域限定 global local"
   ]
  },
  {
   "cell_type": "code",
   "execution_count": null,
   "id": "14112740",
   "metadata": {},
   "outputs": [],
   "source": [
    "## 抽象与重复  消除WET(Write Every Time),达到DRY(Don't Repeat Yourself)\n",
    "def myfun2():\n",
    "    x=int(input())\n",
    "    y=myfun(x)\n",
    "    print(\"你输入的数据是\",str(x),\"其结果是\",str(y))"
   ]
  },
  {
   "cell_type": "code",
   "execution_count": null,
   "id": "b48495b9",
   "metadata": {},
   "outputs": [],
   "source": [
    "myfun2()"
   ]
  },
  {
   "cell_type": "code",
   "execution_count": null,
   "id": "6024cc0f",
   "metadata": {},
   "outputs": [],
   "source": [
    "## 模块化\n",
    "# 先读取文件\n",
    "def readfile():\n",
    "    \n",
    "# 对文件进行操作\n",
    "def operatefile():\n",
    "    \n",
    "# 对文件进行保存\n",
    "def closefile():\n",
    "    "
   ]
  },
  {
   "cell_type": "code",
   "execution_count": null,
   "id": "ed5d7074",
   "metadata": {},
   "outputs": [],
   "source": [
    "## 命名空间 容器 姓氏 李 三  www.icourse163.org\n",
    "    ##Local:在一个函数或者类方法内部的使用范围\n",
    "    ##Global:最外层(最高层)的对象\n",
    "    ##Enclosed:在嵌套函数使用的\n",
    "    ##Built-in:Python为自身保留的特殊方法"
   ]
  },
  {
   "cell_type": "code",
   "execution_count": 1,
   "id": "db0ce789",
   "metadata": {},
   "outputs": [
    {
     "name": "stdout",
     "output_type": "stream",
     "text": [
      "43\n"
     ]
    }
   ],
   "source": [
    "x=20  #global\n",
    "def myfun(x):\n",
    "    x=10\n",
    "    print('local',2*x+3)\n",
    "print(myfun(x))"
   ]
  },
  {
   "cell_type": "code",
   "execution_count": 2,
   "id": "91c6e5dd",
   "metadata": {},
   "outputs": [
    {
     "data": {
      "text/plain": [
       "43"
      ]
     },
     "execution_count": 2,
     "metadata": {},
     "output_type": "execute_result"
    }
   ],
   "source": [
    "x=20\n",
    "myfun(x)"
   ]
  },
  {
   "cell_type": "code",
   "execution_count": 5,
   "id": "375d76a9",
   "metadata": {},
   "outputs": [
    {
     "name": "stdout",
     "output_type": "stream",
     "text": [
      "local 23\n",
      "global 20\n"
     ]
    }
   ],
   "source": [
    "x=20  #global\n",
    "def myfun():\n",
    "    x=10\n",
    "    print('local',2*x+3)\n",
    "myfun()\n",
    "print('global',x)\n",
    "# print(myfun(x))"
   ]
  },
  {
   "cell_type": "code",
   "execution_count": 6,
   "id": "a8caebf7",
   "metadata": {},
   "outputs": [
    {
     "name": "stdout",
     "output_type": "stream",
     "text": [
      "['ArithmeticError', 'AssertionError', 'AttributeError', 'BaseException', 'BlockingIOError', 'BrokenPipeError', 'BufferError', 'BytesWarning', 'ChildProcessError', 'ConnectionAbortedError', 'ConnectionError', 'ConnectionRefusedError', 'ConnectionResetError', 'DeprecationWarning', 'EOFError', 'Ellipsis', 'EnvironmentError', 'Exception', 'False', 'FileExistsError', 'FileNotFoundError', 'FloatingPointError', 'FutureWarning', 'GeneratorExit', 'IOError', 'ImportError', 'ImportWarning', 'IndentationError', 'IndexError', 'InterruptedError', 'IsADirectoryError', 'KeyError', 'KeyboardInterrupt', 'LookupError', 'MemoryError', 'ModuleNotFoundError', 'NameError', 'None', 'NotADirectoryError', 'NotImplemented', 'NotImplementedError', 'OSError', 'OverflowError', 'PendingDeprecationWarning', 'PermissionError', 'ProcessLookupError', 'RecursionError', 'ReferenceError', 'ResourceWarning', 'RuntimeError', 'RuntimeWarning', 'StopAsyncIteration', 'StopIteration', 'SyntaxError', 'SyntaxWarning', 'SystemError', 'SystemExit', 'TabError', 'TimeoutError', 'True', 'TypeError', 'UnboundLocalError', 'UnicodeDecodeError', 'UnicodeEncodeError', 'UnicodeError', 'UnicodeTranslateError', 'UnicodeWarning', 'UserWarning', 'ValueError', 'Warning', 'WindowsError', 'ZeroDivisionError', '__IPYTHON__', '__build_class__', '__debug__', '__doc__', '__import__', '__loader__', '__name__', '__package__', '__spec__', 'abs', 'all', 'any', 'ascii', 'bin', 'bool', 'breakpoint', 'bytearray', 'bytes', 'callable', 'chr', 'classmethod', 'compile', 'complex', 'copyright', 'credits', 'delattr', 'dict', 'dir', 'display', 'divmod', 'enumerate', 'eval', 'exec', 'execfile', 'filter', 'float', 'format', 'frozenset', 'get_ipython', 'getattr', 'globals', 'hasattr', 'hash', 'help', 'hex', 'id', 'input', 'int', 'isinstance', 'issubclass', 'iter', 'len', 'license', 'list', 'locals', 'map', 'max', 'memoryview', 'min', 'next', 'object', 'oct', 'open', 'ord', 'pow', 'print', 'property', 'range', 'repr', 'reversed', 'round', 'runfile', 'set', 'setattr', 'slice', 'sorted', 'staticmethod', 'str', 'sum', 'super', 'tuple', 'type', 'vars', 'zip']\n"
     ]
    }
   ],
   "source": [
    "#built-in 内建函数\n",
    "import builtins\n",
    "print(dir(builtins))"
   ]
  },
  {
   "cell_type": "code",
   "execution_count": 7,
   "id": "fc49e33f",
   "metadata": {},
   "outputs": [
    {
     "data": {
      "text/plain": [
       "10"
      ]
     },
     "execution_count": 7,
     "metadata": {},
     "output_type": "execute_result"
    }
   ],
   "source": [
    "max(10,1)"
   ]
  },
  {
   "cell_type": "code",
   "execution_count": 8,
   "id": "12a9576d",
   "metadata": {},
   "outputs": [],
   "source": [
    "def max(x,y):\n",
    "    if x>=y:\n",
    "        print('两数较大值是：',x)\n",
    "    else:\n",
    "        print('两数较大值是：',y)"
   ]
  },
  {
   "cell_type": "code",
   "execution_count": 9,
   "id": "0f31c157",
   "metadata": {},
   "outputs": [
    {
     "name": "stdout",
     "output_type": "stream",
     "text": [
      "两数较大值是： 10\n"
     ]
    }
   ],
   "source": [
    "max(10,1)"
   ]
  },
  {
   "cell_type": "code",
   "execution_count": 10,
   "id": "fc97d3bc",
   "metadata": {},
   "outputs": [
    {
     "data": {
      "text/plain": [
       "10"
      ]
     },
     "execution_count": 10,
     "metadata": {},
     "output_type": "execute_result"
    }
   ],
   "source": [
    "del max\n",
    "max(10,1)"
   ]
  },
  {
   "cell_type": "code",
   "execution_count": null,
   "id": "45a825f5",
   "metadata": {},
   "outputs": [],
   "source": [
    "#enclose作用域\n",
    "x=20\n",
    "def myfun2():\n",
    "    x=int(input())\n",
    "    def myfun():\n",
    "        y=x*2+10\n",
    "        print(\"你输入的数据是\",str(x),\"其结果是\",str(y))\n",
    "    myfun()\n",
    "    print(x)\n",
    "myfun2()\n",
    "print(x)"
   ]
  },
  {
   "cell_type": "code",
   "execution_count": null,
   "id": "c70b8991",
   "metadata": {},
   "outputs": [],
   "source": [
    "#查找函数对象的搜索顺序。\n",
    "    ##LOCAL ENCLOSE GLOBAL BUILT-IN  LEGB"
   ]
  },
  {
   "cell_type": "code",
   "execution_count": null,
   "id": "2fc61263",
   "metadata": {},
   "outputs": [],
   "source": [
    "#enclose作用域\n",
    "x=20\n",
    "def myfun():\n",
    "    x=30\n",
    "    print(x)\n",
    "    def myfun():\n",
    "        y=x*2+10\n",
    "        print(\"你输入的数据是\",str(x),\"其结果是\",str(y))\n",
    "    myfun()\n",
    "    print(x)\n",
    "myfun()\n",
    "print(x)"
   ]
  },
  {
   "cell_type": "markdown",
   "id": "7e09ef69",
   "metadata": {},
   "source": [
    "## 02 一般函数"
   ]
  },
  {
   "cell_type": "code",
   "execution_count": null,
   "id": "bd41e273",
   "metadata": {},
   "outputs": [],
   "source": [
    "#普通函数"
   ]
  },
  {
   "cell_type": "code",
   "execution_count": null,
   "id": "fc1352ff",
   "metadata": {},
   "outputs": [],
   "source": [
    "#普通函数中所使用到的参数\n",
    "    ## 位置参数\n",
    "    ## 默认参数\n",
    "    ## 可变参数\n",
    "    ## 关键字参数\n",
    "    ## 命名关键字参数"
   ]
  },
  {
   "cell_type": "code",
   "execution_count": null,
   "id": "a6ae81d3",
   "metadata": {},
   "outputs": [],
   "source": [
    "#02.01 位置参数"
   ]
  },
  {
   "cell_type": "code",
   "execution_count": 5,
   "id": "734badef",
   "metadata": {},
   "outputs": [],
   "source": [
    "def myfunc01(product,qty,price):\n",
    "    print(f'产品{product}的销售数量是{qty},总的销售额是{qty*price:.2f}')"
   ]
  },
  {
   "cell_type": "code",
   "execution_count": 6,
   "id": "4b9e11f1",
   "metadata": {},
   "outputs": [
    {
     "name": "stdout",
     "output_type": "stream",
     "text": [
      "产品苹果的销售数量是100,总的销售额是9500.00\n"
     ]
    }
   ],
   "source": [
    "myfunc01('苹果',100,95)"
   ]
  },
  {
   "cell_type": "code",
   "execution_count": 3,
   "id": "28e7d53a",
   "metadata": {},
   "outputs": [
    {
     "name": "stdout",
     "output_type": "stream",
     "text": [
      "产品95的销售数量是苹果,总的销售额是苹果苹果苹果苹果苹果苹果苹果苹果苹果苹果苹果苹果苹果苹果苹果苹果苹果苹果苹果苹果苹果苹果苹果苹果苹果苹果苹果苹果苹果苹果苹果苹果苹果苹果苹果苹果苹果苹果苹果苹果苹果苹果苹果苹果苹果苹果苹果苹果苹果苹果苹果苹果苹果苹果苹果苹果苹果苹果苹果苹果苹果苹果苹果苹果苹果苹果苹果苹果苹果苹果苹果苹果苹果苹果苹果苹果苹果苹果苹果苹果苹果苹果苹果苹果苹果苹果苹果苹果苹果苹果苹果苹果苹果苹果苹果苹果苹果苹果苹果苹果\n"
     ]
    }
   ],
   "source": [
    "myfunc01(95,'苹果',100)"
   ]
  },
  {
   "cell_type": "code",
   "execution_count": 8,
   "id": "d6e3d7c1",
   "metadata": {},
   "outputs": [
    {
     "name": "stdout",
     "output_type": "stream",
     "text": [
      "产品苹果的销售数量是100,总的销售额是9500.00\n"
     ]
    }
   ],
   "source": [
    "myfunc01('苹果',100,95)"
   ]
  },
  {
   "cell_type": "code",
   "execution_count": null,
   "id": "c63a5129",
   "metadata": {},
   "outputs": [],
   "source": [
    "myfunc01('苹果',100,95)"
   ]
  },
  {
   "cell_type": "code",
   "execution_count": 10,
   "id": "4f1464ce",
   "metadata": {},
   "outputs": [
    {
     "ename": "TypeError",
     "evalue": "myfunc01() missing 1 required positional argument: 'price'",
     "output_type": "error",
     "traceback": [
      "\u001b[1;31m---------------------------------------------------------------------------\u001b[0m",
      "\u001b[1;31mTypeError\u001b[0m                                 Traceback (most recent call last)",
      "\u001b[1;32m~\\AppData\\Local\\Temp/ipykernel_12764/3420636869.py\u001b[0m in \u001b[0;36m<module>\u001b[1;34m\u001b[0m\n\u001b[1;32m----> 1\u001b[1;33m \u001b[0mmyfunc01\u001b[0m\u001b[1;33m(\u001b[0m\u001b[1;34m'苹果'\u001b[0m\u001b[1;33m,\u001b[0m\u001b[1;36m100\u001b[0m\u001b[1;33m)\u001b[0m\u001b[1;33m\u001b[0m\u001b[1;33m\u001b[0m\u001b[0m\n\u001b[0m",
      "\u001b[1;31mTypeError\u001b[0m: myfunc01() missing 1 required positional argument: 'price'"
     ]
    }
   ],
   "source": [
    "myfunc01('苹果',100)"
   ]
  },
  {
   "cell_type": "code",
   "execution_count": 9,
   "id": "09c53d89",
   "metadata": {},
   "outputs": [
    {
     "ename": "TypeError",
     "evalue": "myfunc01() takes 3 positional arguments but 4 were given",
     "output_type": "error",
     "traceback": [
      "\u001b[1;31m---------------------------------------------------------------------------\u001b[0m",
      "\u001b[1;31mTypeError\u001b[0m                                 Traceback (most recent call last)",
      "\u001b[1;32m~\\AppData\\Local\\Temp/ipykernel_12764/1500126207.py\u001b[0m in \u001b[0;36m<module>\u001b[1;34m\u001b[0m\n\u001b[1;32m----> 1\u001b[1;33m \u001b[0mmyfunc01\u001b[0m\u001b[1;33m(\u001b[0m\u001b[1;34m'苹果'\u001b[0m\u001b[1;33m,\u001b[0m\u001b[1;36m100\u001b[0m\u001b[1;33m,\u001b[0m\u001b[1;36m95\u001b[0m\u001b[1;33m,\u001b[0m\u001b[1;36m80\u001b[0m\u001b[1;33m)\u001b[0m\u001b[1;33m\u001b[0m\u001b[1;33m\u001b[0m\u001b[0m\n\u001b[0m",
      "\u001b[1;31mTypeError\u001b[0m: myfunc01() takes 3 positional arguments but 4 were given"
     ]
    }
   ],
   "source": [
    "myfunc01('苹果',100,95,80)"
   ]
  },
  {
   "cell_type": "code",
   "execution_count": 66,
   "id": "6b2a6aee",
   "metadata": {},
   "outputs": [],
   "source": [
    "filmnames1=['长津湖之水门桥','这个杀手不太冷静','奇迹·笨小孩','穿过寒冬拥抱你','熊出没·重返地球','反贪风暴5：最终章','四海','李茂扮太子','狙击手','误杀2']\n",
    "filmtypes1=['战争','喜剧','剧情','剧情','动画','动作','剧情','喜剧','剧情','剧情']\n",
    "filmboos1=['264,508','147,373','71,614','66,520','60,996','48,126','47,970','46,230','28,504','28,270']\n",
    "fprice1=[50,49,37,39,37,51,47,38,48,33]\n",
    "fpersons1=[65,59,10,8,9,36,37,8,31,6]"
   ]
  },
  {
   "cell_type": "code",
   "execution_count": 67,
   "id": "38ec241d",
   "metadata": {},
   "outputs": [],
   "source": [
    "filmnames2=('长津湖之水门桥','这个杀手不太冷静','奇迹·笨小孩','穿过寒冬拥抱你','熊出没·重返地球','反贪风暴5：最终章','四海','李茂扮太子','狙击手','误杀2')\n",
    "filmtypes2=('战争','喜剧','剧情','剧情','动画','动作','剧情','喜剧','剧情','剧情')\n",
    "filmboos2=('264,508','147,373','71,614','66,520','60,996','48,126','47,970','46,230','28,504','28,270')\n",
    "fprice2=(50,49,37,39,37,51,47,38,48,33)\n",
    "fpersons2=(65,59,10,8,9,36,37,8,31,6)"
   ]
  },
  {
   "cell_type": "code",
   "execution_count": 17,
   "id": "a352843f",
   "metadata": {},
   "outputs": [],
   "source": [
    "def cnboo(frank,fname,fbo):\n",
    "    print('排名:',frank)\n",
    "    print('影片:',fname)\n",
    "    print(f'票房(千万):{fbo:.2f}')"
   ]
  },
  {
   "cell_type": "code",
   "execution_count": 15,
   "id": "cefb2488",
   "metadata": {},
   "outputs": [
    {
     "name": "stdout",
     "output_type": "stream",
     "text": [
      "排名： 1\n",
      "影片： 长津湖之水门桥\n",
      "票房： 400\n"
     ]
    }
   ],
   "source": [
    "cnboo('1','长津湖之水门桥',400)"
   ]
  },
  {
   "cell_type": "code",
   "execution_count": 21,
   "id": "7f70f75f",
   "metadata": {},
   "outputs": [
    {
     "ename": "TypeError",
     "evalue": "cnboo() takes from 0 to 3 positional arguments but 4 were given",
     "output_type": "error",
     "traceback": [
      "\u001b[1;31m---------------------------------------------------------------------------\u001b[0m",
      "\u001b[1;31mTypeError\u001b[0m                                 Traceback (most recent call last)",
      "\u001b[1;32m~\\AppData\\Local\\Temp/ipykernel_12764/3116721880.py\u001b[0m in \u001b[0;36m<module>\u001b[1;34m\u001b[0m\n\u001b[1;32m----> 1\u001b[1;33m \u001b[0mcnboo\u001b[0m\u001b[1;33m(\u001b[0m\u001b[1;34m'1'\u001b[0m\u001b[1;33m,\u001b[0m\u001b[1;34m'长津湖之水门桥'\u001b[0m\u001b[1;33m,\u001b[0m\u001b[1;36m400\u001b[0m\u001b[1;33m,\u001b[0m\u001b[1;36m50\u001b[0m\u001b[1;33m)\u001b[0m\u001b[1;33m\u001b[0m\u001b[1;33m\u001b[0m\u001b[0m\n\u001b[0m",
      "\u001b[1;31mTypeError\u001b[0m: cnboo() takes from 0 to 3 positional arguments but 4 were given"
     ]
    }
   ],
   "source": [
    "cnboo('1','长津湖之水门桥',400,50)"
   ]
  },
  {
   "cell_type": "code",
   "execution_count": 22,
   "id": "510aa2c5",
   "metadata": {},
   "outputs": [
    {
     "ename": "NameError",
     "evalue": "name 'conboo' is not defined",
     "output_type": "error",
     "traceback": [
      "\u001b[1;31m---------------------------------------------------------------------------\u001b[0m",
      "\u001b[1;31mNameError\u001b[0m                                 Traceback (most recent call last)",
      "\u001b[1;32m~\\AppData\\Local\\Temp/ipykernel_12764/709589993.py\u001b[0m in \u001b[0;36m<module>\u001b[1;34m\u001b[0m\n\u001b[1;32m----> 1\u001b[1;33m \u001b[0mconboo\u001b[0m\u001b[1;33m\u001b[0m\u001b[1;33m\u001b[0m\u001b[0m\n\u001b[0m",
      "\u001b[1;31mNameError\u001b[0m: name 'conboo' is not defined"
     ]
    }
   ],
   "source": [
    "conboo"
   ]
  },
  {
   "cell_type": "code",
   "execution_count": 18,
   "id": "e9e078f1",
   "metadata": {},
   "outputs": [],
   "source": [
    "#02.02 默认参数"
   ]
  },
  {
   "cell_type": "code",
   "execution_count": 24,
   "id": "c94dd1ae",
   "metadata": {},
   "outputs": [],
   "source": [
    "def cnboo2(frank='1',fname='这个杀手不太冷静',fbo=400):\n",
    "    print('排名:',frank)\n",
    "    print('影片:',fname)\n",
    "    print(f'票房(千万):{fbo:.2f}')"
   ]
  },
  {
   "cell_type": "code",
   "execution_count": 27,
   "id": "d8d35d2d",
   "metadata": {},
   "outputs": [
    {
     "name": "stdout",
     "output_type": "stream",
     "text": [
      "排名: 1\n",
      "影片: 这个杀手不太冷静\n",
      "票房(千万):400.00\n"
     ]
    }
   ],
   "source": [
    "cnboo2()"
   ]
  },
  {
   "cell_type": "code",
   "execution_count": 29,
   "id": "81c3c5c9",
   "metadata": {},
   "outputs": [
    {
     "name": "stdout",
     "output_type": "stream",
     "text": [
      "排名: 10\n",
      "影片: 这个杀手不太冷静\n",
      "票房(千万):400.00\n"
     ]
    }
   ],
   "source": [
    "cnboo2(10)"
   ]
  },
  {
   "cell_type": "code",
   "execution_count": 31,
   "id": "2f150529",
   "metadata": {},
   "outputs": [
    {
     "name": "stdout",
     "output_type": "stream",
     "text": [
      "排名: 20\n",
      "影片: 大红包\n",
      "票房(千万):10.00\n"
     ]
    }
   ],
   "source": [
    "cnboo2(20,'大红包',10)"
   ]
  },
  {
   "cell_type": "code",
   "execution_count": 33,
   "id": "70ba64e2",
   "metadata": {},
   "outputs": [
    {
     "ename": "TypeError",
     "evalue": "cnboo2() takes from 0 to 3 positional arguments but 4 were given",
     "output_type": "error",
     "traceback": [
      "\u001b[1;31m---------------------------------------------------------------------------\u001b[0m",
      "\u001b[1;31mTypeError\u001b[0m                                 Traceback (most recent call last)",
      "\u001b[1;32m~\\AppData\\Local\\Temp/ipykernel_12764/2612759358.py\u001b[0m in \u001b[0;36m<module>\u001b[1;34m\u001b[0m\n\u001b[1;32m----> 1\u001b[1;33m \u001b[0mcnboo2\u001b[0m\u001b[1;33m(\u001b[0m\u001b[1;36m20\u001b[0m\u001b[1;33m,\u001b[0m\u001b[1;34m'大红包'\u001b[0m\u001b[1;33m,\u001b[0m\u001b[1;36m10\u001b[0m\u001b[1;33m,\u001b[0m\u001b[1;36m100\u001b[0m\u001b[1;33m)\u001b[0m\u001b[1;33m\u001b[0m\u001b[1;33m\u001b[0m\u001b[0m\n\u001b[0m",
      "\u001b[1;31mTypeError\u001b[0m: cnboo2() takes from 0 to 3 positional arguments but 4 were given"
     ]
    }
   ],
   "source": [
    "cnboo2(20,'大红包',10,100)"
   ]
  },
  {
   "cell_type": "code",
   "execution_count": 34,
   "id": "32e0abe1",
   "metadata": {},
   "outputs": [
    {
     "name": "stdout",
     "output_type": "stream",
     "text": [
      "排名: 大红包\n",
      "影片: 20\n",
      "票房(千万):10.00\n"
     ]
    }
   ],
   "source": [
    "cnboo2('大红包',20,10)"
   ]
  },
  {
   "cell_type": "code",
   "execution_count": 36,
   "id": "6af9eb5e",
   "metadata": {},
   "outputs": [],
   "source": [
    "def cnboo2(frank,fname='这个杀手不太冷静',fbo=400):\n",
    "    print('排名:',frank)\n",
    "    print('影片:',fname)\n",
    "    print(f'票房(千万):{fbo:.2f}')"
   ]
  },
  {
   "cell_type": "code",
   "execution_count": 37,
   "id": "18fa1c61",
   "metadata": {},
   "outputs": [
    {
     "name": "stdout",
     "output_type": "stream",
     "text": [
      "排名: 20\n",
      "影片: 大红包\n",
      "票房(千万):10.00\n"
     ]
    }
   ],
   "source": [
    "cnboo2(20,'大红包',10)"
   ]
  },
  {
   "cell_type": "code",
   "execution_count": 38,
   "id": "eefaa078",
   "metadata": {},
   "outputs": [
    {
     "name": "stdout",
     "output_type": "stream",
     "text": [
      "排名: 大红包\n",
      "影片: 10\n",
      "票房(千万):400.00\n"
     ]
    }
   ],
   "source": [
    "cnboo2('大红包',10)"
   ]
  },
  {
   "cell_type": "code",
   "execution_count": 40,
   "id": "b256c714",
   "metadata": {},
   "outputs": [],
   "source": [
    "def cnboo2(frank,fname,fbo=400):\n",
    "    print('排名:',frank)\n",
    "    print('影片:',fname)\n",
    "    print(f'票房(千万):{fbo:.2f}')"
   ]
  },
  {
   "cell_type": "code",
   "execution_count": 42,
   "id": "f1e37c4e",
   "metadata": {},
   "outputs": [
    {
     "name": "stdout",
     "output_type": "stream",
     "text": [
      "排名: 大红包\n",
      "影片: 10\n",
      "票房(千万):135.00\n"
     ]
    }
   ],
   "source": [
    "cnboo2('大红包',10,135)"
   ]
  },
  {
   "cell_type": "code",
   "execution_count": 43,
   "id": "9f74b7cf",
   "metadata": {},
   "outputs": [],
   "source": [
    "#02.03 可变参数  对于要使用的参数数量未知，那么可使用*args进行可变参数的定义"
   ]
  },
  {
   "cell_type": "code",
   "execution_count": 44,
   "id": "381de782",
   "metadata": {},
   "outputs": [],
   "source": [
    "def cnboo31(frank,fname,fbo,fprice,*args): #默认参数一定是在位置参数之后\n",
    "    ftotal=0\n",
    "    for fpersons in args:\n",
    "        ftotal=fprice*fpersons\n",
    "    print('排名:',frank)\n",
    "    print('影片:',fname)\n",
    "    print(f'票房(千万):{fbo:.2f}')\n",
    "    print('平均票价:',fprice)\n",
    "    print('场均人次:',fpersons)\n",
    "    print('场均收入:',ftotal)"
   ]
  },
  {
   "cell_type": "code",
   "execution_count": 47,
   "id": "23c38ddb",
   "metadata": {},
   "outputs": [
    {
     "name": "stdout",
     "output_type": "stream",
     "text": [
      "排名: 1\n",
      "影片: 这个杀手不太冷静\n",
      "票房(千万):400.00\n",
      "平均票价: 50\n",
      "场均人次: 50\n",
      "场均收入: 2500\n"
     ]
    }
   ],
   "source": [
    "cnboo31(1,'这个杀手不太冷静',400,50,50)"
   ]
  },
  {
   "cell_type": "code",
   "execution_count": 54,
   "id": "4834445d",
   "metadata": {},
   "outputs": [],
   "source": [
    "#多个可变参数\n",
    "def cnboo32(frank,fname,fbo,fprice,*args): #将场均人次、票价置于多个参数列表中\n",
    "    ftotal=1\n",
    "    for fpp in args:\n",
    "        ftotal=fprice*fpersons\n",
    "    print('排名:',frank)\n",
    "    print('影片:',fname)\n",
    "    print(f'票房(千万):{fbo:.2f}')\n",
    "    print('平均票价:',fpp)\n",
    "    print('场均人次:',fpp)\n",
    "    print('场均收入:',ftotal)"
   ]
  },
  {
   "cell_type": "code",
   "execution_count": 56,
   "id": "f6da34dc",
   "metadata": {},
   "outputs": [
    {
     "ename": "NameError",
     "evalue": "name 'fpersons' is not defined",
     "output_type": "error",
     "traceback": [
      "\u001b[1;31m---------------------------------------------------------------------------\u001b[0m",
      "\u001b[1;31mNameError\u001b[0m                                 Traceback (most recent call last)",
      "\u001b[1;32m~\\AppData\\Local\\Temp/ipykernel_12764/1186329092.py\u001b[0m in \u001b[0;36m<module>\u001b[1;34m\u001b[0m\n\u001b[1;32m----> 1\u001b[1;33m \u001b[0mcnboo32\u001b[0m\u001b[1;33m(\u001b[0m\u001b[1;36m1\u001b[0m\u001b[1;33m,\u001b[0m\u001b[1;34m'这个杀手不太冷静'\u001b[0m\u001b[1;33m,\u001b[0m\u001b[1;36m400\u001b[0m\u001b[1;33m,\u001b[0m\u001b[1;36m50\u001b[0m\u001b[1;33m,\u001b[0m\u001b[1;36m50\u001b[0m\u001b[1;33m)\u001b[0m\u001b[1;33m\u001b[0m\u001b[1;33m\u001b[0m\u001b[0m\n\u001b[0m",
      "\u001b[1;32m~\\AppData\\Local\\Temp/ipykernel_12764/2130243739.py\u001b[0m in \u001b[0;36mcnboo32\u001b[1;34m(frank, fname, fbo, fprice, *args)\u001b[0m\n\u001b[0;32m      3\u001b[0m     \u001b[0mftotal\u001b[0m\u001b[1;33m=\u001b[0m\u001b[1;36m1\u001b[0m\u001b[1;33m\u001b[0m\u001b[1;33m\u001b[0m\u001b[0m\n\u001b[0;32m      4\u001b[0m     \u001b[1;32mfor\u001b[0m \u001b[0mfpp\u001b[0m \u001b[1;32min\u001b[0m \u001b[0margs\u001b[0m\u001b[1;33m:\u001b[0m\u001b[1;33m\u001b[0m\u001b[1;33m\u001b[0m\u001b[0m\n\u001b[1;32m----> 5\u001b[1;33m         \u001b[0mftotal\u001b[0m\u001b[1;33m=\u001b[0m\u001b[0mfprice\u001b[0m\u001b[1;33m*\u001b[0m\u001b[0mfpersons\u001b[0m\u001b[1;33m\u001b[0m\u001b[1;33m\u001b[0m\u001b[0m\n\u001b[0m\u001b[0;32m      6\u001b[0m     \u001b[0mprint\u001b[0m\u001b[1;33m(\u001b[0m\u001b[1;34m'排名:'\u001b[0m\u001b[1;33m,\u001b[0m\u001b[0mfrank\u001b[0m\u001b[1;33m)\u001b[0m\u001b[1;33m\u001b[0m\u001b[1;33m\u001b[0m\u001b[0m\n\u001b[0;32m      7\u001b[0m     \u001b[0mprint\u001b[0m\u001b[1;33m(\u001b[0m\u001b[1;34m'影片:'\u001b[0m\u001b[1;33m,\u001b[0m\u001b[0mfname\u001b[0m\u001b[1;33m)\u001b[0m\u001b[1;33m\u001b[0m\u001b[1;33m\u001b[0m\u001b[0m\n",
      "\u001b[1;31mNameError\u001b[0m: name 'fpersons' is not defined"
     ]
    }
   ],
   "source": [
    "cnboo32(1,'这个杀手不太冷静',400,50,50)"
   ]
  },
  {
   "cell_type": "code",
   "execution_count": 62,
   "id": "59127005",
   "metadata": {},
   "outputs": [],
   "source": [
    "def cnboo32(frank,fname,fbo,*args): #将场均人次、票价置于多个参数列表中\n",
    "    ftotal=1\n",
    "    for fpp in args:\n",
    "        ftotal=fpp*ftotal\n",
    "    print('排名:',frank)\n",
    "    print('影片:',fname)\n",
    "    print(f'票房(千万):{fbo:.2f}')\n",
    "    print('平均票价:',args[0])\n",
    "    print('场均人次:',args[1])\n",
    "    print('场均收入:',ftotal)"
   ]
  },
  {
   "cell_type": "code",
   "execution_count": 64,
   "id": "ef245237",
   "metadata": {},
   "outputs": [
    {
     "name": "stdout",
     "output_type": "stream",
     "text": [
      "排名: 1\n",
      "影片: 这个杀手不太冷静\n",
      "票房(千万):400.00\n",
      "平均票价: 50\n",
      "场均人次: 50\n",
      "场均收入: 2500\n"
     ]
    }
   ],
   "source": [
    "cnboo32(1,'这个杀手不太冷静',400,50,50)"
   ]
  },
  {
   "cell_type": "code",
   "execution_count": 71,
   "id": "dd4f5b26",
   "metadata": {},
   "outputs": [],
   "source": [
    "#使用列表作为多个可变参数"
   ]
  },
  {
   "cell_type": "code",
   "execution_count": 72,
   "id": "af1a0775",
   "metadata": {},
   "outputs": [],
   "source": [
    "filmnames1=['长津湖之水门桥','这个杀手不太冷静','奇迹·笨小孩','穿过寒冬拥抱你','熊出没·重返地球','反贪风暴5：最终章','四海','李茂扮太子','狙击手','误杀2']\n",
    "filmtypes1=['战争','喜剧','剧情','剧情','动画','动作','剧情','喜剧','剧情','剧情']\n",
    "filmboos1=['264,508','147,373','71,614','66,520','60,996','48,126','47,970','46,230','28,504','28,270']\n",
    "fprice1=[50,49,37,39,37,51,47,38,48,33]\n",
    "fpersons1=[65,59,10,8,9,36,37,8,31,6]"
   ]
  },
  {
   "cell_type": "code",
   "execution_count": 69,
   "id": "ab05fb03",
   "metadata": {},
   "outputs": [],
   "source": [
    "#多个可变参数——使用列表作为可变参数\n",
    "def cnboo34(frank,fname,fbo,*args): #将场均人次、票价置于多个参数列表中\n",
    "    ftotal=1\n",
    "    for fpp in args:\n",
    "        ftotal=fpp*ftotal\n",
    "    print('排名:',frank)\n",
    "    print('影片:',fname)\n",
    "    print(f'票房(千万):{fbo:.2f}')\n",
    "    print('平均票价:',args[0])\n",
    "    print('场均人次:',args[1])\n",
    "    print('场均收入:',ftotal)"
   ]
  },
  {
   "cell_type": "code",
   "execution_count": 73,
   "id": "cfc3a2dc",
   "metadata": {},
   "outputs": [
    {
     "name": "stdout",
     "output_type": "stream",
     "text": [
      "排名: 10\n",
      "影片: 误杀2\n",
      "票房(千万):33.00\n",
      "平均票价: 50\n",
      "场均人次: 49\n",
      "场均收入: 18873000326980800\n"
     ]
    }
   ],
   "source": [
    "cnboo34(10,'误杀2',33,*(fprice1))"
   ]
  },
  {
   "cell_type": "code",
   "execution_count": 74,
   "id": "f0b644b4",
   "metadata": {},
   "outputs": [],
   "source": [
    "#多个可变参数——使用列表作为可变参数\n",
    "def cnboo34(frank,fname,fbo,*args): #将场均人次、票价置于多个参数列表中\n",
    "    ftotal=1\n",
    "    for fprice,fpersons in args:\n",
    "        ftotal=fprice*fpersons\n",
    "    print('排名:',frank)\n",
    "    print('影片:',fname)\n",
    "    print(f'票房(千万):{fbo:.2f}')\n",
    "    print('平均票价:',args[0])\n",
    "    print('场均人次:',args[1])\n",
    "    print('场均收入:',ftotal)"
   ]
  },
  {
   "cell_type": "code",
   "execution_count": 75,
   "id": "042c538c",
   "metadata": {},
   "outputs": [
    {
     "ename": "ValueError",
     "evalue": "too many values to unpack (expected 2)",
     "output_type": "error",
     "traceback": [
      "\u001b[1;31m---------------------------------------------------------------------------\u001b[0m",
      "\u001b[1;31mValueError\u001b[0m                                Traceback (most recent call last)",
      "\u001b[1;32m~\\AppData\\Local\\Temp/ipykernel_12764/3143157804.py\u001b[0m in \u001b[0;36m<module>\u001b[1;34m\u001b[0m\n\u001b[1;32m----> 1\u001b[1;33m \u001b[0mcnboo34\u001b[0m\u001b[1;33m(\u001b[0m\u001b[1;36m10\u001b[0m\u001b[1;33m,\u001b[0m\u001b[1;34m'误杀2'\u001b[0m\u001b[1;33m,\u001b[0m\u001b[1;36m33\u001b[0m\u001b[1;33m,\u001b[0m\u001b[1;33m*\u001b[0m\u001b[1;33m(\u001b[0m\u001b[0mfprice1\u001b[0m\u001b[1;33m,\u001b[0m\u001b[0mfpersons1\u001b[0m\u001b[1;33m)\u001b[0m\u001b[1;33m)\u001b[0m\u001b[1;33m\u001b[0m\u001b[1;33m\u001b[0m\u001b[0m\n\u001b[0m",
      "\u001b[1;32m~\\AppData\\Local\\Temp/ipykernel_12764/2675996220.py\u001b[0m in \u001b[0;36mcnboo34\u001b[1;34m(frank, fname, fbo, *args)\u001b[0m\n\u001b[0;32m      2\u001b[0m \u001b[1;32mdef\u001b[0m \u001b[0mcnboo34\u001b[0m\u001b[1;33m(\u001b[0m\u001b[0mfrank\u001b[0m\u001b[1;33m,\u001b[0m\u001b[0mfname\u001b[0m\u001b[1;33m,\u001b[0m\u001b[0mfbo\u001b[0m\u001b[1;33m,\u001b[0m\u001b[1;33m*\u001b[0m\u001b[0margs\u001b[0m\u001b[1;33m)\u001b[0m\u001b[1;33m:\u001b[0m \u001b[1;31m#将场均人次、票价置于多个参数列表中\u001b[0m\u001b[1;33m\u001b[0m\u001b[1;33m\u001b[0m\u001b[0m\n\u001b[0;32m      3\u001b[0m     \u001b[0mftotal\u001b[0m\u001b[1;33m=\u001b[0m\u001b[1;36m1\u001b[0m\u001b[1;33m\u001b[0m\u001b[1;33m\u001b[0m\u001b[0m\n\u001b[1;32m----> 4\u001b[1;33m     \u001b[1;32mfor\u001b[0m \u001b[0mfprice\u001b[0m\u001b[1;33m,\u001b[0m\u001b[0mfpersons\u001b[0m \u001b[1;32min\u001b[0m \u001b[0margs\u001b[0m\u001b[1;33m:\u001b[0m\u001b[1;33m\u001b[0m\u001b[1;33m\u001b[0m\u001b[0m\n\u001b[0m\u001b[0;32m      5\u001b[0m         \u001b[0mftotal\u001b[0m\u001b[1;33m=\u001b[0m\u001b[0mfprice\u001b[0m\u001b[1;33m*\u001b[0m\u001b[0mfpersons\u001b[0m\u001b[1;33m\u001b[0m\u001b[1;33m\u001b[0m\u001b[0m\n\u001b[0;32m      6\u001b[0m     \u001b[0mprint\u001b[0m\u001b[1;33m(\u001b[0m\u001b[1;34m'排名:'\u001b[0m\u001b[1;33m,\u001b[0m\u001b[0mfrank\u001b[0m\u001b[1;33m)\u001b[0m\u001b[1;33m\u001b[0m\u001b[1;33m\u001b[0m\u001b[0m\n",
      "\u001b[1;31mValueError\u001b[0m: too many values to unpack (expected 2)"
     ]
    }
   ],
   "source": [
    "cnboo34(10,'误杀2',33,*(fprice1,fpersons1))"
   ]
  },
  {
   "cell_type": "code",
   "execution_count": 76,
   "id": "ebf5a68c",
   "metadata": {},
   "outputs": [
    {
     "name": "stdout",
     "output_type": "stream",
     "text": [
      "50 50\n",
      "2500\n",
      "49 49\n",
      "2401\n",
      "37 37\n",
      "1369\n",
      "39 39\n",
      "1521\n",
      "37 37\n",
      "1369\n",
      "51 51\n",
      "2601\n",
      "47 47\n",
      "2209\n",
      "38 38\n",
      "1444\n",
      "48 48\n",
      "2304\n",
      "33 33\n",
      "1089\n"
     ]
    }
   ],
   "source": [
    "fprice1\n",
    "fpersons1\n",
    "for fp1,fp2 in zip(fprice1,fprice1):\n",
    "    print(fp1,fp2)\n",
    "    print(fp1*fp2)"
   ]
  },
  {
   "cell_type": "code",
   "execution_count": 83,
   "id": "94940e51",
   "metadata": {},
   "outputs": [],
   "source": [
    "def cnboo34(frank,fname,fbo,*args): #将场均人次、票价置于多个参数列表中\n",
    "    ftotal=1\n",
    "    for fprice in args:\n",
    "        ftotal=fprice+ftotal\n",
    "    print('排名:',frank)\n",
    "    print('影片:',fname)\n",
    "    print(f'票房(千万):{fbo:.2f}')\n",
    "#     print('平均票价:',args[0])\n",
    "#     print('场均人次:',args[1])\n",
    "    print('场均收入:',ftotal)"
   ]
  },
  {
   "cell_type": "code",
   "execution_count": 85,
   "id": "70776fa5",
   "metadata": {},
   "outputs": [
    {
     "name": "stdout",
     "output_type": "stream",
     "text": [
      "排名: 10\n",
      "影片: 误杀2\n",
      "票房(千万):33.00\n",
      "场均收入: 430\n"
     ]
    }
   ],
   "source": [
    "cnboo34(10,'误杀2',33,*fprice1)"
   ]
  },
  {
   "cell_type": "code",
   "execution_count": 86,
   "id": "4d656110",
   "metadata": {},
   "outputs": [],
   "source": [
    "##02.04 关键词参数 kw"
   ]
  },
  {
   "cell_type": "code",
   "execution_count": 88,
   "id": "f46dd8bc",
   "metadata": {},
   "outputs": [],
   "source": [
    "def cnboo35(frank,fname,fbo,*args,**kw): #将场均人次、票价置于多个参数列表中\n",
    "    ftotal=1\n",
    "    for fprice in args:\n",
    "        ftotal=fprice+ftotal\n",
    "    print('排名:',frank)\n",
    "    print('影片:',fname)\n",
    "    print(f'票房(千万):{fbo:.2f}')\n",
    "    print('场均收入:',ftotal)\n",
    "    print('关键词',kw)"
   ]
  },
  {
   "cell_type": "code",
   "execution_count": 91,
   "id": "e6babe48",
   "metadata": {},
   "outputs": [
    {
     "name": "stdout",
     "output_type": "stream",
     "text": [
      "排名: 10\n",
      "影片: 误杀2\n",
      "票房(千万):33.00\n",
      "场均收入: 430\n",
      "关键词 {'type': '喜剧', 'region': '中国大陆'}\n"
     ]
    }
   ],
   "source": [
    "cnboo35(10,'误杀2',33,*fprice1,type='喜剧',region='中国大陆')"
   ]
  },
  {
   "cell_type": "code",
   "execution_count": 93,
   "id": "bde110da",
   "metadata": {},
   "outputs": [
    {
     "name": "stdout",
     "output_type": "stream",
     "text": [
      "排名: 10\n",
      "影片: 误杀2\n",
      "票房(千万):33.00\n",
      "场均收入: 430\n",
      "关键词 {'type': '喜剧', 'region': '中国大陆'}\n"
     ]
    }
   ],
   "source": [
    "filmkw={'type':'喜剧','region':'中国大陆'}\n",
    "\n",
    "cnboo35(10,'误杀2',33,*fprice1,**filmkw)"
   ]
  },
  {
   "cell_type": "code",
   "execution_count": 94,
   "id": "f8380842",
   "metadata": {},
   "outputs": [],
   "source": [
    "##02.05 命名关键字参数"
   ]
  },
  {
   "cell_type": "code",
   "execution_count": 95,
   "id": "21f204aa",
   "metadata": {},
   "outputs": [],
   "source": [
    "def cnboo36(frank,fname,fbo,*args,region,**kw):\n",
    "    ftotal=1\n",
    "    for fprice in args:\n",
    "        ftotal=fprice+ftotal\n",
    "    print('排名:',frank)\n",
    "    print('影片:',fname)\n",
    "    print(f'票房(千万):{fbo:.2f}')\n",
    "    print('场均收入:',ftotal)\n",
    "    print('关键词:',kw)\n",
    "    print('关键词2:',region)"
   ]
  },
  {
   "cell_type": "code",
   "execution_count": 96,
   "id": "20020b1f",
   "metadata": {},
   "outputs": [
    {
     "name": "stdout",
     "output_type": "stream",
     "text": [
      "排名: 10\n",
      "影片: 误杀2\n",
      "票房(千万):33.00\n",
      "场均收入: 430\n",
      "关键词: {'type': '喜剧'}\n",
      "关键词2: 中国大陆\n"
     ]
    }
   ],
   "source": [
    "cnboo36(10,'误杀2',33,*fprice1,**filmkw)"
   ]
  },
  {
   "cell_type": "code",
   "execution_count": 101,
   "id": "b88f8716",
   "metadata": {},
   "outputs": [],
   "source": [
    "def cnboo37(frank,fname,fbo,*args,region2,**kw):\n",
    "    ftotal=1\n",
    "    for fprice in args:\n",
    "        ftotal=fprice+ftotal\n",
    "    print('排名:',frank)\n",
    "    print('影片:',fname)\n",
    "    print(f'票房(千万):{fbo:.2f}')\n",
    "    print('场均收入:',ftotal)\n",
    "    print('关键词:',kw)\n",
    "    print('关键词2:',region2)"
   ]
  },
  {
   "cell_type": "code",
   "execution_count": 104,
   "id": "9c5de8a7",
   "metadata": {},
   "outputs": [
    {
     "name": "stdout",
     "output_type": "stream",
     "text": [
      "排名: 10\n",
      "影片: 原始人2\n",
      "票房(千万):33.00\n",
      "场均收入: 430\n",
      "关键词: {'showtime': '2020.1.1'}\n",
      "关键词2: 美国\n"
     ]
    }
   ],
   "source": [
    "cnboo37(10,'原始人2',33,*fprice1,region2='美国',showtime='2020.1.1')"
   ]
  },
  {
   "cell_type": "code",
   "execution_count": 105,
   "id": "ba2dabd5",
   "metadata": {},
   "outputs": [],
   "source": [
    "#02.06 参数组合\n",
    "    ## 位置参数-->默认参数-->可变参数-->关键字参数\n",
    "    ## 位置参数-->默认参数-->命名关键字参数-->关键字参数\n",
    "    ## *args 可变参数，可以接收tuple或list\n",
    "    ## **kw 关键字参数，可以接收dict"
   ]
  },
  {
   "cell_type": "code",
   "execution_count": 107,
   "id": "03d7eb42",
   "metadata": {},
   "outputs": [],
   "source": [
    "def cnboo37(frank,fname,fbo=500,*,region2,**kw):\n",
    "#     ftotal=1\n",
    "#     for fprice in args:\n",
    "#         ftotal=fprice+ftotal\n",
    "    print('排名:',frank)\n",
    "    print('影片:',fname)\n",
    "    print(f'票房(千万):{fbo:.2f}')\n",
    "#     print('场均收入:',ftotal)\n",
    "    print('关键词:',kw)\n",
    "    print('关键词2:',region2)"
   ]
  },
  {
   "cell_type": "code",
   "execution_count": 109,
   "id": "91923a92",
   "metadata": {},
   "outputs": [
    {
     "name": "stdout",
     "output_type": "stream",
     "text": [
      "排名: 10\n",
      "影片: 原始人2\n",
      "票房(千万):33.00\n",
      "关键词: {'showtime': '2020.1.1'}\n",
      "关键词2: 美国\n"
     ]
    }
   ],
   "source": [
    "cnboo37(10,'原始人2',33,region2='美国',showtime='2020.1.1')"
   ]
  },
  {
   "cell_type": "markdown",
   "id": "62110794",
   "metadata": {},
   "source": [
    "## 03 匿名函数"
   ]
  },
  {
   "cell_type": "code",
   "execution_count": 110,
   "id": "12337913",
   "metadata": {},
   "outputs": [],
   "source": [
    "#不使用def来进行函数的定义。\n",
    "# lambda <参数列表>:表达式\n",
    "    ## lambda:匿名函数关键字\n",
    "    ## 参数列表:可以是位置参数、默认参数、关键字参数\n",
    "    ##   :  参数列表与表达式之间分界\n",
    "    ## 表达式根据输入的参数，运行后得到一定的结果"
   ]
  },
  {
   "cell_type": "code",
   "execution_count": 113,
   "id": "ed0460be",
   "metadata": {},
   "outputs": [
    {
     "data": {
      "text/plain": [
       "8"
      ]
     },
     "execution_count": 113,
     "metadata": {},
     "output_type": "execute_result"
    }
   ],
   "source": [
    "##03.01 位置参数\n",
    "myfunc=lambda x,y :x**y\n",
    "myfunc(2,3)"
   ]
  },
  {
   "cell_type": "code",
   "execution_count": 114,
   "id": "88c6863a",
   "metadata": {},
   "outputs": [],
   "source": [
    "del myfunc"
   ]
  },
  {
   "cell_type": "code",
   "execution_count": 115,
   "id": "decb7e55",
   "metadata": {},
   "outputs": [
    {
     "data": {
      "text/plain": [
       "8"
      ]
     },
     "execution_count": 115,
     "metadata": {},
     "output_type": "execute_result"
    }
   ],
   "source": [
    "(lambda x,y :x**y)(2,3)"
   ]
  },
  {
   "cell_type": "code",
   "execution_count": 116,
   "id": "5d49f4b2",
   "metadata": {},
   "outputs": [
    {
     "data": {
      "text/plain": [
       "8"
      ]
     },
     "execution_count": 116,
     "metadata": {},
     "output_type": "execute_result"
    }
   ],
   "source": [
    "##03.02 默认参数\n",
    "(lambda x,y=3 :x**y)(2)"
   ]
  },
  {
   "cell_type": "code",
   "execution_count": 118,
   "id": "c7eb96e8",
   "metadata": {},
   "outputs": [
    {
     "data": {
      "text/plain": [
       "10"
      ]
     },
     "execution_count": 118,
     "metadata": {},
     "output_type": "execute_result"
    }
   ],
   "source": [
    "##03.03 可变参数\n",
    "(lambda *args:sum(args))(1,2,3,4)"
   ]
  },
  {
   "cell_type": "code",
   "execution_count": 120,
   "id": "17bd73f0",
   "metadata": {},
   "outputs": [
    {
     "data": {
      "text/plain": [
       "True"
      ]
     },
     "execution_count": 120,
     "metadata": {},
     "output_type": "execute_result"
    }
   ],
   "source": [
    "##03.04 关键字参数\n",
    "(lambda **kw:True)(frank=1,fboo=5000)"
   ]
  },
  {
   "cell_type": "code",
   "execution_count": 122,
   "id": "13824b79",
   "metadata": {},
   "outputs": [
    {
     "data": {
      "text/plain": [
       "True"
      ]
     },
     "execution_count": 122,
     "metadata": {},
     "output_type": "execute_result"
    }
   ],
   "source": [
    "(lambda **args:True)(frank=1,fboo=5000)"
   ]
  },
  {
   "cell_type": "code",
   "execution_count": 126,
   "id": "c323a67b",
   "metadata": {},
   "outputs": [],
   "source": [
    "##03.05 误用\n",
    "mylambda=(lambda x:x**x)"
   ]
  },
  {
   "cell_type": "code",
   "execution_count": 128,
   "id": "1ed0e4dd",
   "metadata": {},
   "outputs": [
    {
     "data": {
      "text/plain": [
       "27"
      ]
     },
     "execution_count": 128,
     "metadata": {},
     "output_type": "execute_result"
    }
   ],
   "source": [
    "mylambda(3)"
   ]
  },
  {
   "cell_type": "code",
   "execution_count": 129,
   "id": "30a96149",
   "metadata": {},
   "outputs": [
    {
     "name": "stdout",
     "output_type": "stream",
     "text": [
      "<function <lambda> at 0x000001BCE4C05820>\n"
     ]
    }
   ],
   "source": [
    "print(mylambda)"
   ]
  },
  {
   "cell_type": "code",
   "execution_count": 133,
   "id": "176e747a",
   "metadata": {},
   "outputs": [],
   "source": [
    "def sqr(x):return x**2"
   ]
  },
  {
   "cell_type": "code",
   "execution_count": 134,
   "id": "1c91c27c",
   "metadata": {},
   "outputs": [
    {
     "name": "stdout",
     "output_type": "stream",
     "text": [
      "<function sqr at 0x000001BCE4C058B0>\n"
     ]
    }
   ],
   "source": [
    "print(sqr)"
   ]
  },
  {
   "cell_type": "code",
   "execution_count": 135,
   "id": "2c3a3c95",
   "metadata": {},
   "outputs": [],
   "source": [
    "##03.06 过用\n",
    "nbateams=['Phoenix Suns','san antonio spurs','Seattle Supersonics','Dallas Mavericks','Sacramento Kings','Houston Rockets','Memphis Grizzlies','l.a.lakers','Minnesota Timberwolves','Denver Nuggets','L.A.Clippers','Portland Trail Blazers','Utah Jazz','golden state warriors','New Orleans Hornets']"
   ]
  },
  {
   "cell_type": "code",
   "execution_count": 136,
   "id": "6a47865c",
   "metadata": {},
   "outputs": [
    {
     "data": {
      "text/plain": [
       "['Phoenix Suns',\n",
       " 'san antonio spurs',\n",
       " 'Seattle Supersonics',\n",
       " 'Dallas Mavericks',\n",
       " 'Sacramento Kings',\n",
       " 'Houston Rockets',\n",
       " 'Memphis Grizzlies',\n",
       " 'l.a.lakers',\n",
       " 'Minnesota Timberwolves',\n",
       " 'Denver Nuggets',\n",
       " 'L.A.Clippers',\n",
       " 'Portland Trail Blazers',\n",
       " 'Utah Jazz',\n",
       " 'golden state warriors',\n",
       " 'New Orleans Hornets']"
      ]
     },
     "execution_count": 136,
     "metadata": {},
     "output_type": "execute_result"
    }
   ],
   "source": [
    "nbateams"
   ]
  },
  {
   "cell_type": "code",
   "execution_count": 137,
   "id": "ff10f1aa",
   "metadata": {},
   "outputs": [
    {
     "data": {
      "text/plain": [
       "['Dallas Mavericks',\n",
       " 'Denver Nuggets',\n",
       " 'Houston Rockets',\n",
       " 'L.A.Clippers',\n",
       " 'Memphis Grizzlies',\n",
       " 'Minnesota Timberwolves',\n",
       " 'New Orleans Hornets',\n",
       " 'Phoenix Suns',\n",
       " 'Portland Trail Blazers',\n",
       " 'Sacramento Kings',\n",
       " 'Seattle Supersonics',\n",
       " 'Utah Jazz',\n",
       " 'golden state warriors',\n",
       " 'l.a.lakers',\n",
       " 'san antonio spurs']"
      ]
     },
     "execution_count": 137,
     "metadata": {},
     "output_type": "execute_result"
    }
   ],
   "source": [
    "sorted(nbateams)"
   ]
  },
  {
   "cell_type": "code",
   "execution_count": 138,
   "id": "99e3d5a4",
   "metadata": {},
   "outputs": [
    {
     "data": {
      "text/plain": [
       "['san antonio spurs',\n",
       " 'l.a.lakers',\n",
       " 'golden state warriors',\n",
       " 'Utah Jazz',\n",
       " 'Seattle Supersonics',\n",
       " 'Sacramento Kings',\n",
       " 'Portland Trail Blazers',\n",
       " 'Phoenix Suns',\n",
       " 'New Orleans Hornets',\n",
       " 'Minnesota Timberwolves',\n",
       " 'Memphis Grizzlies',\n",
       " 'L.A.Clippers',\n",
       " 'Houston Rockets',\n",
       " 'Denver Nuggets',\n",
       " 'Dallas Mavericks']"
      ]
     },
     "execution_count": 138,
     "metadata": {},
     "output_type": "execute_result"
    }
   ],
   "source": [
    "sorted(nbateams,reverse=True)"
   ]
  },
  {
   "cell_type": "code",
   "execution_count": 139,
   "id": "b99f0e58",
   "metadata": {},
   "outputs": [
    {
     "data": {
      "text/plain": [
       "['Dallas Mavericks',\n",
       " 'Denver Nuggets',\n",
       " 'golden state warriors',\n",
       " 'Houston Rockets',\n",
       " 'L.A.Clippers',\n",
       " 'l.a.lakers',\n",
       " 'Memphis Grizzlies',\n",
       " 'Minnesota Timberwolves',\n",
       " 'New Orleans Hornets',\n",
       " 'Phoenix Suns',\n",
       " 'Portland Trail Blazers',\n",
       " 'Sacramento Kings',\n",
       " 'san antonio spurs',\n",
       " 'Seattle Supersonics',\n",
       " 'Utah Jazz']"
      ]
     },
     "execution_count": 139,
     "metadata": {},
     "output_type": "execute_result"
    }
   ],
   "source": [
    "sorted(nbateams,key=lambda k:(k.casefold()))"
   ]
  },
  {
   "cell_type": "code",
   "execution_count": 141,
   "id": "4095cd1a",
   "metadata": {},
   "outputs": [
    {
     "data": {
      "text/plain": [
       "['Utah Jazz',\n",
       " 'Seattle Supersonics',\n",
       " 'san antonio spurs',\n",
       " 'Sacramento Kings',\n",
       " 'Portland Trail Blazers',\n",
       " 'Phoenix Suns',\n",
       " 'New Orleans Hornets',\n",
       " 'Minnesota Timberwolves',\n",
       " 'Memphis Grizzlies',\n",
       " 'l.a.lakers',\n",
       " 'L.A.Clippers',\n",
       " 'Houston Rockets',\n",
       " 'golden state warriors',\n",
       " 'Denver Nuggets',\n",
       " 'Dallas Mavericks']"
      ]
     },
     "execution_count": 141,
     "metadata": {},
     "output_type": "execute_result"
    }
   ],
   "source": [
    "sorted(nbateams,key=lambda k:(k.casefold(),len(k)),reverse=True)"
   ]
  },
  {
   "cell_type": "code",
   "execution_count": 143,
   "id": "c6e35a8f",
   "metadata": {},
   "outputs": [],
   "source": [
    "def sortstr(str):\n",
    "    return (str.casefold(),len(str))"
   ]
  },
  {
   "cell_type": "code",
   "execution_count": 144,
   "id": "940a90d7",
   "metadata": {},
   "outputs": [
    {
     "data": {
      "text/plain": [
       "['Dallas Mavericks',\n",
       " 'Denver Nuggets',\n",
       " 'golden state warriors',\n",
       " 'Houston Rockets',\n",
       " 'L.A.Clippers',\n",
       " 'l.a.lakers',\n",
       " 'Memphis Grizzlies',\n",
       " 'Minnesota Timberwolves',\n",
       " 'New Orleans Hornets',\n",
       " 'Phoenix Suns',\n",
       " 'Portland Trail Blazers',\n",
       " 'Sacramento Kings',\n",
       " 'san antonio spurs',\n",
       " 'Seattle Supersonics',\n",
       " 'Utah Jazz']"
      ]
     },
     "execution_count": 144,
     "metadata": {},
     "output_type": "execute_result"
    }
   ],
   "source": [
    "sorted(nbateams,key=sortstr)"
   ]
  }
 ],
 "metadata": {
  "kernelspec": {
   "display_name": "Python 3 (ipykernel)",
   "language": "python",
   "name": "python3"
  },
  "language_info": {
   "codemirror_mode": {
    "name": "ipython",
    "version": 3
   },
   "file_extension": ".py",
   "mimetype": "text/x-python",
   "name": "python",
   "nbconvert_exporter": "python",
   "pygments_lexer": "ipython3",
   "version": "3.9.7"
  }
 },
 "nbformat": 4,
 "nbformat_minor": 5
}
