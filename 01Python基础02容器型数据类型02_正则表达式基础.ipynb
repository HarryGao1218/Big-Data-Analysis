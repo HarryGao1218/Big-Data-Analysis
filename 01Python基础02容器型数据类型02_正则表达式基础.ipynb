{
 "cells": [
  {
   "cell_type": "markdown",
   "id": "b533f5f2",
   "metadata": {},
   "source": [
    "# 01Python基础02容器型数据类型02_正则表达式入门"
   ]
  },
  {
   "cell_type": "markdown",
   "id": "029762a9",
   "metadata": {},
   "source": [
    "## 1 格式化字符串"
   ]
  },
  {
   "cell_type": "code",
   "execution_count": 1,
   "id": "3532d4c0",
   "metadata": {},
   "outputs": [],
   "source": [
    "#输出参数格式：数字中的小数点位数、字符串的大小写等。\n",
    "#相对位置：标注出被格式化的字符串在整体字符中的位置。"
   ]
  },
  {
   "cell_type": "code",
   "execution_count": 43,
   "id": "1d3a1fa6",
   "metadata": {},
   "outputs": [],
   "source": [
    "(name,salary)=('zhangsan',29876.54)\n",
    "myls=['zhangsan',29876.54]"
   ]
  },
  {
   "cell_type": "code",
   "execution_count": 7,
   "id": "46fa86fa",
   "metadata": {},
   "outputs": [
    {
     "data": {
      "text/plain": [
       "('zhangsan', 9876.54)"
      ]
     },
     "execution_count": 7,
     "metadata": {},
     "output_type": "execute_result"
    }
   ],
   "source": [
    "name,salary"
   ]
  },
  {
   "cell_type": "code",
   "execution_count": null,
   "id": "571cc585",
   "metadata": {},
   "outputs": [],
   "source": [
    "#格式化的主要方法\n",
    "#   %字符\n",
    "#   $字符\n",
    "#   format()函数\n",
    "#   f-string\n",
    "\n",
    "#被格式化的元素类型：整数、浮点数、字典、列表、类、日期等\n",
    "#格式的种类：加各种分隔符、进行运算、保留小数点位、各种日期的格式等等"
   ]
  },
  {
   "cell_type": "code",
   "execution_count": 9,
   "id": "eea63c6c",
   "metadata": {},
   "outputs": [
    {
     "name": "stdout",
     "output_type": "stream",
     "text": [
      "zhangsan的工资是 9876.540000\n"
     ]
    }
   ],
   "source": [
    "print('%s的工资是 %f' %(name,salary))"
   ]
  },
  {
   "cell_type": "code",
   "execution_count": 12,
   "id": "a1d203f0",
   "metadata": {},
   "outputs": [
    {
     "data": {
      "text/plain": [
       "{'Name': 'zhangsan', 'Salary': 9876.54}"
      ]
     },
     "execution_count": 12,
     "metadata": {},
     "output_type": "execute_result"
    }
   ],
   "source": [
    "from string import Template\n",
    "empinfo=dict(Name=name,Salary=salary)\n",
    "empinfo"
   ]
  },
  {
   "cell_type": "code",
   "execution_count": 17,
   "id": "7a226dc5",
   "metadata": {},
   "outputs": [
    {
     "name": "stdout",
     "output_type": "stream",
     "text": [
      "zhangsan的工资是9876.54\n"
     ]
    }
   ],
   "source": [
    "print(Template('$Name的工资是$Salary').substitute(empinfo))"
   ]
  },
  {
   "cell_type": "code",
   "execution_count": 8,
   "id": "e1952129",
   "metadata": {},
   "outputs": [
    {
     "name": "stdout",
     "output_type": "stream",
     "text": [
      "zhangsan的工资是9876.54\n"
     ]
    }
   ],
   "source": [
    "print('{0:s}的工资是{1:.2f}'.format(name,salary))"
   ]
  },
  {
   "cell_type": "code",
   "execution_count": 19,
   "id": "b8b4f80c",
   "metadata": {},
   "outputs": [
    {
     "name": "stdout",
     "output_type": "stream",
     "text": [
      "zhangsan的工资是9876.54\n"
     ]
    }
   ],
   "source": [
    "print(f'{name:s}的工资是{salary:.2f}')"
   ]
  },
  {
   "cell_type": "code",
   "execution_count": 20,
   "id": "5e1befdb",
   "metadata": {},
   "outputs": [
    {
     "name": "stdout",
     "output_type": "stream",
     "text": [
      "zhangsan的工资是9876.54\n"
     ]
    }
   ],
   "source": [
    "print(F'{name:s}的工资是{salary:.2f}')"
   ]
  },
  {
   "cell_type": "code",
   "execution_count": 22,
   "id": "768a1902",
   "metadata": {},
   "outputs": [
    {
     "name": "stdout",
     "output_type": "stream",
     "text": [
      "zhangsan的工资是9876.54\n"
     ]
    }
   ],
   "source": [
    "print(F'{myls[0]:s}的工资是{myls[1]:.2f}')"
   ]
  },
  {
   "cell_type": "code",
   "execution_count": 45,
   "id": "0c031765",
   "metadata": {},
   "outputs": [],
   "source": [
    "class Empinfo():\n",
    "    def __init__(self,Name,Salary):\n",
    "        self.Name=name\n",
    "        self.Salary=salary"
   ]
  },
  {
   "cell_type": "code",
   "execution_count": 36,
   "id": "5bbf7334",
   "metadata": {},
   "outputs": [
    {
     "data": {
      "text/plain": [
       "'zhangsan'"
      ]
     },
     "execution_count": 36,
     "metadata": {},
     "output_type": "execute_result"
    }
   ],
   "source": [
    "name"
   ]
  },
  {
   "cell_type": "code",
   "execution_count": 46,
   "id": "943ec77c",
   "metadata": {},
   "outputs": [
    {
     "data": {
      "text/plain": [
       "29876.54"
      ]
     },
     "execution_count": 46,
     "metadata": {},
     "output_type": "execute_result"
    }
   ],
   "source": [
    "salary"
   ]
  },
  {
   "cell_type": "code",
   "execution_count": 47,
   "id": "0709bf51",
   "metadata": {},
   "outputs": [
    {
     "data": {
      "text/plain": [
       "<__main__.Empinfo at 0x24850ea54c0>"
      ]
     },
     "execution_count": 47,
     "metadata": {},
     "output_type": "execute_result"
    }
   ],
   "source": [
    "myempinfo=Empinfo(name,salary)\n",
    "myempinfo"
   ]
  },
  {
   "cell_type": "code",
   "execution_count": 48,
   "id": "3b43c923",
   "metadata": {},
   "outputs": [
    {
     "name": "stdout",
     "output_type": "stream",
     "text": [
      "zhangsan的基本工资是29876.54\n"
     ]
    }
   ],
   "source": [
    "print(f'{myempinfo.Name}的基本工资是{myempinfo.Salary}')"
   ]
  },
  {
   "cell_type": "code",
   "execution_count": 49,
   "id": "f2fe93aa",
   "metadata": {},
   "outputs": [
    {
     "name": "stdout",
     "output_type": "stream",
     "text": [
      "zhangsan的基本工资是29,876.54\n"
     ]
    }
   ],
   "source": [
    "print(f'{myempinfo.Name}的基本工资是{myempinfo.Salary:,}')"
   ]
  },
  {
   "cell_type": "code",
   "execution_count": 51,
   "id": "67216e86",
   "metadata": {},
   "outputs": [
    {
     "name": "stdout",
     "output_type": "stream",
     "text": [
      "zhangsan的基本工资是30K\n"
     ]
    }
   ],
   "source": [
    "print(f'{myempinfo.Name}的基本工资是{myempinfo.Salary/1000:,.0f}K')"
   ]
  },
  {
   "cell_type": "code",
   "execution_count": 61,
   "id": "ec926e8b",
   "metadata": {},
   "outputs": [
    {
     "data": {
      "text/plain": [
       "{'empdt': datetime.datetime(2022, 1, 22, 0, 0),\n",
       " 'Name': 'zhangsan',\n",
       " 'Salary': 29876.54}"
      ]
     },
     "execution_count": 61,
     "metadata": {},
     "output_type": "execute_result"
    }
   ],
   "source": [
    "from string import Template\n",
    "import datetime as dt\n",
    "empinfo=dict(empdt=dt.datetime(2022,1,22),Name=name,Salary=salary)\n",
    "empinfo"
   ]
  },
  {
   "cell_type": "code",
   "execution_count": 65,
   "id": "0bbdb3e0",
   "metadata": {},
   "outputs": [
    {
     "name": "stdout",
     "output_type": "stream",
     "text": [
      "zhangsan入职时间是2022-01-22,他的基本工资是30K\n"
     ]
    }
   ],
   "source": [
    "print(f\"{empinfo['Name']}入职时间是{empinfo['empdt'].date()},他的基本工资是{empinfo['Salary']/1000:,.0f}K\")"
   ]
  },
  {
   "cell_type": "markdown",
   "id": "879c71ad",
   "metadata": {},
   "source": [
    "## 2 正则表达式基础"
   ]
  },
  {
   "cell_type": "code",
   "execution_count": null,
   "id": "184bfe8e",
   "metadata": {},
   "outputs": [],
   "source": [
    "##01 正则表达式的作用 Regular Expression"
   ]
  },
  {
   "cell_type": "code",
   "execution_count": 67,
   "id": "f627e397",
   "metadata": {},
   "outputs": [
    {
     "data": {
      "text/plain": [
       "\"\\n'02/28/2021 08:00:00',90,'T3大数据分析课程';\\n'02/28/2021 09:00:00',91,'T3数据库原理与应用';\\n'02/28/2021 10:00:00',92,'T3数据库营销'\\n\""
      ]
     },
     "execution_count": 67,
     "metadata": {},
     "output_type": "execute_result"
    }
   ],
   "source": [
    "str1=\"\"\"\n",
    "'02/28/2021 08:00:00',90,'T3大数据分析课程';\n",
    "'02/28/2021 09:00:00',91,'T3数据库原理与应用';\n",
    "'02/28/2021 10:00:00',92,'T3数据库营销'\n",
    "\"\"\"\n",
    "str1"
   ]
  },
  {
   "cell_type": "code",
   "execution_count": 75,
   "id": "12de546e",
   "metadata": {},
   "outputs": [],
   "source": [
    "import re\n",
    "pat01=re.compile(\",[0-9][0-9]\")"
   ]
  },
  {
   "cell_type": "code",
   "execution_count": 76,
   "id": "615ab2d4",
   "metadata": {},
   "outputs": [
    {
     "data": {
      "text/plain": [
       "[',90', ',91', ',92']"
      ]
     },
     "execution_count": 76,
     "metadata": {},
     "output_type": "execute_result"
    }
   ],
   "source": [
    "pat01.findall(str1)"
   ]
  },
  {
   "cell_type": "code",
   "execution_count": 77,
   "id": "40cce743",
   "metadata": {},
   "outputs": [],
   "source": [
    "str2=\"\"\"\n",
    "1\n",
    "harry\n",
    "072007101 aaa\n",
    "2\n",
    "peter\n",
    "072007102 bbb\n",
    "3\n",
    "lucy\n",
    "072007103 ccc\n",
    "\"\"\""
   ]
  },
  {
   "cell_type": "code",
   "execution_count": 85,
   "id": "9b0387dc",
   "metadata": {},
   "outputs": [],
   "source": [
    "pat02=re.compile(\"[0][7|8][0-9]{7}\")"
   ]
  },
  {
   "cell_type": "code",
   "execution_count": 87,
   "id": "7b24fdf4",
   "metadata": {},
   "outputs": [
    {
     "data": {
      "text/plain": [
       "['072007101', '072007102', '072007103']"
      ]
     },
     "execution_count": 87,
     "metadata": {},
     "output_type": "execute_result"
    }
   ],
   "source": [
    "pat02.findall(str2)"
   ]
  },
  {
   "cell_type": "code",
   "execution_count": 88,
   "id": "05b76cfa",
   "metadata": {},
   "outputs": [],
   "source": [
    "##2 元字符\n",
    "#自带特殊含义的字符(集合、次数、并列、转义、提取等)\n",
    "#原始字符串：raw string 按照字面意思理解、没有转义特殊或不能打印的字符 r-string"
   ]
  },
  {
   "cell_type": "code",
   "execution_count": 89,
   "id": "4899107e",
   "metadata": {},
   "outputs": [
    {
     "name": "stdout",
     "output_type": "stream",
     "text": [
      "hello\n",
      "hello\n"
     ]
    }
   ],
   "source": [
    "#原始字符\n",
    "print('hello')\n",
    "print(r'hello')"
   ]
  },
  {
   "cell_type": "code",
   "execution_count": 92,
   "id": "eca1e2d6",
   "metadata": {},
   "outputs": [
    {
     "name": "stdout",
     "output_type": "stream",
     "text": [
      "\n",
      "hello\n",
      "\\nhello\n",
      "\bhello\n"
     ]
    }
   ],
   "source": [
    "print('\\nhello')\n",
    "print(r'\\nhello')\n",
    "print('\\bhello')"
   ]
  },
  {
   "cell_type": "code",
   "execution_count": 100,
   "id": "40c2b27f",
   "metadata": {},
   "outputs": [
    {
     "data": {
      "text/plain": [
       "str"
      ]
     },
     "execution_count": 100,
     "metadata": {},
     "output_type": "execute_result"
    }
   ],
   "source": [
    "#2 元字符--集合\n",
    "pat=r'[T3大数据分析]'\n",
    "type(pat)"
   ]
  },
  {
   "cell_type": "code",
   "execution_count": 2,
   "id": "dfebdd9a",
   "metadata": {},
   "outputs": [],
   "source": [
    "import re\n",
    "def look_for(p,s):\n",
    "    return '没有找到' if re.search(p,s) is None else re.findall(p,s)"
   ]
  },
  {
   "cell_type": "code",
   "execution_count": 104,
   "id": "0e933511",
   "metadata": {},
   "outputs": [
    {
     "name": "stdout",
     "output_type": "stream",
     "text": [
      "['T']\n",
      "['T', '3']\n",
      "['大', '数', '据']\n",
      "没有找到\n",
      "['大']\n"
     ]
    }
   ],
   "source": [
    "#明确字符\n",
    "print(look_for(pat,'T'))\n",
    "print(look_for(pat,'T3'))\n",
    "print(look_for(pat,'大数据'))\n",
    "print(look_for(pat,'信息系统开发'))\n",
    "print(look_for(pat,'大信息系统开发'))"
   ]
  },
  {
   "cell_type": "code",
   "execution_count": 109,
   "id": "2539f9ae",
   "metadata": {},
   "outputs": [
    {
     "name": "stdout",
     "output_type": "stream",
     "text": [
      "['T', '3']\n"
     ]
    }
   ],
   "source": [
    "#范围字符\n",
    "#[-]\n",
    "print(look_for(r'[A-Z|0-9]','T3大数据分析')) "
   ]
  },
  {
   "cell_type": "code",
   "execution_count": 112,
   "id": "d1dfc2d0",
   "metadata": {},
   "outputs": [
    {
     "name": "stdout",
     "output_type": "stream",
     "text": [
      "['大', '数', '据', '分', '析']\n"
     ]
    }
   ],
   "source": [
    "#补集字符\n",
    "#[^]\n",
    "print(look_for(r'[^a-zA-Z0-9]','T3大数据分析')) "
   ]
  },
  {
   "cell_type": "code",
   "execution_count": 118,
   "id": "bfed6d95",
   "metadata": {},
   "outputs": [],
   "source": [
    "#2 元字符--次数字符\n",
    "#* 星号 检查左边的字符串出现零次或多次\n",
    "pat=r'[T3大数据*析]'"
   ]
  },
  {
   "cell_type": "code",
   "execution_count": 119,
   "id": "ad618368",
   "metadata": {},
   "outputs": [
    {
     "data": {
      "text/plain": [
       "'[T3大数据*析]'"
      ]
     },
     "execution_count": 119,
     "metadata": {},
     "output_type": "execute_result"
    }
   ],
   "source": [
    "pat"
   ]
  },
  {
   "cell_type": "code",
   "execution_count": 120,
   "id": "2f99de4f",
   "metadata": {},
   "outputs": [
    {
     "name": "stdout",
     "output_type": "stream",
     "text": [
      "['析']\n"
     ]
    }
   ],
   "source": [
    "print(look_for(pat,'分析'))"
   ]
  },
  {
   "cell_type": "code",
   "execution_count": 123,
   "id": "bbc03ae6",
   "metadata": {},
   "outputs": [
    {
     "name": "stdout",
     "output_type": "stream",
     "text": [
      "['大', '数', '据']\n",
      "['T', '3']\n"
     ]
    }
   ],
   "source": [
    "print(look_for(pat,'大 数据'))\n",
    "print(look_for(pat,'T3'))"
   ]
  },
  {
   "cell_type": "code",
   "execution_count": 125,
   "id": "5d1a31e9",
   "metadata": {},
   "outputs": [
    {
     "name": "stdout",
     "output_type": "stream",
     "text": [
      "没有找到\n"
     ]
    }
   ],
   "source": [
    "pat=r'T3大数据*析'\n",
    "print(look_for(pat,'分析'))"
   ]
  },
  {
   "cell_type": "code",
   "execution_count": 126,
   "id": "c2f5d847",
   "metadata": {},
   "outputs": [],
   "source": [
    "#[]情况完全不同：列表中的每个元素都可以作为单独匹配 *左边是尽量匹配,ab* a ab abbbbbb"
   ]
  },
  {
   "cell_type": "code",
   "execution_count": 128,
   "id": "934dab14",
   "metadata": {},
   "outputs": [
    {
     "name": "stdout",
     "output_type": "stream",
     "text": [
      "['T3大数据析']\n"
     ]
    }
   ],
   "source": [
    "print(look_for(pat,'T3大数据分析T3大数据析'))"
   ]
  },
  {
   "cell_type": "code",
   "execution_count": 130,
   "id": "0a5c6b21",
   "metadata": {},
   "outputs": [],
   "source": [
    "# + 左边字符串是否出现一次或多次\n",
    "pat=r'T3大数据+析'"
   ]
  },
  {
   "cell_type": "code",
   "execution_count": 134,
   "id": "b75d3859",
   "metadata": {},
   "outputs": [
    {
     "name": "stdout",
     "output_type": "stream",
     "text": [
      "['T3大数据析']\n",
      "没有找到\n",
      "['T3大数据据据据析']\n"
     ]
    }
   ],
   "source": [
    "print(look_for(pat,'T3大数据析大数据'))\n",
    "print(look_for(pat,'T3大数析大数据'))\n",
    "print(look_for(pat,'T3大数据据据据析大数据'))"
   ]
  },
  {
   "cell_type": "code",
   "execution_count": 142,
   "id": "d1bb21a9",
   "metadata": {},
   "outputs": [
    {
     "name": "stdout",
     "output_type": "stream",
     "text": [
      "['T3大数据据据据析']\n"
     ]
    }
   ],
   "source": [
    "pat=r'([a-zA-Z]+[0-9]大数据+析)'\n",
    "print(look_for(pat,'T3大数据据据据析大数据'))"
   ]
  },
  {
   "cell_type": "code",
   "execution_count": 144,
   "id": "e4027f89",
   "metadata": {},
   "outputs": [
    {
     "name": "stdout",
     "output_type": "stream",
     "text": [
      "['T3大数据据据据析']\n"
     ]
    }
   ],
   "source": [
    "pat=r'([a-zA-Z]*[0-9]大数据+析)'\n",
    "print(look_for(pat,'T3大数据据据据析大数据'))"
   ]
  },
  {
   "cell_type": "code",
   "execution_count": 146,
   "id": "a80b58a9",
   "metadata": {},
   "outputs": [
    {
     "name": "stdout",
     "output_type": "stream",
     "text": [
      "没有找到\n"
     ]
    }
   ],
   "source": [
    "pat=r'([a-zA-Z]+[0-9]大数据+(?:开始|结束))'\n",
    "print(look_for(pat,'TTTTT3大数据据据据析大数据开始'))"
   ]
  },
  {
   "cell_type": "code",
   "execution_count": 150,
   "id": "1436d992",
   "metadata": {},
   "outputs": [
    {
     "name": "stdout",
     "output_type": "stream",
     "text": [
      "['T3大数据开始']\n"
     ]
    }
   ],
   "source": [
    "pat=r'([a-zA-Z]+[0-9]大数据+(?:开始|结束))'\n",
    "print(look_for(pat,'T3大数据开始'))"
   ]
  },
  {
   "cell_type": "code",
   "execution_count": null,
   "id": "92b56f49",
   "metadata": {},
   "outputs": [],
   "source": [
    "pat=r'([a-zA-Z]+[0-9]大数据+(?:开始|结束))'\n",
    "print(look_for(pat,'T3大数据结束开始'))"
   ]
  },
  {
   "cell_type": "code",
   "execution_count": 154,
   "id": "9d82783d",
   "metadata": {},
   "outputs": [],
   "source": [
    "# ? 检查左边的字符串是否出现零次或一次  ab?  a或者ab\n",
    "pat=r'T3大数据?析'"
   ]
  },
  {
   "cell_type": "code",
   "execution_count": 156,
   "id": "52d5c9cb",
   "metadata": {},
   "outputs": [
    {
     "name": "stdout",
     "output_type": "stream",
     "text": [
      "['T3大数据析']\n"
     ]
    }
   ],
   "source": [
    "print(look_for(pat,'TTTT3大数据析结束开始'))"
   ]
  },
  {
   "cell_type": "code",
   "execution_count": 157,
   "id": "1a8797b7",
   "metadata": {},
   "outputs": [],
   "source": [
    "#贪婪模式：\n",
    "    # * 表示可跟随0个或多个字符\n",
    "    # + 表示可跟随1个或多个字符\n",
    "    # ? 表示可跟随0个或1个字符\n",
    "    \n",
    "#非贪婪模式：\n",
    "    # *？ 表示可跟随0个或多个字符，但只取第一个\n",
    "    # +？ 表示可跟随1个或多个字符，但只取第一个\n",
    "    # ?？ 表示可跟随0个或1个字符，但只取第一个"
   ]
  },
  {
   "cell_type": "code",
   "execution_count": 158,
   "id": "ae8bb29f",
   "metadata": {},
   "outputs": [
    {
     "data": {
      "text/plain": [
       "'<title>首页 - 福州大学</title>'"
      ]
     },
     "execution_count": 158,
     "metadata": {},
     "output_type": "execute_result"
    }
   ],
   "source": [
    "heading=r'<title>首页 - 福州大学</title>'\n",
    "heading"
   ]
  },
  {
   "cell_type": "code",
   "execution_count": 162,
   "id": "065f722e",
   "metadata": {},
   "outputs": [
    {
     "name": "stdout",
     "output_type": "stream",
     "text": [
      "['<title>首页 - 福州大学</title>']\n"
     ]
    }
   ],
   "source": [
    "pat1=r'<.+>'\n",
    "print(look_for(pat1,heading))"
   ]
  },
  {
   "cell_type": "code",
   "execution_count": 164,
   "id": "82b806dc",
   "metadata": {},
   "outputs": [
    {
     "name": "stdout",
     "output_type": "stream",
     "text": [
      "['<title>', '</title>']\n"
     ]
    }
   ],
   "source": [
    "pat2=r'<.+?>'\n",
    "print(look_for(pat2,heading))"
   ]
  },
  {
   "cell_type": "code",
   "execution_count": 169,
   "id": "dae78578",
   "metadata": {},
   "outputs": [
    {
     "name": "stdout",
     "output_type": "stream",
     "text": [
      "['>首页 - 福州大学<']\n"
     ]
    }
   ],
   "source": [
    "pat3=r'>.+<'\n",
    "print(look_for(pat3,heading))"
   ]
  },
  {
   "cell_type": "code",
   "execution_count": 170,
   "id": "3b82b89e",
   "metadata": {},
   "outputs": [],
   "source": [
    "#次数符号 大括号\n",
    "    # {n} 左边字符串是否出现了n次\n",
    "    # {n,} 左边字符串是否出现了大于等于n次\n",
    "    # {,n} 左边字符串是否出现了小于等于n次\n",
    "    # {n,m} 左边字符串是否出现在n次和m次之间"
   ]
  },
  {
   "cell_type": "code",
   "execution_count": 2,
   "id": "1df788a0",
   "metadata": {},
   "outputs": [],
   "source": [
    "s1='TT3大数据分析大数据分析析析析析TTT3开始结束结束T3'"
   ]
  },
  {
   "cell_type": "code",
   "execution_count": 6,
   "id": "cc3d4594",
   "metadata": {},
   "outputs": [
    {
     "name": "stdout",
     "output_type": "stream",
     "text": [
      "['TT', 'TTT', 'T']\n"
     ]
    }
   ],
   "source": [
    "print(look_for(r'[a-zA-Z]{1,3}',s1))"
   ]
  },
  {
   "cell_type": "code",
   "execution_count": null,
   "id": "47397e57",
   "metadata": {},
   "outputs": [],
   "source": [
    "##2 元字符--并列字符\n",
    "|"
   ]
  },
  {
   "cell_type": "code",
   "execution_count": 8,
   "id": "2a7f6f95",
   "metadata": {},
   "outputs": [
    {
     "name": "stdout",
     "output_type": "stream",
     "text": [
      "['数据', '分析', '数据', '分析']\n"
     ]
    }
   ],
   "source": [
    "pat=r'数据|分析'\n",
    "print(look_for(pat,s1))"
   ]
  },
  {
   "cell_type": "code",
   "execution_count": 9,
   "id": "ee64d316",
   "metadata": {},
   "outputs": [],
   "source": [
    "##2 元字符--提取字符()"
   ]
  },
  {
   "cell_type": "code",
   "execution_count": 12,
   "id": "62a2ff5b",
   "metadata": {},
   "outputs": [],
   "source": [
    "pat=r'T3(大数据|分析课|分析)'"
   ]
  },
  {
   "cell_type": "code",
   "execution_count": 13,
   "id": "2227f700",
   "metadata": {},
   "outputs": [
    {
     "name": "stdout",
     "output_type": "stream",
     "text": [
      "['大数据']\n"
     ]
    }
   ],
   "source": [
    "print(look_for(pat,s1))"
   ]
  },
  {
   "cell_type": "code",
   "execution_count": 16,
   "id": "d691a0f8",
   "metadata": {},
   "outputs": [
    {
     "name": "stdout",
     "output_type": "stream",
     "text": [
      "['大数据']\n",
      "['分析']\n"
     ]
    }
   ],
   "source": [
    "print(look_for(pat,'T3大数据'))\n",
    "print(look_for(pat,'T3分析'))\n",
    "print(look_for(pat,'T3分析课'))"
   ]
  },
  {
   "cell_type": "code",
   "execution_count": 20,
   "id": "0808bf57",
   "metadata": {},
   "outputs": [],
   "source": [
    "pat=r'(T3(大数据|分析课|分析))'"
   ]
  },
  {
   "cell_type": "code",
   "execution_count": 22,
   "id": "ca9f3a56",
   "metadata": {},
   "outputs": [
    {
     "name": "stdout",
     "output_type": "stream",
     "text": [
      "[('T3大数据', '大数据')]\n",
      "[('T3分析', '分析')]\n",
      "[('T3分析课', '分析课')]\n"
     ]
    }
   ],
   "source": [
    "print(look_for(pat,'T3大数据'))\n",
    "print(look_for(pat,'T3分析'))\n",
    "print(look_for(pat,'T3分析课'))"
   ]
  },
  {
   "cell_type": "code",
   "execution_count": 26,
   "id": "e89089b1",
   "metadata": {},
   "outputs": [],
   "source": [
    "pat=r'(T3(?:大数据|分析课|分析))'"
   ]
  },
  {
   "cell_type": "code",
   "execution_count": 27,
   "id": "1c5f9d6b",
   "metadata": {},
   "outputs": [
    {
     "name": "stdout",
     "output_type": "stream",
     "text": [
      "['T3大数据']\n",
      "['T3分析']\n",
      "['T3分析课']\n"
     ]
    }
   ],
   "source": [
    "print(look_for(pat,'T3大数据'))\n",
    "print(look_for(pat,'T3分析'))\n",
    "print(look_for(pat,'T3分析课'))"
   ]
  },
  {
   "cell_type": "code",
   "execution_count": 34,
   "id": "cfcbe75c",
   "metadata": {},
   "outputs": [],
   "source": [
    "pat=r'(T3(?!大数据|分析课|分析))'"
   ]
  },
  {
   "cell_type": "code",
   "execution_count": 35,
   "id": "2c57dd2e",
   "metadata": {},
   "outputs": [
    {
     "name": "stdout",
     "output_type": "stream",
     "text": [
      "没有找到\n",
      "没有找到\n",
      "没有找到\n"
     ]
    }
   ],
   "source": [
    "print(look_for(pat,'T3大数据'))\n",
    "print(look_for(pat,'T3分析'))\n",
    "print(look_for(pat,'T3分析课'))"
   ]
  },
  {
   "cell_type": "code",
   "execution_count": 48,
   "id": "f3099cf3",
   "metadata": {},
   "outputs": [],
   "source": [
    "pat=r'(T3(?=大数据|分析课|分析))'"
   ]
  },
  {
   "cell_type": "code",
   "execution_count": 61,
   "id": "067dbbfb",
   "metadata": {},
   "outputs": [
    {
     "name": "stdout",
     "output_type": "stream",
     "text": [
      "没有找到\n",
      "没有找到\n",
      "没有找到\n"
     ]
    }
   ],
   "source": [
    "print(look_for(pat,'T3大数据'))\n",
    "print(look_for(pat,'T3分析'))\n",
    "print(look_for(pat,'T3分析课'))"
   ]
  },
  {
   "cell_type": "code",
   "execution_count": 59,
   "id": "94d7c5f7",
   "metadata": {},
   "outputs": [],
   "source": [
    "pat=r'((?<=all|one)student)' #零宽断言定长宽度"
   ]
  },
  {
   "cell_type": "code",
   "execution_count": 62,
   "id": "d1baec44",
   "metadata": {},
   "outputs": [
    {
     "name": "stdout",
     "output_type": "stream",
     "text": [
      "['student']\n",
      "['student']\n",
      "没有找到\n",
      "['student']\n"
     ]
    }
   ],
   "source": [
    "print(look_for(pat,'onestudent'))\n",
    "print(look_for(pat,'allstudent'))\n",
    "print(look_for(pat,'everystudent'))\n",
    "print(look_for(pat,'nonestudent'))"
   ]
  },
  {
   "cell_type": "code",
   "execution_count": 63,
   "id": "df1a0a80",
   "metadata": {},
   "outputs": [],
   "source": [
    "##2 元字符--转义字符\n",
    "    # . 匹配除换行符以外的所有字符\n",
    "    # ^ 匹配文本行的开头字符，和[]一起使用表示补集\n",
    "    # $ 匹配文本行的结尾字符\n",
    "    # \\ 将特殊字符转换成为自身含义;将自身字符转换成特殊字符"
   ]
  },
  {
   "cell_type": "code",
   "execution_count": 64,
   "id": "f996cf3a",
   "metadata": {},
   "outputs": [],
   "source": [
    "pat=r'.'"
   ]
  },
  {
   "cell_type": "code",
   "execution_count": 65,
   "id": "14a239c3",
   "metadata": {},
   "outputs": [
    {
     "name": "stdout",
     "output_type": "stream",
     "text": [
      "['o', 'n', 'e', 's', 't', 'u', 'd', 'e', 'n', 't']\n",
      "['a', 'l', 'l', 's', 't', 'u', 'd', 'e', 'n', 't']\n",
      "['e', 'v', 'e', 'r', 'y', 's', 't', 'u', 'd', 'e', 'n', 't']\n",
      "['n', 'o', 'n', 'e', 's', 't', 'u', 'd', 'e', 'n', 't']\n"
     ]
    }
   ],
   "source": [
    "print(look_for(pat,'onestudent'))\n",
    "print(look_for(pat,'allstudent'))\n",
    "print(look_for(pat,'everystudent'))\n",
    "print(look_for(pat,'nonestudent'))"
   ]
  },
  {
   "cell_type": "code",
   "execution_count": 74,
   "id": "8f4829dd",
   "metadata": {},
   "outputs": [],
   "source": [
    "pat=r'^a[\\w]*'"
   ]
  },
  {
   "cell_type": "code",
   "execution_count": 77,
   "id": "3a63d876",
   "metadata": {},
   "outputs": [
    {
     "name": "stdout",
     "output_type": "stream",
     "text": [
      "没有找到\n",
      "['all']\n",
      "['all_students']\n",
      "没有找到\n",
      "没有找到\n"
     ]
    }
   ],
   "source": [
    "print(look_for(pat,'one student'))\n",
    "print(look_for(pat,'all students'))\n",
    "print(look_for(pat,'all_students'))\n",
    "print(look_for(pat,'every student'))\n",
    "print(look_for(pat,'none student'))"
   ]
  },
  {
   "cell_type": "code",
   "execution_count": 10,
   "id": "c72d69ba",
   "metadata": {},
   "outputs": [],
   "source": [
    "pat=r'[^a][\\w]*'"
   ]
  },
  {
   "cell_type": "code",
   "execution_count": 12,
   "id": "1e351843",
   "metadata": {},
   "outputs": [
    {
     "name": "stdout",
     "output_type": "stream",
     "text": [
      "['one', ' student']\n",
      "['ll', ' students']\n",
      "['every', ' student']\n",
      "['none', ' student']\n"
     ]
    }
   ],
   "source": [
    "print(look_for(pat,'one student'))\n",
    "print(look_for(pat,'all students'))\n",
    "print(look_for(pat,'every student'))\n",
    "print(look_for(pat,'none student'))"
   ]
  },
  {
   "cell_type": "code",
   "execution_count": 13,
   "id": "20ee751a",
   "metadata": {},
   "outputs": [],
   "source": [
    "pat=r'[\\w]*s$'"
   ]
  },
  {
   "cell_type": "code",
   "execution_count": 15,
   "id": "36c329d0",
   "metadata": {},
   "outputs": [
    {
     "name": "stdout",
     "output_type": "stream",
     "text": [
      "没有找到\n",
      "['students']\n",
      "没有找到\n",
      "没有找到\n"
     ]
    }
   ],
   "source": [
    "print(look_for(pat,'one student'))\n",
    "print(look_for(pat,'all students'))\n",
    "print(look_for(pat,'every student'))\n",
    "print(look_for(pat,'none student'))"
   ]
  },
  {
   "cell_type": "code",
   "execution_count": 16,
   "id": "c2214d9f",
   "metadata": {},
   "outputs": [
    {
     "data": {
      "text/plain": [
       "'\\n\\x08:匹配空字符串，但仅适用于单词的\"首尾\"\\n\\\\B:匹配空字符串，但仅适用于单词的\"非首尾\"\\n\\\\d:匹配任何\"数字\"字符，等价于[0-9]\\n\\\\D:匹配任何\"非数字\"字符，等价于[^0-9]\\n\\\\s:匹配任何\"空白\"字符，等价于[ \\t\\n\\r]\\n\\\\S:匹配任何\"非空白\"字符，等价于[^ \\t\\n\\r]\\n\\\\w:匹配任何\"字母数字下划线\"字符，等价于[a-zA-Z0-9_]\\n\\\\W:匹配任何\"非字母数字下划线\"字符，等价于[^a-zA-Z0-9_]\\n\\\\A:匹配句子的\"开头\"字符，等价于 ^\\n\\\\Z:匹配句子的\"结尾\"字符，等价于 $\\n\\t:匹配句子的\"制表键(tab)\"字符\\n\\r:匹配句子的\"回车键(return)\"字符\\n\\n:匹配句子的\"换行键(newline)\"字符\\n'"
      ]
     },
     "execution_count": 16,
     "metadata": {},
     "output_type": "execute_result"
    }
   ],
   "source": [
    "#反斜杠——自身-->特殊\n",
    "'''\n",
    "\\b:匹配空字符串，但仅适用于单词的\"首尾\"\n",
    "\\B:匹配空字符串，但仅适用于单词的\"非首尾\"\n",
    "\\d:匹配任何\"数字\"字符，等价于[0-9]\n",
    "\\D:匹配任何\"非数字\"字符，等价于[^0-9]\n",
    "\\s:匹配任何\"空白\"字符，等价于[ \\t\\n\\r]\n",
    "\\S:匹配任何\"非空白\"字符，等价于[^ \\t\\n\\r]\n",
    "\\w:匹配任何\"字母数字下划线\"字符，等价于[a-zA-Z0-9_]\n",
    "\\W:匹配任何\"非字母数字下划线\"字符，等价于[^a-zA-Z0-9_]\n",
    "\\A:匹配句子的\"开头\"字符，等价于 ^\n",
    "\\Z:匹配句子的\"结尾\"字符，等价于 $\n",
    "\\t:匹配句子的\"制表键(tab)\"字符\n",
    "\\r:匹配句子的\"回车键(return)\"字符\n",
    "\\n:匹配句子的\"换行键(newline)\"字符\n",
    "'''"
   ]
  },
  {
   "cell_type": "code",
   "execution_count": 14,
   "id": "d7aba51b",
   "metadata": {},
   "outputs": [
    {
     "name": "stdout",
     "output_type": "stream",
     "text": [
      "['student']\n",
      "没有找到\n",
      "['student']\n",
      "没有找到\n"
     ]
    }
   ],
   "source": [
    "pat=r'\\bstudent\\b'\n",
    "print(look_for(pat,'one student '))\n",
    "print(look_for(pat,'all students'))\n",
    "print(look_for(pat,'every student'))\n",
    "print(look_for(pat,'nonestudent'))"
   ]
  },
  {
   "cell_type": "code",
   "execution_count": 16,
   "id": "b31490b6",
   "metadata": {},
   "outputs": [
    {
     "name": "stdout",
     "output_type": "stream",
     "text": [
      "没有找到\n",
      "没有找到\n",
      "没有找到\n",
      "['student']\n"
     ]
    }
   ],
   "source": [
    "pat=r'\\Bstudent\\B'\n",
    "print(look_for(pat,'one student '))\n",
    "print(look_for(pat,'all student'))\n",
    "print(look_for(pat,'every student'))\n",
    "print(look_for(pat,'nonestudents'))"
   ]
  },
  {
   "cell_type": "code",
   "execution_count": 18,
   "id": "ac193277",
   "metadata": {},
   "outputs": [
    {
     "name": "stdout",
     "output_type": "stream",
     "text": [
      "['1']\n",
      "['150']\n",
      "没有找到\n",
      "没有找到\n"
     ]
    }
   ],
   "source": [
    "pat=r'\\d+'\n",
    "print(look_for(pat,'1 student '))\n",
    "print(look_for(pat,'150 student'))\n",
    "print(look_for(pat,'every student'))\n",
    "print(look_for(pat,'nonestudents'))"
   ]
  },
  {
   "cell_type": "code",
   "execution_count": 20,
   "id": "855ea77e",
   "metadata": {},
   "outputs": [
    {
     "name": "stdout",
     "output_type": "stream",
     "text": [
      "[' student ']\n",
      "[' student']\n",
      "['every student']\n",
      "['nonestudents']\n"
     ]
    }
   ],
   "source": [
    "pat=r'\\D+'\n",
    "print(look_for(pat,'1 student '))\n",
    "print(look_for(pat,'150 student'))\n",
    "print(look_for(pat,'every student'))\n",
    "print(look_for(pat,'nonestudents'))"
   ]
  },
  {
   "cell_type": "code",
   "execution_count": 22,
   "id": "7c8b491c",
   "metadata": {},
   "outputs": [
    {
     "name": "stdout",
     "output_type": "stream",
     "text": [
      "[' ', ' ']\n",
      "[' ']\n",
      "[' ']\n",
      "没有找到\n"
     ]
    }
   ],
   "source": [
    "pat=r'\\s+'\n",
    "print(look_for(pat,'1 student '))\n",
    "print(look_for(pat,'150 student'))\n",
    "print(look_for(pat,'every student'))\n",
    "print(look_for(pat,'nonestudents'))"
   ]
  },
  {
   "cell_type": "code",
   "execution_count": 23,
   "id": "c0ddd9ff",
   "metadata": {},
   "outputs": [],
   "source": [
    "s='''\n",
    "\\b:匹配空字符串，但仅适用于单词的\"首尾\"\n",
    "\\B:匹配空字符串，但仅适用于单词的\"非首尾\"\n",
    "\\d:匹配任何\"数字\"字符，等价于[0-9]\n",
    "\\D:匹配任何\"非数字\"字符，等价于[^0-9]\n",
    "\\s:匹配任何\"空白\"字符，等价于[ \\t\\n\\r]\n",
    "\\S:匹配任何\"非空白\"字符，等价于[^ \\t\\n\\r]\n",
    "\\w:匹配任何\"字母数字下划线\"字符，等价于[a-zA-Z0-9_]\n",
    "\\W:匹配任何\"非字母数字下划线\"字符，等价于[^a-zA-Z0-9_]\n",
    "\\A:匹配句子的\"开头\"字符，等价于 ^\n",
    "\\Z:匹配句子的\"结尾\"字符，等价于 $\n",
    "\\t:匹配句子的\"制表键(tab)\"字符\n",
    "\\r:匹配句子的\"回车键(return)\"字符\n",
    "\\n:匹配句子的\"换行键(newline)\"字符\n",
    "'''"
   ]
  },
  {
   "cell_type": "code",
   "execution_count": 26,
   "id": "aac95664",
   "metadata": {},
   "outputs": [
    {
     "name": "stdout",
     "output_type": "stream",
     "text": [
      "['\\x08:匹配空字符串，但仅适用于单词的\"首尾\"', '\\\\B:匹配空字符串，但仅适用于单词的\"非首尾\"', '\\\\d:匹配任何\"数字\"字符，等价于[0-9]', '\\\\D:匹配任何\"非数字\"字符，等价于[^0-9]', '\\\\s:匹配任何\"空白\"字符，等价于[', ']', '\\\\S:匹配任何\"非空白\"字符，等价于[^', ']', '\\\\w:匹配任何\"字母数字下划线\"字符，等价于[a-zA-Z0-9_]', '\\\\W:匹配任何\"非字母数字下划线\"字符，等价于[^a-zA-Z0-9_]', '\\\\A:匹配句子的\"开头\"字符，等价于', '^', '\\\\Z:匹配句子的\"结尾\"字符，等价于', '$', ':匹配句子的\"制表键(tab)\"字符', ':匹配句子的\"回车键(return)\"字符', ':匹配句子的\"换行键(newline)\"字符']\n"
     ]
    }
   ],
   "source": [
    "pat=r'\\S+'\n",
    "print(look_for(pat,s))"
   ]
  },
  {
   "cell_type": "code",
   "execution_count": 29,
   "id": "2bf9c88c",
   "metadata": {},
   "outputs": [
    {
     "name": "stdout",
     "output_type": "stream",
     "text": [
      "['1', 'student']\n",
      "['150', 'student']\n",
      "['every', 'student']\n",
      "['none', 'students']\n"
     ]
    }
   ],
   "source": [
    "pat=r'\\w+'\n",
    "print(look_for(pat,'1 student '))\n",
    "print(look_for(pat,'150 student'))\n",
    "print(look_for(pat,'every student'))\n",
    "print(look_for(pat,'none\\nstudents'))"
   ]
  },
  {
   "cell_type": "code",
   "execution_count": 31,
   "id": "06512094",
   "metadata": {},
   "outputs": [
    {
     "name": "stdout",
     "output_type": "stream",
     "text": [
      "[' ', ' ']\n",
      "[' ']\n",
      "[' ']\n",
      "['\\n']\n"
     ]
    }
   ],
   "source": [
    "pat=r'\\W+'\n",
    "print(look_for(pat,'1 student '))\n",
    "print(look_for(pat,'150 student'))\n",
    "print(look_for(pat,'every student'))\n",
    "print(look_for(pat,'none\\nstudents'))"
   ]
  },
  {
   "cell_type": "code",
   "execution_count": 35,
   "id": "2b6945ca",
   "metadata": {},
   "outputs": [
    {
     "name": "stdout",
     "output_type": "stream",
     "text": [
      "['student']\n",
      "['student']\n",
      "没有找到\n",
      "没有找到\n"
     ]
    }
   ],
   "source": [
    "pat1=r'^s[\\w]*'\n",
    "pat2=r'\\As[\\w]*'\n",
    "print(look_for(pat2,'student '))\n",
    "print(look_for(pat2,'student'))\n",
    "print(look_for(pat2,'every student'))\n",
    "print(look_for(pat2,'none\\nstudents'))"
   ]
  },
  {
   "cell_type": "code",
   "execution_count": 40,
   "id": "9677410f",
   "metadata": {},
   "outputs": [
    {
     "name": "stdout",
     "output_type": "stream",
     "text": [
      "没有找到\n",
      "['student']\n",
      "没有找到\n",
      "没有找到\n"
     ]
    }
   ],
   "source": [
    "pat1=r'^[\\w]*t$'\n",
    "pat2=r'^[\\w]*t\\Z'\n",
    "print(look_for(pat1,'student '))\n",
    "print(look_for(pat1,'student'))\n",
    "print(look_for(pat1,'every student'))\n",
    "print(look_for(pat1,'none\\nstudents'))"
   ]
  },
  {
   "cell_type": "markdown",
   "id": "1b51c349",
   "metadata": {},
   "source": [
    "## 3 RE函数"
   ]
  },
  {
   "cell_type": "code",
   "execution_count": 3,
   "id": "02b10230",
   "metadata": {},
   "outputs": [],
   "source": [
    "stus=\"\"\"\n",
    "1\n",
    "harry\n",
    "072007101 aaa\n",
    "2\n",
    "peter\n",
    "072007102 bbb\n",
    "3\n",
    "lucy\n",
    "072007103 ccc\n",
    "\"\"\""
   ]
  },
  {
   "cell_type": "code",
   "execution_count": 6,
   "id": "74ecd801",
   "metadata": {},
   "outputs": [],
   "source": [
    "import re"
   ]
  },
  {
   "cell_type": "code",
   "execution_count": 7,
   "id": "ede6d44f",
   "metadata": {},
   "outputs": [],
   "source": [
    "pat=re.compile('[0][7][0-9]{7}')"
   ]
  },
  {
   "cell_type": "code",
   "execution_count": 51,
   "id": "dce56284",
   "metadata": {},
   "outputs": [
    {
     "data": {
      "text/plain": [
       "['072007101', '072007102', '072007103']"
      ]
     },
     "execution_count": 51,
     "metadata": {},
     "output_type": "execute_result"
    }
   ],
   "source": [
    "pat.findall(stus)"
   ]
  },
  {
   "cell_type": "code",
   "execution_count": 49,
   "id": "f56cfbe9",
   "metadata": {},
   "outputs": [
    {
     "data": {
      "text/plain": [
       "['072007101', '072007102', '072007103']"
      ]
     },
     "execution_count": 49,
     "metadata": {},
     "output_type": "execute_result"
    }
   ],
   "source": [
    "re.findall(pat,stus)"
   ]
  },
  {
   "cell_type": "code",
   "execution_count": 54,
   "id": "e106567d",
   "metadata": {},
   "outputs": [
    {
     "name": "stdout",
     "output_type": "stream",
     "text": [
      "['072007101', '072007102', '072007103']\n"
     ]
    }
   ],
   "source": [
    "print(re.findall(r'[0][7][0-9]{7}',stus))"
   ]
  },
  {
   "cell_type": "code",
   "execution_count": 55,
   "id": "762f1f6e",
   "metadata": {},
   "outputs": [],
   "source": [
    "#正则表达式下常用的函数：\n",
    "    # match(pat.str):检查字符串的开头是否符合某个模型\n",
    "    # search(pat,str):检查字符串任意位置是否符合某个模型\n",
    "    # findall(pat,str):返回所有符合某个模型的字符串，以列表方式\n",
    "    # finditer(pat,str):返回所有符合某个模型的字符串，以迭代器形式输出\n",
    "    # split(pat,str):以某个模型为分割点，拆分整个字符串为一系列字符串，以列表形式\n",
    "    # sub(pat,repl,str):str中找到匹配某个模型的所有字符串，用其他字符串进行代替\n",
    "    # compile(pat):对某个模型进行翻译，以便后期使用"
   ]
  },
  {
   "cell_type": "code",
   "execution_count": 26,
   "id": "980fea8c",
   "metadata": {},
   "outputs": [],
   "source": [
    "##3.1 match函数\n",
    "stus\n",
    "l1='经济与管理学院T3大数据分析课程经管类'"
   ]
  },
  {
   "cell_type": "code",
   "execution_count": 8,
   "id": "896402ac",
   "metadata": {},
   "outputs": [
    {
     "name": "stdout",
     "output_type": "stream",
     "text": [
      "<re.Match object; span=(0, 2), match='\\n1'>\n"
     ]
    }
   ],
   "source": [
    "print(re.match(r'\\n1',stus))"
   ]
  },
  {
   "cell_type": "code",
   "execution_count": 9,
   "id": "868e3344",
   "metadata": {},
   "outputs": [
    {
     "name": "stdout",
     "output_type": "stream",
     "text": [
      "None\n"
     ]
    }
   ],
   "source": [
    "print(re.match(r'T3',l1))"
   ]
  },
  {
   "cell_type": "code",
   "execution_count": 12,
   "id": "43f38b12",
   "metadata": {},
   "outputs": [
    {
     "name": "stdout",
     "output_type": "stream",
     "text": [
      "经济\n"
     ]
    }
   ],
   "source": [
    "print(re.match(r'经济',l1).group())"
   ]
  },
  {
   "cell_type": "code",
   "execution_count": 13,
   "id": "b98ae637",
   "metadata": {},
   "outputs": [],
   "source": [
    "##3.2 Search函数"
   ]
  },
  {
   "cell_type": "code",
   "execution_count": 16,
   "id": "96c8ac9f",
   "metadata": {},
   "outputs": [
    {
     "name": "stdout",
     "output_type": "stream",
     "text": [
      "<re.Match object; span=(10, 12), match='数据'>\n",
      "数据\n"
     ]
    }
   ],
   "source": [
    "print(re.search(r'数据',l1))\n",
    "print(re.search(r'数据',l1).group())"
   ]
  },
  {
   "cell_type": "code",
   "execution_count": 17,
   "id": "b1880625",
   "metadata": {},
   "outputs": [],
   "source": [
    "#3.3 FindAll函数"
   ]
  },
  {
   "cell_type": "code",
   "execution_count": 22,
   "id": "024d2226",
   "metadata": {},
   "outputs": [
    {
     "name": "stdout",
     "output_type": "stream",
     "text": [
      "['经', '经']\n"
     ]
    }
   ],
   "source": [
    "print(re.findall(r'经',l1))"
   ]
  },
  {
   "cell_type": "code",
   "execution_count": 27,
   "id": "b3f53760",
   "metadata": {},
   "outputs": [
    {
     "data": {
      "text/plain": [
       "'经济与管理学院T3大数据分析课程经管类'"
      ]
     },
     "execution_count": 27,
     "metadata": {},
     "output_type": "execute_result"
    }
   ],
   "source": [
    "#3.4 finditer函数\n",
    "l1"
   ]
  },
  {
   "cell_type": "code",
   "execution_count": 31,
   "id": "621c5e81",
   "metadata": {},
   "outputs": [
    {
     "name": "stdout",
     "output_type": "stream",
     "text": [
      "['经', '经']\n",
      "[<re.Match object; span=(0, 1), match='经'>, <re.Match object; span=(16, 17), match='经'>]\n"
     ]
    }
   ],
   "source": [
    "print([i for i in re.findall(r'经',l1)])\n",
    "print([i for i in re.finditer(r'经',l1)])"
   ]
  },
  {
   "cell_type": "code",
   "execution_count": 34,
   "id": "8f67f849",
   "metadata": {},
   "outputs": [
    {
     "data": {
      "text/plain": [
       "'\\n1\\nharry\\n072007101 aaa\\n2\\npeter\\n072007102 bbb\\n3\\nlucy\\n072007103 ccc\\n'"
      ]
     },
     "execution_count": 34,
     "metadata": {},
     "output_type": "execute_result"
    }
   ],
   "source": [
    "##3.5 split函数\n",
    "stus"
   ]
  },
  {
   "cell_type": "code",
   "execution_count": 37,
   "id": "0d06b227",
   "metadata": {},
   "outputs": [
    {
     "name": "stdout",
     "output_type": "stream",
     "text": [
      "['\\n1\\nharry', ' aaa\\n2\\npeter', ' bbb\\n3\\nlucy', ' ccc\\n']\n"
     ]
    }
   ],
   "source": [
    "print(re.split(r'\\n[0][7][0-9]{7}',stus))"
   ]
  },
  {
   "cell_type": "code",
   "execution_count": 38,
   "id": "2a36284f",
   "metadata": {},
   "outputs": [],
   "source": [
    "##3.6 sub函数"
   ]
  },
  {
   "cell_type": "code",
   "execution_count": 42,
   "id": "5c55820f",
   "metadata": {},
   "outputs": [
    {
     "name": "stdout",
     "output_type": "stream",
     "text": [
      "-1-harry-072007101 aaa-2-peter-072007102 bbb-3-lucy-072007103 ccc-\n"
     ]
    }
   ],
   "source": [
    "print(re.sub(r'\\n','-',stus))"
   ]
  },
  {
   "cell_type": "code",
   "execution_count": null,
   "id": "ca091451",
   "metadata": {},
   "outputs": [],
   "source": [
    "##3.7 compile函数"
   ]
  },
  {
   "cell_type": "code",
   "execution_count": 65,
   "id": "1fe184b7",
   "metadata": {},
   "outputs": [
    {
     "data": {
      "text/plain": [
       "\"\\n'02/28/2021 08:00:00',90,'T3_大数据分析课程';\\n'02/28/2021 09:00:00',91,'T3_数据库原理与应用';\\n'02/28/2021 10:00:00',92,'T3_数据库营销'\\n\""
      ]
     },
     "execution_count": 65,
     "metadata": {},
     "output_type": "execute_result"
    }
   ],
   "source": [
    "str1=\"\"\"\n",
    "'02/28/2021 08:00:00',90,'T3_大数据分析课程';\n",
    "'02/28/2021 09:00:00',91,'T3_数据库原理与应用';\n",
    "'02/28/2021 10:00:00',92,'T3_数据库营销'\n",
    "\"\"\"\n",
    "str1"
   ]
  },
  {
   "cell_type": "code",
   "execution_count": 48,
   "id": "44de1516",
   "metadata": {},
   "outputs": [],
   "source": [
    "pat=r\"',([0-9]{2}),'\"\n",
    "obj=re.compile(pat)"
   ]
  },
  {
   "cell_type": "code",
   "execution_count": 53,
   "id": "3e00e557",
   "metadata": {},
   "outputs": [
    {
     "name": "stdout",
     "output_type": "stream",
     "text": [
      "None\n",
      "<re.Match object; span=(21, 27), match=\"',90,'\">\n",
      "['90', '91', '92']\n",
      "[<re.Match object; span=(21, 27), match=\"',90,'\">, <re.Match object; span=(59, 65), match=\"',91,'\">, <re.Match object; span=(98, 104), match=\"',92,'\">]\n",
      "\n",
      "'02/28/2021 08:00:00**T3大数据分析课程';\n",
      "'02/28/2021 09:00:00**T3数据库原理与应用';\n",
      "'02/28/2021 10:00:00**T3数据库营销'\n",
      "\n"
     ]
    }
   ],
   "source": [
    "print(obj.match(str1))\n",
    "print(obj.search(str1))\n",
    "print(obj.findall(str1))\n",
    "print([i for i in obj.finditer(str1)])\n",
    "print(obj.sub('**',str1))"
   ]
  },
  {
   "cell_type": "code",
   "execution_count": 61,
   "id": "e43c0f15",
   "metadata": {},
   "outputs": [],
   "source": [
    "pat2=r\"'(T3.+)'\"\n",
    "obj2=re.compile(pat2)"
   ]
  },
  {
   "cell_type": "code",
   "execution_count": 63,
   "id": "1dcf7244",
   "metadata": {},
   "outputs": [
    {
     "name": "stdout",
     "output_type": "stream",
     "text": [
      "['T3大数据分析课程', 'T3数据库原理与应用', 'T3数据库营销']\n"
     ]
    }
   ],
   "source": [
    "print(obj2.findall(str1))"
   ]
  },
  {
   "cell_type": "code",
   "execution_count": 66,
   "id": "a83047d5",
   "metadata": {},
   "outputs": [
    {
     "name": "stdout",
     "output_type": "stream",
     "text": [
      "['T3', '大数据分析课程']\n",
      "['T3', '数据库原理与应用']\n",
      "['T3', '数据库营销']\n"
     ]
    }
   ],
   "source": [
    "for course in obj2.findall(str1):\n",
    "    print(re.split(r'_',course))"
   ]
  }
 ],
 "metadata": {
  "kernelspec": {
   "display_name": "Python 3 (ipykernel)",
   "language": "python",
   "name": "python3"
  },
  "language_info": {
   "codemirror_mode": {
    "name": "ipython",
    "version": 3
   },
   "file_extension": ".py",
   "mimetype": "text/x-python",
   "name": "python",
   "nbconvert_exporter": "python",
   "pygments_lexer": "ipython3",
   "version": "3.9.7"
  }
 },
 "nbformat": 4,
 "nbformat_minor": 5
}
