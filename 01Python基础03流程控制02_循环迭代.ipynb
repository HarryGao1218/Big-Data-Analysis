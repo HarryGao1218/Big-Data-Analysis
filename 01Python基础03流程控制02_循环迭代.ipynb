{
 "cells": [
  {
   "cell_type": "markdown",
   "id": "a681358f",
   "metadata": {},
   "source": [
    "# 01Python基础03流程控制02——循环迭代"
   ]
  },
  {
   "cell_type": "markdown",
   "id": "7c3048bb",
   "metadata": {},
   "source": [
    "## 01 概述\n",
    "- 循环一般都执行相同的任务；可使用break、continue、else来进行循环控制\n",
    "- while执行的循环次数未知；for执行的循环次数已知"
   ]
  },
  {
   "cell_type": "markdown",
   "id": "c2d52046",
   "metadata": {},
   "source": [
    "## 02 while循环"
   ]
  },
  {
   "cell_type": "code",
   "execution_count": null,
   "id": "186a9b03",
   "metadata": {},
   "outputs": [],
   "source": [
    "- 无限循环\n",
    "    while <表达式>:\n",
    "          <正常语句>\n",
    "            \n",
    "- 嵌套循环\n",
    "    while <表达式>:\n",
    "          while <表达式>:\n",
    "               <正常语句>\n",
    "          <正常语句>\n",
    "        \n",
    "- 单行循环\n",
    "    while <表达式>:<正常语句>"
   ]
  },
  {
   "cell_type": "code",
   "execution_count": null,
   "id": "58d2e6d3",
   "metadata": {},
   "outputs": [],
   "source": [
    "n=10\n",
    "while n>0:\n",
    "    print(n)"
   ]
  },
  {
   "cell_type": "code",
   "execution_count": 6,
   "id": "af408144",
   "metadata": {},
   "outputs": [
    {
     "name": "stdout",
     "output_type": "stream",
     "text": [
      "10\n",
      "9\n",
      "8\n",
      "7\n",
      "6\n",
      "5\n",
      "4\n",
      "3\n",
      "2\n",
      "1\n"
     ]
    }
   ],
   "source": [
    "n=10\n",
    "while n>0:\n",
    "    print(n)\n",
    "    n=n-1"
   ]
  },
  {
   "cell_type": "code",
   "execution_count": 9,
   "id": "7c1754c6",
   "metadata": {},
   "outputs": [
    {
     "name": "stdout",
     "output_type": "stream",
     "text": [
      "经济与管理学院\n",
      "大数据分析\n",
      "T3\n"
     ]
    }
   ],
   "source": [
    "T3string=['T3','大数据分析','经济与管理学院']\n",
    "T3string[-3]\n",
    "while T3string:\n",
    "    print(T3string.pop(-1))"
   ]
  },
  {
   "cell_type": "code",
   "execution_count": 10,
   "id": "f49c49cb",
   "metadata": {},
   "outputs": [
    {
     "name": "stdout",
     "output_type": "stream",
     "text": [
      "经济与管理学院\n",
      "大数据分析\n",
      "T3\n"
     ]
    }
   ],
   "source": [
    "T3string=['T3','大数据分析','经济与管理学院']\n",
    "T3string[-3]\n",
    "while True:\n",
    "    if not T3string:\n",
    "        break\n",
    "    print(T3string.pop(-1))"
   ]
  },
  {
   "cell_type": "code",
   "execution_count": 15,
   "id": "77ed789b",
   "metadata": {},
   "outputs": [
    {
     "name": "stdout",
     "output_type": "stream",
     "text": [
      "统计学原理\n",
      "  属于 统计系\n",
      "  属于 会计系\n",
      "  属于 经贸系\n",
      "财务管理\n",
      "  属于 统计系\n",
      "  属于 会计系\n",
      "  属于 经贸系\n",
      "国际贸易\n",
      "  属于 统计系\n",
      "  属于 会计系\n",
      "  属于 经贸系\n"
     ]
    }
   ],
   "source": [
    "T3string=['统计学原理','财务管理','国际贸易']\n",
    "while len(T3string):\n",
    "    print(T3string.pop(0))\n",
    "    department=['统计系','会计系','经贸系']\n",
    "    \n",
    "    while len(department):\n",
    "        print('  属于',department.pop(0))"
   ]
  },
  {
   "cell_type": "code",
   "execution_count": 18,
   "id": "8dea0e03",
   "metadata": {},
   "outputs": [
    {
     "name": "stdout",
     "output_type": "stream",
     "text": [
      "9 8 7 6 5 4 3 2 1 0 "
     ]
    }
   ],
   "source": [
    "n=10\n",
    "while n>0:n-=1;print(n,end=' ')"
   ]
  },
  {
   "cell_type": "code",
   "execution_count": 19,
   "id": "d2deac11",
   "metadata": {},
   "outputs": [
    {
     "name": "stdout",
     "output_type": "stream",
     "text": [
      "1\n",
      "3\n",
      "5\n",
      "5\n",
      "5\n",
      "9\n",
      "3\n",
      "3\n",
      "9\n",
      "0\n"
     ]
    }
   ],
   "source": [
    "import numpy as np\n",
    "n=0\n",
    "while n<10:\n",
    "    print(np.random.randint(10))\n",
    "    n=n+1"
   ]
  },
  {
   "cell_type": "markdown",
   "id": "12325642",
   "metadata": {},
   "source": [
    "## 03 for循环"
   ]
  },
  {
   "cell_type": "markdown",
   "id": "a6d5ad13",
   "metadata": {},
   "source": [
    "### for循环概述\n",
    "- 循环次数确定，可在list、tuple、dict等容器型数据上进行遍历循环。\n",
    "- for a in b:\n",
    "    处理语句"
   ]
  },
  {
   "cell_type": "markdown",
   "id": "7b6836ae",
   "metadata": {},
   "source": [
    "- for 内部原理\n",
    "    for <var> in <iterable>\n",
    "        <statements(s)>"
   ]
  },
  {
   "cell_type": "code",
   "execution_count": 21,
   "id": "92b3f025",
   "metadata": {},
   "outputs": [
    {
     "data": {
      "text/plain": [
       "\"\\n'影片名称'，'类型'，'总票房(万)'，'平均票价'，'场均人次'，'国家及地区'\\n'长津湖之水门桥','这个杀手不太冷静','奇迹·笨小孩','穿过寒冬拥抱你','熊出没·重返地球','反贪风暴5：最终章','四海','李茂扮太子','狙击手','误杀2'\\n'战争','喜剧','剧情','剧情','动画','动作','剧情','喜剧','剧情','剧情'\\n'264,508','147,373','71,614','66,520','60,996','48,126','47,970','46,230','28,504','28,270'\\n'54','52','52','42','50','41','55','39','51','38'\\n'48','38','27','8','37','7','26','7','20','7'\\n'中国','中国','中国','中国','中国','中国/中国香港','中国','中国','中国','中国'\\n'2022-02-01','2022-02-01','2022-02-01','2021-12-31','2022-02-01','2021-12-31','2022-02-01','2022-01-01','2022-02-01','2021-12-17'\\n\""
      ]
     },
     "execution_count": 21,
     "metadata": {},
     "output_type": "execute_result"
    }
   ],
   "source": [
    "'''\n",
    "'影片名称'，'类型'，'总票房(万)'，'平均票价'，'场均人次'，'国家及地区'\n",
    "'长津湖之水门桥','这个杀手不太冷静','奇迹·笨小孩','穿过寒冬拥抱你','熊出没·重返地球','反贪风暴5：最终章','四海','李茂扮太子','狙击手','误杀2'\n",
    "'战争','喜剧','剧情','剧情','动画','动作','剧情','喜剧','剧情','剧情'\n",
    "'264,508','147,373','71,614','66,520','60,996','48,126','47,970','46,230','28,504','28,270'\n",
    "'54','52','52','42','50','41','55','39','51','38'\n",
    "'48','38','27','8','37','7','26','7','20','7'\n",
    "'中国','中国','中国','中国','中国','中国/中国香港','中国','中国','中国','中国'\n",
    "'2022-02-01','2022-02-01','2022-02-01','2021-12-31','2022-02-01','2021-12-31','2022-02-01','2022-01-01','2022-02-01','2021-12-17'\n",
    "'''"
   ]
  },
  {
   "cell_type": "code",
   "execution_count": 28,
   "id": "bb9f3446",
   "metadata": {},
   "outputs": [
    {
     "name": "stdout",
     "output_type": "stream",
     "text": [
      "长津湖之水门桥\n",
      "这个杀手不太冷静\n",
      "奇迹·笨小孩\n",
      "穿过寒冬拥抱你\n",
      "熊出没·重返地球\n",
      "反贪风暴5：最终章\n",
      "四海\n",
      "李茂扮太子\n",
      "狙击手\n",
      "误杀2\n"
     ]
    }
   ],
   "source": [
    "filmnames=['长津湖之水门桥','这个杀手不太冷静','奇迹·笨小孩','穿过寒冬拥抱你','熊出没·重返地球','反贪风暴5：最终章','四海','李茂扮太子','狙击手','误杀2']\n",
    "filmtypes=['战争','喜剧','剧情','剧情','动画','动作','剧情','喜剧','剧情','剧情']\n",
    "filmboos=['264,508','147,373','71,614','66,520','60,996','48,126','47,970','46,230','28,504','28,270']\n",
    "for filmname in filmnames:\n",
    "    print(filmname)"
   ]
  },
  {
   "cell_type": "code",
   "execution_count": 23,
   "id": "73d769ad",
   "metadata": {},
   "outputs": [
    {
     "name": "stdout",
     "output_type": "stream",
     "text": [
      "1 长津湖之水门桥\n",
      "2 这个杀手不太冷静\n",
      "3 奇迹·笨小孩\n",
      "4 穿过寒冬拥抱你\n",
      "5 熊出没·重返地球\n",
      "6 反贪风暴5：最终章\n",
      "7 四海\n",
      "8 李茂扮太子\n",
      "9 狙击手\n",
      "10 误杀2\n"
     ]
    }
   ],
   "source": [
    "irank=1\n",
    "for filmname in filmnames:\n",
    "    print(irank,filmname)\n",
    "    irank+=1"
   ]
  },
  {
   "cell_type": "code",
   "execution_count": 27,
   "id": "0569e6a5",
   "metadata": {},
   "outputs": [
    {
     "name": "stdout",
     "output_type": "stream",
     "text": [
      "1 长津湖之水门桥\n",
      "2 这个杀手不太冷静\n",
      "3 奇迹·笨小孩\n",
      "4 穿过寒冬拥抱你\n",
      "5 熊出没·重返地球\n",
      "6 反贪风暴5：最终章\n",
      "7 四海\n",
      "8 李茂扮太子\n",
      "9 狙击手\n",
      "10 误杀2\n"
     ]
    }
   ],
   "source": [
    "#枚举函数 enumerate() 不仅可以将对应的可迭代对象进行提取，并且将对应的索引值进行提取\n",
    "index=1\n",
    "for index,filmname in enumerate (filmnames):\n",
    "    print(index+1,filmname)"
   ]
  },
  {
   "cell_type": "code",
   "execution_count": 38,
   "id": "dc2a6902",
   "metadata": {},
   "outputs": [
    {
     "name": "stdout",
     "output_type": "stream",
     "text": [
      "长津湖之水门桥类型是 战争 当前电影票房是 264,508\n",
      "这个杀手不太冷静类型是 喜剧 当前电影票房是 147,373\n",
      "奇迹·笨小孩类型是 剧情 当前电影票房是 71,614\n",
      "穿过寒冬拥抱你类型是 剧情 当前电影票房是 66,520\n",
      "熊出没·重返地球类型是 动画 当前电影票房是 60,996\n",
      "反贪风暴5：最终章类型是 动作 当前电影票房是 48,126\n",
      "四海类型是 剧情 当前电影票房是 47,970\n",
      "李茂扮太子类型是 喜剧 当前电影票房是 46,230\n",
      "狙击手类型是 剧情 当前电影票房是 28,504\n",
      "误杀2类型是 剧情 当前电影票房是 28,270\n"
     ]
    }
   ],
   "source": [
    "#打包函数 zip() \n",
    "for filmname,filmtype,filmboo in zip(filmnames,filmtypes,filmboos):\n",
    "    print(filmname+'类型是',filmtype,'当前电影票房是',filmboo)"
   ]
  },
  {
   "cell_type": "code",
   "execution_count": 43,
   "id": "a0f23e55",
   "metadata": {},
   "outputs": [
    {
     "name": "stdout",
     "output_type": "stream",
     "text": [
      "《长津湖之水门桥》类型是战争,当前电影票房是264,508\n",
      "《这个杀手不太冷静》类型是喜剧,当前电影票房是147,373\n",
      "《奇迹·笨小孩》类型是剧情,当前电影票房是71,614\n",
      "《穿过寒冬拥抱你》类型是剧情,当前电影票房是66,520\n",
      "《熊出没·重返地球》类型是动画,当前电影票房是60,996\n",
      "《反贪风暴5：最终章》类型是动作,当前电影票房是48,126\n",
      "《四海》类型是剧情,当前电影票房是47,970\n",
      "《李茂扮太子》类型是喜剧,当前电影票房是46,230\n",
      "《狙击手》类型是剧情,当前电影票房是28,504\n",
      "《误杀2》类型是剧情,当前电影票房是28,270\n"
     ]
    }
   ],
   "source": [
    "for filmname,filmtype,filmboo in zip(filmnames,filmtypes,filmboos):\n",
    "    print(f\"《{filmname}》类型是{filmtype},当前电影票房是{filmboo}\")"
   ]
  },
  {
   "cell_type": "code",
   "execution_count": 46,
   "id": "f2f6679d",
   "metadata": {},
   "outputs": [
    {
     "name": "stdout",
     "output_type": "stream",
     "text": [
      "剧情\n"
     ]
    }
   ],
   "source": [
    "print(filmtypes[index])"
   ]
  },
  {
   "cell_type": "code",
   "execution_count": 49,
   "id": "93743ce7",
   "metadata": {},
   "outputs": [
    {
     "name": "stdout",
     "output_type": "stream",
     "text": [
      "《长津湖之水门桥》类型是战争,当前电影票房是264,508\n",
      "《这个杀手不太冷静》类型是喜剧,当前电影票房是147,373\n",
      "《奇迹·笨小孩》类型是剧情,当前电影票房是71,614\n",
      "《穿过寒冬拥抱你》类型是剧情,当前电影票房是66,520\n",
      "《熊出没·重返地球》类型是动画,当前电影票房是60,996\n",
      "《反贪风暴5：最终章》类型是动作,当前电影票房是48,126\n",
      "《四海》类型是剧情,当前电影票房是47,970\n",
      "《李茂扮太子》类型是喜剧,当前电影票房是46,230\n",
      "《狙击手》类型是剧情,当前电影票房是28,504\n",
      "《误杀2》类型是剧情,当前电影票房是28,270\n"
     ]
    }
   ],
   "source": [
    "for index,filmname in enumerate(filmnames):\n",
    "    print(f\"《{filmname}》类型是{filmtypes[index]},当前电影票房是{filmboos[index]}\")"
   ]
  },
  {
   "cell_type": "code",
   "execution_count": 52,
   "id": "948e0c07",
   "metadata": {},
   "outputs": [
    {
     "name": "stdout",
     "output_type": "stream",
     "text": [
      "1 《长津湖之水门桥》类型是战争,当前电影票房是264,508\n",
      "2 《这个杀手不太冷静》类型是喜剧,当前电影票房是147,373\n",
      "3 《奇迹·笨小孩》类型是剧情,当前电影票房是71,614\n",
      "4 《穿过寒冬拥抱你》类型是剧情,当前电影票房是66,520\n",
      "5 《熊出没·重返地球》类型是动画,当前电影票房是60,996\n",
      "6 《反贪风暴5：最终章》类型是动作,当前电影票房是48,126\n",
      "7 《四海》类型是剧情,当前电影票房是47,970\n",
      "8 《李茂扮太子》类型是喜剧,当前电影票房是46,230\n",
      "9 《狙击手》类型是剧情,当前电影票房是28,504\n",
      "10 《误杀2》类型是剧情,当前电影票房是28,270\n"
     ]
    }
   ],
   "source": [
    "import numpy as np\n",
    "for irank,filmname,filmtype,filmboo in zip(np.arange(1,len(filmnames)+1),filmnames,filmtypes,filmboos):\n",
    "    print(f\"{irank} 《{filmname}》类型是{filmtype},当前电影票房是{filmboo}\")"
   ]
  },
  {
   "cell_type": "code",
   "execution_count": 54,
   "id": "4b9c3900",
   "metadata": {},
   "outputs": [
    {
     "data": {
      "text/plain": [
       "array([1, 2, 3, 4, 5, 6, 7, 8, 9])"
      ]
     },
     "execution_count": 54,
     "metadata": {},
     "output_type": "execute_result"
    }
   ],
   "source": [
    "np.arange(1,len(filmnames))"
   ]
  },
  {
   "cell_type": "code",
   "execution_count": 56,
   "id": "ffaf1c77",
   "metadata": {},
   "outputs": [
    {
     "name": "stdout",
     "output_type": "stream",
     "text": [
      "误 剧 2\n",
      "杀 情 8\n"
     ]
    }
   ],
   "source": [
    "for f1,f2,f3 in zip(filmname,filmtype,filmboo):\n",
    "    print(f1,f2,f3)"
   ]
  },
  {
   "cell_type": "code",
   "execution_count": 60,
   "id": "066bdfa9",
   "metadata": {},
   "outputs": [
    {
     "name": "stdout",
     "output_type": "stream",
     "text": [
      "a 1\n",
      "b 2\n",
      "c 3\n"
     ]
    }
   ],
   "source": [
    "for  m,n in zip(['a','b','c'],['1','2','3']):\n",
    "    print(m,n)"
   ]
  },
  {
   "cell_type": "code",
   "execution_count": 61,
   "id": "16271492",
   "metadata": {},
   "outputs": [
    {
     "name": "stdout",
     "output_type": "stream",
     "text": [
      "c 3\n"
     ]
    }
   ],
   "source": [
    "for m3,n3 in zip(m,n):\n",
    "    print(m3,n3)"
   ]
  },
  {
   "cell_type": "markdown",
   "id": "02dcd72a",
   "metadata": {},
   "source": [
    "## 04 break、continue与else"
   ]
  },
  {
   "cell_type": "code",
   "execution_count": 62,
   "id": "224c0603",
   "metadata": {},
   "outputs": [],
   "source": [
    "# while、for循环中break、continue和else是适用。\n",
    "## break：终止所有循环、并继续执行循环后的语句\n",
    "## continue：终止当前循环，并继续执行下一轮的迭代\n",
    "## else：子句仅在循环正常迭代完成后才执行"
   ]
  },
  {
   "cell_type": "code",
   "execution_count": 63,
   "id": "6385b394",
   "metadata": {},
   "outputs": [],
   "source": [
    "filmtypes=['战争','喜剧','剧情','剧情','动画','动作','剧情','喜剧','剧情','剧情']"
   ]
  },
  {
   "cell_type": "code",
   "execution_count": 66,
   "id": "3811c756",
   "metadata": {},
   "outputs": [
    {
     "name": "stdout",
     "output_type": "stream",
     "text": [
      "战争\n",
      "喜剧\n",
      "剧情\n",
      "剧情\n"
     ]
    }
   ],
   "source": [
    "n=0\n",
    "while n<=len(filmtypes):\n",
    "    if '动' in filmtypes[n]:\n",
    "        break\n",
    "    print(filmtypes[n])\n",
    "    n=n+1"
   ]
  },
  {
   "cell_type": "code",
   "execution_count": 67,
   "id": "288d1d85",
   "metadata": {},
   "outputs": [
    {
     "name": "stdout",
     "output_type": "stream",
     "text": [
      "False\n"
     ]
    }
   ],
   "source": [
    "print('动' in filmtypes)"
   ]
  },
  {
   "cell_type": "code",
   "execution_count": 70,
   "id": "5e308e54",
   "metadata": {},
   "outputs": [
    {
     "name": "stdout",
     "output_type": "stream",
     "text": [
      "战争\n",
      "喜剧\n",
      "剧情\n",
      "剧情\n"
     ]
    }
   ],
   "source": [
    "for filmtype in filmtypes:\n",
    "    if '动' in filmtype:\n",
    "        break\n",
    "    print(filmtype)"
   ]
  },
  {
   "cell_type": "code",
   "execution_count": 72,
   "id": "cb626b5e",
   "metadata": {},
   "outputs": [
    {
     "name": "stdout",
     "output_type": "stream",
     "text": [
      "战争\n",
      "喜剧\n",
      "剧情\n",
      "剧情\n",
      "剧情\n",
      "喜剧\n",
      "剧情\n",
      "剧情\n"
     ]
    }
   ],
   "source": [
    "for filmtype in filmtypes:\n",
    "    if '动' in filmtype:\n",
    "        continue\n",
    "    print(filmtype)"
   ]
  },
  {
   "cell_type": "code",
   "execution_count": 73,
   "id": "10903298",
   "metadata": {},
   "outputs": [
    {
     "name": "stdout",
     "output_type": "stream",
     "text": [
      "战争\n",
      "喜剧\n",
      "剧情\n",
      "剧情\n",
      "剧情\n",
      "喜剧\n",
      "剧情\n",
      "剧情\n",
      "所有电影类型显示完成！\n"
     ]
    }
   ],
   "source": [
    "for filmtype in filmtypes:\n",
    "    if '动' in filmtype:\n",
    "        continue\n",
    "    print(filmtype)\n",
    "else:\n",
    "    print('所有电影类型显示完成！')"
   ]
  }
 ],
 "metadata": {
  "kernelspec": {
   "display_name": "Python 3 (ipykernel)",
   "language": "python",
   "name": "python3"
  },
  "language_info": {
   "codemirror_mode": {
    "name": "ipython",
    "version": 3
   },
   "file_extension": ".py",
   "mimetype": "text/x-python",
   "name": "python",
   "nbconvert_exporter": "python",
   "pygments_lexer": "ipython3",
   "version": "3.9.7"
  }
 },
 "nbformat": 4,
 "nbformat_minor": 5
}
