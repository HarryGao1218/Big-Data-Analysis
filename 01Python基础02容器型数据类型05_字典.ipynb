{
 "cells": [
  {
   "cell_type": "markdown",
   "id": "faecd9ec",
   "metadata": {},
   "source": [
    "# 01Python基础02容器型数据类型05——字典"
   ]
  },
  {
   "cell_type": "markdown",
   "id": "a0f4ccd2",
   "metadata": {},
   "source": [
    "## 01 字典概述"
   ]
  },
  {
   "cell_type": "code",
   "execution_count": null,
   "id": "396fb1b5",
   "metadata": {},
   "outputs": [],
   "source": [
    "# d1={x1,x2,x3...xn} 元素是键值对：元素=键名：值 储存无需对象的一种容器。"
   ]
  },
  {
   "cell_type": "markdown",
   "id": "142b393e",
   "metadata": {},
   "source": [
    "## 02 字典创建"
   ]
  },
  {
   "cell_type": "code",
   "execution_count": 1,
   "id": "8085b68c",
   "metadata": {},
   "outputs": [],
   "source": [
    "d1={\n",
    "    '学号':\"072007124\",\n",
    "    '姓名':'张三',\n",
    "    '成绩':90\n",
    "}"
   ]
  },
  {
   "cell_type": "code",
   "execution_count": 2,
   "id": "e5f15c76",
   "metadata": {},
   "outputs": [
    {
     "name": "stdout",
     "output_type": "stream",
     "text": [
      "<class 'dict'>\n",
      "2173725845504\n"
     ]
    }
   ],
   "source": [
    "d1\n",
    "print(type(d1))\n",
    "print(id(d1))"
   ]
  },
  {
   "cell_type": "code",
   "execution_count": 4,
   "id": "850b727d",
   "metadata": {},
   "outputs": [],
   "source": [
    "dname=['学号','姓名','成绩']\n",
    "dvalues=['072007124','张三',90]"
   ]
  },
  {
   "cell_type": "code",
   "execution_count": 5,
   "id": "4a2739bb",
   "metadata": {},
   "outputs": [
    {
     "data": {
      "text/plain": [
       "['学号', '姓名', '成绩']"
      ]
     },
     "execution_count": 5,
     "metadata": {},
     "output_type": "execute_result"
    }
   ],
   "source": [
    "dname"
   ]
  },
  {
   "cell_type": "code",
   "execution_count": 6,
   "id": "5733cc78",
   "metadata": {},
   "outputs": [
    {
     "data": {
      "text/plain": [
       "['072007124', '张三', 90]"
      ]
     },
     "execution_count": 6,
     "metadata": {},
     "output_type": "execute_result"
    }
   ],
   "source": [
    "dvalues"
   ]
  },
  {
   "cell_type": "code",
   "execution_count": 17,
   "id": "d8eaabdd",
   "metadata": {},
   "outputs": [
    {
     "data": {
      "text/plain": [
       "{'学号': '072007124', '姓名': '张三', '成绩': 90}"
      ]
     },
     "execution_count": 17,
     "metadata": {},
     "output_type": "execute_result"
    }
   ],
   "source": [
    "#如何将列表转换为字段\n",
    "d2=dict(zip(dname,dvalues))\n",
    "d2"
   ]
  },
  {
   "cell_type": "code",
   "execution_count": 18,
   "id": "d97895ef",
   "metadata": {},
   "outputs": [],
   "source": [
    "dname3=['学号','姓名','成绩','成绩']\n",
    "dvalues3=['072007124','张三',90,'100']"
   ]
  },
  {
   "cell_type": "code",
   "execution_count": 19,
   "id": "010546ff",
   "metadata": {},
   "outputs": [],
   "source": [
    "d3=dict(zip(dname3,dvalues3))"
   ]
  },
  {
   "cell_type": "code",
   "execution_count": 20,
   "id": "cbd18c0a",
   "metadata": {},
   "outputs": [
    {
     "data": {
      "text/plain": [
       "{'学号': '072007124', '姓名': '张三', '成绩': '100'}"
      ]
     },
     "execution_count": 20,
     "metadata": {},
     "output_type": "execute_result"
    }
   ],
   "source": [
    "d3"
   ]
  },
  {
   "cell_type": "markdown",
   "id": "cd29cd2b",
   "metadata": {},
   "source": [
    "## 03 字典索引"
   ]
  },
  {
   "cell_type": "code",
   "execution_count": 9,
   "id": "9265a9dd",
   "metadata": {},
   "outputs": [
    {
     "data": {
      "text/plain": [
       "dict_keys(['学号', '姓名', '成绩'])"
      ]
     },
     "execution_count": 9,
     "metadata": {},
     "output_type": "execute_result"
    }
   ],
   "source": [
    "d2.keys()"
   ]
  },
  {
   "cell_type": "code",
   "execution_count": 10,
   "id": "ae4c5536",
   "metadata": {},
   "outputs": [
    {
     "data": {
      "text/plain": [
       "dict_values(['072007124', '张三', 90])"
      ]
     },
     "execution_count": 10,
     "metadata": {},
     "output_type": "execute_result"
    }
   ],
   "source": [
    "d2.values()"
   ]
  },
  {
   "cell_type": "code",
   "execution_count": 11,
   "id": "80876694",
   "metadata": {},
   "outputs": [
    {
     "data": {
      "text/plain": [
       "dict_items([('学号', '072007124'), ('姓名', '张三'), ('成绩', 90)])"
      ]
     },
     "execution_count": 11,
     "metadata": {},
     "output_type": "execute_result"
    }
   ],
   "source": [
    "d2.items()"
   ]
  },
  {
   "cell_type": "code",
   "execution_count": 12,
   "id": "c910d545",
   "metadata": {},
   "outputs": [],
   "source": [
    "d2['成绩']=95"
   ]
  },
  {
   "cell_type": "code",
   "execution_count": 13,
   "id": "b91ab672",
   "metadata": {},
   "outputs": [
    {
     "data": {
      "text/plain": [
       "{'学号': '072007124', '姓名': '张三', '成绩': 95}"
      ]
     },
     "execution_count": 13,
     "metadata": {},
     "output_type": "execute_result"
    }
   ],
   "source": [
    "d2"
   ]
  },
  {
   "cell_type": "code",
   "execution_count": 15,
   "id": "367c2198",
   "metadata": {},
   "outputs": [
    {
     "data": {
      "text/plain": [
       "['学号', '姓名', '成绩']"
      ]
     },
     "execution_count": 15,
     "metadata": {},
     "output_type": "execute_result"
    }
   ],
   "source": [
    "dname2=[i for i in d2.keys()]\n",
    "dname2"
   ]
  },
  {
   "cell_type": "code",
   "execution_count": 16,
   "id": "72414458",
   "metadata": {},
   "outputs": [
    {
     "data": {
      "text/plain": [
       "['072007124', '张三', 95]"
      ]
     },
     "execution_count": 16,
     "metadata": {},
     "output_type": "execute_result"
    }
   ],
   "source": [
    "dname2=[i for i in d2.values()]\n",
    "dname2"
   ]
  },
  {
   "cell_type": "markdown",
   "id": "acfe6999",
   "metadata": {},
   "source": [
    "## 04 字典常用方法"
   ]
  },
  {
   "cell_type": "code",
   "execution_count": 22,
   "id": "f5a20cbe",
   "metadata": {},
   "outputs": [],
   "source": [
    "#添加\n",
    "d2['课程']='大数据分析'"
   ]
  },
  {
   "cell_type": "code",
   "execution_count": 23,
   "id": "4d83b4ec",
   "metadata": {},
   "outputs": [
    {
     "data": {
      "text/plain": [
       "{'学号': '072007124', '姓名': '张三', '成绩': 90, '课程': '大数据分析'}"
      ]
     },
     "execution_count": 23,
     "metadata": {},
     "output_type": "execute_result"
    }
   ],
   "source": [
    "d2"
   ]
  },
  {
   "cell_type": "code",
   "execution_count": 24,
   "id": "c9a06260",
   "metadata": {},
   "outputs": [
    {
     "data": {
      "text/plain": [
       "'大数据分析'"
      ]
     },
     "execution_count": 24,
     "metadata": {},
     "output_type": "execute_result"
    }
   ],
   "source": [
    "#获取\n",
    "d2['课程']"
   ]
  },
  {
   "cell_type": "code",
   "execution_count": 25,
   "id": "aade8ff6",
   "metadata": {},
   "outputs": [
    {
     "data": {
      "text/plain": [
       "'大数据分析'"
      ]
     },
     "execution_count": 25,
     "metadata": {},
     "output_type": "execute_result"
    }
   ],
   "source": [
    "d2.get('课程')"
   ]
  },
  {
   "cell_type": "code",
   "execution_count": 26,
   "id": "89841116",
   "metadata": {},
   "outputs": [],
   "source": [
    "#更新\n",
    "d2['课程']='数据库原理'"
   ]
  },
  {
   "cell_type": "code",
   "execution_count": 27,
   "id": "0c5f0635",
   "metadata": {},
   "outputs": [
    {
     "data": {
      "text/plain": [
       "{'学号': '072007124', '姓名': '张三', '成绩': 90, '课程': '数据库原理'}"
      ]
     },
     "execution_count": 27,
     "metadata": {},
     "output_type": "execute_result"
    }
   ],
   "source": [
    "d2"
   ]
  },
  {
   "cell_type": "code",
   "execution_count": 28,
   "id": "b1cfff33",
   "metadata": {},
   "outputs": [],
   "source": [
    "d2.update({'成绩':90,'课程':'信息系统开发'})"
   ]
  },
  {
   "cell_type": "code",
   "execution_count": 29,
   "id": "a8ffef20",
   "metadata": {},
   "outputs": [
    {
     "data": {
      "text/plain": [
       "{'学号': '072007124', '姓名': '张三', '成绩': 90, '课程': '信息系统开发'}"
      ]
     },
     "execution_count": 29,
     "metadata": {},
     "output_type": "execute_result"
    }
   ],
   "source": [
    "d2"
   ]
  },
  {
   "cell_type": "code",
   "execution_count": 30,
   "id": "09ac8555",
   "metadata": {},
   "outputs": [
    {
     "data": {
      "text/plain": [
       "'信息系统开发'"
      ]
     },
     "execution_count": 30,
     "metadata": {},
     "output_type": "execute_result"
    }
   ],
   "source": [
    "#删除\n",
    "d2.pop('课程')"
   ]
  },
  {
   "cell_type": "code",
   "execution_count": 31,
   "id": "e2231800",
   "metadata": {},
   "outputs": [
    {
     "data": {
      "text/plain": [
       "{'学号': '072007124', '姓名': '张三', '成绩': 90}"
      ]
     },
     "execution_count": 31,
     "metadata": {},
     "output_type": "execute_result"
    }
   ],
   "source": [
    "d2"
   ]
  },
  {
   "cell_type": "code",
   "execution_count": 32,
   "id": "442f7355",
   "metadata": {},
   "outputs": [
    {
     "name": "stdout",
     "output_type": "stream",
     "text": [
      "2173739582848\n"
     ]
    }
   ],
   "source": [
    "print(id(d2))"
   ]
  },
  {
   "cell_type": "code",
   "execution_count": 33,
   "id": "f326945e",
   "metadata": {},
   "outputs": [],
   "source": [
    "d2['成绩']=99"
   ]
  },
  {
   "cell_type": "code",
   "execution_count": 34,
   "id": "dae25569",
   "metadata": {},
   "outputs": [
    {
     "name": "stdout",
     "output_type": "stream",
     "text": [
      "2173739582848\n"
     ]
    }
   ],
   "source": [
    "print(id(d2))"
   ]
  },
  {
   "cell_type": "code",
   "execution_count": 35,
   "id": "bb4d41ef",
   "metadata": {},
   "outputs": [
    {
     "data": {
      "text/plain": [
       "-3676060297626233148"
      ]
     },
     "execution_count": 35,
     "metadata": {},
     "output_type": "execute_result"
    }
   ],
   "source": [
    "#如何判断一个数据类型是否是可以更改？使用id() 比较两个数据类型的内存位置；简易方式使用hash(),\n",
    "# 若能够被hash()的，则表示该数据类型(对象)是不可修改的\n",
    "# 若不能够被hash()的，则表示该数据类型(对象)是可修改的\n",
    "hash('123')"
   ]
  },
  {
   "cell_type": "code",
   "execution_count": 37,
   "id": "4a29d694",
   "metadata": {},
   "outputs": [
    {
     "ename": "TypeError",
     "evalue": "unhashable type: 'list'",
     "output_type": "error",
     "traceback": [
      "\u001b[1;31m---------------------------------------------------------------------------\u001b[0m",
      "\u001b[1;31mTypeError\u001b[0m                                 Traceback (most recent call last)",
      "\u001b[1;32m~\\AppData\\Local\\Temp/ipykernel_11188/2302361394.py\u001b[0m in \u001b[0;36m<module>\u001b[1;34m\u001b[0m\n\u001b[1;32m----> 1\u001b[1;33m \u001b[0mhash\u001b[0m\u001b[1;33m(\u001b[0m\u001b[1;33m[\u001b[0m\u001b[1;36m1\u001b[0m\u001b[1;33m,\u001b[0m\u001b[1;36m2\u001b[0m\u001b[1;33m,\u001b[0m\u001b[1;36m3\u001b[0m\u001b[1;33m]\u001b[0m\u001b[1;33m)\u001b[0m\u001b[1;33m\u001b[0m\u001b[1;33m\u001b[0m\u001b[0m\n\u001b[0m",
      "\u001b[1;31mTypeError\u001b[0m: unhashable type: 'list'"
     ]
    }
   ],
   "source": [
    "hash([1,2,3])"
   ]
  },
  {
   "cell_type": "code",
   "execution_count": 38,
   "id": "da6f3cd8",
   "metadata": {},
   "outputs": [
    {
     "data": {
      "text/plain": [
       "529344067295497451"
      ]
     },
     "execution_count": 38,
     "metadata": {},
     "output_type": "execute_result"
    }
   ],
   "source": [
    "hash((1,2,3))"
   ]
  },
  {
   "cell_type": "code",
   "execution_count": 39,
   "id": "37dee22e",
   "metadata": {},
   "outputs": [
    {
     "data": {
      "text/plain": [
       "{'学号': '072007124', '姓名': '张三', '成绩': 99}"
      ]
     },
     "execution_count": 39,
     "metadata": {},
     "output_type": "execute_result"
    }
   ],
   "source": [
    "d2"
   ]
  },
  {
   "cell_type": "code",
   "execution_count": 40,
   "id": "3bccc38f",
   "metadata": {},
   "outputs": [
    {
     "ename": "TypeError",
     "evalue": "unhashable type: 'dict'",
     "output_type": "error",
     "traceback": [
      "\u001b[1;31m---------------------------------------------------------------------------\u001b[0m",
      "\u001b[1;31mTypeError\u001b[0m                                 Traceback (most recent call last)",
      "\u001b[1;32m~\\AppData\\Local\\Temp/ipykernel_11188/725586874.py\u001b[0m in \u001b[0;36m<module>\u001b[1;34m\u001b[0m\n\u001b[1;32m----> 1\u001b[1;33m \u001b[0mhash\u001b[0m\u001b[1;33m(\u001b[0m\u001b[0md2\u001b[0m\u001b[1;33m)\u001b[0m\u001b[1;33m\u001b[0m\u001b[1;33m\u001b[0m\u001b[0m\n\u001b[0m",
      "\u001b[1;31mTypeError\u001b[0m: unhashable type: 'dict'"
     ]
    }
   ],
   "source": [
    "hash(d2)"
   ]
  },
  {
   "cell_type": "markdown",
   "id": "06db4879",
   "metadata": {},
   "source": [
    "## 05 字典和列表的比较"
   ]
  },
  {
   "cell_type": "code",
   "execution_count": null,
   "id": "eb3284bf",
   "metadata": {},
   "outputs": [],
   "source": [
    "#结构上不同"
   ]
  }
 ],
 "metadata": {
  "kernelspec": {
   "display_name": "Python 3 (ipykernel)",
   "language": "python",
   "name": "python3"
  },
  "language_info": {
   "codemirror_mode": {
    "name": "ipython",
    "version": 3
   },
   "file_extension": ".py",
   "mimetype": "text/x-python",
   "name": "python",
   "nbconvert_exporter": "python",
   "pygments_lexer": "ipython3",
   "version": "3.9.7"
  }
 },
 "nbformat": 4,
 "nbformat_minor": 5
}
