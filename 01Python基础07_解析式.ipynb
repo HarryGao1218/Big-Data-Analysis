{
 "cells": [
  {
   "cell_type": "markdown",
   "id": "fc3e8eb4",
   "metadata": {},
   "source": [
    "# 01Python基础07——解析表达式"
   ]
  },
  {
   "cell_type": "markdown",
   "id": "6b1329ca",
   "metadata": {},
   "source": [
    "## 01.07.01 概述"
   ]
  },
  {
   "cell_type": "code",
   "execution_count": 1,
   "id": "0c873453",
   "metadata": {},
   "outputs": [],
   "source": [
    "#容器行数据:str、tuple、list、dict、set\n",
    "#容器型数据基本是可迭代的\n",
    "#解析表达式：将一个可迭代对象转换成另一个可迭代对象的工具。也成为推导表达式。 comprehension"
   ]
  },
  {
   "cell_type": "markdown",
   "id": "25563243",
   "metadata": {},
   "source": [
    "## 01.07.02 列表解析式"
   ]
  },
  {
   "cell_type": "code",
   "execution_count": 2,
   "id": "4a84af37",
   "metadata": {},
   "outputs": [
    {
     "data": {
      "text/plain": [
       "range(0, 10)"
      ]
     },
     "execution_count": 2,
     "metadata": {},
     "output_type": "execute_result"
    }
   ],
   "source": [
    "#for循环\n",
    "l=[]\n",
    "l=range(10)\n",
    "l"
   ]
  },
  {
   "cell_type": "code",
   "execution_count": 3,
   "id": "e95e33fa",
   "metadata": {},
   "outputs": [],
   "source": [
    "#列表生成的三种方式"
   ]
  },
  {
   "cell_type": "code",
   "execution_count": 4,
   "id": "204ddb37",
   "metadata": {},
   "outputs": [],
   "source": [
    "##01 for循环"
   ]
  },
  {
   "cell_type": "code",
   "execution_count": 6,
   "id": "2244f7b6",
   "metadata": {},
   "outputs": [
    {
     "data": {
      "text/plain": [
       "[0, 1, 4, 9, 16, 25, 36, 49, 64, 81]"
      ]
     },
     "execution_count": 6,
     "metadata": {},
     "output_type": "execute_result"
    }
   ],
   "source": [
    "l=[]\n",
    "for i in range(10):\n",
    "    l.append(i*i)\n",
    "l"
   ]
  },
  {
   "cell_type": "code",
   "execution_count": 7,
   "id": "ab41e54f",
   "metadata": {},
   "outputs": [],
   "source": [
    "##02 map函数"
   ]
  },
  {
   "cell_type": "code",
   "execution_count": 10,
   "id": "384962df",
   "metadata": {},
   "outputs": [
    {
     "data": {
      "text/plain": [
       "[0, 1, 4, 9, 16, 25, 36, 49, 64, 81]"
      ]
     },
     "execution_count": 10,
     "metadata": {},
     "output_type": "execute_result"
    }
   ],
   "source": [
    "mapls=map(lambda x:x*x,range(0,10))\n",
    "list(mapls)\n",
    "# set(mpals)\n",
    "# tuple(mapls)"
   ]
  },
  {
   "cell_type": "code",
   "execution_count": null,
   "id": "d00ea44a",
   "metadata": {},
   "outputs": [],
   "source": [
    "##03 用列表解析式"
   ]
  },
  {
   "cell_type": "code",
   "execution_count": 11,
   "id": "6dad01c4",
   "metadata": {},
   "outputs": [
    {
     "data": {
      "text/plain": [
       "[0, 1, 4, 9, 16, 25, 36, 49, 64, 81]"
      ]
     },
     "execution_count": 11,
     "metadata": {},
     "output_type": "execute_result"
    }
   ],
   "source": [
    "[i*i for i in range(10)]"
   ]
  },
  {
   "cell_type": "code",
   "execution_count": 12,
   "id": "c05b054f",
   "metadata": {},
   "outputs": [],
   "source": [
    "#if条件"
   ]
  },
  {
   "cell_type": "code",
   "execution_count": 13,
   "id": "bbc16f77",
   "metadata": {},
   "outputs": [],
   "source": [
    "##for+if"
   ]
  },
  {
   "cell_type": "code",
   "execution_count": 14,
   "id": "6e1f0f0f",
   "metadata": {},
   "outputs": [
    {
     "data": {
      "text/plain": [
       "[1, 9, 25, 49, 81]"
      ]
     },
     "execution_count": 14,
     "metadata": {},
     "output_type": "execute_result"
    }
   ],
   "source": [
    "l=[]\n",
    "for i in range(10):\n",
    "    if i % 2!=0:\n",
    "        l.append(i*i)\n",
    "l"
   ]
  },
  {
   "cell_type": "code",
   "execution_count": 15,
   "id": "b56ee94d",
   "metadata": {},
   "outputs": [],
   "source": [
    "##filter"
   ]
  },
  {
   "cell_type": "code",
   "execution_count": 16,
   "id": "05d24302",
   "metadata": {},
   "outputs": [
    {
     "data": {
      "text/plain": [
       "[1, 9, 25, 49, 81]"
      ]
     },
     "execution_count": 16,
     "metadata": {},
     "output_type": "execute_result"
    }
   ],
   "source": [
    "filterls=map(lambda x:x*x,filter(lambda x:x % 2!=0,range(10)))\n",
    "list(filterls)"
   ]
  },
  {
   "cell_type": "code",
   "execution_count": 17,
   "id": "eb27f61c",
   "metadata": {},
   "outputs": [
    {
     "data": {
      "text/plain": [
       "[1, 9, 25, 49, 81]"
      ]
     },
     "execution_count": 17,
     "metadata": {},
     "output_type": "execute_result"
    }
   ],
   "source": [
    "[i*i for i in range(10) if i%2!=0]"
   ]
  },
  {
   "cell_type": "code",
   "execution_count": 18,
   "id": "c42c6233",
   "metadata": {},
   "outputs": [
    {
     "data": {
      "text/plain": [
       "[1, 9, 25, 49, 81]"
      ]
     },
     "execution_count": 18,
     "metadata": {},
     "output_type": "execute_result"
    }
   ],
   "source": [
    "[\n",
    "    i*i\n",
    "    for i in range(10)\n",
    "    if i%2!=0\n",
    "]"
   ]
  },
  {
   "cell_type": "code",
   "execution_count": 19,
   "id": "fba358e0",
   "metadata": {},
   "outputs": [
    {
     "ename": "NameError",
     "evalue": "name 'old' is not defined",
     "output_type": "error",
     "traceback": [
      "\u001b[1;31m---------------------------------------------------------------------------\u001b[0m",
      "\u001b[1;31mNameError\u001b[0m                                 Traceback (most recent call last)",
      "\u001b[1;32m~\\AppData\\Local\\Temp/ipykernel_2488/1168960079.py\u001b[0m in \u001b[0;36m<module>\u001b[1;34m\u001b[0m\n\u001b[1;32m----> 1\u001b[1;33m \u001b[0mmyls\u001b[0m\u001b[1;33m=\u001b[0m\u001b[1;33m[\u001b[0m\u001b[0mf\u001b[0m\u001b[1;33m(\u001b[0m\u001b[0mtrem\u001b[0m\u001b[1;33m)\u001b[0m \u001b[1;32mfor\u001b[0m \u001b[0mitem\u001b[0m \u001b[1;32min\u001b[0m \u001b[0mold\u001b[0m \u001b[1;32mif\u001b[0m \u001b[0mcond\u001b[0m\u001b[1;33m(\u001b[0m\u001b[0mitem\u001b[0m\u001b[1;33m)\u001b[0m\u001b[1;33m]\u001b[0m \u001b[1;31m#通用模式\u001b[0m\u001b[1;33m\u001b[0m\u001b[1;33m\u001b[0m\u001b[0m\n\u001b[0m",
      "\u001b[1;31mNameError\u001b[0m: name 'old' is not defined"
     ]
    }
   ],
   "source": [
    "#通用模式 myls=[f(trem) for item in old if cond(item)] "
   ]
  },
  {
   "cell_type": "code",
   "execution_count": 20,
   "id": "148ebe8f",
   "metadata": {},
   "outputs": [],
   "source": [
    "# 多层for循环+if条件"
   ]
  },
  {
   "cell_type": "code",
   "execution_count": 21,
   "id": "a0a7351f",
   "metadata": {},
   "outputs": [],
   "source": [
    "arr=[[1,2,3],[4,5,6],[7,8,9]]"
   ]
  },
  {
   "cell_type": "code",
   "execution_count": 22,
   "id": "b15abc22",
   "metadata": {},
   "outputs": [
    {
     "data": {
      "text/plain": [
       "[[1, 2, 3], [4, 5, 6], [7, 8, 9]]"
      ]
     },
     "execution_count": 22,
     "metadata": {},
     "output_type": "execute_result"
    }
   ],
   "source": [
    "arr"
   ]
  },
  {
   "cell_type": "code",
   "execution_count": 27,
   "id": "23d0c373",
   "metadata": {},
   "outputs": [],
   "source": [
    "l=[]\n",
    "for row in arr:\n",
    "    for n in row:\n",
    "        if n>5:\n",
    "            l.append(n*n)"
   ]
  },
  {
   "cell_type": "code",
   "execution_count": 28,
   "id": "8dd771d8",
   "metadata": {},
   "outputs": [
    {
     "data": {
      "text/plain": [
       "[36, 49, 64, 81]"
      ]
     },
     "execution_count": 28,
     "metadata": {},
     "output_type": "execute_result"
    }
   ],
   "source": [
    "l"
   ]
  },
  {
   "cell_type": "code",
   "execution_count": 29,
   "id": "43b84696",
   "metadata": {},
   "outputs": [],
   "source": [
    "# 多层列表解析式"
   ]
  },
  {
   "cell_type": "code",
   "execution_count": 30,
   "id": "d9666ec2",
   "metadata": {},
   "outputs": [
    {
     "data": {
      "text/plain": [
       "[36, 49, 64, 81]"
      ]
     },
     "execution_count": 30,
     "metadata": {},
     "output_type": "execute_result"
    }
   ],
   "source": [
    "[n*n for row in arr for n in row if n>5]"
   ]
  },
  {
   "cell_type": "code",
   "execution_count": 31,
   "id": "09b2f6aa",
   "metadata": {},
   "outputs": [
    {
     "data": {
      "text/plain": [
       "[36, 49, 64, 81]"
      ]
     },
     "execution_count": 31,
     "metadata": {},
     "output_type": "execute_result"
    }
   ],
   "source": [
    "[\n",
    "    n*n\n",
    "    for row in arr\n",
    "    for n in row\n",
    "    if n>5\n",
    "]"
   ]
  },
  {
   "cell_type": "code",
   "execution_count": 34,
   "id": "b7f7485e",
   "metadata": {},
   "outputs": [],
   "source": [
    "data=[['数据挖掘','数据库','数据结构'],['数字营销','大数据分析','数字证据','信息系统开发工具']]"
   ]
  },
  {
   "cell_type": "code",
   "execution_count": 36,
   "id": "be26948a",
   "metadata": {},
   "outputs": [
    {
     "data": {
      "text/plain": [
       "['信息系统开发工具']"
      ]
     },
     "execution_count": 36,
     "metadata": {},
     "output_type": "execute_result"
    }
   ],
   "source": [
    "[\n",
    "    course\n",
    "    for cnames in data\n",
    "    for course in cnames\n",
    "    if '信' in course\n",
    "]"
   ]
  },
  {
   "cell_type": "markdown",
   "id": "21f97d01",
   "metadata": {},
   "source": [
    "## 01.07.03 集合解析式"
   ]
  },
  {
   "cell_type": "code",
   "execution_count": 38,
   "id": "e58ce3c9",
   "metadata": {},
   "outputs": [
    {
     "data": {
      "text/plain": [
       "{1, 9, 25, 49, 81}"
      ]
     },
     "execution_count": 38,
     "metadata": {},
     "output_type": "execute_result"
    }
   ],
   "source": [
    "{x*x for x in range(10) if x%2!=0}"
   ]
  },
  {
   "cell_type": "code",
   "execution_count": 41,
   "id": "737f6c5c",
   "metadata": {},
   "outputs": [],
   "source": [
    "data={'数据挖掘','数据库','数据结构','数字营销','大数据分析','数字证据','信息系统开发工具'}"
   ]
  },
  {
   "cell_type": "code",
   "execution_count": 42,
   "id": "b97e2dc4",
   "metadata": {},
   "outputs": [
    {
     "data": {
      "text/plain": [
       "['信']"
      ]
     },
     "execution_count": 42,
     "metadata": {},
     "output_type": "execute_result"
    }
   ],
   "source": [
    "[\n",
    "    course\n",
    "    for cnames in data\n",
    "    for course in cnames\n",
    "    if '信' in course\n",
    "]"
   ]
  },
  {
   "cell_type": "code",
   "execution_count": 43,
   "id": "83bf6402",
   "metadata": {},
   "outputs": [
    {
     "data": {
      "text/plain": [
       "[]"
      ]
     },
     "execution_count": 43,
     "metadata": {},
     "output_type": "execute_result"
    }
   ],
   "source": [
    "[\n",
    "    course\n",
    "    for cnames in data\n",
    "    for course in cnames\n",
    "    if '数据' in course\n",
    "]"
   ]
  },
  {
   "cell_type": "code",
   "execution_count": 44,
   "id": "3bab3fe1",
   "metadata": {},
   "outputs": [],
   "source": [
    "data={'装备通过深紫外消毒和光催化消毒技术的高效耦合，集成低温涂覆与控制技术，具有消杀快速、消毒彻底、安全长效等特点。经福建省疾控中心检测，在规定时间内对标准细菌消杀率达99.9%以上，达到了消杀病毒的要求。目前装备正在开展消杀新冠病毒试验，有望在2021年4月份实现应用，为保障进口冷链的安全发挥积极作用。'}"
   ]
  },
  {
   "cell_type": "code",
   "execution_count": 46,
   "id": "e9bef2df",
   "metadata": {},
   "outputs": [
    {
     "data": {
      "text/plain": [
       "['装备通过深紫外消毒和光催化消毒技术的高效耦合，集成低温涂覆与控制技术，具有消杀快速、消毒彻底、安全长效等特点。经福建省疾控中心检测，在规定时间内对标准细菌消杀率达99.9%以上，达到了消杀病毒的要求。目前装备正在开展消杀新冠病毒试验，有望在2021年4月份实现应用，为保障进口冷链的安全发挥积极作用。']"
      ]
     },
     "execution_count": 46,
     "metadata": {},
     "output_type": "execute_result"
    }
   ],
   "source": [
    "[\n",
    "    cnames\n",
    "    for cnames in data\n",
    "    if '福' in cnames\n",
    "]"
   ]
  },
  {
   "cell_type": "code",
   "execution_count": 47,
   "id": "bcfe4ee5",
   "metadata": {},
   "outputs": [
    {
     "data": {
      "text/plain": [
       "{'F', 'U', 'f', 'h', 'o', 'u', 'z'}"
      ]
     },
     "execution_count": 47,
     "metadata": {},
     "output_type": "execute_result"
    }
   ],
   "source": [
    "data='Founded in 1958, Fuzhou University is one of the national key universities that are selected into the “211 Project”, a Chinese government programme for the 21st century to support 100 selected universities for their further rapid development. Since its establishment, Fuzhou University has developed into a key comprehensive university in Fujian Province, giving priority to engineering courses and also enjoying a reputation for excellence in other fields including sciences, economics, management, liberal arts, law, arts and design, etc.'\n",
    "\n",
    "{\n",
    "    fzu\n",
    "    for fzu in data\n",
    "    if fzu.lower() in 'fuzhou'\n",
    "}"
   ]
  },
  {
   "cell_type": "code",
   "execution_count": 48,
   "id": "db421467",
   "metadata": {},
   "outputs": [],
   "source": [
    "data='装备通过深紫外消毒和光催化消毒技术的高效耦合，集成低温涂覆与控制技术，具有消杀快速、消毒彻底、安全长效等特点。经福建省疾控中心检测，在规定时间内对标准细菌消杀率达99.9%以上，达到了消杀病毒的要求。目前装备正在开展消杀新冠病毒试验，有望在2021年4月份实现应用，为保障进口冷链的安全发挥积极作用。'"
   ]
  },
  {
   "cell_type": "code",
   "execution_count": 50,
   "id": "ccfd73aa",
   "metadata": {},
   "outputs": [
    {
     "data": {
      "text/plain": [
       "{'建', '省', '福'}"
      ]
     },
     "execution_count": 50,
     "metadata": {},
     "output_type": "execute_result"
    }
   ],
   "source": [
    "{\n",
    "    FD\n",
    "    for FD in data\n",
    "    if FD in '福建省'\n",
    "}"
   ]
  },
  {
   "cell_type": "markdown",
   "id": "934f16e0",
   "metadata": {},
   "source": [
    "## 01.07.04 字典解析式"
   ]
  },
  {
   "cell_type": "code",
   "execution_count": 52,
   "id": "01b778d9",
   "metadata": {},
   "outputs": [
    {
     "data": {
      "text/plain": [
       "{0: 0, 1: 1, 2: 4, 3: 9, 4: 16, 5: 25, 6: 36, 7: 49, 8: 64, 9: 81}"
      ]
     },
     "execution_count": 52,
     "metadata": {},
     "output_type": "execute_result"
    }
   ],
   "source": [
    "{x:x**2 for x in range(10)}"
   ]
  },
  {
   "cell_type": "code",
   "execution_count": 53,
   "id": "10c53cf1",
   "metadata": {},
   "outputs": [
    {
     "data": {
      "text/plain": [
       "{6: 36, 7: 49, 8: 64, 9: 81}"
      ]
     },
     "execution_count": 53,
     "metadata": {},
     "output_type": "execute_result"
    }
   ],
   "source": [
    "{x:x**2 for x in range(10) if x>5}"
   ]
  },
  {
   "cell_type": "code",
   "execution_count": 54,
   "id": "70b8641c",
   "metadata": {},
   "outputs": [],
   "source": [
    "cnames=['数字营销','大数据分析','数字证据','信息系统开发工具']\n",
    "scores={67,78,89,99}"
   ]
  },
  {
   "cell_type": "code",
   "execution_count": 55,
   "id": "6a1b0e34",
   "metadata": {},
   "outputs": [
    {
     "data": {
      "text/plain": [
       "{'数字营销': 78, '大数据分析': 78, '数字证据': 78, '信息系统开发工具': 78}"
      ]
     },
     "execution_count": 55,
     "metadata": {},
     "output_type": "execute_result"
    }
   ],
   "source": [
    "{x:y for x in cnames for y in scores}"
   ]
  },
  {
   "cell_type": "code",
   "execution_count": 56,
   "id": "4a71ac05",
   "metadata": {},
   "outputs": [],
   "source": [
    "cnames=['数字营销','大数据分析','数字证据','信息系统开发工具']\n",
    "scores=[67,78,89,99]"
   ]
  },
  {
   "cell_type": "code",
   "execution_count": 57,
   "id": "4f072754",
   "metadata": {},
   "outputs": [
    {
     "data": {
      "text/plain": [
       "{'数字营销': 99, '大数据分析': 99, '数字证据': 99, '信息系统开发工具': 99}"
      ]
     },
     "execution_count": 57,
     "metadata": {},
     "output_type": "execute_result"
    }
   ],
   "source": [
    "{x:y for x in cnames for y in scores}"
   ]
  },
  {
   "cell_type": "code",
   "execution_count": 59,
   "id": "de664224",
   "metadata": {},
   "outputs": [],
   "source": [
    "stuscore=dict(map(lambda x,y:[x,y],cnames,scores))"
   ]
  },
  {
   "cell_type": "code",
   "execution_count": 60,
   "id": "ebd5fb06",
   "metadata": {},
   "outputs": [
    {
     "data": {
      "text/plain": [
       "{'数字营销': 67, '大数据分析': 78, '数字证据': 89, '信息系统开发工具': 99}"
      ]
     },
     "execution_count": 60,
     "metadata": {},
     "output_type": "execute_result"
    }
   ],
   "source": [
    "stuscore"
   ]
  },
  {
   "cell_type": "code",
   "execution_count": 64,
   "id": "15b5aa71",
   "metadata": {},
   "outputs": [
    {
     "data": {
      "text/plain": [
       "{'数字营销': 67, '大数据分析': 78, '数字证据': 89, '信息系统开发工具': 99}"
      ]
     },
     "execution_count": 64,
     "metadata": {},
     "output_type": "execute_result"
    }
   ],
   "source": [
    "{x:y for x,y in dict(zip(cnames,scores)).items()}"
   ]
  }
 ],
 "metadata": {
  "kernelspec": {
   "display_name": "Python 3 (ipykernel)",
   "language": "python",
   "name": "python3"
  },
  "language_info": {
   "codemirror_mode": {
    "name": "ipython",
    "version": 3
   },
   "file_extension": ".py",
   "mimetype": "text/x-python",
   "name": "python",
   "nbconvert_exporter": "python",
   "pygments_lexer": "ipython3",
   "version": "3.9.7"
  }
 },
 "nbformat": 4,
 "nbformat_minor": 5
}
