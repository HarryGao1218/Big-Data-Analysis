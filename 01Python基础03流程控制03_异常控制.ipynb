{
 "cells": [
  {
   "cell_type": "markdown",
   "id": "c5aa1509",
   "metadata": {},
   "source": [
    "# 01Python基础03流程控制03——异常控制"
   ]
  },
  {
   "cell_type": "markdown",
   "id": "43e5f42a",
   "metadata": {},
   "source": [
    "## 01 概述\n",
    "- 错误类型：语法错误、运行错误、逻辑错误\n",
    "- 语法错误：关键词错误、函数应用错误、对象的定义错误、边界错误、缩进错误\n",
    "- 运行错误：除数为零，不同数据类型运算，变量没有定义，函数没有定义，读取不存在文件  运行时会报错\n",
    "- 逻辑错误：变量名使用错误，缩进导致结果不真实，操作符优先等级错误，布尔值来源错误  运行完成后并不会报错，需要进行认真检验"
   ]
  },
  {
   "cell_type": "markdown",
   "id": "fb6dd874",
   "metadata": {},
   "source": [
    "## 02 错误类型"
   ]
  },
  {
   "cell_type": "code",
   "execution_count": null,
   "id": "3714a34d",
   "metadata": {},
   "outputs": [],
   "source": [
    "print('大数据'"
   ]
  },
  {
   "cell_type": "code",
   "execution_count": null,
   "id": "cb590a24",
   "metadata": {},
   "outputs": [],
   "source": [
    "a=10\n",
    "b=0\n",
    "c=a/b"
   ]
  },
  {
   "cell_type": "code",
   "execution_count": null,
   "id": "63601fbc",
   "metadata": {},
   "outputs": [],
   "source": [
    "(a,b)=(10,20)\n",
    "a\n",
    "b"
   ]
  },
  {
   "cell_type": "code",
   "execution_count": null,
   "id": "38752005",
   "metadata": {},
   "outputs": [],
   "source": [
    "print(a+b/2)"
   ]
  },
  {
   "cell_type": "code",
   "execution_count": null,
   "id": "17f9127f",
   "metadata": {},
   "outputs": [],
   "source": [
    "##键盘中断错误 KeyboardInterupt 无限循环中使用II进行终止运行。\n",
    "while True:\n",
    "    print('Stop!'\n",
    "         )"
   ]
  },
  {
   "cell_type": "code",
   "execution_count": 8,
   "id": "f5cc7de9",
   "metadata": {},
   "outputs": [
    {
     "ename": "IndentationError",
     "evalue": "unexpected indent (Temp/ipykernel_9960/3250785199.py, line 3)",
     "output_type": "error",
     "traceback": [
      "\u001b[1;36m  File \u001b[1;32m\"C:\\Users\\Harry\\AppData\\Local\\Temp/ipykernel_9960/3250785199.py\"\u001b[1;36m, line \u001b[1;32m3\u001b[0m\n\u001b[1;33m    IndentationError\u001b[0m\n\u001b[1;37m    ^\u001b[0m\n\u001b[1;31mIndentationError\u001b[0m\u001b[1;31m:\u001b[0m unexpected indent\n"
     ]
    }
   ],
   "source": [
    "##语法错误\n",
    "SyntaxError\n",
    "    IndentationError\n",
    "        TabError"
   ]
  },
  {
   "cell_type": "code",
   "execution_count": 12,
   "id": "57ec923f",
   "metadata": {},
   "outputs": [
    {
     "name": "stdout",
     "output_type": "stream",
     "text": [
      "T\n"
     ]
    }
   ],
   "source": [
    "if True:\n",
    "    print('T')"
   ]
  },
  {
   "cell_type": "code",
   "execution_count": 13,
   "id": "a2e85df0",
   "metadata": {},
   "outputs": [
    {
     "ename": "SyntaxError",
     "evalue": "EOL while scanning string literal (Temp/ipykernel_9960/2451909540.py, line 1)",
     "output_type": "error",
     "traceback": [
      "\u001b[1;36m  File \u001b[1;32m\"C:\\Users\\Harry\\AppData\\Local\\Temp/ipykernel_9960/2451909540.py\"\u001b[1;36m, line \u001b[1;32m1\u001b[0m\n\u001b[1;33m    print('True\")\u001b[0m\n\u001b[1;37m                 ^\u001b[0m\n\u001b[1;31mSyntaxError\u001b[0m\u001b[1;31m:\u001b[0m EOL while scanning string literal\n"
     ]
    }
   ],
   "source": [
    "print('True\")"
   ]
  },
  {
   "cell_type": "code",
   "execution_count": 14,
   "id": "b3df2edc",
   "metadata": {},
   "outputs": [
    {
     "ename": "AssertionError",
     "evalue": "x必须是大于10，但是当前的值是-10",
     "output_type": "error",
     "traceback": [
      "\u001b[1;31m---------------------------------------------------------------------------\u001b[0m",
      "\u001b[1;31mAssertionError\u001b[0m                            Traceback (most recent call last)",
      "\u001b[1;32m~\\AppData\\Local\\Temp/ipykernel_9960/2753152894.py\u001b[0m in \u001b[0;36m<module>\u001b[1;34m\u001b[0m\n\u001b[0;32m      2\u001b[0m \u001b[1;31m# AssertionError\u001b[0m\u001b[1;33m\u001b[0m\u001b[1;33m\u001b[0m\u001b[0m\n\u001b[0;32m      3\u001b[0m \u001b[0mx\u001b[0m\u001b[1;33m=\u001b[0m\u001b[1;33m-\u001b[0m\u001b[1;36m10\u001b[0m\u001b[1;33m\u001b[0m\u001b[1;33m\u001b[0m\u001b[0m\n\u001b[1;32m----> 4\u001b[1;33m \u001b[1;32massert\u001b[0m\u001b[1;33m(\u001b[0m\u001b[0mx\u001b[0m\u001b[1;33m>\u001b[0m\u001b[1;36m0\u001b[0m\u001b[1;33m)\u001b[0m\u001b[1;33m,\u001b[0m\u001b[1;34mf'x必须是大于10，但是当前的值是{x}'\u001b[0m\u001b[1;33m\u001b[0m\u001b[1;33m\u001b[0m\u001b[0m\n\u001b[0m",
      "\u001b[1;31mAssertionError\u001b[0m: x必须是大于10，但是当前的值是-10"
     ]
    }
   ],
   "source": [
    "#声明错误\n",
    "# AssertionError\n",
    "x=-10\n",
    "assert(x>0),f'x必须是大于10，但是当前的值是{x}'"
   ]
  },
  {
   "cell_type": "code",
   "execution_count": 17,
   "id": "3d49ae03",
   "metadata": {},
   "outputs": [
    {
     "data": {
      "text/plain": [
       "11"
      ]
     },
     "execution_count": 17,
     "metadata": {},
     "output_type": "execute_result"
    }
   ],
   "source": [
    "#命名错误\n",
    "#NameEarror\n",
    "def myfun(a):\n",
    "    a=a+1\n",
    "    return a\n",
    "myfun(10)"
   ]
  },
  {
   "cell_type": "code",
   "execution_count": 18,
   "id": "1955db3b",
   "metadata": {},
   "outputs": [
    {
     "ename": "IndexError",
     "evalue": "list index out of range",
     "output_type": "error",
     "traceback": [
      "\u001b[1;31m---------------------------------------------------------------------------\u001b[0m",
      "\u001b[1;31mIndexError\u001b[0m                                Traceback (most recent call last)",
      "\u001b[1;32m~\\AppData\\Local\\Temp/ipykernel_9960/1681736943.py\u001b[0m in \u001b[0;36m<module>\u001b[1;34m\u001b[0m\n\u001b[0;32m      2\u001b[0m \u001b[1;31m# LookupError indexError，KeyError\u001b[0m\u001b[1;33m\u001b[0m\u001b[1;33m\u001b[0m\u001b[0m\n\u001b[0;32m      3\u001b[0m \u001b[0ml\u001b[0m\u001b[1;33m=\u001b[0m\u001b[1;33m[\u001b[0m\u001b[1;36m1\u001b[0m\u001b[1;33m,\u001b[0m\u001b[1;36m2\u001b[0m\u001b[1;33m,\u001b[0m\u001b[1;36m3\u001b[0m\u001b[1;33m]\u001b[0m\u001b[1;33m\u001b[0m\u001b[1;33m\u001b[0m\u001b[0m\n\u001b[1;32m----> 4\u001b[1;33m \u001b[0ml\u001b[0m\u001b[1;33m[\u001b[0m\u001b[1;36m100\u001b[0m\u001b[1;33m]\u001b[0m\u001b[1;33m\u001b[0m\u001b[1;33m\u001b[0m\u001b[0m\n\u001b[0m",
      "\u001b[1;31mIndexError\u001b[0m: list index out of range"
     ]
    }
   ],
   "source": [
    "#查询错误\n",
    "# LookupError indexError，KeyError\n",
    "l=[1,2,3]\n",
    "l[100]"
   ]
  },
  {
   "cell_type": "code",
   "execution_count": 19,
   "id": "6765c8c6",
   "metadata": {},
   "outputs": [],
   "source": [
    "d1={'name':'zhangsan','score':90}"
   ]
  },
  {
   "cell_type": "code",
   "execution_count": 20,
   "id": "65537a2c",
   "metadata": {},
   "outputs": [
    {
     "ename": "KeyError",
     "evalue": "'Address'",
     "output_type": "error",
     "traceback": [
      "\u001b[1;31m---------------------------------------------------------------------------\u001b[0m",
      "\u001b[1;31mKeyError\u001b[0m                                  Traceback (most recent call last)",
      "\u001b[1;32m~\\AppData\\Local\\Temp/ipykernel_9960/2073277822.py\u001b[0m in \u001b[0;36m<module>\u001b[1;34m\u001b[0m\n\u001b[1;32m----> 1\u001b[1;33m \u001b[0md1\u001b[0m\u001b[1;33m[\u001b[0m\u001b[1;34m'Address'\u001b[0m\u001b[1;33m]\u001b[0m\u001b[1;33m\u001b[0m\u001b[1;33m\u001b[0m\u001b[0m\n\u001b[0m",
      "\u001b[1;31mKeyError\u001b[0m: 'Address'"
     ]
    }
   ],
   "source": [
    "d1['Address']"
   ]
  },
  {
   "cell_type": "code",
   "execution_count": 21,
   "id": "90121e23",
   "metadata": {},
   "outputs": [
    {
     "ename": "ZeroDivisionError",
     "evalue": "division by zero",
     "output_type": "error",
     "traceback": [
      "\u001b[1;31m---------------------------------------------------------------------------\u001b[0m",
      "\u001b[1;31mZeroDivisionError\u001b[0m                         Traceback (most recent call last)",
      "\u001b[1;32m~\\AppData\\Local\\Temp/ipykernel_9960/606931992.py\u001b[0m in \u001b[0;36m<module>\u001b[1;34m\u001b[0m\n\u001b[0;32m      1\u001b[0m \u001b[1;31m#算术错误\u001b[0m\u001b[1;33m\u001b[0m\u001b[1;33m\u001b[0m\u001b[0m\n\u001b[1;32m----> 2\u001b[1;33m \u001b[1;36m1\u001b[0m\u001b[1;33m/\u001b[0m\u001b[1;36m0\u001b[0m\u001b[1;33m\u001b[0m\u001b[1;33m\u001b[0m\u001b[0m\n\u001b[0m",
      "\u001b[1;31mZeroDivisionError\u001b[0m: division by zero"
     ]
    }
   ],
   "source": [
    "#算术错误\n",
    "# ArithmeticError\n",
    "    ##ZeroDivisionError\n",
    "    ##OverflowError\n",
    "1/0"
   ]
  },
  {
   "cell_type": "code",
   "execution_count": 22,
   "id": "3796cd2e",
   "metadata": {},
   "outputs": [
    {
     "data": {
      "text/plain": [
       "11"
      ]
     },
     "execution_count": 22,
     "metadata": {},
     "output_type": "execute_result"
    }
   ],
   "source": [
    "import math\n",
    "math.ceil(10.1)"
   ]
  },
  {
   "cell_type": "code",
   "execution_count": 23,
   "id": "972b3b3a",
   "metadata": {},
   "outputs": [
    {
     "ename": "OverflowError",
     "evalue": "math range error",
     "output_type": "error",
     "traceback": [
      "\u001b[1;31m---------------------------------------------------------------------------\u001b[0m",
      "\u001b[1;31mOverflowError\u001b[0m                             Traceback (most recent call last)",
      "\u001b[1;32m~\\AppData\\Local\\Temp/ipykernel_9960/3967057642.py\u001b[0m in \u001b[0;36m<module>\u001b[1;34m\u001b[0m\n\u001b[1;32m----> 1\u001b[1;33m \u001b[0mmath\u001b[0m\u001b[1;33m.\u001b[0m\u001b[0mexp\u001b[0m\u001b[1;33m(\u001b[0m\u001b[1;36m1031\u001b[0m\u001b[1;33m)\u001b[0m\u001b[1;33m\u001b[0m\u001b[1;33m\u001b[0m\u001b[0m\n\u001b[0m",
      "\u001b[1;31mOverflowError\u001b[0m: math range error"
     ]
    }
   ],
   "source": [
    "math.exp(1031)"
   ]
  },
  {
   "cell_type": "code",
   "execution_count": 24,
   "id": "e392ade1",
   "metadata": {},
   "outputs": [
    {
     "ename": "TypeError",
     "evalue": "unsupported operand type(s) for /: 'int' and 'str'",
     "output_type": "error",
     "traceback": [
      "\u001b[1;31m---------------------------------------------------------------------------\u001b[0m",
      "\u001b[1;31mTypeError\u001b[0m                                 Traceback (most recent call last)",
      "\u001b[1;32m~\\AppData\\Local\\Temp/ipykernel_9960/1864418169.py\u001b[0m in \u001b[0;36m<module>\u001b[1;34m\u001b[0m\n\u001b[0;32m      2\u001b[0m \u001b[0mm\u001b[0m\u001b[1;33m=\u001b[0m\u001b[1;36m1\u001b[0m\u001b[1;33m\u001b[0m\u001b[1;33m\u001b[0m\u001b[0m\n\u001b[0;32m      3\u001b[0m \u001b[0mn\u001b[0m\u001b[1;33m=\u001b[0m\u001b[1;34m'abc'\u001b[0m\u001b[1;33m\u001b[0m\u001b[1;33m\u001b[0m\u001b[0m\n\u001b[1;32m----> 4\u001b[1;33m \u001b[0mm\u001b[0m\u001b[1;33m/\u001b[0m\u001b[0mn\u001b[0m\u001b[1;33m\u001b[0m\u001b[1;33m\u001b[0m\u001b[0m\n\u001b[0m",
      "\u001b[1;31mTypeError\u001b[0m: unsupported operand type(s) for /: 'int' and 'str'"
     ]
    }
   ],
   "source": [
    "#类型错误\n",
    "m=1\n",
    "n='abc'\n",
    "m/n"
   ]
  },
  {
   "cell_type": "code",
   "execution_count": 25,
   "id": "e2119c08",
   "metadata": {},
   "outputs": [
    {
     "ename": "ValueError",
     "evalue": "invalid literal for int() with base 10: 'a'",
     "output_type": "error",
     "traceback": [
      "\u001b[1;31m---------------------------------------------------------------------------\u001b[0m",
      "\u001b[1;31mValueError\u001b[0m                                Traceback (most recent call last)",
      "\u001b[1;32m~\\AppData\\Local\\Temp/ipykernel_9960/3226923290.py\u001b[0m in \u001b[0;36m<module>\u001b[1;34m\u001b[0m\n\u001b[0;32m      1\u001b[0m \u001b[1;31m#取值错误\u001b[0m\u001b[1;33m\u001b[0m\u001b[1;33m\u001b[0m\u001b[0m\n\u001b[0;32m      2\u001b[0m \u001b[1;31m# ValueError\u001b[0m\u001b[1;33m\u001b[0m\u001b[1;33m\u001b[0m\u001b[0m\n\u001b[1;32m----> 3\u001b[1;33m \u001b[0mint\u001b[0m\u001b[1;33m(\u001b[0m\u001b[1;34m'a'\u001b[0m\u001b[1;33m)\u001b[0m\u001b[1;33m\u001b[0m\u001b[1;33m\u001b[0m\u001b[0m\n\u001b[0m",
      "\u001b[1;31mValueError\u001b[0m: invalid literal for int() with base 10: 'a'"
     ]
    }
   ],
   "source": [
    "#取值错误\n",
    "# ValueError\n",
    "int('a')"
   ]
  },
  {
   "cell_type": "code",
   "execution_count": 26,
   "id": "0239dc3e",
   "metadata": {},
   "outputs": [
    {
     "ename": "AttributeError",
     "evalue": "'int' object has no attribute 'append'",
     "output_type": "error",
     "traceback": [
      "\u001b[1;31m---------------------------------------------------------------------------\u001b[0m",
      "\u001b[1;31mAttributeError\u001b[0m                            Traceback (most recent call last)",
      "\u001b[1;32m~\\AppData\\Local\\Temp/ipykernel_9960/741766202.py\u001b[0m in \u001b[0;36m<module>\u001b[1;34m\u001b[0m\n\u001b[0;32m      1\u001b[0m \u001b[1;31m#属性错误\u001b[0m\u001b[1;33m\u001b[0m\u001b[1;33m\u001b[0m\u001b[0m\n\u001b[0;32m      2\u001b[0m \u001b[0mm\u001b[0m\u001b[1;33m=\u001b[0m\u001b[1;36m1\u001b[0m\u001b[1;33m\u001b[0m\u001b[1;33m\u001b[0m\u001b[0m\n\u001b[1;32m----> 3\u001b[1;33m \u001b[0mm\u001b[0m\u001b[1;33m.\u001b[0m\u001b[0mappend\u001b[0m\u001b[1;33m(\u001b[0m\u001b[1;36m2\u001b[0m\u001b[1;33m)\u001b[0m\u001b[1;33m\u001b[0m\u001b[1;33m\u001b[0m\u001b[0m\n\u001b[0m",
      "\u001b[1;31mAttributeError\u001b[0m: 'int' object has no attribute 'append'"
     ]
    }
   ],
   "source": [
    "#属性错误\n",
    "m=1\n",
    "m.append(2)"
   ]
  },
  {
   "cell_type": "code",
   "execution_count": 27,
   "id": "c84bb6f9",
   "metadata": {},
   "outputs": [
    {
     "ename": "FileNotFoundError",
     "evalue": "[Errno 2] No such file or directory: '123,txt'",
     "output_type": "error",
     "traceback": [
      "\u001b[1;31m---------------------------------------------------------------------------\u001b[0m",
      "\u001b[1;31mFileNotFoundError\u001b[0m                         Traceback (most recent call last)",
      "\u001b[1;32m~\\AppData\\Local\\Temp/ipykernel_9960/3531733518.py\u001b[0m in \u001b[0;36m<module>\u001b[1;34m\u001b[0m\n\u001b[0;32m      1\u001b[0m \u001b[1;31m#操作系统错误\u001b[0m\u001b[1;33m\u001b[0m\u001b[1;33m\u001b[0m\u001b[0m\n\u001b[1;32m----> 2\u001b[1;33m \u001b[0mf\u001b[0m\u001b[1;33m=\u001b[0m\u001b[0mopen\u001b[0m\u001b[1;33m(\u001b[0m\u001b[1;34m'123,txt'\u001b[0m\u001b[1;33m)\u001b[0m\u001b[1;33m\u001b[0m\u001b[1;33m\u001b[0m\u001b[0m\n\u001b[0m",
      "\u001b[1;31mFileNotFoundError\u001b[0m: [Errno 2] No such file or directory: '123,txt'"
     ]
    }
   ],
   "source": [
    "#操作系统错误\n",
    "f=open('123,txt')"
   ]
  },
  {
   "cell_type": "code",
   "execution_count": 28,
   "id": "c4d76f24",
   "metadata": {
    "scrolled": true
   },
   "outputs": [
    {
     "ename": "ModuleNotFoundError",
     "evalue": "No module named 'whd'",
     "output_type": "error",
     "traceback": [
      "\u001b[1;31m---------------------------------------------------------------------------\u001b[0m",
      "\u001b[1;31mModuleNotFoundError\u001b[0m                       Traceback (most recent call last)",
      "\u001b[1;32m~\\AppData\\Local\\Temp/ipykernel_9960/2165884630.py\u001b[0m in \u001b[0;36m<module>\u001b[1;34m\u001b[0m\n\u001b[0;32m      1\u001b[0m \u001b[1;31m#引入错误\u001b[0m\u001b[1;33m\u001b[0m\u001b[1;33m\u001b[0m\u001b[0m\n\u001b[1;32m----> 2\u001b[1;33m \u001b[1;32mimport\u001b[0m \u001b[0mwhd\u001b[0m\u001b[1;33m\u001b[0m\u001b[1;33m\u001b[0m\u001b[0m\n\u001b[0m",
      "\u001b[1;31mModuleNotFoundError\u001b[0m: No module named 'whd'"
     ]
    }
   ],
   "source": [
    "#引入错误\n",
    "import whd"
   ]
  },
  {
   "cell_type": "code",
   "execution_count": 30,
   "id": "7430017e",
   "metadata": {},
   "outputs": [],
   "source": [
    "#迭代停止错误\n",
    "i=iter([1,2,3,4])"
   ]
  },
  {
   "cell_type": "code",
   "execution_count": 32,
   "id": "3d546be7",
   "metadata": {},
   "outputs": [
    {
     "data": {
      "text/plain": [
       "<list_iterator at 0x20c6aea86d0>"
      ]
     },
     "execution_count": 32,
     "metadata": {},
     "output_type": "execute_result"
    }
   ],
   "source": [
    "i"
   ]
  },
  {
   "cell_type": "code",
   "execution_count": 34,
   "id": "45d07563",
   "metadata": {},
   "outputs": [
    {
     "name": "stdout",
     "output_type": "stream",
     "text": [
      "2\n"
     ]
    }
   ],
   "source": [
    "print(next(i))"
   ]
  },
  {
   "cell_type": "markdown",
   "id": "b64c0d90",
   "metadata": {},
   "source": [
    "## 03 异常控制\n",
    "- 异常控制主要针对的是运行错误"
   ]
  },
  {
   "cell_type": "code",
   "execution_count": null,
   "id": "8f224df2",
   "metadata": {},
   "outputs": [],
   "source": [
    "#抛出错误\n",
    "    ## raise-->Exception  如果在某个条件下，需要抛出一个错误\n",
    "    ## assert-->Condition-->Exception  声名错误：某个条件成立，若不成立则抛出错误"
   ]
  },
  {
   "cell_type": "code",
   "execution_count": 35,
   "id": "0be478ae",
   "metadata": {},
   "outputs": [
    {
     "data": {
      "text/plain": [
       "'\\ntry:\\n    statement(s)\\nexcept Exception:\\n    #任何异常被处理时的代码\\nelse:\\n    #没有异常情况下运行的代码\\nfinally:\\n    #任何情况下都会运行的代码\\n'"
      ]
     },
     "execution_count": 35,
     "metadata": {},
     "output_type": "execute_result"
    }
   ],
   "source": [
    "#处理错误\n",
    "'''\n",
    "try:\n",
    "    statement(s)\n",
    "except Exception:\n",
    "    #任何异常被处理时的代码\n",
    "'''\n",
    "\n",
    "'''\n",
    "try:\n",
    "    statement(s)\n",
    "except some_Exception:\n",
    "    #特定异常被处理时的代码\n",
    "'''\n",
    "\n",
    "'''\n",
    "try:\n",
    "    statement(s)\n",
    "except exception01:\n",
    "    #异常01被处理时的代码\n",
    "except exception02:\n",
    "    #异常02被处理时的代码\n",
    "'''\n",
    "\n",
    "'''\n",
    "try:\n",
    "    statement(s)\n",
    "except (exception01,exception02,...,exceptionn):\n",
    "    #异常01-异常n被处理时的代码\n",
    "'''\n",
    "\n",
    "'''\n",
    "try:\n",
    "    statement(s)\n",
    "except Exception:\n",
    "    #任何异常被处理时的代码\n",
    "else:\n",
    "    #没有异常情况下运行的代码\n",
    "finally:\n",
    "    #任何情况下都会运行的代码\n",
    "'''"
   ]
  },
  {
   "cell_type": "code",
   "execution_count": 36,
   "id": "67d83da7",
   "metadata": {},
   "outputs": [
    {
     "name": "stdout",
     "output_type": "stream",
     "text": [
      "请输入成绩：-50\n",
      "成绩不能为负数\n"
     ]
    }
   ],
   "source": [
    "#raise和assert\n",
    "#raise内建的Exception\n",
    "try:\n",
    "    S=int(input('请输入成绩：'))\n",
    "    if S<0:\n",
    "        raise ValueError('成绩不能为负数')\n",
    "except ValueError as err:\n",
    "    print(err)"
   ]
  },
  {
   "cell_type": "code",
   "execution_count": 37,
   "id": "be2b1628",
   "metadata": {},
   "outputs": [],
   "source": [
    "# raise进行个性化错误定制\n",
    "def myvalue(mymin,mymax):\n",
    "    if mymin<0 or mymax<0:\n",
    "        raise ValueError('成绩不能为负数！')\n",
    "    myscore=mymax-mymin\n",
    "    if myscore<0:\n",
    "        raise ValueError('最终成绩不能为负数')"
   ]
  },
  {
   "cell_type": "code",
   "execution_count": 38,
   "id": "7c1408bf",
   "metadata": {},
   "outputs": [],
   "source": [
    "try:\n",
    "    myvalue(14,99)\n",
    "except ValueError as err:\n",
    "    print(err)"
   ]
  },
  {
   "cell_type": "code",
   "execution_count": 39,
   "id": "e063f483",
   "metadata": {},
   "outputs": [],
   "source": [
    "#定义异常处理类\n",
    "class myError(Exception):\n",
    "    pass\n",
    "\n",
    "class myValueErr(myError):\n",
    "    def __init__(self,expression,message):\n",
    "        self.expression=expression\n",
    "        self.message=message"
   ]
  },
  {
   "cell_type": "code",
   "execution_count": 43,
   "id": "e6dc1215",
   "metadata": {},
   "outputs": [],
   "source": [
    "def myvalue(mymin,mymax):\n",
    "    if mymin<0 or mymax<0:\n",
    "        raise ValueError('成绩不能为负数！')\n",
    "    myscore=mymax-mymin\n",
    "    if myscore<0:\n",
    "        raise myValueErr('运算结果错误','最后成绩不能为负数')"
   ]
  },
  {
   "cell_type": "code",
   "execution_count": 47,
   "id": "71e7b139",
   "metadata": {},
   "outputs": [
    {
     "name": "stdout",
     "output_type": "stream",
     "text": [
      "运算结果错误,最后成绩不能为负数\n"
     ]
    }
   ],
   "source": [
    "try:\n",
    "    myvalue(114,99)\n",
    "except ValueError as err:\n",
    "    print(err)\n",
    "except myValueErr as err:\n",
    "    print(err.args[0]+','+err.args[1])"
   ]
  },
  {
   "cell_type": "code",
   "execution_count": 50,
   "id": "424074dc",
   "metadata": {},
   "outputs": [
    {
     "name": "stdout",
     "output_type": "stream",
     "text": [
      "请输入数据：5\n"
     ]
    }
   ],
   "source": [
    "# assert声明错误\n",
    "x=int(input('请输入数据：'))\n",
    "assert(x>0),f'x必须是大于10，但是当前的值是{x}'"
   ]
  },
  {
   "cell_type": "code",
   "execution_count": 51,
   "id": "8f4e9406",
   "metadata": {},
   "outputs": [],
   "source": [
    "# try...except...范式"
   ]
  },
  {
   "cell_type": "code",
   "execution_count": 52,
   "id": "e42a342b",
   "metadata": {},
   "outputs": [],
   "source": [
    "#知道错误但是不确定类型\n",
    "def divide(a,b):\n",
    "    try:\n",
    "        c=a/b\n",
    "        print(f\"结果是：{c:.4f}\")\n",
    "    except:\n",
    "        print(\"除数可能有错误\")"
   ]
  },
  {
   "cell_type": "code",
   "execution_count": 55,
   "id": "d4d87406",
   "metadata": {},
   "outputs": [
    {
     "name": "stdout",
     "output_type": "stream",
     "text": [
      "结果是：0.1429\n"
     ]
    }
   ],
   "source": [
    "divide(1,7)"
   ]
  },
  {
   "cell_type": "code",
   "execution_count": 58,
   "id": "068c43c1",
   "metadata": {},
   "outputs": [],
   "source": [
    "# 知道错误且能确定类型\n",
    "def divide(a,b):\n",
    "    try:\n",
    "        c=a/b\n",
    "        print(f\"结果是：{c:.4f}\")\n",
    "    except ZeroDivisionError as err:\n",
    "        print(err)"
   ]
  },
  {
   "cell_type": "code",
   "execution_count": 60,
   "id": "06be696e",
   "metadata": {},
   "outputs": [
    {
     "name": "stdout",
     "output_type": "stream",
     "text": [
      "division by zero\n"
     ]
    }
   ],
   "source": [
    "divide(1,0)"
   ]
  },
  {
   "cell_type": "code",
   "execution_count": 61,
   "id": "c819bcd0",
   "metadata": {},
   "outputs": [],
   "source": [
    "def divide(a,b):\n",
    "    try:\n",
    "        c=a/b\n",
    "        d=cc+1\n",
    "        print(f\"结果是：{c:.4f}\")\n",
    "    except ZeroDivisionError as err:\n",
    "        print(err)"
   ]
  },
  {
   "cell_type": "code",
   "execution_count": 63,
   "id": "73233e89",
   "metadata": {},
   "outputs": [
    {
     "ename": "NameError",
     "evalue": "name 'cc' is not defined",
     "output_type": "error",
     "traceback": [
      "\u001b[1;31m---------------------------------------------------------------------------\u001b[0m",
      "\u001b[1;31mNameError\u001b[0m                                 Traceback (most recent call last)",
      "\u001b[1;32m~\\AppData\\Local\\Temp/ipykernel_9960/2651798407.py\u001b[0m in \u001b[0;36m<module>\u001b[1;34m\u001b[0m\n\u001b[1;32m----> 1\u001b[1;33m \u001b[0mdivide\u001b[0m\u001b[1;33m(\u001b[0m\u001b[1;36m1\u001b[0m\u001b[1;33m,\u001b[0m\u001b[1;36m7\u001b[0m\u001b[1;33m)\u001b[0m\u001b[1;33m\u001b[0m\u001b[1;33m\u001b[0m\u001b[0m\n\u001b[0m",
      "\u001b[1;32m~\\AppData\\Local\\Temp/ipykernel_9960/571119000.py\u001b[0m in \u001b[0;36mdivide\u001b[1;34m(a, b)\u001b[0m\n\u001b[0;32m      2\u001b[0m     \u001b[1;32mtry\u001b[0m\u001b[1;33m:\u001b[0m\u001b[1;33m\u001b[0m\u001b[1;33m\u001b[0m\u001b[0m\n\u001b[0;32m      3\u001b[0m         \u001b[0mc\u001b[0m\u001b[1;33m=\u001b[0m\u001b[0ma\u001b[0m\u001b[1;33m/\u001b[0m\u001b[0mb\u001b[0m\u001b[1;33m\u001b[0m\u001b[1;33m\u001b[0m\u001b[0m\n\u001b[1;32m----> 4\u001b[1;33m         \u001b[0md\u001b[0m\u001b[1;33m=\u001b[0m\u001b[0mcc\u001b[0m\u001b[1;33m+\u001b[0m\u001b[1;36m1\u001b[0m\u001b[1;33m\u001b[0m\u001b[1;33m\u001b[0m\u001b[0m\n\u001b[0m\u001b[0;32m      5\u001b[0m         \u001b[0mprint\u001b[0m\u001b[1;33m(\u001b[0m\u001b[1;34mf\"结果是：{c:.4f}\"\u001b[0m\u001b[1;33m)\u001b[0m\u001b[1;33m\u001b[0m\u001b[1;33m\u001b[0m\u001b[0m\n\u001b[0;32m      6\u001b[0m     \u001b[1;32mexcept\u001b[0m \u001b[0mZeroDivisionError\u001b[0m \u001b[1;32mas\u001b[0m \u001b[0merr\u001b[0m\u001b[1;33m:\u001b[0m\u001b[1;33m\u001b[0m\u001b[1;33m\u001b[0m\u001b[0m\n",
      "\u001b[1;31mNameError\u001b[0m: name 'cc' is not defined"
     ]
    }
   ],
   "source": [
    "divide(1,7)"
   ]
  },
  {
   "cell_type": "code",
   "execution_count": 75,
   "id": "1026100d",
   "metadata": {},
   "outputs": [],
   "source": [
    "def divide(a,b):\n",
    "    try:\n",
    "        c=a/b\n",
    "        d=cc+1\n",
    "        print(f\"结果是：{c:.4f}\")\n",
    "    except ZeroDivisionError as err:\n",
    "        print(err)\n",
    "    except Exception as err:\n",
    "        print('并非除数为零，可能是其他错误[具体信息：'+err.args[0]+']')"
   ]
  },
  {
   "cell_type": "code",
   "execution_count": 77,
   "id": "26a0bbee",
   "metadata": {},
   "outputs": [
    {
     "name": "stdout",
     "output_type": "stream",
     "text": [
      "并非除数为零，可能是其他错误[具体信息：name 'cc' is not defined]\n"
     ]
    }
   ],
   "source": [
    "divide(1,7)"
   ]
  },
  {
   "cell_type": "code",
   "execution_count": 78,
   "id": "a0bde1b4",
   "metadata": {},
   "outputs": [
    {
     "name": "stdout",
     "output_type": "stream",
     "text": [
      "a\n"
     ]
    },
    {
     "ename": "ValueError",
     "evalue": "invalid literal for int() with base 10: 'a'",
     "output_type": "error",
     "traceback": [
      "\u001b[1;31m---------------------------------------------------------------------------\u001b[0m",
      "\u001b[1;31mValueError\u001b[0m                                Traceback (most recent call last)",
      "\u001b[1;32m~\\AppData\\Local\\Temp/ipykernel_9960/3322961761.py\u001b[0m in \u001b[0;36m<module>\u001b[1;34m\u001b[0m\n\u001b[0;32m      1\u001b[0m \u001b[1;31m#单个与多个Except语句\u001b[0m\u001b[1;33m\u001b[0m\u001b[1;33m\u001b[0m\u001b[0m\n\u001b[0;32m      2\u001b[0m \u001b[1;33m\u001b[0m\u001b[0m\n\u001b[1;32m----> 3\u001b[1;33m \u001b[0mmyint\u001b[0m\u001b[1;33m=\u001b[0m\u001b[0mint\u001b[0m\u001b[1;33m(\u001b[0m\u001b[0minput\u001b[0m\u001b[1;33m(\u001b[0m\u001b[1;33m)\u001b[0m\u001b[1;33m)\u001b[0m\u001b[1;33m\u001b[0m\u001b[1;33m\u001b[0m\u001b[0m\n\u001b[0m",
      "\u001b[1;31mValueError\u001b[0m: invalid literal for int() with base 10: 'a'"
     ]
    }
   ],
   "source": [
    "#单个与多个Except语句\n",
    "\n",
    "myint=int(input())"
   ]
  },
  {
   "cell_type": "code",
   "execution_count": 1,
   "id": "82943819",
   "metadata": {},
   "outputs": [],
   "source": [
    "def myint(a):\n",
    "    try:\n",
    "        myvalue=int(a)\n",
    "        print('您输入的数据是：',myvalue)\n",
    "    except ValueError:\n",
    "        print('您输入的是非整型数字数据！')\n",
    "    except TypeError:\n",
    "        print('您输入的数据不兼容！')"
   ]
  },
  {
   "cell_type": "code",
   "execution_count": 2,
   "id": "0b1f6725",
   "metadata": {},
   "outputs": [
    {
     "name": "stdout",
     "output_type": "stream",
     "text": [
      "12.3\n",
      "您输入的是非整型数字数据！\n"
     ]
    }
   ],
   "source": [
    "a=input()\n",
    "myint(a)"
   ]
  },
  {
   "cell_type": "code",
   "execution_count": 4,
   "id": "fe200b17",
   "metadata": {},
   "outputs": [
    {
     "name": "stdout",
     "output_type": "stream",
     "text": [
      "您输入的数据是： 1\n"
     ]
    }
   ],
   "source": [
    "myint(1)"
   ]
  },
  {
   "cell_type": "code",
   "execution_count": 6,
   "id": "80892583",
   "metadata": {},
   "outputs": [
    {
     "name": "stdout",
     "output_type": "stream",
     "text": [
      "您输入的数据是： 12\n"
     ]
    }
   ],
   "source": [
    "myint(12.3)"
   ]
  },
  {
   "cell_type": "code",
   "execution_count": 7,
   "id": "d709d5c8",
   "metadata": {},
   "outputs": [
    {
     "name": "stdout",
     "output_type": "stream",
     "text": [
      "您输入的数据是： 12\n"
     ]
    }
   ],
   "source": [
    "myint('12')"
   ]
  },
  {
   "cell_type": "code",
   "execution_count": 8,
   "id": "6da03cd2",
   "metadata": {},
   "outputs": [
    {
     "name": "stdout",
     "output_type": "stream",
     "text": [
      "您输入的数据不兼容！\n"
     ]
    }
   ],
   "source": [
    "myint([1,2])"
   ]
  },
  {
   "cell_type": "code",
   "execution_count": 9,
   "id": "2735aefc",
   "metadata": {},
   "outputs": [
    {
     "name": "stdout",
     "output_type": "stream",
     "text": [
      "您输入的是非整型数字数据！\n"
     ]
    }
   ],
   "source": [
    "myint('[1,2]')"
   ]
  },
  {
   "cell_type": "code",
   "execution_count": 10,
   "id": "37e55317",
   "metadata": {},
   "outputs": [
    {
     "data": {
      "text/plain": [
       "['1', '2']"
      ]
     },
     "execution_count": 10,
     "metadata": {},
     "output_type": "execute_result"
    }
   ],
   "source": [
    "list(('1','2'))"
   ]
  },
  {
   "cell_type": "code",
   "execution_count": 13,
   "id": "17959d0e",
   "metadata": {},
   "outputs": [
    {
     "name": "stdout",
     "output_type": "stream",
     "text": [
      "12\n",
      "<class 'str'>\n"
     ]
    },
    {
     "data": {
      "text/plain": [
       "['1', '2']"
      ]
     },
     "execution_count": 13,
     "metadata": {},
     "output_type": "execute_result"
    }
   ],
   "source": [
    "a=(input())\n",
    "print(type(a))\n",
    "list(a)"
   ]
  },
  {
   "cell_type": "code",
   "execution_count": 14,
   "id": "2c92345f",
   "metadata": {},
   "outputs": [],
   "source": [
    "def myint(a):\n",
    "    try:\n",
    "        myvalue=int(a)\n",
    "        print('您输入的数据是：',myvalue)\n",
    "    except (ValueError,TypeError):\n",
    "        print('您输入的是非整型数字数据或数据不兼容！')"
   ]
  },
  {
   "cell_type": "code",
   "execution_count": 15,
   "id": "a690be42",
   "metadata": {},
   "outputs": [
    {
     "name": "stdout",
     "output_type": "stream",
     "text": [
      "您输入的是非整型数字数据或数据不兼容！\n"
     ]
    }
   ],
   "source": [
    "myint('[122]')"
   ]
  },
  {
   "cell_type": "code",
   "execution_count": 16,
   "id": "c3976f83",
   "metadata": {},
   "outputs": [],
   "source": [
    "#使用别名显示错误\n",
    "def myint(a):\n",
    "    try:\n",
    "        myvalue=int(a)\n",
    "        print('您输入的数据是：',myvalue)\n",
    "    except (ValueError,TypeError) as err:\n",
    "        print('错误原因是：{0}'.format(err.args[0]))"
   ]
  },
  {
   "cell_type": "code",
   "execution_count": 17,
   "id": "e69b9c83",
   "metadata": {},
   "outputs": [
    {
     "name": "stdout",
     "output_type": "stream",
     "text": [
      "错误原因是：invalid literal for int() with base 10: 'a'\n"
     ]
    }
   ],
   "source": [
    "myint('a')"
   ]
  },
  {
   "cell_type": "code",
   "execution_count": 18,
   "id": "dbc8ef3b",
   "metadata": {},
   "outputs": [],
   "source": [
    "#try...except...else...finally范式\n",
    "def divide(a,b):\n",
    "    try:\n",
    "        c=a/b\n",
    "    except ZeroDivisionError:\n",
    "        print('除数可能有错误')\n",
    "    else:\n",
    "        print(f'运行结果为：{c:.4f}')"
   ]
  },
  {
   "cell_type": "code",
   "execution_count": 19,
   "id": "a500dcde",
   "metadata": {},
   "outputs": [
    {
     "name": "stdout",
     "output_type": "stream",
     "text": [
      "除数可能有错误\n"
     ]
    }
   ],
   "source": [
    "divide(1,0)"
   ]
  },
  {
   "cell_type": "code",
   "execution_count": 20,
   "id": "cf420740",
   "metadata": {},
   "outputs": [],
   "source": [
    "def divide(a,b):\n",
    "    try:\n",
    "        c=a/b\n",
    "    except ZeroDivisionError:\n",
    "        print('除数可能有错误')\n",
    "    else:\n",
    "        print(f'运行结果为：{c:.4f}')\n",
    "    finally:\n",
    "        print('所有程序到此结束')"
   ]
  },
  {
   "cell_type": "code",
   "execution_count": 22,
   "id": "0ee95e6b",
   "metadata": {},
   "outputs": [
    {
     "name": "stdout",
     "output_type": "stream",
     "text": [
      "运行结果为：0.1429\n",
      "所有程序到此结束\n"
     ]
    }
   ],
   "source": [
    "divide(1,7)"
   ]
  },
  {
   "cell_type": "code",
   "execution_count": 28,
   "id": "6c945efa",
   "metadata": {},
   "outputs": [
    {
     "name": "stdout",
     "output_type": "stream",
     "text": [
      "请输入当前目录下需要读写的文件名：1\n",
      "\n",
      "正在打开文件 1.txt \n",
      "\n",
      "dddd\n",
      "DDDD\n",
      "EEE\n",
      "DEEEE\n",
      "\n",
      "读取文件完成！\n",
      "\n",
      "文件已经关闭\n"
     ]
    }
   ],
   "source": [
    "#在对文件进行读写时的异常控制\n",
    "mystatus=False\n",
    "\n",
    "try:\n",
    "    myfilename=input('请输入当前目录下需要读写的文件名：')\n",
    "    myfilename=myfilename+\".txt\"\n",
    "    myfile=open(myfilename,\"r\")\n",
    "except IOError:\n",
    "    print(\"\\n文件\",myfilename,\"不能被打开\")\n",
    "except Exception as err:\n",
    "    print(\"\\n不明错误！\"+err.args[0])\n",
    "else:\n",
    "    print(\"\\n正在打开文件\",myfilename,\"\\n\")\n",
    "    mystatus=True\n",
    "    for line in myfile:\n",
    "        print(line,end=\"\")\n",
    "    print(\"\\n\\n读取文件完成！\")\n",
    "finally:\n",
    "    if mystatus:\n",
    "        myfile.close()\n",
    "        print(\"\\n文件已经关闭\")\n",
    "    else:\n",
    "        print(\"\\n未能完成对文件的读取！\")"
   ]
  }
 ],
 "metadata": {
  "kernelspec": {
   "display_name": "Python 3 (ipykernel)",
   "language": "python",
   "name": "python3"
  },
  "language_info": {
   "codemirror_mode": {
    "name": "ipython",
    "version": 3
   },
   "file_extension": ".py",
   "mimetype": "text/x-python",
   "name": "python",
   "nbconvert_exporter": "python",
   "pygments_lexer": "ipython3",
   "version": "3.9.7"
  }
 },
 "nbformat": 4,
 "nbformat_minor": 5
}
