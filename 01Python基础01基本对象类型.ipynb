{
 "cells": [
  {
   "cell_type": "markdown",
   "id": "7ea1ba05",
   "metadata": {},
   "source": [
    "# 01 Python基础\n",
    "## 0101 基本对象类型"
   ]
  },
  {
   "cell_type": "code",
   "execution_count": 1,
   "id": "563b8260",
   "metadata": {},
   "outputs": [],
   "source": [
    "a1=['a',['b','c'],[['e','f'],['g','h']]]"
   ]
  },
  {
   "cell_type": "code",
   "execution_count": 3,
   "id": "c7f6dbe1",
   "metadata": {},
   "outputs": [
    {
     "data": {
      "text/plain": [
       "'g'"
      ]
     },
     "execution_count": 3,
     "metadata": {},
     "output_type": "execute_result"
    }
   ],
   "source": [
    "a1[2][1][0]"
   ]
  },
  {
   "cell_type": "code",
   "execution_count": 11,
   "id": "c367f0ed",
   "metadata": {},
   "outputs": [
    {
     "name": "stdout",
     "output_type": "stream",
     "text": [
      "a\n",
      "<class 'list'>\n",
      "<class 'list'>\n"
     ]
    }
   ],
   "source": [
    "for i in range(len(a1)):\n",
    "    if type(a1[i]) is str:\n",
    "        print(a1[i])\n",
    "    else:\n",
    "        print (type(a1[i]))"
   ]
  },
  {
   "cell_type": "code",
   "execution_count": 12,
   "id": "262abfef",
   "metadata": {},
   "outputs": [],
   "source": [
    "myfn=lambda x:[y for m in x for y in myfn(m)] if type(x) is list else [x]"
   ]
  },
  {
   "cell_type": "code",
   "execution_count": 14,
   "id": "fe5e8124",
   "metadata": {},
   "outputs": [
    {
     "data": {
      "text/plain": [
       "['a', 'b', 'c', 'e', 'f', 'g', 'h']"
      ]
     },
     "execution_count": 14,
     "metadata": {},
     "output_type": "execute_result"
    }
   ],
   "source": [
    "myfn(a1)"
   ]
  },
  {
   "cell_type": "markdown",
   "id": "816bd8a4",
   "metadata": {},
   "source": [
    "### 1 表达式"
   ]
  },
  {
   "cell_type": "markdown",
   "id": "80ce2fcc",
   "metadata": {},
   "source": [
    "#### (1) 变量"
   ]
  },
  {
   "cell_type": "code",
   "execution_count": 15,
   "id": "900569f1",
   "metadata": {},
   "outputs": [
    {
     "data": {
      "text/plain": [
       "100"
      ]
     },
     "execution_count": 15,
     "metadata": {},
     "output_type": "execute_result"
    }
   ],
   "source": [
    "a2=100 #PyObject  object对象类型往往是其他类型的基类\n",
    "a2"
   ]
  },
  {
   "cell_type": "code",
   "execution_count": 16,
   "id": "f645c9e4",
   "metadata": {},
   "outputs": [
    {
     "data": {
      "text/plain": [
       "int"
      ]
     },
     "execution_count": 16,
     "metadata": {},
     "output_type": "execute_result"
    }
   ],
   "source": [
    "type(a2)"
   ]
  },
  {
   "cell_type": "code",
   "execution_count": 17,
   "id": "d7a8d58e",
   "metadata": {},
   "outputs": [],
   "source": [
    "b1=100"
   ]
  },
  {
   "cell_type": "code",
   "execution_count": 18,
   "id": "9391908e",
   "metadata": {},
   "outputs": [
    {
     "data": {
      "text/plain": [
       "100"
      ]
     },
     "execution_count": 18,
     "metadata": {},
     "output_type": "execute_result"
    }
   ],
   "source": [
    "b1"
   ]
  },
  {
   "cell_type": "code",
   "execution_count": 26,
   "id": "bc087196",
   "metadata": {},
   "outputs": [
    {
     "name": "stdout",
     "output_type": "stream",
     "text": [
      "<class 'int'>\n",
      "28\n",
      "138\n"
     ]
    }
   ],
   "source": [
    "import sys\n",
    "print(type(a2))\n",
    "print(sys.getsizeof(a2))\n",
    "print(sys.getrefcount(a2))"
   ]
  },
  {
   "cell_type": "code",
   "execution_count": 27,
   "id": "16b9218c",
   "metadata": {},
   "outputs": [
    {
     "name": "stdout",
     "output_type": "stream",
     "text": [
      "2606571345360\n",
      "2606571345360\n"
     ]
    }
   ],
   "source": [
    "print(id(a2))\n",
    "print(id(b1))"
   ]
  },
  {
   "cell_type": "code",
   "execution_count": 29,
   "id": "37a63d27",
   "metadata": {},
   "outputs": [
    {
     "name": "stdout",
     "output_type": "stream",
     "text": [
      "Help on built-in function id in module builtins:\n",
      "\n",
      "id(obj, /)\n",
      "    Return the identity of an object.\n",
      "    \n",
      "    This is guaranteed to be unique among simultaneously existing objects.\n",
      "    (CPython uses the object's memory address.)\n",
      "\n"
     ]
    }
   ],
   "source": [
    "help('id')"
   ]
  },
  {
   "cell_type": "code",
   "execution_count": 46,
   "id": "39b3581d",
   "metadata": {},
   "outputs": [],
   "source": [
    "m='a'"
   ]
  },
  {
   "cell_type": "code",
   "execution_count": 44,
   "id": "cebb460d",
   "metadata": {},
   "outputs": [],
   "source": [
    "n='a'\n",
    "l='a'\n",
    "o='a'"
   ]
  },
  {
   "cell_type": "code",
   "execution_count": 48,
   "id": "a06ef5ec",
   "metadata": {},
   "outputs": [
    {
     "name": "stdout",
     "output_type": "stream",
     "text": [
      "1751718753200\n",
      "1751718753200\n",
      "302\n"
     ]
    }
   ],
   "source": [
    "print(id(m))\n",
    "print(id(n))\n",
    "print(sys.getrefcount(m))"
   ]
  },
  {
   "cell_type": "code",
   "execution_count": null,
   "id": "6be4fc8a",
   "metadata": {},
   "outputs": [],
   "source": [
    "# 对变量x进行赋值，实际的过程是：\n",
    "## (1)创建一个PyObject的新对象\n",
    "## (2)对PyObject对象进行类型的设置\n",
    "## (3)对PyObject对象进行属性值设置\n",
    "## (4)创建变量，命名为x\n",
    "## (5)将x指向PyObject\n",
    "## (6)PyObject中的引用计数增加1"
   ]
  },
  {
   "cell_type": "code",
   "execution_count": 4,
   "id": "2091fcd4",
   "metadata": {},
   "outputs": [],
   "source": [
    "a=1000"
   ]
  },
  {
   "cell_type": "code",
   "execution_count": 5,
   "id": "d79f20e9",
   "metadata": {},
   "outputs": [
    {
     "name": "stdout",
     "output_type": "stream",
     "text": [
      "2\n",
      "1751796250704\n"
     ]
    }
   ],
   "source": [
    "print(sys.getrefcount(a))\n",
    "print(id(a))"
   ]
  },
  {
   "cell_type": "code",
   "execution_count": 17,
   "id": "8fa62319",
   "metadata": {},
   "outputs": [
    {
     "data": {
      "text/plain": [
       "1000"
      ]
     },
     "execution_count": 17,
     "metadata": {},
     "output_type": "execute_result"
    }
   ],
   "source": [
    "b=a\n",
    "b"
   ]
  },
  {
   "cell_type": "code",
   "execution_count": 7,
   "id": "cc492085",
   "metadata": {},
   "outputs": [
    {
     "name": "stdout",
     "output_type": "stream",
     "text": [
      "10\n",
      "1751796250704\n",
      "1751796250704\n"
     ]
    }
   ],
   "source": [
    "print(sys.getrefcount(a))\n",
    "print(id(a))\n",
    "print(id(b))"
   ]
  },
  {
   "cell_type": "code",
   "execution_count": 9,
   "id": "56466bea",
   "metadata": {},
   "outputs": [
    {
     "data": {
      "text/plain": [
       "True"
      ]
     },
     "execution_count": 9,
     "metadata": {},
     "output_type": "execute_result"
    }
   ],
   "source": [
    "b is a"
   ]
  },
  {
   "cell_type": "code",
   "execution_count": 25,
   "id": "ed8b6b8b",
   "metadata": {},
   "outputs": [
    {
     "data": {
      "text/plain": [
       "1007"
      ]
     },
     "execution_count": 25,
     "metadata": {},
     "output_type": "execute_result"
    }
   ],
   "source": [
    "b+=4\n",
    "b"
   ]
  },
  {
   "cell_type": "code",
   "execution_count": 21,
   "id": "73bd580a",
   "metadata": {},
   "outputs": [
    {
     "data": {
      "text/plain": [
       "False"
      ]
     },
     "execution_count": 21,
     "metadata": {},
     "output_type": "execute_result"
    }
   ],
   "source": [
    "b is a"
   ]
  },
  {
   "cell_type": "code",
   "execution_count": 26,
   "id": "4253681e",
   "metadata": {},
   "outputs": [
    {
     "name": "stdout",
     "output_type": "stream",
     "text": [
      "8\n",
      "1751796250704\n",
      "1751796249200\n"
     ]
    }
   ],
   "source": [
    "print(sys.getrefcount(a))\n",
    "print(id(a))\n",
    "print(id(b))"
   ]
  },
  {
   "cell_type": "code",
   "execution_count": 28,
   "id": "d76543da",
   "metadata": {},
   "outputs": [],
   "source": [
    "b=1000\n",
    "c=b\n",
    "d=b"
   ]
  },
  {
   "cell_type": "code",
   "execution_count": 30,
   "id": "ad0de9b4",
   "metadata": {},
   "outputs": [
    {
     "name": "stdout",
     "output_type": "stream",
     "text": [
      "8\n",
      "4\n",
      "1751796250704\n",
      "1751796249424\n"
     ]
    }
   ],
   "source": [
    "print(sys.getrefcount(a))\n",
    "print(sys.getrefcount(b))\n",
    "print(id(a))\n",
    "print(id(b))"
   ]
  },
  {
   "cell_type": "code",
   "execution_count": 32,
   "id": "3d050b83",
   "metadata": {},
   "outputs": [
    {
     "name": "stdout",
     "output_type": "stream",
     "text": [
      "<class 'int'>\n",
      "1751715244336\n"
     ]
    }
   ],
   "source": [
    "a=1\n",
    "a\n",
    "print(type(a))\n",
    "print(id(a))"
   ]
  },
  {
   "cell_type": "code",
   "execution_count": 34,
   "id": "d68d8cdb",
   "metadata": {},
   "outputs": [
    {
     "name": "stdout",
     "output_type": "stream",
     "text": [
      "<class 'str'>\n",
      "1751797051824\n"
     ]
    }
   ],
   "source": [
    "a='helloworld'\n",
    "print(type(a))\n",
    "print(id(a))"
   ]
  },
  {
   "cell_type": "code",
   "execution_count": 49,
   "id": "26730c9d",
   "metadata": {},
   "outputs": [
    {
     "name": "stdout",
     "output_type": "stream",
     "text": [
      "<class 'bool'>\n",
      "140704910563432\n"
     ]
    }
   ],
   "source": [
    "a=True\n",
    "print(type(a))\n",
    "print(id(a))"
   ]
  },
  {
   "cell_type": "code",
   "execution_count": null,
   "id": "229e046c",
   "metadata": {},
   "outputs": [],
   "source": [
    "# 对象有类型，变量无类型"
   ]
  },
  {
   "cell_type": "code",
   "execution_count": 43,
   "id": "131c62b6",
   "metadata": {},
   "outputs": [
    {
     "name": "stdout",
     "output_type": "stream",
     "text": [
      "6\n"
     ]
    }
   ],
   "source": [
    "aa=1000\n",
    "bb=aa\n",
    "cc=aa\n",
    "dd=aa\n",
    "dd\n",
    "print(sys.getrefcount(aa))"
   ]
  },
  {
   "cell_type": "markdown",
   "id": "bc377bce",
   "metadata": {},
   "source": [
    "print(id(aa))\n",
    "print(id(bb))\n",
    "print(id(cc))\n",
    "print(id(dd))"
   ]
  },
  {
   "cell_type": "markdown",
   "id": "3eafe5e1",
   "metadata": {},
   "source": [
    "#### (2)运算符\n",
    "- 算术运算符(+,-,*,/,%)\n",
    "- 按位运算符(&,|,^,<<,>>,~)\n",
    "- 比较运算符(==,!=,>,<,>=,<=)\n",
    "- 赋值运算符(=)\n",
    "- 逻辑运算符(and,or,not)\n",
    "- 身份运算符(is,is not)\n",
    "- 成员运算符(in,not in)"
   ]
  },
  {
   "cell_type": "code",
   "execution_count": 55,
   "id": "56217ee1",
   "metadata": {},
   "outputs": [],
   "source": [
    "# 1) 算术运算符 一元运算符和二元运算符"
   ]
  },
  {
   "cell_type": "code",
   "execution_count": 1,
   "id": "c3597fd8",
   "metadata": {},
   "outputs": [
    {
     "data": {
      "text/plain": [
       "-100"
      ]
     },
     "execution_count": 1,
     "metadata": {},
     "output_type": "execute_result"
    }
   ],
   "source": [
    "a=100\n",
    "-a"
   ]
  },
  {
   "cell_type": "code",
   "execution_count": 2,
   "id": "c6e75ab7",
   "metadata": {},
   "outputs": [
    {
     "data": {
      "text/plain": [
       "0"
      ]
     },
     "execution_count": 2,
     "metadata": {},
     "output_type": "execute_result"
    }
   ],
   "source": [
    "b=1//3\n",
    "b"
   ]
  },
  {
   "cell_type": "code",
   "execution_count": 3,
   "id": "cf20e1f4",
   "metadata": {},
   "outputs": [
    {
     "data": {
      "text/plain": [
       "1"
      ]
     },
     "execution_count": 3,
     "metadata": {},
     "output_type": "execute_result"
    }
   ],
   "source": [
    "b=1**3\n",
    "b"
   ]
  },
  {
   "cell_type": "code",
   "execution_count": 4,
   "id": "021cd19f",
   "metadata": {},
   "outputs": [
    {
     "data": {
      "text/plain": [
       "1"
      ]
     },
     "execution_count": 4,
     "metadata": {},
     "output_type": "execute_result"
    }
   ],
   "source": [
    "b=1%3\n",
    "b"
   ]
  },
  {
   "cell_type": "code",
   "execution_count": 5,
   "id": "db24e36a",
   "metadata": {},
   "outputs": [],
   "source": [
    "# 2) 按位运算符"
   ]
  },
  {
   "cell_type": "code",
   "execution_count": 7,
   "id": "bec6db80",
   "metadata": {},
   "outputs": [
    {
     "data": {
      "text/plain": [
       "'0b1001'"
      ]
     },
     "execution_count": 7,
     "metadata": {},
     "output_type": "execute_result"
    }
   ],
   "source": [
    "a=9\n",
    "bin(a)"
   ]
  },
  {
   "cell_type": "code",
   "execution_count": 9,
   "id": "acf96dbc",
   "metadata": {},
   "outputs": [
    {
     "name": "stdout",
     "output_type": "stream",
     "text": [
      "9\n",
      "0b1001\n",
      "-0b1010\n"
     ]
    }
   ],
   "source": [
    "print(a)\n",
    "print(bin(a))\n",
    "print(bin(~a))\n",
    "#1001 0110 \n",
    "#二进制数在内存中以补码的形式储存的。\n",
    "\n",
    "#源码、反码、补码。\n",
    "\n",
    "#若是正数，三码合一(相同)，正数符号位为0 1001；\n",
    "#若是负数，反码则将源码的每一位取反；补码则是在反码的基础上，末位加上1，负数的符号位为1。\n",
    "#0 1001\n",
    "#~ 取反 1 0110 转换为补码。先转换为反码：1 1001 ；在反码的末尾加上1 ==>1 1010\n",
    "\n",
    "\n"
   ]
  },
  {
   "cell_type": "code",
   "execution_count": 43,
   "id": "c1d2609e",
   "metadata": {},
   "outputs": [],
   "source": [
    "#按位与运算\n",
    "a=9\n",
    "b=7"
   ]
  },
  {
   "cell_type": "code",
   "execution_count": 11,
   "id": "d6854424",
   "metadata": {},
   "outputs": [
    {
     "name": "stdout",
     "output_type": "stream",
     "text": [
      "0b1001\n",
      "0b1\n"
     ]
    }
   ],
   "source": [
    "print(bin(a))\n",
    "print(bin(b))"
   ]
  },
  {
   "cell_type": "code",
   "execution_count": 12,
   "id": "a841dcee",
   "metadata": {},
   "outputs": [
    {
     "name": "stdout",
     "output_type": "stream",
     "text": [
      "0b1\n"
     ]
    }
   ],
   "source": [
    "print(bin(a & b))"
   ]
  },
  {
   "cell_type": "code",
   "execution_count": 13,
   "id": "2632a986",
   "metadata": {},
   "outputs": [],
   "source": [
    "#按位或运算"
   ]
  },
  {
   "cell_type": "code",
   "execution_count": null,
   "id": "5dfe3716",
   "metadata": {},
   "outputs": [],
   "source": [
    "print(bin(a | b))"
   ]
  },
  {
   "cell_type": "code",
   "execution_count": 14,
   "id": "40313e08",
   "metadata": {},
   "outputs": [],
   "source": [
    "#按位异或运算"
   ]
  },
  {
   "cell_type": "code",
   "execution_count": 15,
   "id": "9318e808",
   "metadata": {},
   "outputs": [
    {
     "name": "stdout",
     "output_type": "stream",
     "text": [
      "0b1000\n"
     ]
    }
   ],
   "source": [
    "print(bin(a ^ b))"
   ]
  },
  {
   "cell_type": "code",
   "execution_count": 16,
   "id": "b38dde39",
   "metadata": {},
   "outputs": [],
   "source": [
    "#按位移动计算"
   ]
  },
  {
   "cell_type": "code",
   "execution_count": 23,
   "id": "1b5ac06f",
   "metadata": {},
   "outputs": [
    {
     "name": "stdout",
     "output_type": "stream",
     "text": [
      "4\n"
     ]
    }
   ],
   "source": [
    "print(a>>b)"
   ]
  },
  {
   "cell_type": "code",
   "execution_count": 24,
   "id": "3e109d66",
   "metadata": {},
   "outputs": [
    {
     "data": {
      "text/plain": [
       "9"
      ]
     },
     "execution_count": 24,
     "metadata": {},
     "output_type": "execute_result"
    }
   ],
   "source": [
    "a"
   ]
  },
  {
   "cell_type": "code",
   "execution_count": 25,
   "id": "a0e85829",
   "metadata": {},
   "outputs": [],
   "source": [
    "a=(a<<b)"
   ]
  },
  {
   "cell_type": "code",
   "execution_count": 26,
   "id": "0fd64085",
   "metadata": {},
   "outputs": [
    {
     "data": {
      "text/plain": [
       "9"
      ]
     },
     "execution_count": 26,
     "metadata": {},
     "output_type": "execute_result"
    }
   ],
   "source": [
    "a>>b"
   ]
  },
  {
   "cell_type": "code",
   "execution_count": 29,
   "id": "8d46126d",
   "metadata": {},
   "outputs": [
    {
     "data": {
      "text/plain": [
       "18"
      ]
     },
     "execution_count": 29,
     "metadata": {},
     "output_type": "execute_result"
    }
   ],
   "source": [
    "a"
   ]
  },
  {
   "cell_type": "code",
   "execution_count": 30,
   "id": "183b9763",
   "metadata": {},
   "outputs": [],
   "source": [
    "# 3)比较运算符\n",
    "a=9\n",
    "b=7"
   ]
  },
  {
   "cell_type": "code",
   "execution_count": 33,
   "id": "f5615cd9",
   "metadata": {},
   "outputs": [
    {
     "data": {
      "text/plain": [
       "False"
      ]
     },
     "execution_count": 33,
     "metadata": {},
     "output_type": "execute_result"
    }
   ],
   "source": [
    "a==b"
   ]
  },
  {
   "cell_type": "code",
   "execution_count": 34,
   "id": "878324fe",
   "metadata": {},
   "outputs": [
    {
     "data": {
      "text/plain": [
       "True"
      ]
     },
     "execution_count": 34,
     "metadata": {},
     "output_type": "execute_result"
    }
   ],
   "source": [
    "a!=b"
   ]
  },
  {
   "cell_type": "code",
   "execution_count": 8,
   "id": "d8e1a787",
   "metadata": {},
   "outputs": [],
   "source": [
    "# 4)赋值运算符\n",
    "a=9\n",
    "b=7"
   ]
  },
  {
   "cell_type": "code",
   "execution_count": 9,
   "id": "edba9332",
   "metadata": {},
   "outputs": [],
   "source": [
    "a+=b"
   ]
  },
  {
   "cell_type": "code",
   "execution_count": 10,
   "id": "44392571",
   "metadata": {},
   "outputs": [
    {
     "data": {
      "text/plain": [
       "16"
      ]
     },
     "execution_count": 10,
     "metadata": {},
     "output_type": "execute_result"
    }
   ],
   "source": [
    "a"
   ]
  },
  {
   "cell_type": "code",
   "execution_count": 41,
   "id": "af1bc181",
   "metadata": {},
   "outputs": [
    {
     "name": "stdout",
     "output_type": "stream",
     "text": [
      "2553213578000\n"
     ]
    }
   ],
   "source": [
    "print(id(a))"
   ]
  },
  {
   "cell_type": "code",
   "execution_count": 11,
   "id": "b0996ba9",
   "metadata": {},
   "outputs": [],
   "source": [
    "a+=b"
   ]
  },
  {
   "cell_type": "code",
   "execution_count": 3,
   "id": "720017d6",
   "metadata": {},
   "outputs": [
    {
     "name": "stdout",
     "output_type": "stream",
     "text": [
      "2270289422896\n"
     ]
    }
   ],
   "source": [
    "a=9\n",
    "print(id(a))"
   ]
  },
  {
   "cell_type": "code",
   "execution_count": 12,
   "id": "8e8c6559",
   "metadata": {},
   "outputs": [
    {
     "name": "stdout",
     "output_type": "stream",
     "text": [
      "2270289423568\n"
     ]
    }
   ],
   "source": [
    "a+=b\n",
    "print(id(a))"
   ]
  },
  {
   "cell_type": "code",
   "execution_count": 14,
   "id": "14941c0d",
   "metadata": {},
   "outputs": [
    {
     "name": "stdout",
     "output_type": "stream",
     "text": [
      "2270289422896\n",
      "2270289423120\n"
     ]
    }
   ],
   "source": [
    "a=9\n",
    "print(id(a))\n",
    "a=a+b\n",
    "print(id(a))"
   ]
  },
  {
   "cell_type": "code",
   "execution_count": 17,
   "id": "0e5eb409",
   "metadata": {},
   "outputs": [],
   "source": [
    "c=[1,2]"
   ]
  },
  {
   "cell_type": "code",
   "execution_count": 18,
   "id": "d5414adb",
   "metadata": {},
   "outputs": [
    {
     "name": "stdout",
     "output_type": "stream",
     "text": [
      "2270365427200\n"
     ]
    }
   ],
   "source": [
    "print(id(c))"
   ]
  },
  {
   "cell_type": "code",
   "execution_count": 20,
   "id": "f649b10d",
   "metadata": {},
   "outputs": [
    {
     "name": "stdout",
     "output_type": "stream",
     "text": [
      "2270365427200\n"
     ]
    }
   ],
   "source": [
    "c*=10\n",
    "print(id(c))"
   ]
  },
  {
   "cell_type": "code",
   "execution_count": 21,
   "id": "5ba24d30",
   "metadata": {},
   "outputs": [],
   "source": [
    "#小结\n",
    "    #对于不可更改的对象(如整数)进行赋值运算结果是等价的；\n",
    "    #对于可更改的对象(如列表)进行赋值运算其过程有所不同，#=运算往往只更新对象；=#则是创建新的对象\n",
    "    #利用算术运算符、按位运算符的其他方法进行验证"
   ]
  },
  {
   "cell_type": "code",
   "execution_count": 22,
   "id": "9eb0f944",
   "metadata": {},
   "outputs": [],
   "source": [
    "# 5)逻辑运算符 not and or (没有xor)"
   ]
  },
  {
   "cell_type": "code",
   "execution_count": 24,
   "id": "aee88885",
   "metadata": {},
   "outputs": [
    {
     "data": {
      "text/plain": [
       "False"
      ]
     },
     "execution_count": 24,
     "metadata": {},
     "output_type": "execute_result"
    }
   ],
   "source": [
    "not((a>100)or(b<100))"
   ]
  },
  {
   "cell_type": "code",
   "execution_count": 26,
   "id": "333a40ca",
   "metadata": {},
   "outputs": [
    {
     "data": {
      "text/plain": [
       "True"
      ]
     },
     "execution_count": 26,
     "metadata": {},
     "output_type": "execute_result"
    }
   ],
   "source": [
    "(a>100) != (b<100)"
   ]
  },
  {
   "cell_type": "code",
   "execution_count": 28,
   "id": "960f5e19",
   "metadata": {},
   "outputs": [
    {
     "data": {
      "text/plain": [
       "True"
      ]
     },
     "execution_count": 28,
     "metadata": {},
     "output_type": "execute_result"
    }
   ],
   "source": [
    "# 6)身份运算符 is, is not\n",
    "a is not b"
   ]
  },
  {
   "cell_type": "code",
   "execution_count": 29,
   "id": "5a74d9ea",
   "metadata": {},
   "outputs": [],
   "source": [
    "a=[1,2]\n",
    "b=[1,2]\n",
    "c=[1,2]"
   ]
  },
  {
   "cell_type": "code",
   "execution_count": 32,
   "id": "d59204a9",
   "metadata": {},
   "outputs": [
    {
     "name": "stdout",
     "output_type": "stream",
     "text": [
      "False\n",
      "True\n"
     ]
    }
   ],
   "source": [
    "print(a==c) #检查二者所指向的对象是否包含相同的值\n",
    "print(a is not c) #检查二者是否指向同一个对象"
   ]
  },
  {
   "cell_type": "code",
   "execution_count": 38,
   "id": "a3c3054a",
   "metadata": {},
   "outputs": [
    {
     "data": {
      "text/plain": [
       "[1, 2]"
      ]
     },
     "execution_count": 38,
     "metadata": {},
     "output_type": "execute_result"
    }
   ],
   "source": [
    "# 7) 成员运算符 in,not in\n",
    "a"
   ]
  },
  {
   "cell_type": "code",
   "execution_count": 35,
   "id": "cf6e4f96",
   "metadata": {},
   "outputs": [],
   "source": [
    "b=[1,2,3,4]"
   ]
  },
  {
   "cell_type": "code",
   "execution_count": 36,
   "id": "8e73f4e7",
   "metadata": {},
   "outputs": [],
   "source": [
    "c=[[1,2],[3,4]]"
   ]
  },
  {
   "cell_type": "code",
   "execution_count": 40,
   "id": "746f07bc",
   "metadata": {},
   "outputs": [
    {
     "name": "stdout",
     "output_type": "stream",
     "text": [
      "True\n",
      "True\n"
     ]
    }
   ],
   "source": [
    "print(a[1] in b)\n",
    "print(a[1] not in c[1] )"
   ]
  },
  {
   "cell_type": "code",
   "execution_count": 42,
   "id": "134961bb",
   "metadata": {},
   "outputs": [
    {
     "name": "stdout",
     "output_type": "stream",
     "text": [
      "True\n"
     ]
    },
    {
     "data": {
      "text/plain": [
       "8"
      ]
     },
     "execution_count": 42,
     "metadata": {},
     "output_type": "execute_result"
    }
   ],
   "source": [
    "print(1 in a)\n",
    "2**3"
   ]
  },
  {
   "cell_type": "code",
   "execution_count": 43,
   "id": "809fdbf4",
   "metadata": {},
   "outputs": [],
   "source": [
    "#运算符优先顺序：括号，指数，乘除，加减，左右"
   ]
  },
  {
   "cell_type": "code",
   "execution_count": 45,
   "id": "891e5c7d",
   "metadata": {},
   "outputs": [
    {
     "data": {
      "text/plain": [
       "109"
      ]
     },
     "execution_count": 45,
     "metadata": {},
     "output_type": "execute_result"
    }
   ],
   "source": [
    "1+2**3+4*5**2"
   ]
  },
  {
   "cell_type": "markdown",
   "id": "aeb0d7c6",
   "metadata": {},
   "source": [
    "### 2 元素型数据\n",
    "- 整数型、浮点型、布尔型、None型\n",
    "- 对象管理的三个函数：type、id、print"
   ]
  },
  {
   "cell_type": "code",
   "execution_count": null,
   "id": "9e2b3c21",
   "metadata": {},
   "outputs": [],
   "source": [
    "#任何对象都有类型\n",
    "type\n",
    "#任何对象在内存中有地址\n",
    "id\n",
    "#任何对象都有值\n",
    "print"
   ]
  },
  {
   "cell_type": "markdown",
   "id": "a0be58d7",
   "metadata": {},
   "source": [
    "#### (1) 整数型"
   ]
  },
  {
   "cell_type": "code",
   "execution_count": 51,
   "id": "fad5b7d4",
   "metadata": {},
   "outputs": [
    {
     "data": {
      "text/plain": [
       "2270365376208"
      ]
     },
     "execution_count": 51,
     "metadata": {},
     "output_type": "execute_result"
    }
   ],
   "source": [
    "a=1024\n",
    "id(a)"
   ]
  },
  {
   "cell_type": "code",
   "execution_count": 52,
   "id": "bf79543a",
   "metadata": {},
   "outputs": [
    {
     "data": {
      "text/plain": [
       "int"
      ]
     },
     "execution_count": 52,
     "metadata": {},
     "output_type": "execute_result"
    }
   ],
   "source": [
    "type(a)"
   ]
  },
  {
   "cell_type": "code",
   "execution_count": 53,
   "id": "023f4923",
   "metadata": {},
   "outputs": [],
   "source": [
    "b=111111111111111111111111111111111111111111111111111111111111111111111111111111111111111111111111111111111111111111111111111111111111111111111111111111111111111111111111111111111111111111111111111111111111111111111111111111111111111111111111111111111111111111"
   ]
  },
  {
   "cell_type": "code",
   "execution_count": 54,
   "id": "58c3bf15",
   "metadata": {},
   "outputs": [
    {
     "data": {
      "text/plain": [
       "int"
      ]
     },
     "execution_count": 54,
     "metadata": {},
     "output_type": "execute_result"
    }
   ],
   "source": [
    "type(b)"
   ]
  },
  {
   "cell_type": "code",
   "execution_count": 55,
   "id": "4b42d607",
   "metadata": {},
   "outputs": [
    {
     "data": {
      "text/plain": [
       "2270366222912"
      ]
     },
     "execution_count": 55,
     "metadata": {},
     "output_type": "execute_result"
    }
   ],
   "source": [
    "id(b)"
   ]
  },
  {
   "cell_type": "code",
   "execution_count": 56,
   "id": "36e8b1db",
   "metadata": {},
   "outputs": [],
   "source": [
    "a=b"
   ]
  },
  {
   "cell_type": "code",
   "execution_count": 57,
   "id": "c6429e31",
   "metadata": {},
   "outputs": [
    {
     "data": {
      "text/plain": [
       "2270366222912"
      ]
     },
     "execution_count": 57,
     "metadata": {},
     "output_type": "execute_result"
    }
   ],
   "source": [
    "id(a)"
   ]
  },
  {
   "cell_type": "code",
   "execution_count": 58,
   "id": "87a4215d",
   "metadata": {},
   "outputs": [
    {
     "data": {
      "text/plain": [
       "<function int.bit_length()>"
      ]
     },
     "execution_count": 58,
     "metadata": {},
     "output_type": "execute_result"
    }
   ],
   "source": [
    "a.bit_length"
   ]
  },
  {
   "cell_type": "code",
   "execution_count": 60,
   "id": "f4f2a1bf",
   "metadata": {},
   "outputs": [
    {
     "data": {
      "text/plain": [
       "['__abs__',\n",
       " '__add__',\n",
       " '__and__',\n",
       " '__bool__',\n",
       " '__ceil__',\n",
       " '__class__',\n",
       " '__delattr__',\n",
       " '__dir__',\n",
       " '__divmod__',\n",
       " '__doc__',\n",
       " '__eq__',\n",
       " '__float__',\n",
       " '__floor__',\n",
       " '__floordiv__',\n",
       " '__format__',\n",
       " '__ge__',\n",
       " '__getattribute__',\n",
       " '__getnewargs__',\n",
       " '__gt__',\n",
       " '__hash__',\n",
       " '__index__',\n",
       " '__init__',\n",
       " '__init_subclass__',\n",
       " '__int__',\n",
       " '__invert__',\n",
       " '__le__',\n",
       " '__lshift__',\n",
       " '__lt__',\n",
       " '__mod__',\n",
       " '__mul__',\n",
       " '__ne__',\n",
       " '__neg__',\n",
       " '__new__',\n",
       " '__or__',\n",
       " '__pos__',\n",
       " '__pow__',\n",
       " '__radd__',\n",
       " '__rand__',\n",
       " '__rdivmod__',\n",
       " '__reduce__',\n",
       " '__reduce_ex__',\n",
       " '__repr__',\n",
       " '__rfloordiv__',\n",
       " '__rlshift__',\n",
       " '__rmod__',\n",
       " '__rmul__',\n",
       " '__ror__',\n",
       " '__round__',\n",
       " '__rpow__',\n",
       " '__rrshift__',\n",
       " '__rshift__',\n",
       " '__rsub__',\n",
       " '__rtruediv__',\n",
       " '__rxor__',\n",
       " '__setattr__',\n",
       " '__sizeof__',\n",
       " '__str__',\n",
       " '__sub__',\n",
       " '__subclasshook__',\n",
       " '__truediv__',\n",
       " '__trunc__',\n",
       " '__xor__',\n",
       " 'as_integer_ratio',\n",
       " 'bit_length',\n",
       " 'conjugate',\n",
       " 'denominator',\n",
       " 'from_bytes',\n",
       " 'imag',\n",
       " 'numerator',\n",
       " 'real',\n",
       " 'to_bytes']"
      ]
     },
     "execution_count": 60,
     "metadata": {},
     "output_type": "execute_result"
    }
   ],
   "source": [
    "dir(a)"
   ]
  },
  {
   "cell_type": "code",
   "execution_count": 62,
   "id": "1c759e86",
   "metadata": {},
   "outputs": [
    {
     "name": "stdout",
     "output_type": "stream",
     "text": [
      "Help on int object:\n",
      "\n",
      "class int(object)\n",
      " |  int([x]) -> integer\n",
      " |  int(x, base=10) -> integer\n",
      " |  \n",
      " |  Convert a number or string to an integer, or return 0 if no arguments\n",
      " |  are given.  If x is a number, return x.__int__().  For floating point\n",
      " |  numbers, this truncates towards zero.\n",
      " |  \n",
      " |  If x is not a number or if base is given, then x must be a string,\n",
      " |  bytes, or bytearray instance representing an integer literal in the\n",
      " |  given base.  The literal can be preceded by '+' or '-' and be surrounded\n",
      " |  by whitespace.  The base defaults to 10.  Valid bases are 0 and 2-36.\n",
      " |  Base 0 means to interpret the base from the string as an integer literal.\n",
      " |  >>> int('0b100', base=0)\n",
      " |  4\n",
      " |  \n",
      " |  Built-in subclasses:\n",
      " |      bool\n",
      " |  \n",
      " |  Methods defined here:\n",
      " |  \n",
      " |  __abs__(self, /)\n",
      " |      abs(self)\n",
      " |  \n",
      " |  __add__(self, value, /)\n",
      " |      Return self+value.\n",
      " |  \n",
      " |  __and__(self, value, /)\n",
      " |      Return self&value.\n",
      " |  \n",
      " |  __bool__(self, /)\n",
      " |      self != 0\n",
      " |  \n",
      " |  __ceil__(...)\n",
      " |      Ceiling of an Integral returns itself.\n",
      " |  \n",
      " |  __divmod__(self, value, /)\n",
      " |      Return divmod(self, value).\n",
      " |  \n",
      " |  __eq__(self, value, /)\n",
      " |      Return self==value.\n",
      " |  \n",
      " |  __float__(self, /)\n",
      " |      float(self)\n",
      " |  \n",
      " |  __floor__(...)\n",
      " |      Flooring an Integral returns itself.\n",
      " |  \n",
      " |  __floordiv__(self, value, /)\n",
      " |      Return self//value.\n",
      " |  \n",
      " |  __format__(self, format_spec, /)\n",
      " |      Default object formatter.\n",
      " |  \n",
      " |  __ge__(self, value, /)\n",
      " |      Return self>=value.\n",
      " |  \n",
      " |  __getattribute__(self, name, /)\n",
      " |      Return getattr(self, name).\n",
      " |  \n",
      " |  __getnewargs__(self, /)\n",
      " |  \n",
      " |  __gt__(self, value, /)\n",
      " |      Return self>value.\n",
      " |  \n",
      " |  __hash__(self, /)\n",
      " |      Return hash(self).\n",
      " |  \n",
      " |  __index__(self, /)\n",
      " |      Return self converted to an integer, if self is suitable for use as an index into a list.\n",
      " |  \n",
      " |  __int__(self, /)\n",
      " |      int(self)\n",
      " |  \n",
      " |  __invert__(self, /)\n",
      " |      ~self\n",
      " |  \n",
      " |  __le__(self, value, /)\n",
      " |      Return self<=value.\n",
      " |  \n",
      " |  __lshift__(self, value, /)\n",
      " |      Return self<<value.\n",
      " |  \n",
      " |  __lt__(self, value, /)\n",
      " |      Return self<value.\n",
      " |  \n",
      " |  __mod__(self, value, /)\n",
      " |      Return self%value.\n",
      " |  \n",
      " |  __mul__(self, value, /)\n",
      " |      Return self*value.\n",
      " |  \n",
      " |  __ne__(self, value, /)\n",
      " |      Return self!=value.\n",
      " |  \n",
      " |  __neg__(self, /)\n",
      " |      -self\n",
      " |  \n",
      " |  __or__(self, value, /)\n",
      " |      Return self|value.\n",
      " |  \n",
      " |  __pos__(self, /)\n",
      " |      +self\n",
      " |  \n",
      " |  __pow__(self, value, mod=None, /)\n",
      " |      Return pow(self, value, mod).\n",
      " |  \n",
      " |  __radd__(self, value, /)\n",
      " |      Return value+self.\n",
      " |  \n",
      " |  __rand__(self, value, /)\n",
      " |      Return value&self.\n",
      " |  \n",
      " |  __rdivmod__(self, value, /)\n",
      " |      Return divmod(value, self).\n",
      " |  \n",
      " |  __repr__(self, /)\n",
      " |      Return repr(self).\n",
      " |  \n",
      " |  __rfloordiv__(self, value, /)\n",
      " |      Return value//self.\n",
      " |  \n",
      " |  __rlshift__(self, value, /)\n",
      " |      Return value<<self.\n",
      " |  \n",
      " |  __rmod__(self, value, /)\n",
      " |      Return value%self.\n",
      " |  \n",
      " |  __rmul__(self, value, /)\n",
      " |      Return value*self.\n",
      " |  \n",
      " |  __ror__(self, value, /)\n",
      " |      Return value|self.\n",
      " |  \n",
      " |  __round__(...)\n",
      " |      Rounding an Integral returns itself.\n",
      " |      Rounding with an ndigits argument also returns an integer.\n",
      " |  \n",
      " |  __rpow__(self, value, mod=None, /)\n",
      " |      Return pow(value, self, mod).\n",
      " |  \n",
      " |  __rrshift__(self, value, /)\n",
      " |      Return value>>self.\n",
      " |  \n",
      " |  __rshift__(self, value, /)\n",
      " |      Return self>>value.\n",
      " |  \n",
      " |  __rsub__(self, value, /)\n",
      " |      Return value-self.\n",
      " |  \n",
      " |  __rtruediv__(self, value, /)\n",
      " |      Return value/self.\n",
      " |  \n",
      " |  __rxor__(self, value, /)\n",
      " |      Return value^self.\n",
      " |  \n",
      " |  __sizeof__(self, /)\n",
      " |      Returns size in memory, in bytes.\n",
      " |  \n",
      " |  __sub__(self, value, /)\n",
      " |      Return self-value.\n",
      " |  \n",
      " |  __truediv__(self, value, /)\n",
      " |      Return self/value.\n",
      " |  \n",
      " |  __trunc__(...)\n",
      " |      Truncating an Integral returns itself.\n",
      " |  \n",
      " |  __xor__(self, value, /)\n",
      " |      Return self^value.\n",
      " |  \n",
      " |  as_integer_ratio(self, /)\n",
      " |      Return integer ratio.\n",
      " |      \n",
      " |      Return a pair of integers, whose ratio is exactly equal to the original int\n",
      " |      and with a positive denominator.\n",
      " |      \n",
      " |      >>> (10).as_integer_ratio()\n",
      " |      (10, 1)\n",
      " |      >>> (-10).as_integer_ratio()\n",
      " |      (-10, 1)\n",
      " |      >>> (0).as_integer_ratio()\n",
      " |      (0, 1)\n",
      " |  \n",
      " |  bit_length(self, /)\n",
      " |      Number of bits necessary to represent self in binary.\n",
      " |      \n",
      " |      >>> bin(37)\n",
      " |      '0b100101'\n",
      " |      >>> (37).bit_length()\n",
      " |      6\n",
      " |  \n",
      " |  conjugate(...)\n",
      " |      Returns self, the complex conjugate of any int.\n",
      " |  \n",
      " |  to_bytes(self, /, length, byteorder, *, signed=False)\n",
      " |      Return an array of bytes representing an integer.\n",
      " |      \n",
      " |      length\n",
      " |        Length of bytes object to use.  An OverflowError is raised if the\n",
      " |        integer is not representable with the given number of bytes.\n",
      " |      byteorder\n",
      " |        The byte order used to represent the integer.  If byteorder is 'big',\n",
      " |        the most significant byte is at the beginning of the byte array.  If\n",
      " |        byteorder is 'little', the most significant byte is at the end of the\n",
      " |        byte array.  To request the native byte order of the host system, use\n",
      " |        `sys.byteorder' as the byte order value.\n",
      " |      signed\n",
      " |        Determines whether two's complement is used to represent the integer.\n",
      " |        If signed is False and a negative integer is given, an OverflowError\n",
      " |        is raised.\n",
      " |  \n",
      " |  ----------------------------------------------------------------------\n",
      " |  Class methods defined here:\n",
      " |  \n",
      " |  from_bytes(bytes, byteorder, *, signed=False) from builtins.type\n",
      " |      Return the integer represented by the given array of bytes.\n",
      " |      \n",
      " |      bytes\n",
      " |        Holds the array of bytes to convert.  The argument must either\n",
      " |        support the buffer protocol or be an iterable object producing bytes.\n",
      " |        Bytes and bytearray are examples of built-in objects that support the\n",
      " |        buffer protocol.\n",
      " |      byteorder\n",
      " |        The byte order used to represent the integer.  If byteorder is 'big',\n",
      " |        the most significant byte is at the beginning of the byte array.  If\n",
      " |        byteorder is 'little', the most significant byte is at the end of the\n",
      " |        byte array.  To request the native byte order of the host system, use\n",
      " |        `sys.byteorder' as the byte order value.\n",
      " |      signed\n",
      " |        Indicates whether two's complement is used to represent the integer.\n",
      " |  \n",
      " |  ----------------------------------------------------------------------\n",
      " |  Static methods defined here:\n",
      " |  \n",
      " |  __new__(*args, **kwargs) from builtins.type\n",
      " |      Create and return a new object.  See help(type) for accurate signature.\n",
      " |  \n",
      " |  ----------------------------------------------------------------------\n",
      " |  Data descriptors defined here:\n",
      " |  \n",
      " |  denominator\n",
      " |      the denominator of a rational number in lowest terms\n",
      " |  \n",
      " |  imag\n",
      " |      the imaginary part of a complex number\n",
      " |  \n",
      " |  numerator\n",
      " |      the numerator of a rational number in lowest terms\n",
      " |  \n",
      " |  real\n",
      " |      the real part of a complex number\n",
      "\n"
     ]
    }
   ],
   "source": [
    "help(a)"
   ]
  },
  {
   "cell_type": "code",
   "execution_count": 64,
   "id": "fd4b7a28",
   "metadata": {},
   "outputs": [],
   "source": [
    "c=-1024"
   ]
  },
  {
   "cell_type": "code",
   "execution_count": 66,
   "id": "d9894598",
   "metadata": {},
   "outputs": [
    {
     "data": {
      "text/plain": [
       "1024"
      ]
     },
     "execution_count": 66,
     "metadata": {},
     "output_type": "execute_result"
    }
   ],
   "source": [
    "c.__abs__()"
   ]
  },
  {
   "cell_type": "code",
   "execution_count": 67,
   "id": "709d18b9",
   "metadata": {},
   "outputs": [
    {
     "data": {
      "text/plain": [
       "str"
      ]
     },
     "execution_count": 67,
     "metadata": {},
     "output_type": "execute_result"
    }
   ],
   "source": [
    "type(a.__str__())"
   ]
  },
  {
   "cell_type": "markdown",
   "id": "b567d91a",
   "metadata": {},
   "source": [
    "#### (2) 浮点型"
   ]
  },
  {
   "cell_type": "code",
   "execution_count": 68,
   "id": "6cd23ab1",
   "metadata": {},
   "outputs": [
    {
     "data": {
      "text/plain": [
       "1111111111111111111111111111111111111111111111111111111111111111111111111111111111111111111111111111111111111111111111111111111111111111111111111111111111111111111111111111111111111"
      ]
     },
     "execution_count": 68,
     "metadata": {},
     "output_type": "execute_result"
    }
   ],
   "source": [
    "a"
   ]
  },
  {
   "cell_type": "code",
   "execution_count": 69,
   "id": "3c23f4d8",
   "metadata": {},
   "outputs": [
    {
     "data": {
      "text/plain": [
       "-1024"
      ]
     },
     "execution_count": 69,
     "metadata": {},
     "output_type": "execute_result"
    }
   ],
   "source": [
    "c"
   ]
  },
  {
   "cell_type": "code",
   "execution_count": 70,
   "id": "c9209cdb",
   "metadata": {},
   "outputs": [
    {
     "name": "stdout",
     "output_type": "stream",
     "text": [
      "1111111111111111111111111111111111111111111111111111111111111111111111111111111111111111111111111111111111111111111111111111111111111111111111111111111111111111111111111111111111111 <class 'int'>\n"
     ]
    }
   ],
   "source": [
    "print(a,type(a))"
   ]
  },
  {
   "cell_type": "code",
   "execution_count": 74,
   "id": "6d8bdc2a",
   "metadata": {},
   "outputs": [
    {
     "name": "stdout",
     "output_type": "stream",
     "text": [
      "1.111111111111111e+180 <class 'int'>\n"
     ]
    }
   ],
   "source": [
    "print(a+0.1,type(a))"
   ]
  },
  {
   "cell_type": "code",
   "execution_count": 73,
   "id": "81e0b443",
   "metadata": {},
   "outputs": [
    {
     "name": "stdout",
     "output_type": "stream",
     "text": [
      "-1024 <class 'int'>\n"
     ]
    }
   ],
   "source": [
    "print(c,type(a))"
   ]
  },
  {
   "cell_type": "code",
   "execution_count": 72,
   "id": "3057fb34",
   "metadata": {},
   "outputs": [
    {
     "name": "stdout",
     "output_type": "stream",
     "text": [
      "-1024.1 <class 'float'>\n"
     ]
    }
   ],
   "source": [
    "d=c-0.1\n",
    "print(d,type(d))"
   ]
  },
  {
   "cell_type": "code",
   "execution_count": 75,
   "id": "c44e6b8e",
   "metadata": {},
   "outputs": [
    {
     "data": {
      "text/plain": [
       "-1024"
      ]
     },
     "execution_count": 75,
     "metadata": {},
     "output_type": "execute_result"
    }
   ],
   "source": [
    "id(c)\n",
    "c"
   ]
  },
  {
   "cell_type": "code",
   "execution_count": 76,
   "id": "4dbcc569",
   "metadata": {},
   "outputs": [],
   "source": [
    "c+=1"
   ]
  },
  {
   "cell_type": "code",
   "execution_count": 78,
   "id": "a8b70aad",
   "metadata": {},
   "outputs": [
    {
     "data": {
      "text/plain": [
       "2270366217456"
      ]
     },
     "execution_count": 78,
     "metadata": {},
     "output_type": "execute_result"
    }
   ],
   "source": [
    "id(c)"
   ]
  },
  {
   "cell_type": "code",
   "execution_count": 80,
   "id": "2d455f9c",
   "metadata": {},
   "outputs": [
    {
     "data": {
      "text/plain": [
       "-1023"
      ]
     },
     "execution_count": 80,
     "metadata": {},
     "output_type": "execute_result"
    }
   ],
   "source": [
    "c"
   ]
  },
  {
   "cell_type": "code",
   "execution_count": 81,
   "id": "1836b080",
   "metadata": {},
   "outputs": [
    {
     "data": {
      "text/plain": [
       "(1, 4)"
      ]
     },
     "execution_count": 81,
     "metadata": {},
     "output_type": "execute_result"
    }
   ],
   "source": [
    "0.25.as_integer_ratio()"
   ]
  },
  {
   "cell_type": "code",
   "execution_count": 82,
   "id": "6a476da5",
   "metadata": {},
   "outputs": [
    {
     "data": {
      "text/plain": [
       "(3152519739159347, 9007199254740992)"
      ]
     },
     "execution_count": 82,
     "metadata": {},
     "output_type": "execute_result"
    }
   ],
   "source": [
    "0.35.as_integer_ratio()"
   ]
  },
  {
   "cell_type": "code",
   "execution_count": 83,
   "id": "4105d8ef",
   "metadata": {},
   "outputs": [
    {
     "name": "stdout",
     "output_type": "stream",
     "text": [
      "0.35\n"
     ]
    }
   ],
   "source": [
    "print(7/20)"
   ]
  },
  {
   "cell_type": "code",
   "execution_count": 87,
   "id": "97b9f58c",
   "metadata": {},
   "outputs": [
    {
     "name": "stdout",
     "output_type": "stream",
     "text": [
      "0.2\n",
      "0.4\n",
      "0.8\n",
      "0.6000000000000001\n",
      "0.20000000000000018\n",
      "0.40000000000000036\n",
      "0.8000000000000007\n",
      "0.6000000000000014\n",
      "0.20000000000000284\n",
      "0.4000000000000057\n",
      "0.8000000000000114\n",
      "0.6000000000000227\n",
      "0.20000000000004547\n",
      "0.40000000000009095\n",
      "0.8000000000001819\n",
      "0.6000000000003638\n",
      "0.2000000000007276\n",
      "0.4000000000014552\n",
      "0.8000000000029104\n",
      "0.6000000000058208\n",
      "0.20000000001164153\n",
      "0.40000000002328306\n",
      "0.8000000000465661\n",
      "0.6000000000931323\n",
      "0.20000000018626451\n",
      "0.40000000037252903\n",
      "0.8000000007450581\n",
      "0.6000000014901161\n",
      "0.20000000298023224\n",
      "0.4000000059604645\n",
      "0.800000011920929\n",
      "0.6000000238418579\n",
      "0.20000004768371582\n",
      "0.40000009536743164\n",
      "0.8000001907348633\n",
      "0.6000003814697266\n",
      "0.20000076293945312\n",
      "0.40000152587890625\n",
      "0.8000030517578125\n",
      "0.600006103515625\n",
      "0.20001220703125\n",
      "0.4000244140625\n",
      "0.800048828125\n",
      "0.60009765625\n",
      "0.2001953125\n",
      "0.400390625\n",
      "0.80078125\n",
      "0.6015625\n",
      "0.203125\n",
      "0.40625\n",
      "0.8125\n",
      "0.625\n",
      "0.25\n",
      "0.5\n",
      "1.0\n",
      "1.0\n",
      "1.0\n",
      "1.0\n",
      "1.0\n",
      "1.0\n"
     ]
    }
   ],
   "source": [
    "def f(x):\n",
    "    return 2*x if x<=0.5 else 2*x-1\n",
    "x=0.1\n",
    "for i in range(60):\n",
    "    x=f(x)\n",
    "    print(x)"
   ]
  },
  {
   "cell_type": "code",
   "execution_count": 88,
   "id": "e047d171",
   "metadata": {},
   "outputs": [],
   "source": [
    "#Float 32 Float 32"
   ]
  },
  {
   "cell_type": "code",
   "execution_count": 92,
   "id": "54f2d88b",
   "metadata": {},
   "outputs": [
    {
     "ename": "SyntaxError",
     "evalue": "invalid syntax (Temp/ipykernel_11584/3755490519.py, line 1)",
     "output_type": "error",
     "traceback": [
      "\u001b[1;36m  File \u001b[1;32m\"C:\\Users\\Harry\\AppData\\Local\\Temp/ipykernel_11584/3755490519.py\"\u001b[1;36m, line \u001b[1;32m1\u001b[0m\n\u001b[1;33m    符号S   指数E    尾数M\u001b[0m\n\u001b[1;37m          ^\u001b[0m\n\u001b[1;31mSyntaxError\u001b[0m\u001b[1;31m:\u001b[0m invalid syntax\n"
     ]
    }
   ],
   "source": [
    "符号S   指数E    尾数M\n",
    "1bit   8bits    23bits\n",
    "0      01111100 01000000000000000000000"
   ]
  },
  {
   "cell_type": "markdown",
   "id": "bed7ce28",
   "metadata": {},
   "source": [
    "E=$2^6+2^5+2^4+2^3+2^2$=124"
   ]
  },
  {
   "cell_type": "markdown",
   "id": "a1264648",
   "metadata": {},
   "source": [
    "$(-1)^0*2^{124-127}*(1+0.25)$=0.125*0.125=0.15625"
   ]
  },
  {
   "cell_type": "code",
   "execution_count": 95,
   "id": "c7976bab",
   "metadata": {},
   "outputs": [
    {
     "data": {
      "text/plain": [
       "-0.09999999997671694"
      ]
     },
     "execution_count": 95,
     "metadata": {},
     "output_type": "execute_result"
    }
   ],
   "source": [
    "aa=(1000000-0.1)-1000000\n",
    "aa #数学理论中数值是无限的，但在计算机中计算位数是有限的"
   ]
  },
  {
   "cell_type": "code",
   "execution_count": 97,
   "id": "12004a02",
   "metadata": {},
   "outputs": [
    {
     "data": {
      "text/plain": [
       "999999.9"
      ]
     },
     "execution_count": 97,
     "metadata": {},
     "output_type": "execute_result"
    }
   ],
   "source": [
    "1000000-0.1"
   ]
  },
  {
   "cell_type": "code",
   "execution_count": 99,
   "id": "622415be",
   "metadata": {},
   "outputs": [
    {
     "data": {
      "text/plain": [
       "-1.043081283569336e-07"
      ]
     },
     "execution_count": 99,
     "metadata": {},
     "output_type": "execute_result"
    }
   ],
   "source": [
    "bb=(100000000-0.0000001)-100000000\n",
    "bb"
   ]
  },
  {
   "cell_type": "code",
   "execution_count": 119,
   "id": "c3e720af",
   "metadata": {},
   "outputs": [],
   "source": [
    "import decimal\n",
    "from decimal import Decimal\n"
   ]
  },
  {
   "cell_type": "code",
   "execution_count": 101,
   "id": "ebc87d05",
   "metadata": {},
   "outputs": [
    {
     "data": {
      "text/plain": [
       "Context(prec=28, rounding=ROUND_HALF_EVEN, Emin=-999999, Emax=999999, capitals=1, clamp=0, flags=[], traps=[InvalidOperation, DivisionByZero, Overflow])"
      ]
     },
     "execution_count": 101,
     "metadata": {},
     "output_type": "execute_result"
    }
   ],
   "source": [
    "decimal.getcontext()"
   ]
  },
  {
   "cell_type": "code",
   "execution_count": 102,
   "id": "29c387a9",
   "metadata": {},
   "outputs": [
    {
     "data": {
      "text/plain": [
       "Decimal('0.3333333333333333333333333333')"
      ]
     },
     "execution_count": 102,
     "metadata": {},
     "output_type": "execute_result"
    }
   ],
   "source": [
    "a=Decimal(1)/Decimal(3)\n",
    "a"
   ]
  },
  {
   "cell_type": "code",
   "execution_count": 103,
   "id": "553bcf19",
   "metadata": {},
   "outputs": [
    {
     "data": {
      "text/plain": [
       "Decimal('0.33333')"
      ]
     },
     "execution_count": 103,
     "metadata": {},
     "output_type": "execute_result"
    }
   ],
   "source": [
    "decimal.getcontext().prec=5\n",
    "b=Decimal(1)/Decimal(3)\n",
    "b"
   ]
  },
  {
   "cell_type": "code",
   "execution_count": 104,
   "id": "02a9a014",
   "metadata": {},
   "outputs": [
    {
     "data": {
      "text/plain": [
       "Decimal('0.33333333333333333333333333333333333333333333333333')"
      ]
     },
     "execution_count": 104,
     "metadata": {},
     "output_type": "execute_result"
    }
   ],
   "source": [
    "decimal.getcontext().prec=50\n",
    "c=Decimal(1)/Decimal(3)\n",
    "c"
   ]
  },
  {
   "cell_type": "code",
   "execution_count": 107,
   "id": "60fd1e64",
   "metadata": {},
   "outputs": [
    {
     "data": {
      "text/plain": [
       "Decimal('0.99999')"
      ]
     },
     "execution_count": 107,
     "metadata": {},
     "output_type": "execute_result"
    }
   ],
   "source": [
    "decimal.getcontext().prec=5\n",
    "a+b+c"
   ]
  },
  {
   "cell_type": "code",
   "execution_count": 109,
   "id": "acf47b6c",
   "metadata": {},
   "outputs": [
    {
     "data": {
      "text/plain": [
       "-0.09999999997671694"
      ]
     },
     "execution_count": 109,
     "metadata": {},
     "output_type": "execute_result"
    }
   ],
   "source": [
    "(1000000-0.1)-1000000"
   ]
  },
  {
   "cell_type": "code",
   "execution_count": 112,
   "id": "84a965b3",
   "metadata": {},
   "outputs": [
    {
     "data": {
      "text/plain": [
       "-1.1920928955078125e-07"
      ]
     },
     "execution_count": 112,
     "metadata": {},
     "output_type": "execute_result"
    }
   ],
   "source": [
    "(1000000000-0.0000001)-1000000000"
   ]
  },
  {
   "cell_type": "code",
   "execution_count": 120,
   "id": "5e742eb3",
   "metadata": {},
   "outputs": [
    {
     "data": {
      "text/plain": [
       "Decimal('9.99999999999999954748111825886259E-8')"
      ]
     },
     "execution_count": 120,
     "metadata": {},
     "output_type": "execute_result"
    }
   ],
   "source": [
    "decimal.getcontext().prec=50\n",
    "N1=1000000000\n",
    "N2=0.0000001\n",
    "numer=Decimal(N1)+Decimal(N2)-Decimal(N1)\n",
    "Decimal(numer)"
   ]
  },
  {
   "cell_type": "code",
   "execution_count": 121,
   "id": "2ce85a94",
   "metadata": {},
   "outputs": [
    {
     "data": {
      "text/plain": [
       "float"
      ]
     },
     "execution_count": 121,
     "metadata": {},
     "output_type": "execute_result"
    }
   ],
   "source": [
    "type(N2)"
   ]
  },
  {
   "cell_type": "code",
   "execution_count": 122,
   "id": "3bd033a6",
   "metadata": {},
   "outputs": [
    {
     "data": {
      "text/plain": [
       "Decimal('12312.300000000000466116034658625721931457519531250')"
      ]
     },
     "execution_count": 122,
     "metadata": {},
     "output_type": "execute_result"
    }
   ],
   "source": [
    "#传入到Decimal可以是整型、字符串类型，但不能传入浮点型\n",
    "Decimal(123.123)*100"
   ]
  },
  {
   "cell_type": "code",
   "execution_count": 126,
   "id": "445dc4eb",
   "metadata": {},
   "outputs": [
    {
     "data": {
      "text/plain": [
       "Decimal('12412.300')"
      ]
     },
     "execution_count": 126,
     "metadata": {},
     "output_type": "execute_result"
    }
   ],
   "source": [
    "Decimal('123.123')*100+100"
   ]
  },
  {
   "cell_type": "code",
   "execution_count": 127,
   "id": "db7a3189",
   "metadata": {},
   "outputs": [
    {
     "data": {
      "text/plain": [
       "Decimal('2.12300000000000022026824808563105762004852294921875')"
      ]
     },
     "execution_count": 127,
     "metadata": {},
     "output_type": "execute_result"
    }
   ],
   "source": [
    "Decimal.from_float(2.123)"
   ]
  },
  {
   "cell_type": "code",
   "execution_count": 129,
   "id": "0a13c587",
   "metadata": {},
   "outputs": [
    {
     "data": {
      "text/plain": [
       "Decimal('0.333333')"
      ]
     },
     "execution_count": 129,
     "metadata": {},
     "output_type": "execute_result"
    }
   ],
   "source": [
    "from decimal import *\n",
    "decimal.getcontext().prec=6\n",
    "Decimal(1)/Decimal(3)"
   ]
  },
  {
   "cell_type": "code",
   "execution_count": 130,
   "id": "829bcdfa",
   "metadata": {},
   "outputs": [
    {
     "data": {
      "text/plain": [
       "Decimal('123.457')"
      ]
     },
     "execution_count": 130,
     "metadata": {},
     "output_type": "execute_result"
    }
   ],
   "source": [
    "Decimal('123.456789').quantize(Decimal('0.000'))"
   ]
  },
  {
   "cell_type": "code",
   "execution_count": 136,
   "id": "c7d4bd08",
   "metadata": {},
   "outputs": [
    {
     "name": "stdout",
     "output_type": "stream",
     "text": [
      "Context(prec=3, rounding=ROUND_HALF_EVEN, Emin=-999999, Emax=999999, capitals=1, clamp=0, flags=[Inexact, FloatOperation, Rounded], traps=[InvalidOperation, DivisionByZero, Overflow])\n",
      "True\n",
      "12345\n"
     ]
    }
   ],
   "source": [
    "from decimal import *\n",
    "print((getcontext()))\n",
    "n1,n2='12345','123.45'\n",
    "getcontext().prec=len(n1)+2\n",
    "print(Decimal(n2)*100==Decimal(n1))\n",
    "getcontext().prec=3\n",
    "print(Decimal(n2)*100)"
   ]
  },
  {
   "cell_type": "code",
   "execution_count": 146,
   "id": "5dbb8bb9",
   "metadata": {},
   "outputs": [
    {
     "name": "stdout",
     "output_type": "stream",
     "text": [
      "-7.3764\n",
      "-7.376\n",
      "-7.376\n",
      "-7.376\n",
      "-7.377\n",
      "-7.377\n",
      "-7.376\n"
     ]
    }
   ],
   "source": [
    "from decimal import *\n",
    "n1=Decimal('-4.12301')\n",
    "n2=Decimal('-3.2530')\n",
    "n3=n1+n2\n",
    "print(n3)\n",
    "print(n3.quantize(Decimal('1.000'),ROUND_HALF_EVEN))\n",
    "print(n3.quantize(Decimal('1.000'),ROUND_HALF_DOWN))\n",
    "print(n3.quantize(Decimal('1.000'),ROUND_CEILING))\n",
    "print(n3.quantize(Decimal('1.000'),ROUND_FLOOR))\n",
    "print(n3.quantize(Decimal('1.000'),ROUND_UP))\n",
    "print(n3.quantize(Decimal('1.000'),ROUND_DOWN))"
   ]
  },
  {
   "cell_type": "code",
   "execution_count": 144,
   "id": "1ff4100f",
   "metadata": {},
   "outputs": [
    {
     "data": {
      "text/plain": [
       "0"
      ]
     },
     "execution_count": 144,
     "metadata": {},
     "output_type": "execute_result"
    }
   ],
   "source": [
    "import math\n",
    "math.ceil(0.123)\n",
    "math.floor(0.123)"
   ]
  },
  {
   "cell_type": "markdown",
   "id": "75311373",
   "metadata": {},
   "source": [
    "#### (3) 布尔型"
   ]
  },
  {
   "cell_type": "code",
   "execution_count": 147,
   "id": "77ea5214",
   "metadata": {},
   "outputs": [],
   "source": [
    "#True False  1 0"
   ]
  },
  {
   "cell_type": "code",
   "execution_count": 148,
   "id": "98e1b66d",
   "metadata": {},
   "outputs": [
    {
     "name": "stdout",
     "output_type": "stream",
     "text": [
      "100\n"
     ]
    }
   ],
   "source": [
    "print(True+100)"
   ]
  },
  {
   "cell_type": "code",
   "execution_count": 153,
   "id": "80732056",
   "metadata": {},
   "outputs": [
    {
     "name": "stdout",
     "output_type": "stream",
     "text": [
      "<class 'int'> False True\n",
      "<class 'float'> True True\n",
      "<class 'str'> True True\n",
      "<class 'list'> False True\n"
     ]
    }
   ],
   "source": [
    "print(type(0),bool(0),bool(1))\n",
    "print(type(0.0),bool(0.11),bool(1.0))\n",
    "print(type('0'),bool('0'),bool('123'))\n",
    "print(type([0]),bool([]),bool([1]))"
   ]
  },
  {
   "cell_type": "code",
   "execution_count": 154,
   "id": "0dfb10cd",
   "metadata": {},
   "outputs": [
    {
     "name": "stdout",
     "output_type": "stream",
     "text": [
      "1.0\n",
      "1.113\n"
     ]
    }
   ],
   "source": [
    "T=True\n",
    "type(T)\n",
    "print(float(T))\n",
    "print(T+0.113)"
   ]
  },
  {
   "cell_type": "markdown",
   "id": "36d64142",
   "metadata": {},
   "source": [
    "#### (4) None型\n",
    "是不可更改的关键字对象。其类别是NoneType"
   ]
  },
  {
   "cell_type": "code",
   "execution_count": 157,
   "id": "fdafe352",
   "metadata": {},
   "outputs": [
    {
     "data": {
      "text/plain": [
       "False"
      ]
     },
     "execution_count": 157,
     "metadata": {},
     "output_type": "execute_result"
    }
   ],
   "source": [
    "None==''"
   ]
  },
  {
   "cell_type": "code",
   "execution_count": 155,
   "id": "6f17459c",
   "metadata": {},
   "outputs": [
    {
     "data": {
      "text/plain": [
       "False"
      ]
     },
     "execution_count": 155,
     "metadata": {},
     "output_type": "execute_result"
    }
   ],
   "source": [
    "None==0"
   ]
  },
  {
   "cell_type": "code",
   "execution_count": 156,
   "id": "efb8a78f",
   "metadata": {},
   "outputs": [
    {
     "data": {
      "text/plain": [
       "False"
      ]
     },
     "execution_count": 156,
     "metadata": {},
     "output_type": "execute_result"
    }
   ],
   "source": [
    "None==False"
   ]
  },
  {
   "cell_type": "code",
   "execution_count": 158,
   "id": "1a0c8947",
   "metadata": {},
   "outputs": [
    {
     "name": "stdout",
     "output_type": "stream",
     "text": [
      "\n"
     ]
    },
    {
     "data": {
      "text/plain": [
       "NoneType"
      ]
     },
     "execution_count": 158,
     "metadata": {},
     "output_type": "execute_result"
    }
   ],
   "source": [
    "type(print())"
   ]
  }
 ],
 "metadata": {
  "kernelspec": {
   "display_name": "Python 3 (ipykernel)",
   "language": "python",
   "name": "python3"
  },
  "language_info": {
   "codemirror_mode": {
    "name": "ipython",
    "version": 3
   },
   "file_extension": ".py",
   "mimetype": "text/x-python",
   "name": "python",
   "nbconvert_exporter": "python",
   "pygments_lexer": "ipython3",
   "version": "3.9.7"
  }
 },
 "nbformat": 4,
 "nbformat_minor": 5
}
