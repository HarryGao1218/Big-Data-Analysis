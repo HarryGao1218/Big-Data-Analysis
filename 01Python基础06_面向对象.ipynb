{
 "cells": [
  {
   "cell_type": "markdown",
   "id": "0ba851f4",
   "metadata": {},
   "source": [
    "# 01Python基础06——面向对象"
   ]
  },
  {
   "cell_type": "markdown",
   "id": "3f29ddea",
   "metadata": {},
   "source": [
    "## 01.06.01 对象概述"
   ]
  },
  {
   "cell_type": "code",
   "execution_count": 1,
   "id": "2fc13aa4",
   "metadata": {},
   "outputs": [],
   "source": [
    "### 01 万物皆对象\n",
    "    # 类：是对一类事物(务)的抽象概述。 class\n",
    "    # 对象：是类的一个实例。 object\n",
    "    # 之前所学的变量、函数等都是零散的、没有进行有机架构问题解决方法。利用类和对象可以将他们进行有机封装。\n",
    "    # 在类中，变量是用来存储数据，又称为字段fields\n",
    "    # 在类中，函数是用来操作数据、处理事务的，又称为方法methods\n",
    "    # 字段+方法=类的属性 attributes"
   ]
  },
  {
   "cell_type": "code",
   "execution_count": 2,
   "id": "c50e5b1a",
   "metadata": {},
   "outputs": [],
   "source": [
    "### 回顾常用对象"
   ]
  },
  {
   "cell_type": "code",
   "execution_count": 3,
   "id": "9d8451b3",
   "metadata": {},
   "outputs": [
    {
     "data": {
      "text/plain": [
       "['__abs__',\n",
       " '__add__',\n",
       " '__and__',\n",
       " '__bool__',\n",
       " '__ceil__',\n",
       " '__class__',\n",
       " '__delattr__',\n",
       " '__dir__',\n",
       " '__divmod__',\n",
       " '__doc__',\n",
       " '__eq__',\n",
       " '__float__',\n",
       " '__floor__',\n",
       " '__floordiv__',\n",
       " '__format__',\n",
       " '__ge__',\n",
       " '__getattribute__',\n",
       " '__getnewargs__',\n",
       " '__gt__',\n",
       " '__hash__',\n",
       " '__index__',\n",
       " '__init__',\n",
       " '__init_subclass__',\n",
       " '__int__',\n",
       " '__invert__',\n",
       " '__le__',\n",
       " '__lshift__',\n",
       " '__lt__',\n",
       " '__mod__',\n",
       " '__mul__',\n",
       " '__ne__',\n",
       " '__neg__',\n",
       " '__new__',\n",
       " '__or__',\n",
       " '__pos__',\n",
       " '__pow__',\n",
       " '__radd__',\n",
       " '__rand__',\n",
       " '__rdivmod__',\n",
       " '__reduce__',\n",
       " '__reduce_ex__',\n",
       " '__repr__',\n",
       " '__rfloordiv__',\n",
       " '__rlshift__',\n",
       " '__rmod__',\n",
       " '__rmul__',\n",
       " '__ror__',\n",
       " '__round__',\n",
       " '__rpow__',\n",
       " '__rrshift__',\n",
       " '__rshift__',\n",
       " '__rsub__',\n",
       " '__rtruediv__',\n",
       " '__rxor__',\n",
       " '__setattr__',\n",
       " '__sizeof__',\n",
       " '__str__',\n",
       " '__sub__',\n",
       " '__subclasshook__',\n",
       " '__truediv__',\n",
       " '__trunc__',\n",
       " '__xor__',\n",
       " 'as_integer_ratio',\n",
       " 'bit_length',\n",
       " 'conjugate',\n",
       " 'denominator',\n",
       " 'from_bytes',\n",
       " 'imag',\n",
       " 'numerator',\n",
       " 'real',\n",
       " 'to_bytes']"
      ]
     },
     "execution_count": 3,
     "metadata": {},
     "output_type": "execute_result"
    }
   ],
   "source": [
    "# int 对象\n",
    "i=2000\n",
    "dir(i)"
   ]
  },
  {
   "cell_type": "code",
   "execution_count": 4,
   "id": "345346e8",
   "metadata": {},
   "outputs": [
    {
     "data": {
      "text/plain": [
       "int"
      ]
     },
     "execution_count": 4,
     "metadata": {},
     "output_type": "execute_result"
    }
   ],
   "source": [
    "type(i)"
   ]
  },
  {
   "cell_type": "code",
   "execution_count": 5,
   "id": "244005b3",
   "metadata": {},
   "outputs": [
    {
     "data": {
      "text/plain": [
       "2000"
      ]
     },
     "execution_count": 5,
     "metadata": {},
     "output_type": "execute_result"
    }
   ],
   "source": [
    "i.numerator"
   ]
  },
  {
   "cell_type": "code",
   "execution_count": 6,
   "id": "45bb4868",
   "metadata": {},
   "outputs": [
    {
     "data": {
      "text/plain": [
       "3000"
      ]
     },
     "execution_count": 6,
     "metadata": {},
     "output_type": "execute_result"
    }
   ],
   "source": [
    "i+1000"
   ]
  },
  {
   "cell_type": "code",
   "execution_count": 7,
   "id": "8dedb5fc",
   "metadata": {},
   "outputs": [
    {
     "name": "stdout",
     "output_type": "stream",
     "text": [
      "4000\n"
     ]
    }
   ],
   "source": [
    "print(i.__add__(i))"
   ]
  },
  {
   "cell_type": "code",
   "execution_count": 9,
   "id": "578006bb",
   "metadata": {},
   "outputs": [
    {
     "data": {
      "text/plain": [
       "True"
      ]
     },
     "execution_count": 9,
     "metadata": {},
     "output_type": "execute_result"
    }
   ],
   "source": [
    "i.__ge__(i)"
   ]
  },
  {
   "cell_type": "code",
   "execution_count": 12,
   "id": "cc95f835",
   "metadata": {},
   "outputs": [
    {
     "data": {
      "text/plain": [
       "'abc1'"
      ]
     },
     "execution_count": 12,
     "metadata": {},
     "output_type": "execute_result"
    }
   ],
   "source": [
    "# str对象\n",
    "i='abc'\n",
    "dir(i)\n",
    "i.__add__('1')"
   ]
  },
  {
   "cell_type": "code",
   "execution_count": 14,
   "id": "41dba9cb",
   "metadata": {},
   "outputs": [
    {
     "data": {
      "text/plain": [
       "['__add__',\n",
       " '__class__',\n",
       " '__class_getitem__',\n",
       " '__contains__',\n",
       " '__delattr__',\n",
       " '__delitem__',\n",
       " '__dir__',\n",
       " '__doc__',\n",
       " '__eq__',\n",
       " '__format__',\n",
       " '__ge__',\n",
       " '__getattribute__',\n",
       " '__getitem__',\n",
       " '__gt__',\n",
       " '__hash__',\n",
       " '__iadd__',\n",
       " '__imul__',\n",
       " '__init__',\n",
       " '__init_subclass__',\n",
       " '__iter__',\n",
       " '__le__',\n",
       " '__len__',\n",
       " '__lt__',\n",
       " '__mul__',\n",
       " '__ne__',\n",
       " '__new__',\n",
       " '__reduce__',\n",
       " '__reduce_ex__',\n",
       " '__repr__',\n",
       " '__reversed__',\n",
       " '__rmul__',\n",
       " '__setattr__',\n",
       " '__setitem__',\n",
       " '__sizeof__',\n",
       " '__str__',\n",
       " '__subclasshook__',\n",
       " 'append',\n",
       " 'clear',\n",
       " 'copy',\n",
       " 'count',\n",
       " 'extend',\n",
       " 'index',\n",
       " 'insert',\n",
       " 'pop',\n",
       " 'remove',\n",
       " 'reverse',\n",
       " 'sort']"
      ]
     },
     "execution_count": 14,
     "metadata": {},
     "output_type": "execute_result"
    }
   ],
   "source": [
    "# list对象\n",
    "l=[1,2,3]\n",
    "dir(l)\n"
   ]
  },
  {
   "cell_type": "code",
   "execution_count": 16,
   "id": "955df7e3",
   "metadata": {},
   "outputs": [
    {
     "name": "stdout",
     "output_type": "stream",
     "text": [
      "<built-in method sort of list object at 0x000001C23639B180>\n"
     ]
    },
    {
     "data": {
      "text/plain": [
       "[1, 2, 3]"
      ]
     },
     "execution_count": 16,
     "metadata": {},
     "output_type": "execute_result"
    }
   ],
   "source": [
    "print(l.sort)\n",
    "l"
   ]
  },
  {
   "cell_type": "code",
   "execution_count": 17,
   "id": "b0fea3f2",
   "metadata": {},
   "outputs": [
    {
     "name": "stdout",
     "output_type": "stream",
     "text": [
      "<built-in method sort of list object at 0x000001C23639B180> <class 'reversed'>\n"
     ]
    },
    {
     "data": {
      "text/plain": [
       "<function list.reverse()>"
      ]
     },
     "execution_count": 17,
     "metadata": {},
     "output_type": "execute_result"
    }
   ],
   "source": [
    "print(l.sort,reversed)\n",
    "l2=l.reverse\n",
    "l2"
   ]
  },
  {
   "cell_type": "code",
   "execution_count": 18,
   "id": "84473eab",
   "metadata": {},
   "outputs": [
    {
     "data": {
      "text/plain": [
       "[3, 2, 1]"
      ]
     },
     "execution_count": 18,
     "metadata": {},
     "output_type": "execute_result"
    }
   ],
   "source": [
    "l=[1,2,3]\n",
    "l.reverse()\n",
    "l"
   ]
  },
  {
   "cell_type": "markdown",
   "id": "907fc32d",
   "metadata": {},
   "source": [
    "## 01.06.02 定义类"
   ]
  },
  {
   "cell_type": "code",
   "execution_count": 19,
   "id": "d34fa700",
   "metadata": {},
   "outputs": [],
   "source": [
    "##01 一般规则：类名 camel case +首字母大写\n",
    "class Bike:\n",
    "    pass"
   ]
  },
  {
   "cell_type": "code",
   "execution_count": 20,
   "id": "44aa95c6",
   "metadata": {},
   "outputs": [
    {
     "name": "stdout",
     "output_type": "stream",
     "text": [
      "<__main__.Bike object at 0x000001C2373ABAF0>\n",
      "<__main__.Bike object at 0x000001C237654AF0>\n"
     ]
    }
   ],
   "source": [
    "bike1=Bike()\n",
    "bike2=Bike()\n",
    "print(bike1)\n",
    "print(bike2)"
   ]
  },
  {
   "cell_type": "markdown",
   "id": "a6ec364d",
   "metadata": {},
   "source": [
    "## 01.06.03 对象特点"
   ]
  },
  {
   "cell_type": "code",
   "execution_count": 21,
   "id": "9cd87fc7",
   "metadata": {},
   "outputs": [],
   "source": [
    "### 四大特点：\n",
    "    ## 封装 encapsualtion 将字段和方法有机地结合在一起；可以隐藏具体的内部数据？避免外部代码直接进行访问\n",
    "    ## 继承 inheritance 子类或类的实例(对象)会继承父类的字段和方法。 is-a 关系\n",
    "    ## 多态 polymorphism 为不同对象提供相同的函数或方法\n",
    "    ## 组合 composition 将一个对象作为变量保存在另一个对象中"
   ]
  },
  {
   "cell_type": "code",
   "execution_count": 22,
   "id": "3f765556",
   "metadata": {},
   "outputs": [],
   "source": [
    "## 01 封装\n",
    "    ## 类是可聚集属性：字段+method"
   ]
  },
  {
   "cell_type": "code",
   "execution_count": 23,
   "id": "3fe10b18",
   "metadata": {},
   "outputs": [],
   "source": [
    "## 使用__init__和self：__init__()方法进行字段的聚集，第一个参数永远是self,表示创建对象的本身，之后的参数才是相关字段，对相关字段的赋值方法往往采用 self.field_name=field_name"
   ]
  },
  {
   "cell_type": "code",
   "execution_count": 7,
   "id": "8ec63a88",
   "metadata": {},
   "outputs": [],
   "source": [
    "#定义自行车类\n",
    "class Bike:\n",
    "    def __init__(self,frame,wheel,handlebar,seat):\n",
    "        self.frame=frame\n",
    "        self.wheel=wheel\n",
    "        self.handlebar=handlebar\n",
    "        self.seat=seat"
   ]
  },
  {
   "cell_type": "code",
   "execution_count": 8,
   "id": "87b35af0",
   "metadata": {},
   "outputs": [
    {
     "name": "stdout",
     "output_type": "stream",
     "text": [
      "意大利SR\n",
      "<__main__.Bike object at 0x0000029BC93DBC40>\n"
     ]
    }
   ],
   "source": [
    "bike1=Bike('铝合金','公路车轮组','弯把','意大利SR')\n",
    "bike2=Bike('全碳纤','山地车轮组','直把','捷安特')\n",
    "print(bike1.seat)\n",
    "print(bike2)"
   ]
  },
  {
   "cell_type": "code",
   "execution_count": 9,
   "id": "22cb5e62",
   "metadata": {},
   "outputs": [
    {
     "name": "stdout",
     "output_type": "stream",
     "text": [
      "美利达\n"
     ]
    }
   ],
   "source": [
    "bike1.seat='美利达'\n",
    "print(bike1.seat)"
   ]
  },
  {
   "cell_type": "code",
   "execution_count": 30,
   "id": "897ab404",
   "metadata": {},
   "outputs": [],
   "source": [
    "#Python下没有私有变量，所以所有的变量都是可公开访问\n",
    "#使用命名约定，对于调用者不应该访问的变量或方法，在名称前加上双下划线__"
   ]
  },
  {
   "cell_type": "code",
   "execution_count": 10,
   "id": "33aef3f1",
   "metadata": {},
   "outputs": [],
   "source": [
    "class Bike2:\n",
    "    def __init__(self,frame,wheel,handlebar,seat):\n",
    "        self.__frame=frame\n",
    "        self.__wheel=wheel\n",
    "        self.__handlebar=handlebar\n",
    "        self.__seat=seat"
   ]
  },
  {
   "cell_type": "code",
   "execution_count": 12,
   "id": "61f30cbf",
   "metadata": {},
   "outputs": [],
   "source": [
    "bike11=Bike2('铝合金','公路车轮组','弯把','意大利SR')\n",
    "bike21=Bike2('全碳纤','山地车轮组','直把','捷安特')"
   ]
  },
  {
   "cell_type": "code",
   "execution_count": 13,
   "id": "9a916ca9",
   "metadata": {},
   "outputs": [
    {
     "name": "stdout",
     "output_type": "stream",
     "text": [
      "美利达\n"
     ]
    }
   ],
   "source": [
    "bike11.__seat='美利达'\n",
    "print(bike11.__seat)"
   ]
  },
  {
   "cell_type": "code",
   "execution_count": 14,
   "id": "9b5500da",
   "metadata": {},
   "outputs": [
    {
     "name": "stdout",
     "output_type": "stream",
     "text": [
      "美利达\n",
      "<__main__.Bike2 object at 0x0000029BC93DB970>\n"
     ]
    }
   ],
   "source": [
    "print(bike11.__seat)\n",
    "print(bike21)"
   ]
  },
  {
   "cell_type": "code",
   "execution_count": 15,
   "id": "db99ae31",
   "metadata": {},
   "outputs": [],
   "source": [
    "## 可以在类中定义方法进行保护\n",
    "class Bike3:\n",
    "    def __init__(self,frame,wheel,handlebar,seat):\n",
    "        self.frame=frame\n",
    "        self.wheel=wheel\n",
    "        self.handlebar=handlebar\n",
    "        self.seat=seat\n",
    "        \n",
    "    def buy(self):\n",
    "        return f'客户购买了{self.frame}、{self.wheel}、{self.handlebar}、{self.seat}的自行车'"
   ]
  },
  {
   "cell_type": "code",
   "execution_count": 16,
   "id": "5d29a845",
   "metadata": {},
   "outputs": [],
   "source": [
    "bike12=Bike3('铝合金','公路车轮组','弯把','意大利SR')\n",
    "bike22=Bike3('全碳纤','山地车轮组','直把','捷安特')"
   ]
  },
  {
   "cell_type": "code",
   "execution_count": 17,
   "id": "6db1d24d",
   "metadata": {},
   "outputs": [
    {
     "name": "stdout",
     "output_type": "stream",
     "text": [
      "客户购买了铝合金、公路车轮组、弯把、意大利SR的自行车\n"
     ]
    }
   ],
   "source": [
    "#使用object.method()调用类中的方法\n",
    "print(bike12.buy())"
   ]
  },
  {
   "cell_type": "code",
   "execution_count": 18,
   "id": "0bf966bb",
   "metadata": {},
   "outputs": [
    {
     "name": "stdout",
     "output_type": "stream",
     "text": [
      "客户购买了全碳纤、山地车轮组、直把、捷安特的自行车\n"
     ]
    }
   ],
   "source": [
    "print(bike22.buy())"
   ]
  },
  {
   "cell_type": "code",
   "execution_count": 20,
   "id": "980129e7",
   "metadata": {},
   "outputs": [
    {
     "name": "stdout",
     "output_type": "stream",
     "text": [
      "客户购买了铝合金、公路车轮组、弯把、意大利SR的自行车\n",
      "客户购买了全碳纤、山地车轮组、直把、捷安特的自行车\n"
     ]
    }
   ],
   "source": [
    "#使用class.method()调用类中的方法\n",
    "print(Bike3.buy(bike12))\n",
    "print(Bike3.buy(bike22))"
   ]
  },
  {
   "cell_type": "code",
   "execution_count": 21,
   "id": "a2deea55",
   "metadata": {},
   "outputs": [
    {
     "data": {
      "text/plain": [
       "'客户购买了铝合金、公路车轮组、弯把、意大利SR的自行车'"
      ]
     },
     "execution_count": 21,
     "metadata": {},
     "output_type": "execute_result"
    }
   ],
   "source": [
    "bike12.buy()"
   ]
  },
  {
   "cell_type": "code",
   "execution_count": 22,
   "id": "d3b231a2",
   "metadata": {},
   "outputs": [
    {
     "data": {
      "text/plain": [
       "'客户购买了全碳纤、山地车轮组、直把、捷安特的自行车'"
      ]
     },
     "execution_count": 22,
     "metadata": {},
     "output_type": "execute_result"
    }
   ],
   "source": [
    "bike22.buy()"
   ]
  },
  {
   "cell_type": "code",
   "execution_count": 24,
   "id": "f0784f9f",
   "metadata": {},
   "outputs": [
    {
     "data": {
      "text/plain": [
       "'客户购买了铝合金、公路车轮组、弯把、意大利SR的自行车'"
      ]
     },
     "execution_count": 24,
     "metadata": {},
     "output_type": "execute_result"
    }
   ],
   "source": [
    "Bike3.buy(bike12)"
   ]
  },
  {
   "cell_type": "code",
   "execution_count": 2,
   "id": "62abb1b7",
   "metadata": {},
   "outputs": [
    {
     "name": "stdout",
     "output_type": "stream",
     "text": [
      "<class 'str'>\n"
     ]
    },
    {
     "data": {
      "text/plain": [
       "\"['a', 'b', 'c']\""
      ]
     },
     "execution_count": 2,
     "metadata": {},
     "output_type": "execute_result"
    }
   ],
   "source": [
    "i=['a','b','c']\n",
    "print(type(i.__repr__()))\n",
    "i.__repr__()"
   ]
  },
  {
   "cell_type": "code",
   "execution_count": 3,
   "id": "33de43b2",
   "metadata": {},
   "outputs": [
    {
     "name": "stdout",
     "output_type": "stream",
     "text": [
      "<class 'str'>\n"
     ]
    },
    {
     "data": {
      "text/plain": [
       "'[1, 2, 3]'"
      ]
     },
     "execution_count": 3,
     "metadata": {},
     "output_type": "execute_result"
    }
   ],
   "source": [
    "i=[1,2,3]\n",
    "print(type(i.__str__()))\n",
    "i.__str__()"
   ]
  },
  {
   "cell_type": "code",
   "execution_count": null,
   "id": "bb1976db",
   "metadata": {},
   "outputs": [],
   "source": [
    "##封装下的魔法方法\n",
    "    # 魔法方法：方法名用__方法名__,__init__() 是最常见的魔法方法\n",
    "    # __repr__() __str__()"
   ]
  },
  {
   "cell_type": "code",
   "execution_count": 12,
   "id": "b68fe24a",
   "metadata": {},
   "outputs": [],
   "source": [
    "class Bike4:\n",
    "    def __init__(self,frame,wheel,handlebar,seat,price):\n",
    "        self.frame=frame\n",
    "        self.wheel=wheel\n",
    "        self.handlebar=handlebar\n",
    "        self.seat=seat\n",
    "        self.price=price\n",
    "        \n",
    "    def buy(self):\n",
    "        return f'客户购买了{self.frame}、{self.wheel}、{self.handlebar}、{self.seat}的自行车'\n",
    "    \n",
    "    def __str__(self):\n",
    "        return f'{self.buy()},价格是{self.price}'\n",
    "    \n",
    "    def __repr__(self):\n",
    "        return f\"(\\'{self.frame}\\',\\'{self.wheel}\\',\\'{self.seat}\\',{self.price})\"\n",
    "    \n",
    "    def __add__(self,other):\n",
    "        return self.price+other.price\n",
    "    \n",
    "#     def __add__(self,other):\n",
    "#         sum=0\n",
    "#         for i in args:\n",
    "#             shum+=i\n",
    "#         return self.sum"
   ]
  },
  {
   "cell_type": "code",
   "execution_count": 15,
   "id": "cc59dc58",
   "metadata": {},
   "outputs": [],
   "source": [
    "bike1=Bike4('铝合金','公路车轮组','弯把','意大利SR',6000)\n",
    "bike2=Bike4('全碳纤','山地车轮组','直把','捷安特',12000)"
   ]
  },
  {
   "cell_type": "code",
   "execution_count": 16,
   "id": "b3a45767",
   "metadata": {},
   "outputs": [
    {
     "name": "stdout",
     "output_type": "stream",
     "text": [
      "商品详情: 客户购买了铝合金、公路车轮组、弯把、意大利SR的自行车,价格是6000\n",
      "商品详情: 客户购买了全碳纤、山地车轮组、直把、捷安特的自行车,价格是12000\n"
     ]
    }
   ],
   "source": [
    "print('商品详情:',bike1.__str__())\n",
    "print('商品详情:',bike2.__str__())"
   ]
  },
  {
   "cell_type": "code",
   "execution_count": 17,
   "id": "cd451441",
   "metadata": {},
   "outputs": [
    {
     "name": "stdout",
     "output_type": "stream",
     "text": [
      "内参详情: ('铝合金','公路车轮组','意大利SR',6000)\n",
      "内参详情: ('全碳纤','山地车轮组','捷安特',12000)\n"
     ]
    }
   ],
   "source": [
    "print('内参详情:',bike1.__repr__())\n",
    "print('内参详情:',bike2.__repr__())"
   ]
  },
  {
   "cell_type": "code",
   "execution_count": 19,
   "id": "b004131f",
   "metadata": {},
   "outputs": [
    {
     "name": "stdout",
     "output_type": "stream",
     "text": [
      "今天的总销售额是: 18000\n"
     ]
    }
   ],
   "source": [
    "print('今天的总销售额是:',bike1+bike2)"
   ]
  },
  {
   "cell_type": "code",
   "execution_count": 20,
   "id": "228a83e3",
   "metadata": {},
   "outputs": [],
   "source": [
    "bike1=Bike4('铝合金','公路车轮组','弯把','意大利SR',6000)\n",
    "bike2=Bike4('全碳纤','山地车轮组','直把','捷安特',12000)\n",
    "bike3=Bike4('铝合金','山地车轮组','燕把','Bianchi',10000)"
   ]
  },
  {
   "cell_type": "code",
   "execution_count": 23,
   "id": "434fa7dd",
   "metadata": {},
   "outputs": [
    {
     "ename": "TypeError",
     "evalue": "unsupported operand type(s) for +: 'int' and 'Bike4'",
     "output_type": "error",
     "traceback": [
      "\u001b[1;31m---------------------------------------------------------------------------\u001b[0m",
      "\u001b[1;31mTypeError\u001b[0m                                 Traceback (most recent call last)",
      "\u001b[1;32m~\\AppData\\Local\\Temp/ipykernel_8632/2934172762.py\u001b[0m in \u001b[0;36m<module>\u001b[1;34m\u001b[0m\n\u001b[1;32m----> 1\u001b[1;33m \u001b[0mprint\u001b[0m\u001b[1;33m(\u001b[0m\u001b[1;34m'今天的总销售额是:'\u001b[0m\u001b[1;33m,\u001b[0m\u001b[1;33m(\u001b[0m\u001b[0mbike1\u001b[0m\u001b[1;33m+\u001b[0m\u001b[0mbike2\u001b[0m\u001b[1;33m)\u001b[0m\u001b[1;33m+\u001b[0m\u001b[0mbike3\u001b[0m\u001b[1;33m)\u001b[0m\u001b[1;33m\u001b[0m\u001b[1;33m\u001b[0m\u001b[0m\n\u001b[0m",
      "\u001b[1;31mTypeError\u001b[0m: unsupported operand type(s) for +: 'int' and 'Bike4'"
     ]
    }
   ],
   "source": [
    "print('今天的总销售额是:',(bike1+bike2)+bike3)"
   ]
  },
  {
   "cell_type": "code",
   "execution_count": 25,
   "id": "57c55305",
   "metadata": {},
   "outputs": [],
   "source": [
    "##类字段 实现不同的对象具有不同属性值的操作\n",
    "class Bike4:\n",
    "    discountrate=0.95\n",
    "    def __init__(self,frame,wheel,handlebar,seat,price):\n",
    "        self.frame=frame\n",
    "        self.wheel=wheel\n",
    "        self.handlebar=handlebar\n",
    "        self.seat=seat\n",
    "        self.price=price\n",
    "        \n",
    "    def buy(self):\n",
    "        return f'客户购买了{self.frame}、{self.wheel}、{self.handlebar}、{self.seat}的自行车'\n",
    "    \n",
    "    def __str__(self):\n",
    "        return f'{self.buy()},价格是{self.price}'\n",
    "    \n",
    "    def __repr__(self):\n",
    "        return f\"(\\'{self.frame}\\',\\'{self.wheel}\\',\\'{self.seat}\\',{self.price})\"\n",
    "    \n",
    "    def __add__(self,other):\n",
    "        return self.price+other.price\n",
    "    \n",
    "    def vipdisc(self):\n",
    "        self.price=self.price*self.discountrate"
   ]
  },
  {
   "cell_type": "code",
   "execution_count": 27,
   "id": "a601a0d0",
   "metadata": {},
   "outputs": [],
   "source": [
    "bike1=Bike4('铝合金','公路车轮组','弯把','意大利SR',6000)\n",
    "bike2=Bike4('全碳纤','山地车轮组','直把','捷安特',12000)\n",
    "bike3=Bike4('铝合金','山地车轮组','燕把','Bianchi',10000)"
   ]
  },
  {
   "cell_type": "code",
   "execution_count": 30,
   "id": "183eacc6",
   "metadata": {},
   "outputs": [
    {
     "name": "stdout",
     "output_type": "stream",
     "text": [
      "5415.0\n",
      "5144.25\n"
     ]
    }
   ],
   "source": [
    "print(bike1.price)\n",
    "bike1.vipdisc()\n",
    "print(bike1.price)"
   ]
  },
  {
   "cell_type": "code",
   "execution_count": 32,
   "id": "eef26504",
   "metadata": {},
   "outputs": [
    {
     "name": "stdout",
     "output_type": "stream",
     "text": [
      "0.95\n",
      "0.95\n",
      "0.95\n"
     ]
    }
   ],
   "source": [
    "print(Bike4.discountrate)\n",
    "print(bike1.discountrate)\n",
    "print(bike2.discountrate)"
   ]
  },
  {
   "cell_type": "code",
   "execution_count": 33,
   "id": "17dfe44c",
   "metadata": {},
   "outputs": [],
   "source": [
    "Bike4.discountrate=0.90"
   ]
  },
  {
   "cell_type": "code",
   "execution_count": 41,
   "id": "08ee5aa3",
   "metadata": {},
   "outputs": [
    {
     "name": "stdout",
     "output_type": "stream",
     "text": [
      "0.95\n",
      "0.95\n",
      "0.95\n"
     ]
    }
   ],
   "source": [
    "print(Bike4.discountrate)\n",
    "print(bike1.discountrate)\n",
    "print(bike2.discountrate)"
   ]
  },
  {
   "cell_type": "code",
   "execution_count": 36,
   "id": "1490df08",
   "metadata": {},
   "outputs": [
    {
     "name": "stdout",
     "output_type": "stream",
     "text": [
      "0.9\n",
      "0.85\n",
      "0.8\n"
     ]
    }
   ],
   "source": [
    "bike2.discountrate=0.80\n",
    "bike1.discountrate=0.85\n",
    "print(Bike4.discountrate)\n",
    "print(bike1.discountrate)\n",
    "print(bike2.discountrate)"
   ]
  },
  {
   "cell_type": "code",
   "execution_count": 37,
   "id": "d920cf68",
   "metadata": {},
   "outputs": [],
   "source": [
    "##类字段 实现不同的对象具有相同属性值的操作\n",
    "class Bike4:\n",
    "    discountrate=0.95\n",
    "    salestotal=0\n",
    "    def __init__(self,frame,wheel,handlebar,seat,price):\n",
    "        self.frame=frame\n",
    "        self.wheel=wheel\n",
    "        self.handlebar=handlebar\n",
    "        self.seat=seat\n",
    "        self.price=price\n",
    "        Bike4.salestotal+=1\n",
    "        \n",
    "    def buy(self):\n",
    "        return f'客户购买了{self.frame}、{self.wheel}、{self.handlebar}、{self.seat}的自行车'\n",
    "    \n",
    "    def __str__(self):\n",
    "        return f'{self.buy()},价格是{self.price}'\n",
    "    \n",
    "    def __repr__(self):\n",
    "        return f\"(\\'{self.frame}\\',\\'{self.wheel}\\',\\'{self.seat}\\',{self.price})\"\n",
    "    \n",
    "    def __add__(self,other):\n",
    "        return self.price+other.price\n",
    "    \n",
    "    def vipdisc(self):\n",
    "        self.price=self.price*self.discountrate"
   ]
  },
  {
   "cell_type": "code",
   "execution_count": 39,
   "id": "0bc8edec",
   "metadata": {},
   "outputs": [
    {
     "name": "stdout",
     "output_type": "stream",
     "text": [
      "3\n",
      "4\n",
      "5\n",
      "6\n"
     ]
    }
   ],
   "source": [
    "print(Bike4.salestotal)\n",
    "bike1=Bike4('铝合金','公路车轮组','弯把','意大利SR',6000)\n",
    "print(Bike4.salestotal)\n",
    "bike2=Bike4('全碳纤','山地车轮组','直把','捷安特',12000)\n",
    "print(Bike4.salestotal)\n",
    "bike3=Bike4('铝合金','山地车轮组','燕把','Bianchi',10000)\n",
    "print(Bike4.salestotal)"
   ]
  },
  {
   "cell_type": "code",
   "execution_count": 40,
   "id": "a137da4e",
   "metadata": {},
   "outputs": [],
   "source": [
    "##类中的类方法和静态方法\n",
    "    # 类方法  适用于该类，及对该类下的所有对象的作用都是相同的。第一行需要用@classmethod；函数的第一个参数必须是关键词cls(而不是self)\n",
    "    # 静态方法  不随对象和类的属性而改变的方法，第一行需要用@staticmethod进行i叙事；金泰函数参数不能有关键词cls和self "
   ]
  },
  {
   "cell_type": "code",
   "execution_count": 47,
   "id": "041d8445",
   "metadata": {},
   "outputs": [],
   "source": [
    "class Bike4:\n",
    "    discountrate=0.95\n",
    "    salestotal=0\n",
    "    def __init__(self,frame,wheel,handlebar,seat,price):\n",
    "        self.frame=frame\n",
    "        self.wheel=wheel\n",
    "        self.handlebar=handlebar\n",
    "        self.seat=seat\n",
    "        self.price=price\n",
    "        Bike4.salestotal+=1\n",
    "        \n",
    "    def buy(self):\n",
    "        return f'客户购买了{self.frame}、{self.wheel}、{self.handlebar}、{self.seat}的自行车'\n",
    "    \n",
    "    def __str__(self):\n",
    "        return f'{self.buy()},价格是{self.price}'\n",
    "    \n",
    "    def __repr__(self):\n",
    "        return f\"(\\'{self.frame}\\',\\'{self.wheel}\\',\\'{self.seat}\\',{self.price})\"\n",
    "    \n",
    "    def __add__(self,other):\n",
    "        return self.price+other.price\n",
    "    \n",
    "    def vipdisc(self):\n",
    "        self.price=self.price*self.discountrate\n",
    "        \n",
    "    @classmethod\n",
    "    def set_rate(cls,rate):\n",
    "        cls.discountrate=rate\n",
    "        \n",
    "    @staticmethod\n",
    "    def is_workday(day):\n",
    "        if day.weekday()==5 or day.weekday()==6:\n",
    "            return False\n",
    "        return True"
   ]
  },
  {
   "cell_type": "code",
   "execution_count": 51,
   "id": "841b50f0",
   "metadata": {},
   "outputs": [],
   "source": [
    "bike1=Bike4('铝合金','公路车轮组','弯把','意大利SR',6000)\n",
    "bike2=Bike4('全碳纤','山地车轮组','直把','捷安特',12000)\n",
    "bike3=Bike4('铝合金','山地车轮组','燕把','Bianchi',10000)"
   ]
  },
  {
   "cell_type": "code",
   "execution_count": 52,
   "id": "92565b2e",
   "metadata": {},
   "outputs": [
    {
     "name": "stdout",
     "output_type": "stream",
     "text": [
      "0.83\n",
      "0.83\n",
      "0.83\n"
     ]
    }
   ],
   "source": [
    "print(bike1.discountrate)\n",
    "print(bike2.discountrate)\n",
    "print(bike3.discountrate)"
   ]
  },
  {
   "cell_type": "code",
   "execution_count": 55,
   "id": "7cee7d39",
   "metadata": {},
   "outputs": [
    {
     "name": "stdout",
     "output_type": "stream",
     "text": [
      "0.81\n",
      "0.81\n",
      "0.77\n",
      "0.77\n"
     ]
    }
   ],
   "source": [
    "Bike4.set_rate(0.81)\n",
    "print(Bike4.discountrate)\n",
    "print(bike1.discountrate)\n",
    "bike2.set_rate(0.77)\n",
    "print(bike2.discountrate)\n",
    "print(bike3.discountrate)"
   ]
  },
  {
   "cell_type": "code",
   "execution_count": 56,
   "id": "c5478233",
   "metadata": {},
   "outputs": [
    {
     "name": "stdout",
     "output_type": "stream",
     "text": [
      "0.81\n",
      "0.81\n",
      "0.5\n",
      "0.81\n"
     ]
    }
   ],
   "source": [
    "Bike4.set_rate(0.81)\n",
    "print(Bike4.discountrate)\n",
    "print(bike1.discountrate)\n",
    "bike2.discountrate=0.5\n",
    "print(bike2.discountrate)\n",
    "print(bike3.discountrate)"
   ]
  },
  {
   "cell_type": "code",
   "execution_count": 57,
   "id": "da28ef0c",
   "metadata": {},
   "outputs": [],
   "source": [
    "import datetime"
   ]
  },
  {
   "cell_type": "code",
   "execution_count": 60,
   "id": "d9ed72e5",
   "metadata": {},
   "outputs": [
    {
     "name": "stdout",
     "output_type": "stream",
     "text": [
      "False\n",
      "True\n"
     ]
    }
   ],
   "source": [
    "mydate=datetime.date(2021,2,28)\n",
    "print(Bike4.is_workday(mydate))\n",
    "print(bike1.is_workday(datetime.date.today()))"
   ]
  },
  {
   "cell_type": "markdown",
   "id": "7d917b00",
   "metadata": {},
   "source": [
    "## 01.06.03 对象特点"
   ]
  },
  {
   "cell_type": "markdown",
   "id": "24ea34af",
   "metadata": {},
   "source": [
    "### 02 继承"
   ]
  },
  {
   "cell_type": "code",
   "execution_count": 61,
   "id": "778d345e",
   "metadata": {},
   "outputs": [],
   "source": [
    "class Bike:\n",
    "    discountrate=0.95\n",
    "    salestotal=0\n",
    "    def __init__(self,frame,wheel,handlebar,seat,price):\n",
    "        self.frame=frame\n",
    "        self.wheel=wheel\n",
    "        self.handlebar=handlebar\n",
    "        self.seat=seat\n",
    "        self.price=price\n",
    "        Bike.salestotal+=1\n",
    "        \n",
    "    def buy(self):\n",
    "        return f'客户购买了{self.frame}、{self.wheel}、{self.handlebar}、{self.seat}的自行车'\n",
    "    \n",
    "    def __str__(self):\n",
    "        return f'{self.buy()},价格是{self.price}'\n",
    "    \n",
    "    def __repr__(self):\n",
    "        return f\"(\\'{self.frame}\\',\\'{self.wheel}\\',\\'{self.seat}\\',{self.price})\"\n",
    "    \n",
    "    def __add__(self,other):\n",
    "        return self.price+other.price\n",
    "    \n",
    "    def vipdisc(self):\n",
    "        self.price=self.price*self.discountrate\n",
    "        \n",
    "#     @classmethod\n",
    "#     def set_rate(cls,rate):\n",
    "#         cls.discountrate=rate\n",
    "        \n",
    "#     @staticmethod\n",
    "#     def is_workday(day):\n",
    "#         if day.weekday()==5 or day.weekday()==6:\n",
    "#             return False\n",
    "#         return True"
   ]
  },
  {
   "cell_type": "code",
   "execution_count": 63,
   "id": "1b9cb9f9",
   "metadata": {},
   "outputs": [],
   "source": [
    "class MtBike(Bike):\n",
    "    pass"
   ]
  },
  {
   "cell_type": "code",
   "execution_count": 66,
   "id": "dd836306",
   "metadata": {},
   "outputs": [
    {
     "name": "stdout",
     "output_type": "stream",
     "text": [
      "0.95\n"
     ]
    }
   ],
   "source": [
    "mtbike1=MtBike('碳纤','山地车轮组','直把','捷安特',12000)\n",
    "print(mtbike1.discountrate) #继承字段"
   ]
  },
  {
   "cell_type": "code",
   "execution_count": 67,
   "id": "96c80ad5",
   "metadata": {},
   "outputs": [
    {
     "name": "stdout",
     "output_type": "stream",
     "text": [
      "12000\n",
      "11400.0\n"
     ]
    }
   ],
   "source": [
    "print(mtbike1.price)\n",
    "mtbike1.vipdisc()\n",
    "print(mtbike1.price)"
   ]
  },
  {
   "cell_type": "code",
   "execution_count": 69,
   "id": "b7813bd9",
   "metadata": {},
   "outputs": [],
   "source": [
    "class MtBike(Bike):\n",
    "    discountrate=0.8"
   ]
  },
  {
   "cell_type": "code",
   "execution_count": 70,
   "id": "31332c2a",
   "metadata": {},
   "outputs": [
    {
     "name": "stdout",
     "output_type": "stream",
     "text": [
      "0.8\n"
     ]
    }
   ],
   "source": [
    "mtbike1=MtBike('碳纤','山地车轮组','直把','捷安特',12000)\n",
    "print(mtbike1.discountrate)"
   ]
  },
  {
   "cell_type": "code",
   "execution_count": 71,
   "id": "05feb96b",
   "metadata": {},
   "outputs": [
    {
     "name": "stdout",
     "output_type": "stream",
     "text": [
      "0.8\n",
      "12000\n",
      "0.8\n",
      "9600.0\n"
     ]
    }
   ],
   "source": [
    "print(mtbike1.discountrate)\n",
    "print(mtbike1.price)\n",
    "mtbike1.vipdisc()\n",
    "print(mtbike1.discountrate)\n",
    "print(mtbike1.price)"
   ]
  },
  {
   "cell_type": "code",
   "execution_count": 72,
   "id": "f2e451dc",
   "metadata": {},
   "outputs": [],
   "source": [
    "#父类：\n",
    "class Bike:\n",
    "    discountrate=0.95\n",
    "    salestotal=0\n",
    "    def __init__(self,frame,wheel,handlebar,seat,price):\n",
    "        self.frame=frame\n",
    "        self.wheel=wheel\n",
    "        self.handlebar=handlebar\n",
    "        self.seat=seat\n",
    "        self.price=price\n",
    "        Bike.salestotal+=1"
   ]
  },
  {
   "cell_type": "code",
   "execution_count": 75,
   "id": "4ff9f9de",
   "metadata": {},
   "outputs": [],
   "source": [
    "#子类，有方法,重复定义\n",
    "class MtBike(Bike):\n",
    "    discountrate=0.7\n",
    "    \n",
    "    def __init__(self,frame,wheel,handlebar,seat,price,saleid):\n",
    "        self.frame=frame\n",
    "        self.wheel=wheel\n",
    "        self.handlebar=handlebar\n",
    "        self.seat=seat\n",
    "        self.price=price\n",
    "        \n",
    "        self.saleid=saleid"
   ]
  },
  {
   "cell_type": "code",
   "execution_count": 77,
   "id": "58e343ca",
   "metadata": {},
   "outputs": [],
   "source": [
    "mtbike1=MtBike('碳纤','山地车轮组','直把','捷安特',12000,'张三')"
   ]
  },
  {
   "cell_type": "code",
   "execution_count": 78,
   "id": "a873770d",
   "metadata": {},
   "outputs": [
    {
     "name": "stdout",
     "output_type": "stream",
     "text": [
      "捷安特\n"
     ]
    }
   ],
   "source": [
    "print(mtbike1.seat)"
   ]
  },
  {
   "cell_type": "code",
   "execution_count": 79,
   "id": "0c39b746",
   "metadata": {},
   "outputs": [],
   "source": [
    "mtbike0=Bike('碳纤','山地车轮组','直把','捷安特',12000)"
   ]
  },
  {
   "cell_type": "code",
   "execution_count": 80,
   "id": "cb8110b8",
   "metadata": {},
   "outputs": [
    {
     "name": "stdout",
     "output_type": "stream",
     "text": [
      "捷安特\n"
     ]
    }
   ],
   "source": [
    "print(mtbike0.seat)"
   ]
  },
  {
   "cell_type": "code",
   "execution_count": 81,
   "id": "a4a6ad13",
   "metadata": {},
   "outputs": [],
   "source": [
    "#子类，有方法,不重复定义\n",
    "class MtBike(Bike):\n",
    "    discountrate=0.7\n",
    "    \n",
    "    def __init__(self,frame,wheel,handlebar,seat,price,saleid):\n",
    "#         self.frame=frame\n",
    "#         self.wheel=wheel\n",
    "#         self.handlebar=handlebar\n",
    "#         self.seat=seat\n",
    "#         self.price=price\n",
    "        super().__init__(frame,wheel,handlebar,seat,price)\n",
    "    \n",
    "        self.saleid=saleid"
   ]
  },
  {
   "cell_type": "code",
   "execution_count": 82,
   "id": "ca5b3a26",
   "metadata": {},
   "outputs": [
    {
     "name": "stdout",
     "output_type": "stream",
     "text": [
      "张三\n"
     ]
    }
   ],
   "source": [
    "mtbike1=MtBike('碳纤','山地车轮组','直把','捷安特',12000,'张三')\n",
    "print(mtbike1.saleid)"
   ]
  },
  {
   "cell_type": "code",
   "execution_count": 83,
   "id": "24361855",
   "metadata": {},
   "outputs": [],
   "source": [
    "class MtBike(Bike):\n",
    "    discountrate=0.7\n",
    "    \n",
    "    def __init__(self,frame,wheel,handlebar,seat,price,saleid):\n",
    "#         self.frame=frame\n",
    "#         self.wheel=wheel\n",
    "#         self.handlebar=handlebar\n",
    "#         self.seat=seat\n",
    "#         self.price=price\n",
    "        super().__init__() #frame,wheel,handlebar,seat,price\n",
    "    \n",
    "        self.saleid=saleid"
   ]
  },
  {
   "cell_type": "code",
   "execution_count": 84,
   "id": "16c69612",
   "metadata": {},
   "outputs": [
    {
     "ename": "TypeError",
     "evalue": "__init__() missing 5 required positional arguments: 'frame', 'wheel', 'handlebar', 'seat', and 'price'",
     "output_type": "error",
     "traceback": [
      "\u001b[1;31m---------------------------------------------------------------------------\u001b[0m",
      "\u001b[1;31mTypeError\u001b[0m                                 Traceback (most recent call last)",
      "\u001b[1;32m~\\AppData\\Local\\Temp/ipykernel_8632/2201799368.py\u001b[0m in \u001b[0;36m<module>\u001b[1;34m\u001b[0m\n\u001b[1;32m----> 1\u001b[1;33m \u001b[0mmtbike1\u001b[0m\u001b[1;33m=\u001b[0m\u001b[0mMtBike\u001b[0m\u001b[1;33m(\u001b[0m\u001b[1;34m'碳纤'\u001b[0m\u001b[1;33m,\u001b[0m\u001b[1;34m'山地车轮组'\u001b[0m\u001b[1;33m,\u001b[0m\u001b[1;34m'直把'\u001b[0m\u001b[1;33m,\u001b[0m\u001b[1;34m'捷安特'\u001b[0m\u001b[1;33m,\u001b[0m\u001b[1;36m12000\u001b[0m\u001b[1;33m,\u001b[0m\u001b[1;34m'张三'\u001b[0m\u001b[1;33m)\u001b[0m\u001b[1;33m\u001b[0m\u001b[1;33m\u001b[0m\u001b[0m\n\u001b[0m\u001b[0;32m      2\u001b[0m \u001b[0mprint\u001b[0m\u001b[1;33m(\u001b[0m\u001b[0mmtbike1\u001b[0m\u001b[1;33m.\u001b[0m\u001b[0msaleid\u001b[0m\u001b[1;33m)\u001b[0m\u001b[1;33m\u001b[0m\u001b[1;33m\u001b[0m\u001b[0m\n",
      "\u001b[1;32m~\\AppData\\Local\\Temp/ipykernel_8632/1031878815.py\u001b[0m in \u001b[0;36m__init__\u001b[1;34m(self, frame, wheel, handlebar, seat, price, saleid)\u001b[0m\n\u001b[0;32m      8\u001b[0m \u001b[1;31m#         self.seat=seat\u001b[0m\u001b[1;33m\u001b[0m\u001b[1;33m\u001b[0m\u001b[0m\n\u001b[0;32m      9\u001b[0m \u001b[1;31m#         self.price=price\u001b[0m\u001b[1;33m\u001b[0m\u001b[1;33m\u001b[0m\u001b[0m\n\u001b[1;32m---> 10\u001b[1;33m         \u001b[0msuper\u001b[0m\u001b[1;33m(\u001b[0m\u001b[1;33m)\u001b[0m\u001b[1;33m.\u001b[0m\u001b[0m__init__\u001b[0m\u001b[1;33m(\u001b[0m\u001b[1;33m)\u001b[0m \u001b[1;31m#frame,wheel,handlebar,seat,price\u001b[0m\u001b[1;33m\u001b[0m\u001b[1;33m\u001b[0m\u001b[0m\n\u001b[0m\u001b[0;32m     11\u001b[0m \u001b[1;33m\u001b[0m\u001b[0m\n\u001b[0;32m     12\u001b[0m         \u001b[0mself\u001b[0m\u001b[1;33m.\u001b[0m\u001b[0msaleid\u001b[0m\u001b[1;33m=\u001b[0m\u001b[0msaleid\u001b[0m\u001b[1;33m\u001b[0m\u001b[1;33m\u001b[0m\u001b[0m\n",
      "\u001b[1;31mTypeError\u001b[0m: __init__() missing 5 required positional arguments: 'frame', 'wheel', 'handlebar', 'seat', and 'price'"
     ]
    }
   ],
   "source": [
    "mtbike1=MtBike('碳纤','山地车轮组','直把','捷安特',12000,'张三')\n",
    "print(mtbike1.saleid)"
   ]
  },
  {
   "cell_type": "code",
   "execution_count": 86,
   "id": "91a6e10a",
   "metadata": {},
   "outputs": [],
   "source": [
    "class MtBike(Bike):\n",
    "    discountrate=0.7\n",
    "    \n",
    "    def __init__(self,frame,wheel,handlebar,seat,price,saleid):\n",
    "#         self.frame=frame\n",
    "#         self.wheel=wheel\n",
    "#         self.handlebar=handlebar\n",
    "#         self.seat=seat\n",
    "#         self.price=price\n",
    "        super().__init__(frame,wheel,handlebar,seat,price)\n",
    "    \n",
    "        self.saleid=saleid\n",
    "        self.price=price*self.discountrate"
   ]
  },
  {
   "cell_type": "code",
   "execution_count": 88,
   "id": "af08ae76",
   "metadata": {},
   "outputs": [
    {
     "name": "stdout",
     "output_type": "stream",
     "text": [
      "8400.0\n"
     ]
    }
   ],
   "source": [
    "mtbike1=MtBike('碳纤','山地车轮组','直把','捷安特',12000,'张三')\n",
    "print(mtbike1.price)"
   ]
  },
  {
   "cell_type": "markdown",
   "id": "8201c434",
   "metadata": {},
   "source": [
    "## 01.06.03 对象特点"
   ]
  },
  {
   "cell_type": "markdown",
   "id": "da4f0b72",
   "metadata": {},
   "source": [
    "### 03 多态"
   ]
  },
  {
   "cell_type": "code",
   "execution_count": 93,
   "id": "4f58ae00",
   "metadata": {},
   "outputs": [],
   "source": [
    "class Bike(Bike):\n",
    "    discountrate=0.7\n",
    "    \n",
    "    def __init__(self,frame,wheel,handlebar,seat): #mode、price在父类中定义是否合适？\n",
    "        self.frame=frame\n",
    "        self.wheel=wheel\n",
    "        self.handlebar=handlebar\n",
    "        self.seat=seat\n",
    "#         self.mode=mode\n",
    "        \n",
    "    def descript(self):\n",
    "        return f'{self.frame}、{self.wheel}'\n",
    "    \n",
    "    #能否将payoff()写在父类中？"
   ]
  },
  {
   "cell_type": "code",
   "execution_count": 106,
   "id": "d8d708bb",
   "metadata": {},
   "outputs": [],
   "source": [
    "class BuyBike(Bike):\n",
    "    def __init__(self,frame,wheel,handlebar,seat,mode,price):\n",
    "        super().__init__(frame,wheel,handlebar,seat)\n",
    "        self.price=price\n",
    "        self.mode=mode\n",
    "        \n",
    "    def payoff(self):\n",
    "        return self.price*self.discountrate"
   ]
  },
  {
   "cell_type": "code",
   "execution_count": 113,
   "id": "ead37983",
   "metadata": {},
   "outputs": [],
   "source": [
    "class RentBike(Bike): \n",
    "    def __init__(self,frame,wheel,handlebar,seat,mode,price,days):\n",
    "        super().__init__(frame,wheel,handlebar,seat)\n",
    "        self.price=price\n",
    "        self.days=days\n",
    "        self.mode=mode\n",
    "#         self.total=price*days*discountrate\n",
    "        \n",
    "    def payoff(self):\n",
    "        return self.price*self.days*self.discountrate"
   ]
  },
  {
   "cell_type": "code",
   "execution_count": 111,
   "id": "e25a8e38",
   "metadata": {},
   "outputs": [
    {
     "name": "stdout",
     "output_type": "stream",
     "text": [
      "买碳纤、山地车轮组的原价是12000,折后价格是8400.0\n"
     ]
    }
   ],
   "source": [
    "buybike1=BuyBike('碳纤','山地车轮组','直把','捷安特','买',12000)\n",
    "print(buybike1.discountrate)\n",
    "print(buybike1.mode+buybike1.frame+'、'+buybike1.wheel+'的原价是'+str(buybike1.price)+',折后价格是'+str(buybike1.payoff()))"
   ]
  },
  {
   "cell_type": "code",
   "execution_count": 115,
   "id": "e9bf1165",
   "metadata": {},
   "outputs": [
    {
     "name": "stdout",
     "output_type": "stream",
     "text": [
      "0.7\n",
      "租赁碳纤、山地车轮组的价格是100,折后的总租赁费用是1400.0\n"
     ]
    }
   ],
   "source": [
    "rentbike1=RentBike('碳纤','山地车轮组','直把','捷安特','租赁',100,20)\n",
    "print(rentbike1.discountrate)\n",
    "print(rentbike1.mode+rentbike1.frame+'、'+rentbike1.wheel+'的价格是'+str(rentbike1.price)+',折后的总租赁费用是'+str(rentbike1.payoff()))"
   ]
  },
  {
   "cell_type": "markdown",
   "id": "de3c834e",
   "metadata": {},
   "source": [
    "## 01.06.03 对象特点"
   ]
  },
  {
   "cell_type": "markdown",
   "id": "4252d093",
   "metadata": {},
   "source": [
    "### 04 组合"
   ]
  },
  {
   "cell_type": "code",
   "execution_count": 125,
   "id": "a3e45e9e",
   "metadata": {},
   "outputs": [],
   "source": [
    "class Bike(Bike):\n",
    "    discountrate=0.7\n",
    "    \n",
    "    def __init__(self,frame,wheel,handlebar,seat): #mode、price在父类中定义是否合适？\n",
    "        self.frame=frame\n",
    "        self.wheel=wheel\n",
    "        self.handlebar=handlebar\n",
    "        self.seat=seat\n",
    "#         self.mode=mode\n",
    "        \n",
    "    def descript(self):\n",
    "        return f'{self.frame}、{self.wheel}'\n",
    "    \n",
    "    #能否将payoff()写在父类中？"
   ]
  },
  {
   "cell_type": "code",
   "execution_count": 126,
   "id": "76f0d81b",
   "metadata": {},
   "outputs": [],
   "source": [
    "class BuyBike(Bike):\n",
    "    def __init__(self,frame,wheel,handlebar,seat,mode,price):\n",
    "        super().__init__(frame,wheel,handlebar,seat)\n",
    "        self.price=price\n",
    "        self.mode=mode\n",
    "        \n",
    "    def payoff(self):\n",
    "        return self.price*self.discountrate"
   ]
  },
  {
   "cell_type": "code",
   "execution_count": 127,
   "id": "0ea3b15c",
   "metadata": {},
   "outputs": [],
   "source": [
    "class RentBike(Bike): \n",
    "    def __init__(self,frame,wheel,handlebar,seat,mode,price,days):\n",
    "        super().__init__(frame,wheel,handlebar,seat)\n",
    "        self.price=price\n",
    "        self.days=days\n",
    "        self.mode=mode\n",
    "#         self.total=price*days*discountrate\n",
    "        \n",
    "    def payoff(self):\n",
    "        return self.price*self.days*self.discountrate"
   ]
  },
  {
   "cell_type": "code",
   "execution_count": 137,
   "id": "746372b6",
   "metadata": {},
   "outputs": [],
   "source": [
    "class Proxy(Bike):\n",
    "    def __init__(self,proxyname,frame,wheel,handlebar,seat,price,brands=None):\n",
    "        super().__init__(frame,wheel,handlebar,seat)\n",
    "        self.proxyname=proxyname\n",
    "        self.price=price\n",
    "        if brands==None:\n",
    "            self.brands=[]\n",
    "        else:\n",
    "            self.brands=brands\n",
    "            \n",
    "    def add_brand(self,newbrand):\n",
    "        if newbrand not in self.brands:\n",
    "            self.brands.append(newbrand)\n",
    "            \n",
    "    def remove_brand(self,oldbrand):\n",
    "        if oldbrand in self.brands:\n",
    "            self.brands.remove(oldbrand)\n",
    "            \n",
    "    def print_brand(self):\n",
    "        for allbrand in self.brands:\n",
    "            print('   代理产品==>',allbrand.descript())"
   ]
  },
  {
   "cell_type": "code",
   "execution_count": 134,
   "id": "02d98663",
   "metadata": {},
   "outputs": [
    {
     "name": "stdout",
     "output_type": "stream",
     "text": [
      "0.7\n",
      "买碳纤、山地车轮组的原价是12000,折后价格是8400.0\n"
     ]
    }
   ],
   "source": [
    "buybike1=BuyBike('碳纤','山地车轮组','直把','捷安特','买',12000)\n",
    "print(buybike1.discountrate)\n",
    "print(buybike1.mode+buybike1.frame+'、'+buybike1.wheel+'的原价是'+str(buybike1.price)+',折后价格是'+str(buybike1.payoff()))"
   ]
  },
  {
   "cell_type": "code",
   "execution_count": 147,
   "id": "a3f14941",
   "metadata": {},
   "outputs": [
    {
     "name": "stdout",
     "output_type": "stream",
     "text": [
      "0.7\n",
      "租赁轻合金、公路车轮组的价格是100,折后的总租赁费用是1400.0\n"
     ]
    }
   ],
   "source": [
    "rentbike1=RentBike('轻合金','公路车轮组','直把','捷安特','租赁',100,20)\n",
    "print(rentbike1.discountrate)\n",
    "print(rentbike1.mode+rentbike1.frame+'、'+rentbike1.wheel+'的价格是'+str(rentbike1.price)+',折后的总租赁费用是'+str(rentbike1.payoff()))"
   ]
  },
  {
   "cell_type": "code",
   "execution_count": 148,
   "id": "09cda076",
   "metadata": {},
   "outputs": [
    {
     "name": "stdout",
     "output_type": "stream",
     "text": [
      "   代理产品==> 轻合金、公路车轮组\n"
     ]
    }
   ],
   "source": [
    "myproxy=Proxy('碳纤','山地车轮组','直把','捷安特','买',12000,[rentbike1])\n",
    "myproxy.print_brand()"
   ]
  },
  {
   "cell_type": "code",
   "execution_count": 149,
   "id": "e3525b62",
   "metadata": {},
   "outputs": [],
   "source": [
    "myproxy.add_brand(buybike1)"
   ]
  },
  {
   "cell_type": "code",
   "execution_count": 150,
   "id": "b811d6d3",
   "metadata": {},
   "outputs": [
    {
     "name": "stdout",
     "output_type": "stream",
     "text": [
      "   代理产品==> 轻合金、公路车轮组\n",
      "   代理产品==> 碳纤、山地车轮组\n"
     ]
    }
   ],
   "source": [
    "myproxy.print_brand()"
   ]
  },
  {
   "cell_type": "code",
   "execution_count": 151,
   "id": "df12ec7f",
   "metadata": {},
   "outputs": [],
   "source": [
    "myproxy.add_brand(buybike1)"
   ]
  },
  {
   "cell_type": "code",
   "execution_count": 152,
   "id": "c4a34242",
   "metadata": {},
   "outputs": [
    {
     "name": "stdout",
     "output_type": "stream",
     "text": [
      "   代理产品==> 轻合金、公路车轮组\n",
      "   代理产品==> 碳纤、山地车轮组\n"
     ]
    }
   ],
   "source": [
    "myproxy.print_brand()"
   ]
  },
  {
   "cell_type": "code",
   "execution_count": 153,
   "id": "1061181e",
   "metadata": {},
   "outputs": [],
   "source": [
    "myproxy.remove_brand(rentbike1)"
   ]
  },
  {
   "cell_type": "code",
   "execution_count": 155,
   "id": "50d000b9",
   "metadata": {},
   "outputs": [
    {
     "name": "stdout",
     "output_type": "stream",
     "text": [
      "   代理产品==> 碳纤、山地车轮组\n"
     ]
    }
   ],
   "source": [
    "myproxy.print_brand()"
   ]
  }
 ],
 "metadata": {
  "kernelspec": {
   "display_name": "Python 3 (ipykernel)",
   "language": "python",
   "name": "python3"
  },
  "language_info": {
   "codemirror_mode": {
    "name": "ipython",
    "version": 3
   },
   "file_extension": ".py",
   "mimetype": "text/x-python",
   "name": "python",
   "nbconvert_exporter": "python",
   "pygments_lexer": "ipython3",
   "version": "3.9.7"
  }
 },
 "nbformat": 4,
 "nbformat_minor": 5
}
