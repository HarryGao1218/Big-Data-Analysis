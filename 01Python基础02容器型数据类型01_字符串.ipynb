{
 "cells": [
  {
   "cell_type": "markdown",
   "id": "f540d5fa",
   "metadata": {},
   "source": [
    "# 01Python基础02容器型数据类型01_字符串"
   ]
  },
  {
   "cell_type": "markdown",
   "id": "7763230c",
   "metadata": {},
   "source": [
    "## 01 创建"
   ]
  },
  {
   "cell_type": "code",
   "execution_count": 1,
   "id": "34d93d13",
   "metadata": {},
   "outputs": [],
   "source": [
    "#'', \n",
    "#\"\", \n",
    "#'''多行'''  \n",
    "#str()"
   ]
  },
  {
   "cell_type": "code",
   "execution_count": 2,
   "id": "860b7fe5",
   "metadata": {},
   "outputs": [
    {
     "name": "stdout",
     "output_type": "stream",
     "text": [
      "T3大数据分析课程\n"
     ]
    },
    {
     "data": {
      "text/plain": [
       "'T3大数据分析课程'"
      ]
     },
     "execution_count": 2,
     "metadata": {},
     "output_type": "execute_result"
    }
   ],
   "source": [
    "l1='T3大数据分析课程'\n",
    "type(l1)\n",
    "id(l1)\n",
    "print(l1)\n",
    "l1"
   ]
  },
  {
   "cell_type": "code",
   "execution_count": 3,
   "id": "36539102",
   "metadata": {},
   "outputs": [],
   "source": [
    "l2='''\n",
    "T3大数据分析课程\n",
    "T3数据库原理与应用\n",
    "T3数据库营销\n",
    "'''"
   ]
  },
  {
   "cell_type": "code",
   "execution_count": 6,
   "id": "3346b511",
   "metadata": {},
   "outputs": [
    {
     "name": "stdout",
     "output_type": "stream",
     "text": [
      "\n",
      "T3大数据分析课程\n",
      "T3数据库原理与应用\n",
      "T3数据库营销\n",
      "\n",
      "<class 'str'>\n"
     ]
    }
   ],
   "source": [
    "id(l2)\n",
    "print(l2)\n",
    "print(type(l2))"
   ]
  },
  {
   "cell_type": "code",
   "execution_count": 8,
   "id": "78e4e88f",
   "metadata": {},
   "outputs": [
    {
     "name": "stdout",
     "output_type": "stream",
     "text": [
      "123\n",
      "<class 'str'>\n"
     ]
    }
   ],
   "source": [
    "l3=123\n",
    "print(str(l3))\n",
    "print(type(str(l3)))"
   ]
  },
  {
   "cell_type": "code",
   "execution_count": 12,
   "id": "1f714adb",
   "metadata": {},
   "outputs": [
    {
     "data": {
      "text/plain": [
       "'T3大数据分析课程123'"
      ]
     },
     "execution_count": 12,
     "metadata": {},
     "output_type": "execute_result"
    }
   ],
   "source": [
    "l4=l1+str(l3)\n",
    "l4"
   ]
  },
  {
   "cell_type": "code",
   "execution_count": 13,
   "id": "04753bdd",
   "metadata": {},
   "outputs": [],
   "source": [
    "l5=l3"
   ]
  },
  {
   "cell_type": "code",
   "execution_count": 14,
   "id": "ebddab5b",
   "metadata": {},
   "outputs": [
    {
     "data": {
      "text/plain": [
       "int"
      ]
     },
     "execution_count": 14,
     "metadata": {},
     "output_type": "execute_result"
    }
   ],
   "source": [
    "type(l5)"
   ]
  },
  {
   "cell_type": "code",
   "execution_count": 16,
   "id": "ce0569d5",
   "metadata": {},
   "outputs": [
    {
     "data": {
      "text/plain": [
       "2070771030192"
      ]
     },
     "execution_count": 16,
     "metadata": {},
     "output_type": "execute_result"
    }
   ],
   "source": [
    "id(l3)\n",
    "id(l5)"
   ]
  },
  {
   "cell_type": "markdown",
   "id": "08b36a87",
   "metadata": {},
   "source": [
    "str(l3)"
   ]
  },
  {
   "cell_type": "code",
   "execution_count": 18,
   "id": "7d8de465",
   "metadata": {},
   "outputs": [
    {
     "data": {
      "text/plain": [
       "2070850316336"
      ]
     },
     "execution_count": 18,
     "metadata": {},
     "output_type": "execute_result"
    }
   ],
   "source": [
    "id(str(l3))"
   ]
  },
  {
   "cell_type": "code",
   "execution_count": 19,
   "id": "fd98b99a",
   "metadata": {},
   "outputs": [
    {
     "data": {
      "text/plain": [
       "2070771030192"
      ]
     },
     "execution_count": 19,
     "metadata": {},
     "output_type": "execute_result"
    }
   ],
   "source": [
    "id(l3)"
   ]
  },
  {
   "cell_type": "code",
   "execution_count": 20,
   "id": "92f99907",
   "metadata": {},
   "outputs": [
    {
     "data": {
      "text/plain": [
       "2070771030192"
      ]
     },
     "execution_count": 20,
     "metadata": {},
     "output_type": "execute_result"
    }
   ],
   "source": [
    "id(l5)"
   ]
  },
  {
   "cell_type": "markdown",
   "id": "12c9a32a",
   "metadata": {},
   "source": [
    "## 2 切片和索引\n",
    "#### 字符串是可迭代，可通过索引进行查找所需的字符(串)对象\n",
    "#### s[start:end:step]"
   ]
  },
  {
   "cell_type": "code",
   "execution_count": 25,
   "id": "e5132af7",
   "metadata": {},
   "outputs": [
    {
     "data": {
      "text/plain": [
       "'13579'"
      ]
     },
     "execution_count": 25,
     "metadata": {},
     "output_type": "execute_result"
    }
   ],
   "source": [
    "s1='123456789'\n",
    "s1[0:7:2]\n",
    "s1[1:]\n",
    "s1[:3]\n",
    "s1[::2]"
   ]
  },
  {
   "cell_type": "code",
   "execution_count": 23,
   "id": "1da2c297",
   "metadata": {},
   "outputs": [
    {
     "data": {
      "text/plain": [
       "'6789'"
      ]
     },
     "execution_count": 23,
     "metadata": {},
     "output_type": "execute_result"
    }
   ],
   "source": [
    "s1[-4:]"
   ]
  },
  {
   "cell_type": "code",
   "execution_count": 26,
   "id": "c8824d37",
   "metadata": {},
   "outputs": [
    {
     "data": {
      "text/plain": [
       "'987654321'"
      ]
     },
     "execution_count": 26,
     "metadata": {},
     "output_type": "execute_result"
    }
   ],
   "source": [
    "s1[::-1]"
   ]
  },
  {
   "cell_type": "markdown",
   "id": "270f685f",
   "metadata": {},
   "source": [
    "## 3 字符串操作\n",
    "### 分割，合并，查新，替换"
   ]
  },
  {
   "cell_type": "code",
   "execution_count": 27,
   "id": "7b2e4a43",
   "metadata": {},
   "outputs": [],
   "source": [
    "#分割：分隔  partition(d) split(d)  splitlines()"
   ]
  },
  {
   "cell_type": "code",
   "execution_count": 5,
   "id": "89f87367",
   "metadata": {},
   "outputs": [],
   "source": [
    "l1='福州大学T3大数据分析课程202102'"
   ]
  },
  {
   "cell_type": "code",
   "execution_count": 29,
   "id": "06fdbec8",
   "metadata": {},
   "outputs": [
    {
     "data": {
      "text/plain": [
       "('福州大学', 'T3', '大数据分析课程202002')"
      ]
     },
     "execution_count": 29,
     "metadata": {},
     "output_type": "execute_result"
    }
   ],
   "source": [
    "l1.partition('T3')"
   ]
  },
  {
   "cell_type": "code",
   "execution_count": 32,
   "id": "07d8bf1c",
   "metadata": {},
   "outputs": [],
   "source": [
    "l2='福州大学 T3大数据分析课程202102'"
   ]
  },
  {
   "cell_type": "code",
   "execution_count": 31,
   "id": "657c1b0b",
   "metadata": {},
   "outputs": [
    {
     "data": {
      "text/plain": [
       "('福州大学', ' ', 'T3大数据分析课程202102')"
      ]
     },
     "execution_count": 31,
     "metadata": {},
     "output_type": "execute_result"
    }
   ],
   "source": [
    "l2.partition(\" \")"
   ]
  },
  {
   "cell_type": "code",
   "execution_count": 33,
   "id": "3621d4ec",
   "metadata": {},
   "outputs": [
    {
     "data": {
      "text/plain": [
       "['福州大学', '大数据分析课程202002']"
      ]
     },
     "execution_count": 33,
     "metadata": {},
     "output_type": "execute_result"
    }
   ],
   "source": [
    "l1.split('T3')"
   ]
  },
  {
   "cell_type": "code",
   "execution_count": 34,
   "id": "8f2e6f9d",
   "metadata": {},
   "outputs": [
    {
     "data": {
      "text/plain": [
       "['福州大学', 'T3大数据分析课程202102']"
      ]
     },
     "execution_count": 34,
     "metadata": {},
     "output_type": "execute_result"
    }
   ],
   "source": [
    "l2.split(' ')"
   ]
  },
  {
   "cell_type": "code",
   "execution_count": 10,
   "id": "34b12313",
   "metadata": {},
   "outputs": [
    {
     "data": {
      "text/plain": [
       "['Modeling',\n",
       " 'and',\n",
       " 'Managing',\n",
       " 'Mornign',\n",
       " 'Commute',\n",
       " 'with',\n",
       " 'Park',\n",
       " '&',\n",
       " 'Ride-Sharing']"
      ]
     },
     "execution_count": 10,
     "metadata": {},
     "output_type": "execute_result"
    }
   ],
   "source": [
    "l3='Modeling and Managing Mornign Commute with Park & Ride-Sharing'\n",
    "l3.split(' ')"
   ]
  },
  {
   "cell_type": "code",
   "execution_count": 40,
   "id": "f486a184",
   "metadata": {},
   "outputs": [],
   "source": [
    "l2lines='''T3大数据分析课程\n",
    "T3数据库原理与应用\n",
    "T3数据库营销\n",
    "'''"
   ]
  },
  {
   "cell_type": "code",
   "execution_count": 49,
   "id": "c55d0acd",
   "metadata": {},
   "outputs": [
    {
     "data": {
      "text/plain": [
       "['T3大数据分析课程', 'T3数据库原理与应用', 'T3数据库营销']"
      ]
     },
     "execution_count": 49,
     "metadata": {},
     "output_type": "execute_result"
    }
   ],
   "source": [
    "l2split=(l2lines.splitlines())\n",
    "l2split"
   ]
  },
  {
   "cell_type": "code",
   "execution_count": 43,
   "id": "dd27b634",
   "metadata": {},
   "outputs": [
    {
     "data": {
      "text/plain": [
       "3"
      ]
     },
     "execution_count": 43,
     "metadata": {},
     "output_type": "execute_result"
    }
   ],
   "source": [
    "len(l2lines.splitlines())"
   ]
  },
  {
   "cell_type": "code",
   "execution_count": 45,
   "id": "00468c25",
   "metadata": {},
   "outputs": [],
   "source": [
    "#2 合并 d.join(e)"
   ]
  },
  {
   "cell_type": "code",
   "execution_count": 46,
   "id": "ca52d695",
   "metadata": {},
   "outputs": [],
   "source": [
    "l1\n",
    "l2lines\n",
    "l12=l1+l2lines"
   ]
  },
  {
   "cell_type": "code",
   "execution_count": 47,
   "id": "6efc4b00",
   "metadata": {},
   "outputs": [
    {
     "data": {
      "text/plain": [
       "'福州大学T3大数据分析课程202002T3大数据分析课程\\nT3数据库原理与应用\\nT3数据库营销\\n'"
      ]
     },
     "execution_count": 47,
     "metadata": {},
     "output_type": "execute_result"
    }
   ],
   "source": [
    "l12"
   ]
  },
  {
   "cell_type": "code",
   "execution_count": 51,
   "id": "62115293",
   "metadata": {},
   "outputs": [
    {
     "data": {
      "text/plain": [
       "['T3大数据分析课程', 'T3数据库原理与应用', 'T3数据库营销']"
      ]
     },
     "execution_count": 51,
     "metadata": {},
     "output_type": "execute_result"
    }
   ],
   "source": [
    "l2split"
   ]
  },
  {
   "cell_type": "code",
   "execution_count": 53,
   "id": "934c54b5",
   "metadata": {},
   "outputs": [
    {
     "data": {
      "text/plain": [
       "'T3大数据分析课程 T3数据库原理与应用 T3数据库营销'"
      ]
     },
     "execution_count": 53,
     "metadata": {},
     "output_type": "execute_result"
    }
   ],
   "source": [
    "' '.join(l2split)"
   ]
  },
  {
   "cell_type": "code",
   "execution_count": 54,
   "id": "a8f39038",
   "metadata": {},
   "outputs": [],
   "source": [
    "#3 查找"
   ]
  },
  {
   "cell_type": "code",
   "execution_count": 57,
   "id": "515aec8f",
   "metadata": {},
   "outputs": [
    {
     "data": {
      "text/plain": [
       "4"
      ]
     },
     "execution_count": 57,
     "metadata": {},
     "output_type": "execute_result"
    }
   ],
   "source": [
    "l1.find('T3')"
   ]
  },
  {
   "cell_type": "code",
   "execution_count": 7,
   "id": "9e299d4f",
   "metadata": {},
   "outputs": [
    {
     "data": {
      "text/plain": [
       "'福州大学T3大数据分析课程202102'"
      ]
     },
     "execution_count": 7,
     "metadata": {},
     "output_type": "execute_result"
    }
   ],
   "source": [
    "l1"
   ]
  },
  {
   "cell_type": "code",
   "execution_count": 6,
   "id": "672370fd",
   "metadata": {},
   "outputs": [
    {
     "data": {
      "text/plain": [
       "'福州大学T3大数据分析课程202102'"
      ]
     },
     "execution_count": 6,
     "metadata": {},
     "output_type": "execute_result"
    }
   ],
   "source": [
    "#4 替换 replace()\n",
    "l1"
   ]
  },
  {
   "cell_type": "code",
   "execution_count": 8,
   "id": "8df12298",
   "metadata": {},
   "outputs": [
    {
     "data": {
      "text/plain": [
       "'福州大学T3大数据分析课程2021第二学期'"
      ]
     },
     "execution_count": 8,
     "metadata": {},
     "output_type": "execute_result"
    }
   ],
   "source": [
    "l1.replace('202102','2021第二学期')"
   ]
  },
  {
   "cell_type": "code",
   "execution_count": null,
   "id": "bd5ba102",
   "metadata": {},
   "outputs": [],
   "source": [
    "## 4 格式转变 大小写、开头字母大写等等"
   ]
  },
  {
   "cell_type": "code",
   "execution_count": 15,
   "id": "31aad861",
   "metadata": {},
   "outputs": [
    {
     "data": {
      "text/plain": [
       "'Modeling and Managing Mornign Commute with Park & Ride-Sharing'"
      ]
     },
     "execution_count": 15,
     "metadata": {},
     "output_type": "execute_result"
    }
   ],
   "source": [
    "l3"
   ]
  },
  {
   "cell_type": "code",
   "execution_count": 12,
   "id": "8e76c60e",
   "metadata": {},
   "outputs": [
    {
     "data": {
      "text/plain": [
       "'modeling and managing mornign commute with park & ride-sharing'"
      ]
     },
     "execution_count": 12,
     "metadata": {},
     "output_type": "execute_result"
    }
   ],
   "source": [
    "l3.lower()"
   ]
  },
  {
   "cell_type": "code",
   "execution_count": 13,
   "id": "19ef5c7f",
   "metadata": {},
   "outputs": [
    {
     "data": {
      "text/plain": [
       "'Modeling and managing mornign commute with park & ride-sharing'"
      ]
     },
     "execution_count": 13,
     "metadata": {},
     "output_type": "execute_result"
    }
   ],
   "source": [
    "(l3.lower()).capitalize()"
   ]
  },
  {
   "cell_type": "code",
   "execution_count": 14,
   "id": "8a076641",
   "metadata": {},
   "outputs": [
    {
     "data": {
      "text/plain": [
       "'Modeling And Managing Mornign Commute With Park & Ride-Sharing'"
      ]
     },
     "execution_count": 14,
     "metadata": {},
     "output_type": "execute_result"
    }
   ],
   "source": [
    "l3.lower().title()"
   ]
  },
  {
   "cell_type": "code",
   "execution_count": null,
   "id": "475e7caa",
   "metadata": {},
   "outputs": [],
   "source": [
    "## 5 对特定数据的删除 strip(d) rstrip(d) lstrip(d)"
   ]
  },
  {
   "cell_type": "code",
   "execution_count": 16,
   "id": "896ea4bc",
   "metadata": {},
   "outputs": [
    {
     "data": {
      "text/plain": [
       "'Modeling and Managing Mornign Commute with Park & Ride-Sharing'"
      ]
     },
     "execution_count": 16,
     "metadata": {},
     "output_type": "execute_result"
    }
   ],
   "source": [
    "l3"
   ]
  },
  {
   "cell_type": "code",
   "execution_count": 20,
   "id": "5f1674a3",
   "metadata": {},
   "outputs": [
    {
     "data": {
      "text/plain": [
       "'Modeling and Managing Mornign Commute with Park & Ride-Sharing'"
      ]
     },
     "execution_count": 20,
     "metadata": {},
     "output_type": "execute_result"
    }
   ],
   "source": [
    "l3.strip('&')"
   ]
  },
  {
   "cell_type": "code",
   "execution_count": 21,
   "id": "11a548b1",
   "metadata": {},
   "outputs": [
    {
     "data": {
      "text/plain": [
       "'Modeling and Managing Mornign Commute with Park  Ride-Sharing'"
      ]
     },
     "execution_count": 21,
     "metadata": {},
     "output_type": "execute_result"
    }
   ],
   "source": [
    "l3.replace('&','')"
   ]
  },
  {
   "cell_type": "code",
   "execution_count": 26,
   "id": "4a62ee57",
   "metadata": {},
   "outputs": [],
   "source": [
    "## 6 其他特定操作 center(n,d)  rjust(n,d) ljust(n,d) zfill(n)=rjust(n,'0')\n",
    "l6='经济与管理学院'"
   ]
  },
  {
   "cell_type": "code",
   "execution_count": 28,
   "id": "190ea462",
   "metadata": {},
   "outputs": [
    {
     "data": {
      "text/plain": [
       "'***经济与管理学院***'"
      ]
     },
     "execution_count": 28,
     "metadata": {},
     "output_type": "execute_result"
    }
   ],
   "source": [
    "l6.center(13,'*')"
   ]
  },
  {
   "cell_type": "code",
   "execution_count": 29,
   "id": "f1a5692b",
   "metadata": {},
   "outputs": [
    {
     "data": {
      "text/plain": [
       "'******经济与管理学院'"
      ]
     },
     "execution_count": 29,
     "metadata": {},
     "output_type": "execute_result"
    }
   ],
   "source": [
    "l6.rjust(13,'*')"
   ]
  },
  {
   "cell_type": "code",
   "execution_count": 30,
   "id": "26f226e0",
   "metadata": {},
   "outputs": [
    {
     "data": {
      "text/plain": [
       "'经济与管理学院******'"
      ]
     },
     "execution_count": 30,
     "metadata": {},
     "output_type": "execute_result"
    }
   ],
   "source": [
    "l6.ljust(13,'*')"
   ]
  },
  {
   "cell_type": "code",
   "execution_count": 31,
   "id": "8ac1b396",
   "metadata": {},
   "outputs": [
    {
     "data": {
      "text/plain": [
       "'00005'"
      ]
     },
     "execution_count": 31,
     "metadata": {},
     "output_type": "execute_result"
    }
   ],
   "source": [
    "'5'.zfill(5)"
   ]
  },
  {
   "cell_type": "code",
   "execution_count": 32,
   "id": "dbfcad80",
   "metadata": {},
   "outputs": [
    {
     "data": {
      "text/plain": [
       "'00005'"
      ]
     },
     "execution_count": 32,
     "metadata": {},
     "output_type": "execute_result"
    }
   ],
   "source": [
    "'5'.rjust(5,'0')"
   ]
  },
  {
   "cell_type": "code",
   "execution_count": 33,
   "id": "df54e68b",
   "metadata": {},
   "outputs": [
    {
     "data": {
      "text/plain": [
       "'福州大学T3大数据分析课程202102'"
      ]
     },
     "execution_count": 33,
     "metadata": {},
     "output_type": "execute_result"
    }
   ],
   "source": [
    "##7 格式化\n",
    "l1"
   ]
  },
  {
   "cell_type": "code",
   "execution_count": 34,
   "id": "4c5f7627",
   "metadata": {},
   "outputs": [
    {
     "name": "stdout",
     "output_type": "stream",
     "text": [
      "福州大学T3大数据分析课程 学期202102\n"
     ]
    }
   ],
   "source": [
    "print(f'福州大学T3大数据分析课程 学期{202102:d}')"
   ]
  },
  {
   "cell_type": "code",
   "execution_count": 35,
   "id": "3cc4e3a4",
   "metadata": {},
   "outputs": [
    {
     "name": "stdout",
     "output_type": "stream",
     "text": [
      "福州大学T3大数据分析课程 学期  202102\n"
     ]
    }
   ],
   "source": [
    "print(f'福州大学T3大数据分析课程 学期{202102:8d}')"
   ]
  },
  {
   "cell_type": "code",
   "execution_count": 39,
   "id": "a4941edb",
   "metadata": {},
   "outputs": [
    {
     "name": "stdout",
     "output_type": "stream",
     "text": [
      "福州大学T3大数据分析课程平均成绩89.9300\n"
     ]
    }
   ],
   "source": [
    "print(f'福州大学T3大数据分析课程平均成绩{89.93:.4f}')"
   ]
  },
  {
   "cell_type": "code",
   "execution_count": 40,
   "id": "c1897edc",
   "metadata": {},
   "outputs": [
    {
     "name": "stdout",
     "output_type": "stream",
     "text": [
      "福州大学T3大数据分析课程 学期00202102\n"
     ]
    }
   ],
   "source": [
    "print(f'福州大学T3大数据分析课程 学期{202102:08d}')"
   ]
  },
  {
   "cell_type": "code",
   "execution_count": 41,
   "id": "b08c318c",
   "metadata": {},
   "outputs": [],
   "source": [
    "##8 运算符 算术运算符+ *  比较运算符 > >= == !=  成员运算符 in not in  身份运算符 is is not"
   ]
  },
  {
   "cell_type": "code",
   "execution_count": 47,
   "id": "77b6736b",
   "metadata": {},
   "outputs": [],
   "source": [
    "f1='fzu'\n",
    "f2='jgxy'\n",
    "f1+f2\n",
    "f1*3\n",
    "f1>f2\n",
    "f11='fZU'"
   ]
  },
  {
   "cell_type": "code",
   "execution_count": 48,
   "id": "3d24cc94",
   "metadata": {},
   "outputs": [
    {
     "data": {
      "text/plain": [
       "False"
      ]
     },
     "execution_count": 48,
     "metadata": {},
     "output_type": "execute_result"
    }
   ],
   "source": [
    "f1==f11"
   ]
  },
  {
   "cell_type": "code",
   "execution_count": 49,
   "id": "8a13a10a",
   "metadata": {},
   "outputs": [
    {
     "data": {
      "text/plain": [
       "False"
      ]
     },
     "execution_count": 49,
     "metadata": {},
     "output_type": "execute_result"
    }
   ],
   "source": [
    "f1 in f11"
   ]
  },
  {
   "cell_type": "code",
   "execution_count": 50,
   "id": "cff83784",
   "metadata": {},
   "outputs": [
    {
     "data": {
      "text/plain": [
       "False"
      ]
     },
     "execution_count": 50,
     "metadata": {},
     "output_type": "execute_result"
    }
   ],
   "source": [
    "f1 is f11"
   ]
  }
 ],
 "metadata": {
  "kernelspec": {
   "display_name": "Python 3 (ipykernel)",
   "language": "python",
   "name": "python3"
  },
  "language_info": {
   "codemirror_mode": {
    "name": "ipython",
    "version": 3
   },
   "file_extension": ".py",
   "mimetype": "text/x-python",
   "name": "python",
   "nbconvert_exporter": "python",
   "pygments_lexer": "ipython3",
   "version": "3.9.7"
  }
 },
 "nbformat": 4,
 "nbformat_minor": 5
}
