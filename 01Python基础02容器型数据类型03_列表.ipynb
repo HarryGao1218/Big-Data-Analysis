{
 "cells": [
  {
   "cell_type": "markdown",
   "id": "07d82ea9",
   "metadata": {},
   "source": [
    "# 01Python基础01容器型数据类型03——列表\n",
    "## 01 列表概述"
   ]
  },
  {
   "cell_type": "code",
   "execution_count": null,
   "id": "11ca8930",
   "metadata": {},
   "outputs": [],
   "source": [
    "#列表是存储有序对象的一种容器。\n",
    "#l=[x1,x2,x3...xn]"
   ]
  },
  {
   "cell_type": "markdown",
   "id": "e4d34e60",
   "metadata": {},
   "source": [
    "## 02 创建列表"
   ]
  },
  {
   "cell_type": "code",
   "execution_count": 12,
   "id": "d9a78319",
   "metadata": {},
   "outputs": [
    {
     "data": {
      "text/plain": [
       "3"
      ]
     },
     "execution_count": 12,
     "metadata": {},
     "output_type": "execute_result"
    }
   ],
   "source": [
    "l=['T3','大数据分析',90]\n",
    "id(l)\n",
    "type(l)\n",
    "len(l)"
   ]
  },
  {
   "cell_type": "code",
   "execution_count": 3,
   "id": "2fb40635",
   "metadata": {},
   "outputs": [
    {
     "data": {
      "text/plain": [
       "3248367566528"
      ]
     },
     "execution_count": 3,
     "metadata": {},
     "output_type": "execute_result"
    }
   ],
   "source": [
    "id(l)"
   ]
  },
  {
   "cell_type": "code",
   "execution_count": 6,
   "id": "095286af",
   "metadata": {},
   "outputs": [
    {
     "name": "stdout",
     "output_type": "stream",
     "text": [
      "3248367277552\n",
      "3248367382768\n",
      "3248288191632\n"
     ]
    }
   ],
   "source": [
    "print(id(l[0]))\n",
    "print(id(l[1]))\n",
    "print(id(l[2]))"
   ]
  },
  {
   "cell_type": "code",
   "execution_count": 7,
   "id": "b89bf8b9",
   "metadata": {},
   "outputs": [
    {
     "name": "stdout",
     "output_type": "stream",
     "text": [
      "120\n",
      "2\n"
     ]
    }
   ],
   "source": [
    "import sys\n",
    "print(sys.getsizeof(l))\n",
    "print(sys.getrefcount(l))"
   ]
  },
  {
   "cell_type": "code",
   "execution_count": 14,
   "id": "e8a4c3af",
   "metadata": {},
   "outputs": [
    {
     "name": "stdout",
     "output_type": "stream",
     "text": [
      "51\n",
      "2\n",
      "84\n",
      "2\n",
      "28\n",
      "31\n"
     ]
    }
   ],
   "source": [
    "print(sys.getsizeof(l[0]))\n",
    "print(sys.getrefcount(l[0]))\n",
    "\n",
    "print(sys.getsizeof(l[1]))\n",
    "print(sys.getrefcount(l[1]))\n",
    "\n",
    "print(sys.getsizeof(l[2]))\n",
    "print(sys.getrefcount(l[2]))"
   ]
  },
  {
   "cell_type": "code",
   "execution_count": 15,
   "id": "e24873e7",
   "metadata": {},
   "outputs": [],
   "source": [
    "s1='经济与管理学院大数据分析'"
   ]
  },
  {
   "cell_type": "code",
   "execution_count": 17,
   "id": "185c64e7",
   "metadata": {},
   "outputs": [
    {
     "data": {
      "text/plain": [
       "['经', '济', '与', '管', '理', '学', '院', '大', '数', '据', '分', '析']"
      ]
     },
     "execution_count": 17,
     "metadata": {},
     "output_type": "execute_result"
    }
   ],
   "source": [
    "l1=list(s1)\n",
    "l1"
   ]
  },
  {
   "cell_type": "code",
   "execution_count": 19,
   "id": "d02d7717",
   "metadata": {},
   "outputs": [
    {
     "data": {
      "text/plain": [
       "tuple"
      ]
     },
     "execution_count": 19,
     "metadata": {},
     "output_type": "execute_result"
    }
   ],
   "source": [
    "s2=('经济','管理','大数据','分析')\n",
    "type(s2)"
   ]
  },
  {
   "cell_type": "code",
   "execution_count": 21,
   "id": "3b04bd3b",
   "metadata": {},
   "outputs": [
    {
     "data": {
      "text/plain": [
       "['经济', '管理', '大数据', '分析']"
      ]
     },
     "execution_count": 21,
     "metadata": {},
     "output_type": "execute_result"
    }
   ],
   "source": [
    "l2=list(s2)\n",
    "l2"
   ]
  },
  {
   "cell_type": "code",
   "execution_count": 22,
   "id": "38c04e9d",
   "metadata": {},
   "outputs": [],
   "source": [
    "l3=[l1,l2,'大家一起来学习']"
   ]
  },
  {
   "cell_type": "code",
   "execution_count": 23,
   "id": "1ee189f3",
   "metadata": {},
   "outputs": [
    {
     "data": {
      "text/plain": [
       "[['经', '济', '与', '管', '理', '学', '院', '大', '数', '据', '分', '析'],\n",
       " ['经济', '管理', '大数据', '分析'],\n",
       " '大家一起来学习']"
      ]
     },
     "execution_count": 23,
     "metadata": {},
     "output_type": "execute_result"
    }
   ],
   "source": [
    "l3"
   ]
  },
  {
   "cell_type": "code",
   "execution_count": 24,
   "id": "c98b014c",
   "metadata": {},
   "outputs": [
    {
     "name": "stdout",
     "output_type": "stream",
     "text": [
      "Help on list object:\n",
      "\n",
      "class list(object)\n",
      " |  list(iterable=(), /)\n",
      " |  \n",
      " |  Built-in mutable sequence.\n",
      " |  \n",
      " |  If no argument is given, the constructor creates a new empty list.\n",
      " |  The argument must be an iterable if specified.\n",
      " |  \n",
      " |  Methods defined here:\n",
      " |  \n",
      " |  __add__(self, value, /)\n",
      " |      Return self+value.\n",
      " |  \n",
      " |  __contains__(self, key, /)\n",
      " |      Return key in self.\n",
      " |  \n",
      " |  __delitem__(self, key, /)\n",
      " |      Delete self[key].\n",
      " |  \n",
      " |  __eq__(self, value, /)\n",
      " |      Return self==value.\n",
      " |  \n",
      " |  __ge__(self, value, /)\n",
      " |      Return self>=value.\n",
      " |  \n",
      " |  __getattribute__(self, name, /)\n",
      " |      Return getattr(self, name).\n",
      " |  \n",
      " |  __getitem__(...)\n",
      " |      x.__getitem__(y) <==> x[y]\n",
      " |  \n",
      " |  __gt__(self, value, /)\n",
      " |      Return self>value.\n",
      " |  \n",
      " |  __iadd__(self, value, /)\n",
      " |      Implement self+=value.\n",
      " |  \n",
      " |  __imul__(self, value, /)\n",
      " |      Implement self*=value.\n",
      " |  \n",
      " |  __init__(self, /, *args, **kwargs)\n",
      " |      Initialize self.  See help(type(self)) for accurate signature.\n",
      " |  \n",
      " |  __iter__(self, /)\n",
      " |      Implement iter(self).\n",
      " |  \n",
      " |  __le__(self, value, /)\n",
      " |      Return self<=value.\n",
      " |  \n",
      " |  __len__(self, /)\n",
      " |      Return len(self).\n",
      " |  \n",
      " |  __lt__(self, value, /)\n",
      " |      Return self<value.\n",
      " |  \n",
      " |  __mul__(self, value, /)\n",
      " |      Return self*value.\n",
      " |  \n",
      " |  __ne__(self, value, /)\n",
      " |      Return self!=value.\n",
      " |  \n",
      " |  __repr__(self, /)\n",
      " |      Return repr(self).\n",
      " |  \n",
      " |  __reversed__(self, /)\n",
      " |      Return a reverse iterator over the list.\n",
      " |  \n",
      " |  __rmul__(self, value, /)\n",
      " |      Return value*self.\n",
      " |  \n",
      " |  __setitem__(self, key, value, /)\n",
      " |      Set self[key] to value.\n",
      " |  \n",
      " |  __sizeof__(self, /)\n",
      " |      Return the size of the list in memory, in bytes.\n",
      " |  \n",
      " |  append(self, object, /)\n",
      " |      Append object to the end of the list.\n",
      " |  \n",
      " |  clear(self, /)\n",
      " |      Remove all items from list.\n",
      " |  \n",
      " |  copy(self, /)\n",
      " |      Return a shallow copy of the list.\n",
      " |  \n",
      " |  count(self, value, /)\n",
      " |      Return number of occurrences of value.\n",
      " |  \n",
      " |  extend(self, iterable, /)\n",
      " |      Extend list by appending elements from the iterable.\n",
      " |  \n",
      " |  index(self, value, start=0, stop=9223372036854775807, /)\n",
      " |      Return first index of value.\n",
      " |      \n",
      " |      Raises ValueError if the value is not present.\n",
      " |  \n",
      " |  insert(self, index, object, /)\n",
      " |      Insert object before index.\n",
      " |  \n",
      " |  pop(self, index=-1, /)\n",
      " |      Remove and return item at index (default last).\n",
      " |      \n",
      " |      Raises IndexError if list is empty or index is out of range.\n",
      " |  \n",
      " |  remove(self, value, /)\n",
      " |      Remove first occurrence of value.\n",
      " |      \n",
      " |      Raises ValueError if the value is not present.\n",
      " |  \n",
      " |  reverse(self, /)\n",
      " |      Reverse *IN PLACE*.\n",
      " |  \n",
      " |  sort(self, /, *, key=None, reverse=False)\n",
      " |      Sort the list in ascending order and return None.\n",
      " |      \n",
      " |      The sort is in-place (i.e. the list itself is modified) and stable (i.e. the\n",
      " |      order of two equal elements is maintained).\n",
      " |      \n",
      " |      If a key function is given, apply it once to each list item and sort them,\n",
      " |      ascending or descending, according to their function values.\n",
      " |      \n",
      " |      The reverse flag can be set to sort in descending order.\n",
      " |  \n",
      " |  ----------------------------------------------------------------------\n",
      " |  Class methods defined here:\n",
      " |  \n",
      " |  __class_getitem__(...) from builtins.type\n",
      " |      See PEP 585\n",
      " |  \n",
      " |  ----------------------------------------------------------------------\n",
      " |  Static methods defined here:\n",
      " |  \n",
      " |  __new__(*args, **kwargs) from builtins.type\n",
      " |      Create and return a new object.  See help(type) for accurate signature.\n",
      " |  \n",
      " |  ----------------------------------------------------------------------\n",
      " |  Data and other attributes defined here:\n",
      " |  \n",
      " |  __hash__ = None\n",
      "\n"
     ]
    }
   ],
   "source": [
    "help(l)"
   ]
  },
  {
   "cell_type": "markdown",
   "id": "cff57b54",
   "metadata": {},
   "source": [
    "## 03 列表切片和索引"
   ]
  },
  {
   "cell_type": "code",
   "execution_count": 25,
   "id": "53076227",
   "metadata": {},
   "outputs": [
    {
     "data": {
      "text/plain": [
       "[['经', '济', '与', '管', '理', '学', '院', '大', '数', '据', '分', '析'],\n",
       " ['经济', '管理', '大数据', '分析'],\n",
       " '大家一起来学习']"
      ]
     },
     "execution_count": 25,
     "metadata": {},
     "output_type": "execute_result"
    }
   ],
   "source": [
    "l3"
   ]
  },
  {
   "cell_type": "code",
   "execution_count": 26,
   "id": "ba4bf5db",
   "metadata": {},
   "outputs": [],
   "source": [
    "#索引\n",
    "l4=list(l3[2])"
   ]
  },
  {
   "cell_type": "code",
   "execution_count": 27,
   "id": "30bcaafa",
   "metadata": {},
   "outputs": [
    {
     "data": {
      "text/plain": [
       "['大', '家', '一', '起', '来', '学', '习']"
      ]
     },
     "execution_count": 27,
     "metadata": {},
     "output_type": "execute_result"
    }
   ],
   "source": [
    "l4"
   ]
  },
  {
   "cell_type": "code",
   "execution_count": 29,
   "id": "7047d096",
   "metadata": {},
   "outputs": [
    {
     "data": {
      "text/plain": [
       "'大家一起来学习'"
      ]
     },
     "execution_count": 29,
     "metadata": {},
     "output_type": "execute_result"
    }
   ],
   "source": [
    "l3[-1]"
   ]
  },
  {
   "cell_type": "code",
   "execution_count": 30,
   "id": "99eafd48",
   "metadata": {},
   "outputs": [
    {
     "data": {
      "text/plain": [
       "[['经', '济', '与', '管', '理', '学', '院', '大', '数', '据', '分', '析'],\n",
       " ['经济', '管理', '大数据', '分析'],\n",
       " '大家一起来学习']"
      ]
     },
     "execution_count": 30,
     "metadata": {},
     "output_type": "execute_result"
    }
   ],
   "source": [
    "#切片 start:stop:stop\n",
    "l3"
   ]
  },
  {
   "cell_type": "code",
   "execution_count": 32,
   "id": "86ad4911",
   "metadata": {},
   "outputs": [
    {
     "data": {
      "text/plain": [
       "['经', '济', '与', '管', '理', '学', '院', '大', '数', '据', '分', '析']"
      ]
     },
     "execution_count": 32,
     "metadata": {},
     "output_type": "execute_result"
    }
   ],
   "source": [
    "l5=l3[0]\n",
    "l5"
   ]
  },
  {
   "cell_type": "code",
   "execution_count": 34,
   "id": "bc277d1d",
   "metadata": {},
   "outputs": [
    {
     "data": {
      "text/plain": [
       "['管', '理', '学', '院', '大', '数', '据', '分', '析']"
      ]
     },
     "execution_count": 34,
     "metadata": {},
     "output_type": "execute_result"
    }
   ],
   "source": [
    "l5[3:]"
   ]
  },
  {
   "cell_type": "code",
   "execution_count": 33,
   "id": "a4cd3dbe",
   "metadata": {},
   "outputs": [
    {
     "data": {
      "text/plain": [
       "['数', '据', '分', '析']"
      ]
     },
     "execution_count": 33,
     "metadata": {},
     "output_type": "execute_result"
    }
   ],
   "source": [
    "l5[-4:]"
   ]
  },
  {
   "cell_type": "code",
   "execution_count": 35,
   "id": "7b8825a4",
   "metadata": {},
   "outputs": [
    {
     "data": {
      "text/plain": [
       "['经', '济', '与', '管', '理', '学', '院', '大']"
      ]
     },
     "execution_count": 35,
     "metadata": {},
     "output_type": "execute_result"
    }
   ],
   "source": [
    "l5[:-4]"
   ]
  },
  {
   "cell_type": "code",
   "execution_count": 37,
   "id": "88312480",
   "metadata": {},
   "outputs": [
    {
     "data": {
      "text/plain": [
       "[]"
      ]
     },
     "execution_count": 37,
     "metadata": {},
     "output_type": "execute_result"
    }
   ],
   "source": [
    "l5[6:-8]"
   ]
  },
  {
   "cell_type": "code",
   "execution_count": 40,
   "id": "73be6666",
   "metadata": {},
   "outputs": [
    {
     "data": {
      "text/plain": [
       "['经', '与', '理', '院', '数', '分']"
      ]
     },
     "execution_count": 40,
     "metadata": {},
     "output_type": "execute_result"
    }
   ],
   "source": [
    "l5[::2]"
   ]
  },
  {
   "cell_type": "markdown",
   "id": "2d6be336",
   "metadata": {},
   "source": [
    "## 04 常用的方法\n",
    "* 追加、删除、更新、排序"
   ]
  },
  {
   "cell_type": "code",
   "execution_count": 41,
   "id": "b130e75f",
   "metadata": {},
   "outputs": [
    {
     "data": {
      "text/plain": [
       "str"
      ]
     },
     "execution_count": 41,
     "metadata": {},
     "output_type": "execute_result"
    }
   ],
   "source": [
    "id(l5)\n",
    "len(l5)\n",
    "type(l5)\n",
    "type(l5[1])"
   ]
  },
  {
   "cell_type": "code",
   "execution_count": 42,
   "id": "709f21e6",
   "metadata": {},
   "outputs": [
    {
     "data": {
      "text/plain": [
       "['经', '济', '与', '管', '理', '学', '院', '大', '数', '据', '分', '析', '课程']"
      ]
     },
     "execution_count": 42,
     "metadata": {},
     "output_type": "execute_result"
    }
   ],
   "source": [
    "#追加 append,extend,insert\n",
    "l5.append('课程')\n",
    "l5"
   ]
  },
  {
   "cell_type": "code",
   "execution_count": 44,
   "id": "a5126101",
   "metadata": {},
   "outputs": [
    {
     "data": {
      "text/plain": [
       "['经',\n",
       " '济',\n",
       " '与',\n",
       " '管',\n",
       " '理',\n",
       " '学',\n",
       " '院',\n",
       " '大',\n",
       " '数',\n",
       " '据',\n",
       " '分',\n",
       " '析',\n",
       " '课程',\n",
       " ['课', '程'],\n",
       " ['课', '程']]"
      ]
     },
     "execution_count": 44,
     "metadata": {},
     "output_type": "execute_result"
    }
   ],
   "source": [
    "l5.append(['课','程'])\n",
    "l5"
   ]
  },
  {
   "cell_type": "code",
   "execution_count": 46,
   "id": "ee1ff772",
   "metadata": {},
   "outputs": [
    {
     "data": {
      "text/plain": [
       "['经',\n",
       " '济',\n",
       " '与',\n",
       " '管',\n",
       " '理',\n",
       " '学',\n",
       " '院',\n",
       " '大',\n",
       " '数',\n",
       " '据',\n",
       " '分',\n",
       " '析',\n",
       " '课程',\n",
       " ['课', '程'],\n",
       " ['课', '程'],\n",
       " '很',\n",
       " '好',\n",
       " '玩',\n",
       " '很',\n",
       " '好',\n",
       " '玩']"
      ]
     },
     "execution_count": 46,
     "metadata": {},
     "output_type": "execute_result"
    }
   ],
   "source": [
    "l5.extend('很好玩')\n",
    "l5"
   ]
  },
  {
   "cell_type": "code",
   "execution_count": 47,
   "id": "df23ef86",
   "metadata": {},
   "outputs": [
    {
     "data": {
      "text/plain": [
       "['经',\n",
       " '济',\n",
       " '与',\n",
       " '管',\n",
       " '理',\n",
       " '学',\n",
       " '院',\n",
       " '大',\n",
       " '数',\n",
       " '据',\n",
       " '分',\n",
       " '析',\n",
       " '课程',\n",
       " ['课', '程'],\n",
       " ['课', '程'],\n",
       " '很',\n",
       " '好',\n",
       " '玩',\n",
       " '很',\n",
       " '好',\n",
       " '玩',\n",
       " 90,\n",
       " 100]"
      ]
     },
     "execution_count": 47,
     "metadata": {},
     "output_type": "execute_result"
    }
   ],
   "source": [
    "l5.extend([90,100])\n",
    "l5"
   ]
  },
  {
   "cell_type": "code",
   "execution_count": 48,
   "id": "447a41b0",
   "metadata": {},
   "outputs": [],
   "source": [
    "l6=['zhangsan',9876.54]"
   ]
  },
  {
   "cell_type": "code",
   "execution_count": 49,
   "id": "71e63b92",
   "metadata": {},
   "outputs": [],
   "source": [
    "l6.append('女')"
   ]
  },
  {
   "cell_type": "code",
   "execution_count": 50,
   "id": "79cb7241",
   "metadata": {},
   "outputs": [],
   "source": [
    "l6.append(['总经理','506'])"
   ]
  },
  {
   "cell_type": "code",
   "execution_count": 53,
   "id": "c876d4ea",
   "metadata": {},
   "outputs": [],
   "source": [
    "l6.append(('福建省','已婚'))"
   ]
  },
  {
   "cell_type": "code",
   "execution_count": 54,
   "id": "fa3a50a5",
   "metadata": {},
   "outputs": [
    {
     "data": {
      "text/plain": [
       "['zhangsan', 9876.54, '女', ['总经理', '506'], ('福建省', '已婚')]"
      ]
     },
     "execution_count": 54,
     "metadata": {},
     "output_type": "execute_result"
    }
   ],
   "source": [
    "l6"
   ]
  },
  {
   "cell_type": "code",
   "execution_count": 55,
   "id": "a56f92be",
   "metadata": {},
   "outputs": [
    {
     "data": {
      "text/plain": [
       "tuple"
      ]
     },
     "execution_count": 55,
     "metadata": {},
     "output_type": "execute_result"
    }
   ],
   "source": [
    "type(l6[4])"
   ]
  },
  {
   "cell_type": "code",
   "execution_count": 56,
   "id": "f892d9ea",
   "metadata": {},
   "outputs": [],
   "source": [
    "l6.extend('女')"
   ]
  },
  {
   "cell_type": "code",
   "execution_count": 57,
   "id": "5cc3bd8b",
   "metadata": {},
   "outputs": [
    {
     "data": {
      "text/plain": [
       "['zhangsan', 9876.54, '女', ['总经理', '506'], ('福建省', '已婚'), '女']"
      ]
     },
     "execution_count": 57,
     "metadata": {},
     "output_type": "execute_result"
    }
   ],
   "source": [
    "l6"
   ]
  },
  {
   "cell_type": "code",
   "execution_count": 58,
   "id": "71162f8e",
   "metadata": {},
   "outputs": [],
   "source": [
    "l6.extend(['总经理','506'])"
   ]
  },
  {
   "cell_type": "code",
   "execution_count": 59,
   "id": "e7f6f7a4",
   "metadata": {},
   "outputs": [
    {
     "data": {
      "text/plain": [
       "['zhangsan', 9876.54, '女', ['总经理', '506'], ('福建省', '已婚'), '女', '总经理', '506']"
      ]
     },
     "execution_count": 59,
     "metadata": {},
     "output_type": "execute_result"
    }
   ],
   "source": [
    "l6"
   ]
  },
  {
   "cell_type": "code",
   "execution_count": 60,
   "id": "3418945d",
   "metadata": {},
   "outputs": [],
   "source": [
    "l6.extend(('福建省','已婚'))"
   ]
  },
  {
   "cell_type": "code",
   "execution_count": 62,
   "id": "c1935e9d",
   "metadata": {},
   "outputs": [
    {
     "data": {
      "text/plain": [
       "['zhangsan',\n",
       " 9876.54,\n",
       " '女',\n",
       " ['总经理', '506'],\n",
       " ('福建省', '已婚'),\n",
       " '女',\n",
       " '总经理',\n",
       " '506',\n",
       " '福建省',\n",
       " '已婚']"
      ]
     },
     "execution_count": 62,
     "metadata": {},
     "output_type": "execute_result"
    }
   ],
   "source": [
    "l6"
   ]
  },
  {
   "cell_type": "code",
   "execution_count": 63,
   "id": "ec2bc662",
   "metadata": {},
   "outputs": [],
   "source": [
    "##insert\n",
    "l6.insert(2,'1990-9-1')"
   ]
  },
  {
   "cell_type": "code",
   "execution_count": 65,
   "id": "b5bc14b8",
   "metadata": {},
   "outputs": [
    {
     "data": {
      "text/plain": [
       "['zhangsan',\n",
       " 9876.54,\n",
       " '1990-9-1',\n",
       " '女',\n",
       " ['总经理', '506'],\n",
       " ('福建省', '已婚'),\n",
       " '女',\n",
       " '总经理',\n",
       " '506',\n",
       " '福建省',\n",
       " '已婚']"
      ]
     },
     "execution_count": 65,
     "metadata": {},
     "output_type": "execute_result"
    }
   ],
   "source": [
    "l6"
   ]
  },
  {
   "cell_type": "code",
   "execution_count": 66,
   "id": "05ff32c3",
   "metadata": {},
   "outputs": [
    {
     "data": {
      "text/plain": [
       "3248367442368"
      ]
     },
     "execution_count": 66,
     "metadata": {},
     "output_type": "execute_result"
    }
   ],
   "source": [
    "id(l6)"
   ]
  },
  {
   "cell_type": "code",
   "execution_count": 67,
   "id": "a248c932",
   "metadata": {},
   "outputs": [],
   "source": [
    "l6.insert(6,20)"
   ]
  },
  {
   "cell_type": "code",
   "execution_count": 70,
   "id": "412c12c3",
   "metadata": {},
   "outputs": [
    {
     "data": {
      "text/plain": [
       "['zhangsan',\n",
       " 9876.54,\n",
       " '1990-9-1',\n",
       " '女',\n",
       " ['总经理', '506'],\n",
       " ('福建省', '已婚'),\n",
       " 20,\n",
       " '女',\n",
       " '总经理',\n",
       " '506',\n",
       " '福建省',\n",
       " '已婚']"
      ]
     },
     "execution_count": 70,
     "metadata": {},
     "output_type": "execute_result"
    }
   ],
   "source": [
    "id(l6)\n",
    "l6"
   ]
  },
  {
   "cell_type": "code",
   "execution_count": 71,
   "id": "2b7332ff",
   "metadata": {},
   "outputs": [],
   "source": [
    "#删除 remove pop"
   ]
  },
  {
   "cell_type": "code",
   "execution_count": 72,
   "id": "acb1aabd",
   "metadata": {},
   "outputs": [],
   "source": [
    "l6.remove(['总经理', '506'])"
   ]
  },
  {
   "cell_type": "code",
   "execution_count": 73,
   "id": "37d823a9",
   "metadata": {},
   "outputs": [
    {
     "data": {
      "text/plain": [
       "['zhangsan',\n",
       " 9876.54,\n",
       " '1990-9-1',\n",
       " '女',\n",
       " ('福建省', '已婚'),\n",
       " 20,\n",
       " '女',\n",
       " '总经理',\n",
       " '506',\n",
       " '福建省',\n",
       " '已婚']"
      ]
     },
     "execution_count": 73,
     "metadata": {},
     "output_type": "execute_result"
    }
   ],
   "source": [
    "l6"
   ]
  },
  {
   "cell_type": "code",
   "execution_count": 74,
   "id": "fdd5ee29",
   "metadata": {},
   "outputs": [
    {
     "data": {
      "text/plain": [
       "'福建省'"
      ]
     },
     "execution_count": 74,
     "metadata": {},
     "output_type": "execute_result"
    }
   ],
   "source": [
    "l6.pop(-2)"
   ]
  },
  {
   "cell_type": "code",
   "execution_count": 76,
   "id": "8ebe046b",
   "metadata": {},
   "outputs": [
    {
     "data": {
      "text/plain": [
       "['zhangsan',\n",
       " 9876.54,\n",
       " '1990-9-1',\n",
       " '女',\n",
       " ('福建省', '已婚'),\n",
       " 20,\n",
       " '女',\n",
       " '总经理',\n",
       " '506',\n",
       " '已婚']"
      ]
     },
     "execution_count": 76,
     "metadata": {},
     "output_type": "execute_result"
    }
   ],
   "source": [
    "l6"
   ]
  },
  {
   "cell_type": "code",
   "execution_count": 77,
   "id": "7a2c4b16",
   "metadata": {},
   "outputs": [],
   "source": [
    "#排序 sort reverse"
   ]
  },
  {
   "cell_type": "code",
   "execution_count": 78,
   "id": "791bbff2",
   "metadata": {},
   "outputs": [
    {
     "data": {
      "text/plain": [
       "['zhangsan',\n",
       " 9876.54,\n",
       " '1990-9-1',\n",
       " '女',\n",
       " ('福建省', '已婚'),\n",
       " 20,\n",
       " '女',\n",
       " '总经理',\n",
       " '506',\n",
       " '已婚']"
      ]
     },
     "execution_count": 78,
     "metadata": {},
     "output_type": "execute_result"
    }
   ],
   "source": [
    "l6"
   ]
  },
  {
   "cell_type": "code",
   "execution_count": 79,
   "id": "ab8424b5",
   "metadata": {},
   "outputs": [
    {
     "ename": "TypeError",
     "evalue": "'<' not supported between instances of 'float' and 'str'",
     "output_type": "error",
     "traceback": [
      "\u001b[1;31m---------------------------------------------------------------------------\u001b[0m",
      "\u001b[1;31mTypeError\u001b[0m                                 Traceback (most recent call last)",
      "\u001b[1;32m~\\AppData\\Local\\Temp/ipykernel_11048/3072110590.py\u001b[0m in \u001b[0;36m<module>\u001b[1;34m\u001b[0m\n\u001b[1;32m----> 1\u001b[1;33m \u001b[0ml6\u001b[0m\u001b[1;33m.\u001b[0m\u001b[0msort\u001b[0m\u001b[1;33m(\u001b[0m\u001b[1;33m)\u001b[0m\u001b[1;33m\u001b[0m\u001b[1;33m\u001b[0m\u001b[0m\n\u001b[0m",
      "\u001b[1;31mTypeError\u001b[0m: '<' not supported between instances of 'float' and 'str'"
     ]
    }
   ],
   "source": [
    "l6.sort()"
   ]
  },
  {
   "cell_type": "code",
   "execution_count": 89,
   "id": "71ede57c",
   "metadata": {},
   "outputs": [],
   "source": [
    "l11=[0,7,2,0,0,7,1,2,4]"
   ]
  },
  {
   "cell_type": "code",
   "execution_count": 81,
   "id": "c4a417b0",
   "metadata": {},
   "outputs": [],
   "source": [
    "l11.sort()"
   ]
  },
  {
   "cell_type": "code",
   "execution_count": 82,
   "id": "e9fd9992",
   "metadata": {},
   "outputs": [],
   "source": [
    "l11.reverse()"
   ]
  },
  {
   "cell_type": "code",
   "execution_count": 84,
   "id": "3003f87e",
   "metadata": {},
   "outputs": [
    {
     "data": {
      "text/plain": [
       "[7, 7, 4, 2, 2, 1, 0, 0, 0]"
      ]
     },
     "execution_count": 84,
     "metadata": {},
     "output_type": "execute_result"
    }
   ],
   "source": [
    "l11"
   ]
  },
  {
   "cell_type": "code",
   "execution_count": 85,
   "id": "1b877af0",
   "metadata": {},
   "outputs": [],
   "source": [
    "#更新\n",
    "l11[0]=9"
   ]
  },
  {
   "cell_type": "code",
   "execution_count": 86,
   "id": "93079f72",
   "metadata": {},
   "outputs": [
    {
     "data": {
      "text/plain": [
       "[9, 7, 4, 2, 2, 1, 0, 0, 0]"
      ]
     },
     "execution_count": 86,
     "metadata": {},
     "output_type": "execute_result"
    }
   ],
   "source": [
    "l11"
   ]
  },
  {
   "cell_type": "code",
   "execution_count": 87,
   "id": "dfdbe1e8",
   "metadata": {},
   "outputs": [],
   "source": [
    "l11[0:3]='*'"
   ]
  },
  {
   "cell_type": "code",
   "execution_count": 91,
   "id": "bd3beb73",
   "metadata": {},
   "outputs": [],
   "source": [
    "l11[-3:-1]=['*','*']"
   ]
  },
  {
   "cell_type": "code",
   "execution_count": 92,
   "id": "d27795a0",
   "metadata": {},
   "outputs": [
    {
     "data": {
      "text/plain": [
       "[0, 7, 2, 0, 0, 7, '*', '*', 4]"
      ]
     },
     "execution_count": 92,
     "metadata": {},
     "output_type": "execute_result"
    }
   ],
   "source": [
    "l11"
   ]
  },
  {
   "cell_type": "markdown",
   "id": "621f28d7",
   "metadata": {},
   "source": [
    "## 05 列表运算\n",
    "* 算术运算、比较运算、成员运算、身份运算"
   ]
  },
  {
   "cell_type": "code",
   "execution_count": 93,
   "id": "0a68d431",
   "metadata": {},
   "outputs": [],
   "source": [
    "#算术运算\n",
    "l1=[70,80,90]\n",
    "l2=['zhangsan','lisi','wangwu']"
   ]
  },
  {
   "cell_type": "code",
   "execution_count": 94,
   "id": "2df8e100",
   "metadata": {},
   "outputs": [],
   "source": [
    "l3=l1+l2"
   ]
  },
  {
   "cell_type": "code",
   "execution_count": 95,
   "id": "2498a478",
   "metadata": {},
   "outputs": [
    {
     "data": {
      "text/plain": [
       "[70, 80, 90, 'zhangsan', 'lisi', 'wangwu']"
      ]
     },
     "execution_count": 95,
     "metadata": {},
     "output_type": "execute_result"
    }
   ],
   "source": [
    "l3"
   ]
  },
  {
   "cell_type": "code",
   "execution_count": 97,
   "id": "9537be3e",
   "metadata": {},
   "outputs": [],
   "source": [
    "l4=[None,'zhaoliu']\n",
    "l5=l3+l4"
   ]
  },
  {
   "cell_type": "code",
   "execution_count": 98,
   "id": "38243ccd",
   "metadata": {},
   "outputs": [
    {
     "data": {
      "text/plain": [
       "[70, 80, 90, 'zhangsan', 'lisi', 'wangwu', None, 'zhaoliu']"
      ]
     },
     "execution_count": 98,
     "metadata": {},
     "output_type": "execute_result"
    }
   ],
   "source": [
    "l5"
   ]
  },
  {
   "cell_type": "code",
   "execution_count": 99,
   "id": "e93072af",
   "metadata": {},
   "outputs": [
    {
     "data": {
      "text/plain": [
       "([70, 80, 90], ['zhangsan', 'lisi', 'wangwu'])"
      ]
     },
     "execution_count": 99,
     "metadata": {},
     "output_type": "execute_result"
    }
   ],
   "source": [
    "l1,l2"
   ]
  },
  {
   "cell_type": "code",
   "execution_count": 100,
   "id": "41737ee0",
   "metadata": {},
   "outputs": [
    {
     "data": {
      "text/plain": [
       "([70, 'zhangsan'], [80, 'lisi'])"
      ]
     },
     "execution_count": 100,
     "metadata": {},
     "output_type": "execute_result"
    }
   ],
   "source": [
    "l6=[l1[0],l2[0]]\n",
    "l7=[l1[1],l2[1]]\n",
    "l6,l7"
   ]
  },
  {
   "cell_type": "code",
   "execution_count": 101,
   "id": "f50cb1af",
   "metadata": {},
   "outputs": [
    {
     "data": {
      "text/plain": [
       "True"
      ]
     },
     "execution_count": 101,
     "metadata": {},
     "output_type": "execute_result"
    }
   ],
   "source": [
    "l6<l7"
   ]
  },
  {
   "cell_type": "code",
   "execution_count": 102,
   "id": "15be813b",
   "metadata": {},
   "outputs": [],
   "source": [
    "l7[0]=70"
   ]
  },
  {
   "cell_type": "code",
   "execution_count": 103,
   "id": "20c6b3f8",
   "metadata": {},
   "outputs": [
    {
     "data": {
      "text/plain": [
       "False"
      ]
     },
     "execution_count": 103,
     "metadata": {},
     "output_type": "execute_result"
    }
   ],
   "source": [
    "l6==l7"
   ]
  },
  {
   "cell_type": "code",
   "execution_count": 104,
   "id": "2cb114bc",
   "metadata": {},
   "outputs": [
    {
     "data": {
      "text/plain": [
       "True"
      ]
     },
     "execution_count": 104,
     "metadata": {},
     "output_type": "execute_result"
    }
   ],
   "source": [
    "l6>l7"
   ]
  },
  {
   "cell_type": "code",
   "execution_count": 105,
   "id": "2ac01940",
   "metadata": {},
   "outputs": [
    {
     "data": {
      "text/plain": [
       "False"
      ]
     },
     "execution_count": 105,
     "metadata": {},
     "output_type": "execute_result"
    }
   ],
   "source": [
    "l6 in l7"
   ]
  },
  {
   "cell_type": "code",
   "execution_count": 106,
   "id": "47ed269b",
   "metadata": {},
   "outputs": [
    {
     "data": {
      "text/plain": [
       "[70, 'lisi']"
      ]
     },
     "execution_count": 106,
     "metadata": {},
     "output_type": "execute_result"
    }
   ],
   "source": [
    "l7"
   ]
  },
  {
   "cell_type": "code",
   "execution_count": 109,
   "id": "39f2f036",
   "metadata": {},
   "outputs": [],
   "source": [
    "l7.append([70,'zhangsan'])"
   ]
  },
  {
   "cell_type": "code",
   "execution_count": 110,
   "id": "8b1c5b01",
   "metadata": {},
   "outputs": [
    {
     "data": {
      "text/plain": [
       "True"
      ]
     },
     "execution_count": 110,
     "metadata": {},
     "output_type": "execute_result"
    }
   ],
   "source": [
    "l6 in l7"
   ]
  },
  {
   "cell_type": "code",
   "execution_count": 111,
   "id": "dd1954fb",
   "metadata": {},
   "outputs": [],
   "source": [
    "l8=l7"
   ]
  },
  {
   "cell_type": "code",
   "execution_count": 112,
   "id": "0abf80e3",
   "metadata": {},
   "outputs": [
    {
     "data": {
      "text/plain": [
       "True"
      ]
     },
     "execution_count": 112,
     "metadata": {},
     "output_type": "execute_result"
    }
   ],
   "source": [
    "l7 is l8"
   ]
  },
  {
   "cell_type": "code",
   "execution_count": 113,
   "id": "57aeafc7",
   "metadata": {},
   "outputs": [
    {
     "data": {
      "text/plain": [
       "[70, 'lisi', 'zhangsan', [70, 'zhangsan']]"
      ]
     },
     "execution_count": 113,
     "metadata": {},
     "output_type": "execute_result"
    }
   ],
   "source": [
    "l8"
   ]
  },
  {
   "cell_type": "code",
   "execution_count": 114,
   "id": "782873e1",
   "metadata": {},
   "outputs": [
    {
     "data": {
      "text/plain": [
       "3248368420800"
      ]
     },
     "execution_count": 114,
     "metadata": {},
     "output_type": "execute_result"
    }
   ],
   "source": [
    "id(l7)"
   ]
  },
  {
   "cell_type": "code",
   "execution_count": 115,
   "id": "8bdba939",
   "metadata": {},
   "outputs": [
    {
     "data": {
      "text/plain": [
       "3248368420800"
      ]
     },
     "execution_count": 115,
     "metadata": {},
     "output_type": "execute_result"
    }
   ],
   "source": [
    "id(l8)"
   ]
  },
  {
   "cell_type": "code",
   "execution_count": null,
   "id": "f7765098",
   "metadata": {},
   "outputs": [],
   "source": [
    "#列表优点：灵活好用，可以索引、切片、更改、附加、插入、删除、排序等\n",
    "#列表缺点：相比tuple元组，创建和遍历的速度较慢，占用内存，查找和插入的时间也比较慢"
   ]
  }
 ],
 "metadata": {
  "kernelspec": {
   "display_name": "Python 3 (ipykernel)",
   "language": "python",
   "name": "python3"
  },
  "language_info": {
   "codemirror_mode": {
    "name": "ipython",
    "version": 3
   },
   "file_extension": ".py",
   "mimetype": "text/x-python",
   "name": "python",
   "nbconvert_exporter": "python",
   "pygments_lexer": "ipython3",
   "version": "3.9.7"
  }
 },
 "nbformat": 4,
 "nbformat_minor": 5
}
