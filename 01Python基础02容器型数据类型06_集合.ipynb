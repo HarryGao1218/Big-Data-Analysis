{
 "cells": [
  {
   "cell_type": "markdown",
   "id": "d0dbb35d",
   "metadata": {},
   "source": [
    "# 01Python基础02容器型数据类型06——集合"
   ]
  },
  {
   "cell_type": "markdown",
   "id": "02bb96d1",
   "metadata": {},
   "source": [
    "## 01 集合概述"
   ]
  },
  {
   "cell_type": "code",
   "execution_count": null,
   "id": "559fb99a",
   "metadata": {},
   "outputs": [],
   "source": [
    "#set 存储无序且唯一对象的容器 s={x1,x2,x3...xn}\n",
    "# set() "
   ]
  },
  {
   "cell_type": "markdown",
   "id": "b4c039c5",
   "metadata": {},
   "source": [
    "## 02 集合创建"
   ]
  },
  {
   "cell_type": "code",
   "execution_count": 1,
   "id": "72ea8ddf",
   "metadata": {},
   "outputs": [
    {
     "name": "stdout",
     "output_type": "stream",
     "text": [
      "<class 'set'>\n",
      "2197455125408\n",
      "{1, 2, 3}\n"
     ]
    }
   ],
   "source": [
    "s1={1,2,3}\n",
    "print(type(s1))\n",
    "print(id(s1))\n",
    "print(s1)"
   ]
  },
  {
   "cell_type": "code",
   "execution_count": 2,
   "id": "3c5a1bd2",
   "metadata": {},
   "outputs": [
    {
     "name": "stdout",
     "output_type": "stream",
     "text": [
      "{1, 2, 3}\n"
     ]
    }
   ],
   "source": [
    "s2={1,2,3,3}\n",
    "print(s2)"
   ]
  },
  {
   "cell_type": "code",
   "execution_count": 8,
   "id": "cbf97da3",
   "metadata": {},
   "outputs": [],
   "source": [
    "s3=set('大数据分析数据')\n",
    "l3=list('大数据分析数据')"
   ]
  },
  {
   "cell_type": "code",
   "execution_count": 9,
   "id": "b016bb01",
   "metadata": {},
   "outputs": [
    {
     "name": "stdout",
     "output_type": "stream",
     "text": [
      "{'数', '分', '据', '大', '析'}\n",
      "['大', '数', '据', '分', '析', '数', '据']\n"
     ]
    }
   ],
   "source": [
    "print(s3)\n",
    "print(l3)"
   ]
  },
  {
   "cell_type": "code",
   "execution_count": 10,
   "id": "2f8670c7",
   "metadata": {},
   "outputs": [],
   "source": [
    "s4=set(['大数据分析数据'])"
   ]
  },
  {
   "cell_type": "code",
   "execution_count": 11,
   "id": "a875b783",
   "metadata": {},
   "outputs": [
    {
     "data": {
      "text/plain": [
       "{'大数据分析数据'}"
      ]
     },
     "execution_count": 11,
     "metadata": {},
     "output_type": "execute_result"
    }
   ],
   "source": [
    "s4"
   ]
  },
  {
   "cell_type": "code",
   "execution_count": 12,
   "id": "77480487",
   "metadata": {},
   "outputs": [],
   "source": [
    "s5=set(('大数据分析数据'))"
   ]
  },
  {
   "cell_type": "code",
   "execution_count": 13,
   "id": "be11f736",
   "metadata": {},
   "outputs": [
    {
     "data": {
      "text/plain": [
       "{'分', '大', '据', '数', '析'}"
      ]
     },
     "execution_count": 13,
     "metadata": {},
     "output_type": "execute_result"
    }
   ],
   "source": [
    "s5"
   ]
  },
  {
   "cell_type": "code",
   "execution_count": 14,
   "id": "be539daf",
   "metadata": {},
   "outputs": [],
   "source": [
    "l5=list(s5)"
   ]
  },
  {
   "cell_type": "code",
   "execution_count": 15,
   "id": "b47efca3",
   "metadata": {},
   "outputs": [
    {
     "data": {
      "text/plain": [
       "['数', '分', '据', '大', '析']"
      ]
     },
     "execution_count": 15,
     "metadata": {},
     "output_type": "execute_result"
    }
   ],
   "source": [
    "l5"
   ]
  },
  {
   "cell_type": "code",
   "execution_count": 16,
   "id": "e62ea1c4",
   "metadata": {},
   "outputs": [],
   "source": [
    "t5=tuple(s5)"
   ]
  },
  {
   "cell_type": "code",
   "execution_count": 18,
   "id": "90b6e3c8",
   "metadata": {},
   "outputs": [
    {
     "data": {
      "text/plain": [
       "('数', '分', '据', '大', '析')"
      ]
     },
     "execution_count": 18,
     "metadata": {},
     "output_type": "execute_result"
    }
   ],
   "source": [
    "t5"
   ]
  },
  {
   "cell_type": "code",
   "execution_count": 19,
   "id": "d1065ec4",
   "metadata": {},
   "outputs": [
    {
     "data": {
      "text/plain": [
       "{'分', '大', '据', '数', '析'}"
      ]
     },
     "execution_count": 19,
     "metadata": {},
     "output_type": "execute_result"
    }
   ],
   "source": [
    "s5"
   ]
  },
  {
   "cell_type": "code",
   "execution_count": 20,
   "id": "d88e51aa",
   "metadata": {},
   "outputs": [
    {
     "data": {
      "text/plain": [
       "True"
      ]
     },
     "execution_count": 20,
     "metadata": {},
     "output_type": "execute_result"
    }
   ],
   "source": [
    "'分' in s5"
   ]
  },
  {
   "cell_type": "code",
   "execution_count": 21,
   "id": "e9011243",
   "metadata": {},
   "outputs": [],
   "source": [
    "s55={'分', '大', '据', '数', '析'}"
   ]
  },
  {
   "cell_type": "code",
   "execution_count": 22,
   "id": "0846417e",
   "metadata": {},
   "outputs": [
    {
     "data": {
      "text/plain": [
       "False"
      ]
     },
     "execution_count": 22,
     "metadata": {},
     "output_type": "execute_result"
    }
   ],
   "source": [
    "s55 is s5"
   ]
  },
  {
   "cell_type": "code",
   "execution_count": 23,
   "id": "a16d4a0d",
   "metadata": {},
   "outputs": [
    {
     "name": "stdout",
     "output_type": "stream",
     "text": [
      "{'数', '析', '分', '据', '大'}\n",
      "{'数', '分', '据', '大', '析'}\n"
     ]
    }
   ],
   "source": [
    "print(s55)\n",
    "print(s5)"
   ]
  },
  {
   "cell_type": "code",
   "execution_count": 24,
   "id": "c6d7b85b",
   "metadata": {},
   "outputs": [
    {
     "ename": "TypeError",
     "evalue": "unhashable type: 'set'",
     "output_type": "error",
     "traceback": [
      "\u001b[1;31m---------------------------------------------------------------------------\u001b[0m",
      "\u001b[1;31mTypeError\u001b[0m                                 Traceback (most recent call last)",
      "\u001b[1;32m~\\AppData\\Local\\Temp/ipykernel_5280/1281231328.py\u001b[0m in \u001b[0;36m<module>\u001b[1;34m\u001b[0m\n\u001b[1;32m----> 1\u001b[1;33m \u001b[0mhash\u001b[0m\u001b[1;33m(\u001b[0m\u001b[0ms55\u001b[0m\u001b[1;33m)\u001b[0m\u001b[1;33m\u001b[0m\u001b[1;33m\u001b[0m\u001b[0m\n\u001b[0m",
      "\u001b[1;31mTypeError\u001b[0m: unhashable type: 'set'"
     ]
    }
   ],
   "source": [
    "hash(s55)"
   ]
  },
  {
   "cell_type": "markdown",
   "id": "3a2ed59e",
   "metadata": {},
   "source": [
    "## 03 集合运算\n",
    "- 并，交，补，对称差集，互斥，超集，子集"
   ]
  },
  {
   "cell_type": "code",
   "execution_count": 25,
   "id": "d50078b2",
   "metadata": {},
   "outputs": [],
   "source": [
    "s1=set('经济与管理学院')\n",
    "s2=set('管理科学与工程系')"
   ]
  },
  {
   "cell_type": "code",
   "execution_count": 26,
   "id": "fd4c32b2",
   "metadata": {},
   "outputs": [
    {
     "name": "stdout",
     "output_type": "stream",
     "text": [
      "{'管', '经', '理', '济', '与', '院', '学'}\n",
      "{'管', '理', '科', '程', '系', '与', '学', '工'}\n"
     ]
    }
   ],
   "source": [
    "print(s1)\n",
    "print(s2)"
   ]
  },
  {
   "cell_type": "code",
   "execution_count": 36,
   "id": "5bd837e4",
   "metadata": {},
   "outputs": [],
   "source": [
    "#并运算 union |"
   ]
  },
  {
   "cell_type": "code",
   "execution_count": 29,
   "id": "f2c140ed",
   "metadata": {},
   "outputs": [
    {
     "name": "stdout",
     "output_type": "stream",
     "text": [
      "{'管', '经', '理', '科', '程', '系', '济', '与', '院', '学', '工'}\n",
      "{'管', '经', '理', '科', '程', '系', '与', '济', '院', '学', '工'}\n"
     ]
    }
   ],
   "source": [
    "print(s1.union(s2))\n",
    "print(s1 | s2)"
   ]
  },
  {
   "cell_type": "code",
   "execution_count": 30,
   "id": "1cc9c877",
   "metadata": {},
   "outputs": [
    {
     "name": "stdout",
     "output_type": "stream",
     "text": [
      "{'管', '经', '理', '科', '程', '系', '与', '济', '院', '学', '工'}\n",
      "{'管', '经', '理', '科', '程', '系', '济', '与', '院', '学', '工'}\n"
     ]
    }
   ],
   "source": [
    "print(s2.union(s1))\n",
    "print(s2 | s1)"
   ]
  },
  {
   "cell_type": "code",
   "execution_count": 31,
   "id": "fc9950eb",
   "metadata": {},
   "outputs": [],
   "source": [
    "#交运算 intersection &"
   ]
  },
  {
   "cell_type": "code",
   "execution_count": 35,
   "id": "0a6a7c44",
   "metadata": {},
   "outputs": [
    {
     "name": "stdout",
     "output_type": "stream",
     "text": [
      "{'管', '与', '学', '理'}\n",
      "{'管', '与', '学', '理'}\n"
     ]
    }
   ],
   "source": [
    "print(s1.intersection(s2))\n",
    "print(s1 & s2)"
   ]
  },
  {
   "cell_type": "code",
   "execution_count": 34,
   "id": "4b147dcc",
   "metadata": {},
   "outputs": [
    {
     "name": "stdout",
     "output_type": "stream",
     "text": [
      "{'管', '与', '学', '理'}\n",
      "{'管', '与', '学', '理'}\n"
     ]
    }
   ],
   "source": [
    "print(s2.intersection(s1))\n",
    "print(s2 & s1)"
   ]
  },
  {
   "cell_type": "code",
   "execution_count": 37,
   "id": "b139af75",
   "metadata": {},
   "outputs": [],
   "source": [
    "#补运算 difference -"
   ]
  },
  {
   "cell_type": "code",
   "execution_count": 38,
   "id": "955bafdd",
   "metadata": {},
   "outputs": [
    {
     "name": "stdout",
     "output_type": "stream",
     "text": [
      "{'管', '经', '理', '济', '与', '院', '学'}\n",
      "{'管', '理', '科', '程', '系', '与', '学', '工'}\n",
      "{'济', '院', '经'}\n",
      "{'济', '院', '经'}\n"
     ]
    }
   ],
   "source": [
    "print(s1)\n",
    "print(s2)\n",
    "print(s1.difference(s2))\n",
    "print(s1 - s2)"
   ]
  },
  {
   "cell_type": "code",
   "execution_count": 39,
   "id": "5a3d2012",
   "metadata": {},
   "outputs": [
    {
     "name": "stdout",
     "output_type": "stream",
     "text": [
      "{'管', '经', '理', '济', '与', '院', '学'}\n",
      "{'管', '理', '科', '程', '系', '与', '学', '工'}\n",
      "{'工', '科', '系', '程'}\n",
      "{'工', '科', '系', '程'}\n"
     ]
    }
   ],
   "source": [
    "print(s1)\n",
    "print(s2)\n",
    "print(s2.difference(s1))\n",
    "print(s2 - s1)"
   ]
  },
  {
   "cell_type": "code",
   "execution_count": 40,
   "id": "2c5afb7a",
   "metadata": {},
   "outputs": [],
   "source": [
    "#对称差运算 symmetirc_difference ^"
   ]
  },
  {
   "cell_type": "code",
   "execution_count": 41,
   "id": "d5f17ca5",
   "metadata": {},
   "outputs": [
    {
     "name": "stdout",
     "output_type": "stream",
     "text": [
      "{'管', '经', '理', '济', '与', '院', '学'}\n",
      "{'管', '理', '科', '程', '系', '与', '学', '工'}\n",
      "{'经', '科', '程', '系', '济', '院', '工'}\n",
      "{'经', '科', '程', '系', '济', '院', '工'}\n"
     ]
    }
   ],
   "source": [
    "print(s1)\n",
    "print(s2)\n",
    "print(s1.symmetric_difference(s2))\n",
    "print(s1 ^ s2)"
   ]
  },
  {
   "cell_type": "code",
   "execution_count": 42,
   "id": "7124cf04",
   "metadata": {},
   "outputs": [
    {
     "name": "stdout",
     "output_type": "stream",
     "text": [
      "{'管', '经', '理', '济', '与', '院', '学'}\n",
      "{'管', '理', '科', '程', '系', '与', '学', '工'}\n",
      "{'经', '科', '程', '系', '济', '院', '工'}\n",
      "{'经', '科', '程', '系', '济', '院', '工'}\n"
     ]
    }
   ],
   "source": [
    "print(s1)\n",
    "print(s2)\n",
    "print(s2.symmetric_difference(s1))\n",
    "print(s2 ^ s1)"
   ]
  },
  {
   "cell_type": "code",
   "execution_count": 46,
   "id": "7de193d8",
   "metadata": {},
   "outputs": [
    {
     "name": "stdout",
     "output_type": "stream",
     "text": [
      "{'济', '院', '经'}\n",
      "{'工', '科', '系', '程'}\n",
      "True\n",
      "True\n"
     ]
    }
   ],
   "source": [
    "#互斥 isdisjoint\n",
    "s11=s1-s2\n",
    "s11\n",
    "s12=s2-s1\n",
    "s12\n",
    "print(s11)\n",
    "print(s12)\n",
    "print(s11.isdisjoint(s12))\n",
    "print(s12.isdisjoint(s11))"
   ]
  },
  {
   "cell_type": "code",
   "execution_count": 49,
   "id": "a761aa68",
   "metadata": {},
   "outputs": [
    {
     "data": {
      "text/plain": [
       "True"
      ]
     },
     "execution_count": 49,
     "metadata": {},
     "output_type": "execute_result"
    }
   ],
   "source": [
    "a={1,3,5,7,9}\n",
    "b={1,2,3,6}\n",
    "c=a-b\n",
    "c\n",
    "d=b-a\n",
    "d\n",
    "c.isdisjoint(d)"
   ]
  },
  {
   "cell_type": "code",
   "execution_count": 51,
   "id": "ec40e553",
   "metadata": {},
   "outputs": [
    {
     "name": "stdout",
     "output_type": "stream",
     "text": [
      "False\n",
      "False\n"
     ]
    }
   ],
   "source": [
    "#超集运算 issuperset\n",
    "print(c.issuperset(a))\n",
    "print(c.issuperset(d))"
   ]
  },
  {
   "cell_type": "code",
   "execution_count": 54,
   "id": "b4098fe2",
   "metadata": {},
   "outputs": [
    {
     "name": "stdout",
     "output_type": "stream",
     "text": [
      "True\n",
      "True\n",
      "True\n"
     ]
    }
   ],
   "source": [
    "#子集 issubset\n",
    "print(c.issubset(a))\n",
    "print(c<a)\n",
    "print(c<=a)"
   ]
  },
  {
   "cell_type": "markdown",
   "id": "3f0b1002",
   "metadata": {},
   "source": [
    "## 04 集合常用方法"
   ]
  },
  {
   "cell_type": "code",
   "execution_count": 55,
   "id": "8cf0ab98",
   "metadata": {},
   "outputs": [
    {
     "name": "stdout",
     "output_type": "stream",
     "text": [
      "{1, 3, 5, 7, 9}\n",
      "{1, 2, 3, 6}\n"
     ]
    }
   ],
   "source": [
    "#更新\n",
    "print(a)\n",
    "print(b)"
   ]
  },
  {
   "cell_type": "code",
   "execution_count": 58,
   "id": "77781c92",
   "metadata": {},
   "outputs": [],
   "source": [
    "a1,b1=a.copy(),b.copy()\n",
    "a11=a"
   ]
  },
  {
   "cell_type": "code",
   "execution_count": 59,
   "id": "f8eab060",
   "metadata": {},
   "outputs": [
    {
     "name": "stdout",
     "output_type": "stream",
     "text": [
      "2197492086368\n",
      "2197492087712\n",
      "2197492086368\n"
     ]
    }
   ],
   "source": [
    "print(id(a))\n",
    "print(id(a1))\n",
    "print(id(a11))"
   ]
  },
  {
   "cell_type": "code",
   "execution_count": 60,
   "id": "d106933f",
   "metadata": {},
   "outputs": [],
   "source": [
    "a1.update(b1)"
   ]
  },
  {
   "cell_type": "code",
   "execution_count": 61,
   "id": "256acdf7",
   "metadata": {},
   "outputs": [
    {
     "name": "stdout",
     "output_type": "stream",
     "text": [
      "{1, 2, 3, 5, 6, 7, 9}\n"
     ]
    }
   ],
   "source": [
    "print(a1)"
   ]
  },
  {
   "cell_type": "code",
   "execution_count": 63,
   "id": "74dac322",
   "metadata": {},
   "outputs": [
    {
     "name": "stdout",
     "output_type": "stream",
     "text": [
      "2197492087712\n",
      "2197492085024\n",
      "{1, 2, 3, 6}\n"
     ]
    }
   ],
   "source": [
    "print(id(a1))\n",
    "print(id(b1))\n",
    "print(b1)"
   ]
  },
  {
   "cell_type": "code",
   "execution_count": 65,
   "id": "380ca6ec",
   "metadata": {},
   "outputs": [
    {
     "name": "stdout",
     "output_type": "stream",
     "text": [
      "{1, 2, 3, 5, 6, 7, 9}\n"
     ]
    }
   ],
   "source": [
    "b11 |=a1\n",
    "print(b11)\n",
    "print(id(b11))"
   ]
  },
  {
   "cell_type": "code",
   "execution_count": null,
   "id": "ee33be2f",
   "metadata": {},
   "outputs": [],
   "source": [
    "b11 &=a1\n",
    "print(b11)\n",
    "print(id(b11))"
   ]
  },
  {
   "cell_type": "code",
   "execution_count": 69,
   "id": "74d72a99",
   "metadata": {},
   "outputs": [
    {
     "ename": "NameError",
     "evalue": "name 'b11' is not defined",
     "output_type": "error",
     "traceback": [
      "\u001b[1;31m---------------------------------------------------------------------------\u001b[0m",
      "\u001b[1;31mNameError\u001b[0m                                 Traceback (most recent call last)",
      "\u001b[1;32m~\\AppData\\Local\\Temp/ipykernel_5280/1689951739.py\u001b[0m in \u001b[0;36m<module>\u001b[1;34m\u001b[0m\n\u001b[1;32m----> 1\u001b[1;33m \u001b[0mb11\u001b[0m \u001b[1;33m-=\u001b[0m\u001b[0ma1\u001b[0m\u001b[1;33m\u001b[0m\u001b[1;33m\u001b[0m\u001b[0m\n\u001b[0m\u001b[0;32m      2\u001b[0m \u001b[0mprint\u001b[0m\u001b[1;33m(\u001b[0m\u001b[0mb11\u001b[0m\u001b[1;33m)\u001b[0m\u001b[1;33m\u001b[0m\u001b[1;33m\u001b[0m\u001b[0m\n\u001b[0;32m      3\u001b[0m \u001b[0mprint\u001b[0m\u001b[1;33m(\u001b[0m\u001b[0mid\u001b[0m\u001b[1;33m(\u001b[0m\u001b[0mb11\u001b[0m\u001b[1;33m)\u001b[0m\u001b[1;33m)\u001b[0m\u001b[1;33m\u001b[0m\u001b[1;33m\u001b[0m\u001b[0m\n",
      "\u001b[1;31mNameError\u001b[0m: name 'b11' is not defined"
     ]
    }
   ],
   "source": [
    "b11 -=a1\n",
    "print(b11)\n",
    "print(id(b11))"
   ]
  },
  {
   "cell_type": "code",
   "execution_count": 70,
   "id": "a1e08e56",
   "metadata": {},
   "outputs": [],
   "source": [
    "b={8,10}"
   ]
  },
  {
   "cell_type": "code",
   "execution_count": 71,
   "id": "4be4335b",
   "metadata": {},
   "outputs": [],
   "source": [
    "a1,b1=a.copy(),b.copy()"
   ]
  },
  {
   "cell_type": "code",
   "execution_count": 72,
   "id": "41fbc531",
   "metadata": {},
   "outputs": [
    {
     "data": {
      "text/plain": [
       "{1, 3, 5, 7, 9}"
      ]
     },
     "execution_count": 72,
     "metadata": {},
     "output_type": "execute_result"
    }
   ],
   "source": [
    "a1"
   ]
  },
  {
   "cell_type": "code",
   "execution_count": 74,
   "id": "bb76de19",
   "metadata": {},
   "outputs": [
    {
     "data": {
      "text/plain": [
       "{8, 10}"
      ]
     },
     "execution_count": 74,
     "metadata": {},
     "output_type": "execute_result"
    }
   ],
   "source": [
    "b1"
   ]
  },
  {
   "cell_type": "code",
   "execution_count": 75,
   "id": "98cd6ca6",
   "metadata": {},
   "outputs": [],
   "source": [
    "a1.symmetric_difference_update(b1)"
   ]
  },
  {
   "cell_type": "code",
   "execution_count": 76,
   "id": "c584079f",
   "metadata": {},
   "outputs": [
    {
     "data": {
      "text/plain": [
       "{1, 3, 5, 7, 8, 9, 10}"
      ]
     },
     "execution_count": 76,
     "metadata": {},
     "output_type": "execute_result"
    }
   ],
   "source": [
    "a1"
   ]
  },
  {
   "cell_type": "code",
   "execution_count": 77,
   "id": "a7ebc698",
   "metadata": {},
   "outputs": [],
   "source": [
    "a1.add(2)"
   ]
  },
  {
   "cell_type": "code",
   "execution_count": 78,
   "id": "3b2a278a",
   "metadata": {},
   "outputs": [
    {
     "data": {
      "text/plain": [
       "{1, 2, 3, 5, 7, 8, 9, 10}"
      ]
     },
     "execution_count": 78,
     "metadata": {},
     "output_type": "execute_result"
    }
   ],
   "source": [
    "a1"
   ]
  },
  {
   "cell_type": "code",
   "execution_count": 79,
   "id": "ed52d6bb",
   "metadata": {},
   "outputs": [],
   "source": [
    "a1.remove(2)"
   ]
  },
  {
   "cell_type": "code",
   "execution_count": 80,
   "id": "4fe92ccb",
   "metadata": {},
   "outputs": [
    {
     "data": {
      "text/plain": [
       "{1, 3, 5, 7, 8, 9, 10}"
      ]
     },
     "execution_count": 80,
     "metadata": {},
     "output_type": "execute_result"
    }
   ],
   "source": [
    "a1"
   ]
  },
  {
   "cell_type": "code",
   "execution_count": 81,
   "id": "e80cad14",
   "metadata": {},
   "outputs": [],
   "source": [
    "a1.discard(2)"
   ]
  },
  {
   "cell_type": "code",
   "execution_count": 82,
   "id": "7b61f5b8",
   "metadata": {},
   "outputs": [
    {
     "data": {
      "text/plain": [
       "{1, 3, 5, 7, 8, 9, 10}"
      ]
     },
     "execution_count": 82,
     "metadata": {},
     "output_type": "execute_result"
    }
   ],
   "source": [
    "a1"
   ]
  },
  {
   "cell_type": "code",
   "execution_count": 83,
   "id": "c53818e2",
   "metadata": {},
   "outputs": [],
   "source": [
    "a1.discard(1)"
   ]
  },
  {
   "cell_type": "code",
   "execution_count": 84,
   "id": "83335c1f",
   "metadata": {},
   "outputs": [
    {
     "data": {
      "text/plain": [
       "{3, 5, 7, 8, 9, 10}"
      ]
     },
     "execution_count": 84,
     "metadata": {},
     "output_type": "execute_result"
    }
   ],
   "source": [
    "a1"
   ]
  },
  {
   "cell_type": "code",
   "execution_count": 87,
   "id": "a4f0bfd4",
   "metadata": {},
   "outputs": [
    {
     "data": {
      "text/plain": [
       "3"
      ]
     },
     "execution_count": 87,
     "metadata": {},
     "output_type": "execute_result"
    }
   ],
   "source": [
    "a1.pop()"
   ]
  },
  {
   "cell_type": "code",
   "execution_count": 88,
   "id": "20443818",
   "metadata": {},
   "outputs": [
    {
     "data": {
      "text/plain": [
       "{5, 7, 8, 9, 10}"
      ]
     },
     "execution_count": 88,
     "metadata": {},
     "output_type": "execute_result"
    }
   ],
   "source": [
    "a1"
   ]
  },
  {
   "cell_type": "code",
   "execution_count": 89,
   "id": "a08d17c6",
   "metadata": {},
   "outputs": [
    {
     "data": {
      "text/plain": [
       "{8, 10}"
      ]
     },
     "execution_count": 89,
     "metadata": {},
     "output_type": "execute_result"
    }
   ],
   "source": [
    "b1"
   ]
  },
  {
   "cell_type": "code",
   "execution_count": 91,
   "id": "8ea1bec8",
   "metadata": {},
   "outputs": [],
   "source": [
    "b1.clear()"
   ]
  },
  {
   "cell_type": "code",
   "execution_count": 92,
   "id": "6a97a10d",
   "metadata": {},
   "outputs": [
    {
     "data": {
      "text/plain": [
       "set()"
      ]
     },
     "execution_count": 92,
     "metadata": {},
     "output_type": "execute_result"
    }
   ],
   "source": [
    "b1"
   ]
  }
 ],
 "metadata": {
  "kernelspec": {
   "display_name": "Python 3 (ipykernel)",
   "language": "python",
   "name": "python3"
  },
  "language_info": {
   "codemirror_mode": {
    "name": "ipython",
    "version": 3
   },
   "file_extension": ".py",
   "mimetype": "text/x-python",
   "name": "python",
   "nbconvert_exporter": "python",
   "pygments_lexer": "ipython3",
   "version": "3.9.7"
  }
 },
 "nbformat": 4,
 "nbformat_minor": 5
}
